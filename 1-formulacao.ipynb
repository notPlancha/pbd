{
 "cells": [
  {
   "cell_type": "markdown",
   "id": "d8f69b38-9b79-4911-8694-b5ca7f3609e6",
   "metadata": {},
   "source": [
    "# Background"
   ]
  },
  {
   "cell_type": "markdown",
   "id": "e84ceeb7-01cf-4c0b-8c37-1d4fc94dfa96",
   "metadata": {},
   "source": [
    "Em primeiro lugar, vamos observar o enunciado com atenção. Se seguida está um resumo das partes importantes dele.\n",
    "\n",
    "## Contexto\n",
    "> Pretende-se que seja implementada uma solução computacional para estudo e análise de dados de grande dimensão. Nesse sentido, deverá ser contruído um modelo de análise e processamento de dados baseado em métodos e algoritmos\n",
    "lecionados nas aulas\n",
    "\n",
    "Os modelos de análise e processamento de dados (MAPD) lecionados em aula são os seguintes: \n",
    "\n",
    "* TODO\n",
    "\n",
    "> A escolha do domínio de dados e respetico conjunto de dados a utilizar, bem [como] a formulação do próprio problema em estudo, será da responsabilidade dos autores do trabalho, [... que ...] devem ser obtidos a partr da lista de fontes especificada [...] na tabela 1\n",
    "\n",
    "Entre as opções, nós escolhemos a competição \"Predict Student Performance from Game Play\" pois parecia um tema com potencial, e parece alcançável com os métodos lecionados em aula, conforme o objetivo do projeto.\n",
    "\n",
    "## Requesitos\n",
    "> [...] requisito de utilização de Apache Spark e Python é mandatório\n",
    ">\n",
    "> [...] vão ser utilizados serviços em ambiente cloud, da Amazon para contexto académico – AWS Academy – na qual será disponibilizada uma classe de ensino para os(as) alunos(as) da unidade curricular\n",
    ">\n",
    "> Os algorimos a utilizar que estarão na base da construção do [... MAPD] devem fazer parte da plataforma Apache Spark\n",
    ">\n",
    "> A implementação da dolução deve ser [...] composta por mais do que um notebook ou módulo Python. Compete aos autores do trabalho a estruturar [...] o código implementado.\n",
    ">\n",
    "> A submissão consiste num arquivo em formato zip [...] com [...] (i) relatório e (ii) notebooks e/ou módulos Python.\n",
    ">\n",
    "> relatório deve ser um documento sucinto e em formato pdf, com o máximo de oito [8] páginas.\n",
    ">\n",
    "> O prazo de submissão é 12:00 de 8 de abril de 2023 [...].\n"
   ]
  },
  {
   "cell_type": "markdown",
   "id": "0ed05dc0-8dd6-47c3-bc41-63d33fb0801d",
   "metadata": {},
   "source": [
    "Nesta secção, vamos observar os dados que temos de forma geral, e o objetivo da competição do kaggle.\n",
    "\n",
    "Conforme o enuncuiado do kaggle: "
   ]
  }
 ],
 "metadata": {
  "kernelspec": {
   "display_name": "pyspark_kernel",
   "language": "python",
   "name": "pyspark_kernel"
  }
 },
 "nbformat": 4,
 "nbformat_minor": 5
}
