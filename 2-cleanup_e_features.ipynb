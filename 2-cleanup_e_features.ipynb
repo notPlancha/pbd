{
 "cells": [
  {
   "cell_type": "code",
   "execution_count": null,
   "id": "ed0625c2-c90a-48a7-bfb7-d1384c4c5c18",
   "metadata": {},
   "outputs": [],
   "source": []
  }
 ],
 "metadata": {
  "kernelspec": {
   "display_name": "ipy310",
   "language": "python",
   "name": "ipy310"
  },
  "language_info": {
   "codemirror_mode": {
    "name": "ipython",
    "version": 3
   },
   "file_extension": ".py",
   "mimetype": "text/x-python",
   "name": "python",
   "nbconvert_exporter": "python",
   "pygments_lexer": "ipython3",
   "version": "3.10.10"
  }
 },
 "nbformat": 4,
 "nbformat_minor": 5
}
