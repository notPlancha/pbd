{
 "cells": [
  {
   "cell_type": "code",
   "execution_count": 4,
   "id": "d8d62086-c972-44b8-a136-3e715bac388a",
   "metadata": {
    "tags": []
   },
   "outputs": [],
   "source": [
    "from utils.imports import *"
   ]
  },
  {
   "cell_type": "code",
   "execution_count": 1,
   "id": "328f6da5-0f1b-4c19-b455-31e2a22a74d9",
   "metadata": {
    "tags": []
   },
   "outputs": [],
   "source": [
    "from utils.start_spark import spark\n",
    "! start http://localhost:4040/jobs/"
   ]
  },
  {
   "cell_type": "markdown",
   "id": "7a4c9535-2045-4e45-9c1d-3026f85031b7",
   "metadata": {},
   "source": [
    "Ao fazer uma pesquisa adicional sobre esta abse de dados pudemos observar várias inconsistências nela ("
   ]
  }
 ],
 "metadata": {
  "kernelspec": {
   "display_name": "ipy310",
   "language": "python",
   "name": "ipy310"
  },
  "language_info": {
   "codemirror_mode": {
    "name": "ipython",
    "version": 3
   },
   "file_extension": ".py",
   "mimetype": "text/x-python",
   "name": "python",
   "nbconvert_exporter": "python",
   "pygments_lexer": "ipython3",
   "version": "3.10.10"
  }
 },
 "nbformat": 4,
 "nbformat_minor": 5
}
