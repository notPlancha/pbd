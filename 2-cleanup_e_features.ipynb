{
 "cells": [
  {
   "cell_type": "code",
   "execution_count": 2,
   "id": "d8d62086-c972-44b8-a136-3e715bac388a",
   "metadata": {
    "tags": []
   },
   "outputs": [],
   "source": [
    "from utils.imports import *"
   ]
  },
  {
   "cell_type": "code",
   "execution_count": 3,
   "id": "328f6da5-0f1b-4c19-b455-31e2a22a74d9",
   "metadata": {
    "tags": []
   },
   "outputs": [],
   "source": [
    "from utils.start_spark import spark\n",
    "! start http://localhost:4040/jobs/"
   ]
  },
  {
   "cell_type": "code",
   "execution_count": 5,
   "id": "b4a4b351-c144-4bd0-98cf-39dc26eb2054",
   "metadata": {
    "tags": []
   },
   "outputs": [],
   "source": [
    "%%capture \n",
    "from files.dfs import *\n",
    "readAllCsvs(spark, infer = False)"
   ]
  },
  {
   "cell_type": "markdown",
   "id": "565008c7-f74e-422c-ae31-298fadf52f85",
   "metadata": {},
   "source": [
    "# Cleanup"
   ]
  },
  {
   "cell_type": "markdown",
   "id": "7a4c9535-2045-4e45-9c1d-3026f85031b7",
   "metadata": {},
   "source": [
    "Ao fazer uma pesquisa adicional sobre esta base de dados pudemos observar [várias inconsistências nela](https://www.kaggle.com/code/abaojiang/eda-on-game-progress), como número de checkpoints não adequados, saltos de `index`es fora de checkpoints, e *primary keys* duplciadas."
   ]
  },
  {
   "cell_type": "code",
   "execution_count": null,
   "id": "201fc751-bf4e-41e9-a72c-d9a572cc0a3b",
   "metadata": {},
   "outputs": [],
   "source": [
    "# TODO"
   ]
  },
  {
   "cell_type": "markdown",
   "id": "a8b081fb-be9f-4c0d-899b-4459b1ef490d",
   "metadata": {},
   "source": [
    "# Transformação"
   ]
  },
  {
   "cell_type": "raw",
   "id": "1a49ffba-2009-4aa8-94d8-ab6cda59648b",
   "metadata": {},
   "source": [
    "# TODO fazer descrição, talves flowchart"
   ]
  },
  {
   "cell_type": "code",
   "execution_count": 27,
   "id": "9b10cf4c-1ad5-4409-b829-1974abf5b55c",
   "metadata": {
    "tags": []
   },
   "outputs": [
    {
     "data": {
      "text/html": [
       "<table border='1'>\n",
       "<tr><th>session_id</th><th>count</th></tr>\n",
       "<tr><td>20100209442654932</td><td>18</td></tr>\n",
       "<tr><td>20100216323445964</td><td>18</td></tr>\n",
       "<tr><td>20100308255503228</td><td>18</td></tr>\n",
       "</table>\n"
      ],
      "text/plain": [
       "+-----------------+-----+\n",
       "|       session_id|count|\n",
       "+-----------------+-----+\n",
       "|20100209442654932|   18|\n",
       "|20100216323445964|   18|\n",
       "|20100308255503228|   18|\n",
       "+-----------------+-----+"
      ]
     },
     "execution_count": 27,
     "metadata": {},
     "output_type": "execute_result"
    }
   ],
   "source": [
    "splited = train_labels.df \\\n",
    "    .select(\n",
    "        split(\"session_id\", \"_\").alias(\"both\"),\n",
    "        \"correct\"\n",
    "    ).select(\n",
    "        col(\"both\")[0].alias(\"session_id\"),\n",
    "        col(\"both\")[1].alias(\"question\"),\n",
    "        col(\"correct\").alias(\"isCorrect\")\n",
    "    ).cache()\n",
    "splited.groupby(\"session_id\").count().sort(col(\"count\").asc()).limit(3)"
   ]
  },
  {
   "cell_type": "code",
   "execution_count": 32,
   "id": "1f298ff1-8d8f-4864-8719-ffc585afe21f",
   "metadata": {
    "tags": []
   },
   "outputs": [
    {
     "data": {
      "text/html": [
       "<table border='1'>\n",
       "<tr><th>session_id</th><th>q1</th><th>q10</th><th>q11</th><th>q12</th><th>q13</th><th>q14</th><th>q15</th><th>q16</th><th>q17</th><th>q18</th><th>q2</th><th>q3</th><th>q4</th><th>q5</th><th>q6</th><th>q7</th><th>q8</th><th>q9</th></tr>\n",
       "<tr><td>20110512573169570</td><td>0</td><td>1</td><td>1</td><td>1</td><td>1</td><td>1</td><td>1</td><td>1</td><td>1</td><td>1</td><td>1</td><td>1</td><td>1</td><td>1</td><td>1</td><td>1</td><td>1</td><td>1</td></tr>\n",
       "<tr><td>20100216323445964</td><td>0</td><td>0</td><td>0</td><td>1</td><td>1</td><td>0</td><td>0</td><td>1</td><td>1</td><td>1</td><td>1</td><td>1</td><td>0</td><td>0</td><td>0</td><td>0</td><td>0</td><td>1</td></tr>\n",
       "<tr><td>21020308080777748</td><td>1</td><td>0</td><td>1</td><td>1</td><td>0</td><td>0</td><td>0</td><td>1</td><td>1</td><td>1</td><td>1</td><td>1</td><td>0</td><td>1</td><td>1</td><td>0</td><td>1</td><td>0</td></tr>\n",
       "<tr><td>21040512382351228</td><td>1</td><td>0</td><td>1</td><td>1</td><td>0</td><td>1</td><td>0</td><td>0</td><td>1</td><td>1</td><td>0</td><td>1</td><td>0</td><td>0</td><td>1</td><td>1</td><td>0</td><td>0</td></tr>\n",
       "<tr><td>22030108542877704</td><td>0</td><td>1</td><td>0</td><td>1</td><td>0</td><td>0</td><td>0</td><td>0</td><td>0</td><td>1</td><td>1</td><td>1</td><td>0</td><td>0</td><td>0</td><td>1</td><td>1</td><td>0</td></tr>\n",
       "</table>\n"
      ],
      "text/plain": [
       "+-----------------+---+---+---+---+---+---+---+---+---+---+---+---+---+---+---+---+---+---+\n",
       "|       session_id| q1|q10|q11|q12|q13|q14|q15|q16|q17|q18| q2| q3| q4| q5| q6| q7| q8| q9|\n",
       "+-----------------+---+---+---+---+---+---+---+---+---+---+---+---+---+---+---+---+---+---+\n",
       "|20110512573169570|  0|  1|  1|  1|  1|  1|  1|  1|  1|  1|  1|  1|  1|  1|  1|  1|  1|  1|\n",
       "|20100216323445964|  0|  0|  0|  1|  1|  0|  0|  1|  1|  1|  1|  1|  0|  0|  0|  0|  0|  1|\n",
       "|21020308080777748|  1|  0|  1|  1|  0|  0|  0|  1|  1|  1|  1|  1|  0|  1|  1|  0|  1|  0|\n",
       "|21040512382351228|  1|  0|  1|  1|  0|  1|  0|  0|  1|  1|  0|  1|  0|  0|  1|  1|  0|  0|\n",
       "|22030108542877704|  0|  1|  0|  1|  0|  0|  0|  0|  0|  1|  1|  1|  0|  0|  0|  1|  1|  0|\n",
       "+-----------------+---+---+---+---+---+---+---+---+---+---+---+---+---+---+---+---+---+---+"
      ]
     },
     "execution_count": 32,
     "metadata": {},
     "output_type": "execute_result"
    }
   ],
   "source": [
    "(pivoted := splited.groupby(\"session_id\").pivot(\"question\").agg(first(\"isCorrect\"))).cache()\n",
    "pivoted.limit(5)"
   ]
  },
  {
   "cell_type": "code",
   "execution_count": 40,
   "id": "2b0b83e0-0692-4cdd-acd0-d62c999adbd8",
   "metadata": {
    "tags": []
   },
   "outputs": [
    {
     "data": {
      "text/html": [
       "<table border='1'>\n",
       "<tr><th>session_id</th><th>max(index)</th></tr>\n",
       "<tr><td>20100114570801148</td><td>1421</td></tr>\n",
       "<tr><td>20100308381327090</td><td>1089</td></tr>\n",
       "<tr><td>20100016070249504</td><td>941</td></tr>\n",
       "<tr><td>20100109380136844</td><td>1796</td></tr>\n",
       "<tr><td>20100112570372764</td><td>1535</td></tr>\n",
       "<tr><td>20100113554333536</td><td>1143</td></tr>\n",
       "<tr><td>20100114561049920</td><td>812</td></tr>\n",
       "<tr><td>20100216144092944</td><td>1021</td></tr>\n",
       "<tr><td>20090312431273200</td><td>931</td></tr>\n",
       "<tr><td>20100114164175070</td><td>892</td></tr>\n",
       "</table>\n"
      ],
      "text/plain": [
       "+-----------------+----------+\n",
       "|       session_id|max(index)|\n",
       "+-----------------+----------+\n",
       "|20100114570801148|      1421|\n",
       "|20100308381327090|      1089|\n",
       "|20100016070249504|       941|\n",
       "|20100109380136844|      1796|\n",
       "|20100112570372764|      1535|\n",
       "|20100113554333536|      1143|\n",
       "|20100114561049920|       812|\n",
       "|20100216144092944|      1021|\n",
       "|20090312431273200|       931|\n",
       "|20100114164175070|       892|\n",
       "+-----------------+----------+"
      ]
     },
     "execution_count": 40,
     "metadata": {},
     "output_type": "execute_result"
    }
   ],
   "source": [
    "sessions = train.df.groupby('session_id') \\\n",
    "    .agg(\n",
    "        max(col(\"index\")).alias(\"max_index\"),\n",
    "        \n",
    "    ).withColumn(\n",
    "    \"id\",\n",
    "    row_number().over(Window.orderBy(monotonically_increasing_id()))-1\n",
    ")\n",
    "sessions.limit(10)"
   ]
  },
  {
   "cell_type": "code",
   "execution_count": 38,
   "id": "6f5d4790-048e-4487-8962-fb1acb87291e",
   "metadata": {
    "tags": []
   },
   "outputs": [
    {
     "data": {
      "text/html": [
       "<table border='1'>\n",
       "<tr><th>session_id</th><th>index</th><th>elapsed_time</th><th>event_name</th><th>name</th><th>level</th><th>page</th><th>room_coor_x</th><th>room_coor_y</th><th>screen_coor_x</th><th>screen_coor_y</th><th>hover_duration</th><th>text</th><th>fqid</th><th>room_fqid</th><th>text_fqid</th><th>fullscreen</th><th>hq</th><th>music</th><th>level_group</th><th>session_level</th><th>session_id</th><th>q1</th><th>q10</th><th>q11</th><th>q12</th><th>q13</th><th>q14</th><th>q15</th><th>q16</th><th>q17</th><th>q18</th><th>q2</th><th>q3</th><th>q4</th><th>q5</th><th>q6</th><th>q7</th><th>q8</th><th>q9</th></tr>\n",
       "<tr><td>20090312431273200</td><td>0</td><td>0</td><td>cutscene_click</td><td>basic</td><td>0</td><td>null</td><td>-413.99140522263224</td><td>-159.31468617022784</td><td>380.0</td><td>494.0</td><td>null</td><td>undefined</td><td>intro</td><td>tunic.historicalsociety.closet</td><td>tunic.historicalsociety.closet.intro</td><td>0</td><td>0</td><td>1</td><td>null</td><td>null</td><td>20090312431273200</td><td>1</td><td>1</td><td>1</td><td>1</td><td>0</td><td>1</td><td>1</td><td>0</td><td>1</td><td>1</td><td>1</td><td>1</td><td>1</td><td>1</td><td>1</td><td>1</td><td>1</td><td>1</td></tr>\n",
       "<tr><td>20090312431273200</td><td>1</td><td>1323</td><td>person_click</td><td>basic</td><td>0</td><td>null</td><td>-413.99140522263224</td><td>-159.31468617022784</td><td>380.0</td><td>494.0</td><td>null</td><td>Whatcha doing over there, Jo?</td><td>gramps</td><td>tunic.historicalsociety.closet</td><td>tunic.historicalsociety.closet.gramps.intro_0_cs_0</td><td>0</td><td>0</td><td>1</td><td>null</td><td>null</td><td>20090312431273200</td><td>1</td><td>1</td><td>1</td><td>1</td><td>0</td><td>1</td><td>1</td><td>0</td><td>1</td><td>1</td><td>1</td><td>1</td><td>1</td><td>1</td><td>1</td><td>1</td><td>1</td><td>1</td></tr>\n",
       "<tr><td>20090312431273200</td><td>2</td><td>831</td><td>person_click</td><td>basic</td><td>0</td><td>null</td><td>-413.99140522263224</td><td>-159.31468617022784</td><td>380.0</td><td>494.0</td><td>null</td><td>Just talking to Teddy.</td><td>gramps</td><td>tunic.historicalsociety.closet</td><td>tunic.historicalsociety.closet.gramps.intro_0_cs_0</td><td>0</td><td>0</td><td>1</td><td>null</td><td>null</td><td>20090312431273200</td><td>1</td><td>1</td><td>1</td><td>1</td><td>0</td><td>1</td><td>1</td><td>0</td><td>1</td><td>1</td><td>1</td><td>1</td><td>1</td><td>1</td><td>1</td><td>1</td><td>1</td><td>1</td></tr>\n",
       "<tr><td>20090312431273200</td><td>3</td><td>1147</td><td>person_click</td><td>basic</td><td>0</td><td>null</td><td>-413.99140522263224</td><td>-159.31468617022784</td><td>380.0</td><td>494.0</td><td>null</td><td>I gotta run to my meeting!</td><td>gramps</td><td>tunic.historicalsociety.closet</td><td>tunic.historicalsociety.closet.gramps.intro_0_cs_0</td><td>0</td><td>0</td><td>1</td><td>null</td><td>null</td><td>20090312431273200</td><td>1</td><td>1</td><td>1</td><td>1</td><td>0</td><td>1</td><td>1</td><td>0</td><td>1</td><td>1</td><td>1</td><td>1</td><td>1</td><td>1</td><td>1</td><td>1</td><td>1</td><td>1</td></tr>\n",
       "<tr><td>20090312431273200</td><td>4</td><td>1863</td><td>person_click</td><td>basic</td><td>0</td><td>null</td><td>-412.99140522263224</td><td>-159.31468617022784</td><td>381.0</td><td>494.0</td><td>null</td><td>Can I come, Gramps?</td><td>gramps</td><td>tunic.historicalsociety.closet</td><td>tunic.historicalsociety.closet.gramps.intro_0_cs_0</td><td>0</td><td>0</td><td>1</td><td>null</td><td>null</td><td>20090312431273200</td><td>1</td><td>1</td><td>1</td><td>1</td><td>0</td><td>1</td><td>1</td><td>0</td><td>1</td><td>1</td><td>1</td><td>1</td><td>1</td><td>1</td><td>1</td><td>1</td><td>1</td><td>1</td></tr>\n",
       "<tr><td>20090312431273200</td><td>5</td><td>3423</td><td>person_click</td><td>basic</td><td>0</td><td>null</td><td>-412.99140522263224</td><td>-157.31468617022784</td><td>381.0</td><td>492.0</td><td>null</td><td>Sure thing, Jo. Grab your notebook and come ups...</td><td>gramps</td><td>tunic.historicalsociety.closet</td><td>tunic.historicalsociety.closet.gramps.intro_0_cs_0</td><td>0</td><td>0</td><td>1</td><td>null</td><td>null</td><td>20090312431273200</td><td>1</td><td>1</td><td>1</td><td>1</td><td>0</td><td>1</td><td>1</td><td>0</td><td>1</td><td>1</td><td>1</td><td>1</td><td>1</td><td>1</td><td>1</td><td>1</td><td>1</td><td>1</td></tr>\n",
       "<tr><td>20090312431273200</td><td>6</td><td>5197</td><td>person_click</td><td>basic</td><td>0</td><td>null</td><td>478.48507948953636</td><td>-199.9716787422361</td><td>593.0</td><td>485.0</td><td>null</td><td>See you later, Teddy.</td><td>teddy</td><td>tunic.historicalsociety.closet</td><td>tunic.historicalsociety.closet.teddy.intro_0_cs_0</td><td>0</td><td>0</td><td>1</td><td>null</td><td>null</td><td>20090312431273200</td><td>1</td><td>1</td><td>1</td><td>1</td><td>0</td><td>1</td><td>1</td><td>0</td><td>1</td><td>1</td><td>1</td><td>1</td><td>1</td><td>1</td><td>1</td><td>1</td><td>1</td><td>1</td></tr>\n",
       "<tr><td>20090312431273200</td><td>7</td><td>6180</td><td>person_click</td><td>basic</td><td>0</td><td>null</td><td>503.35512792584535</td><td>-168.619912992023</td><td>609.0</td><td>453.0</td><td>null</td><td>I get to go to Gramps&#x27;s meeting!</td><td>teddy</td><td>tunic.historicalsociety.closet</td><td>tunic.historicalsociety.closet.teddy.intro_0_cs_0</td><td>0</td><td>0</td><td>1</td><td>null</td><td>null</td><td>20090312431273200</td><td>1</td><td>1</td><td>1</td><td>1</td><td>0</td><td>1</td><td>1</td><td>0</td><td>1</td><td>1</td><td>1</td><td>1</td><td>1</td><td>1</td><td>1</td><td>1</td><td>1</td><td>1</td></tr>\n",
       "<tr><td>20090312431273200</td><td>8</td><td>7014</td><td>person_click</td><td>basic</td><td>0</td><td>null</td><td>510.7334420194441</td><td>-157.72064191237214</td><td>615.0</td><td>442.0</td><td>null</td><td>Now where did I put my notebook?</td><td>teddy</td><td>tunic.historicalsociety.closet</td><td>tunic.historicalsociety.closet.teddy.intro_0_cs_0</td><td>0</td><td>0</td><td>1</td><td>null</td><td>null</td><td>20090312431273200</td><td>1</td><td>1</td><td>1</td><td>1</td><td>0</td><td>1</td><td>1</td><td>0</td><td>1</td><td>1</td><td>1</td><td>1</td><td>1</td><td>1</td><td>1</td><td>1</td><td>1</td><td>1</td></tr>\n",
       "<tr><td>20090312431273200</td><td>9</td><td>7946</td><td>person_click</td><td>basic</td><td>0</td><td>null</td><td>512.048004999717</td><td>-153.74363056897224</td><td>616.0</td><td>438.0</td><td>null</td><td>\\u00f0\\u0178\\u02dc\\u00b4</td><td>teddy</td><td>tunic.historicalsociety.closet</td><td>tunic.historicalsociety.closet.teddy.intro_0_cs_0</td><td>0</td><td>0</td><td>1</td><td>null</td><td>null</td><td>20090312431273200</td><td>1</td><td>1</td><td>1</td><td>1</td><td>0</td><td>1</td><td>1</td><td>0</td><td>1</td><td>1</td><td>1</td><td>1</td><td>1</td><td>1</td><td>1</td><td>1</td><td>1</td><td>1</td></tr>\n",
       "</table>\n"
      ],
      "text/plain": [
       "+-----------------+-----+------------+--------------+-----+-----+----+-------------------+-------------------+-------------+-------------+--------------+--------------------------------------------------+------+------------------------------+--------------------------------------------------+----------+---+-----+-----------+-------------+-----------------+---+---+---+---+---+---+---+---+---+---+---+---+---+---+---+---+---+---+\n",
       "|       session_id|index|elapsed_time|    event_name| name|level|page|        room_coor_x|        room_coor_y|screen_coor_x|screen_coor_y|hover_duration|                                              text|  fqid|                     room_fqid|                                         text_fqid|fullscreen| hq|music|level_group|session_level|       session_id| q1|q10|q11|q12|q13|q14|q15|q16|q17|q18| q2| q3| q4| q5| q6| q7| q8| q9|\n",
       "+-----------------+-----+------------+--------------+-----+-----+----+-------------------+-------------------+-------------+-------------+--------------+--------------------------------------------------+------+------------------------------+--------------------------------------------------+----------+---+-----+-----------+-------------+-----------------+---+---+---+---+---+---+---+---+---+---+---+---+---+---+---+---+---+---+\n",
       "|20090312431273200|    0|           0|cutscene_click|basic|    0|null|-413.99140522263224|-159.31468617022784|        380.0|        494.0|          null|                                         undefined| intro|tunic.historicalsociety.closet|              tunic.historicalsociety.closet.intro|         0|  0|    1|       null|         null|20090312431273200|  1|  1|  1|  1|  0|  1|  1|  0|  1|  1|  1|  1|  1|  1|  1|  1|  1|  1|\n",
       "|20090312431273200|    1|        1323|  person_click|basic|    0|null|-413.99140522263224|-159.31468617022784|        380.0|        494.0|          null|                     Whatcha doing over there, Jo?|gramps|tunic.historicalsociety.closet|tunic.historicalsociety.closet.gramps.intro_0_cs_0|         0|  0|    1|       null|         null|20090312431273200|  1|  1|  1|  1|  0|  1|  1|  0|  1|  1|  1|  1|  1|  1|  1|  1|  1|  1|\n",
       "|20090312431273200|    2|         831|  person_click|basic|    0|null|-413.99140522263224|-159.31468617022784|        380.0|        494.0|          null|                            Just talking to Teddy.|gramps|tunic.historicalsociety.closet|tunic.historicalsociety.closet.gramps.intro_0_cs_0|         0|  0|    1|       null|         null|20090312431273200|  1|  1|  1|  1|  0|  1|  1|  0|  1|  1|  1|  1|  1|  1|  1|  1|  1|  1|\n",
       "|20090312431273200|    3|        1147|  person_click|basic|    0|null|-413.99140522263224|-159.31468617022784|        380.0|        494.0|          null|                        I gotta run to my meeting!|gramps|tunic.historicalsociety.closet|tunic.historicalsociety.closet.gramps.intro_0_cs_0|         0|  0|    1|       null|         null|20090312431273200|  1|  1|  1|  1|  0|  1|  1|  0|  1|  1|  1|  1|  1|  1|  1|  1|  1|  1|\n",
       "|20090312431273200|    4|        1863|  person_click|basic|    0|null|-412.99140522263224|-159.31468617022784|        381.0|        494.0|          null|                               Can I come, Gramps?|gramps|tunic.historicalsociety.closet|tunic.historicalsociety.closet.gramps.intro_0_cs_0|         0|  0|    1|       null|         null|20090312431273200|  1|  1|  1|  1|  0|  1|  1|  0|  1|  1|  1|  1|  1|  1|  1|  1|  1|  1|\n",
       "|20090312431273200|    5|        3423|  person_click|basic|    0|null|-412.99140522263224|-157.31468617022784|        381.0|        492.0|          null|Sure thing, Jo. Grab your notebook and come ups...|gramps|tunic.historicalsociety.closet|tunic.historicalsociety.closet.gramps.intro_0_cs_0|         0|  0|    1|       null|         null|20090312431273200|  1|  1|  1|  1|  0|  1|  1|  0|  1|  1|  1|  1|  1|  1|  1|  1|  1|  1|\n",
       "|20090312431273200|    6|        5197|  person_click|basic|    0|null| 478.48507948953636| -199.9716787422361|        593.0|        485.0|          null|                             See you later, Teddy.| teddy|tunic.historicalsociety.closet| tunic.historicalsociety.closet.teddy.intro_0_cs_0|         0|  0|    1|       null|         null|20090312431273200|  1|  1|  1|  1|  0|  1|  1|  0|  1|  1|  1|  1|  1|  1|  1|  1|  1|  1|\n",
       "|20090312431273200|    7|        6180|  person_click|basic|    0|null| 503.35512792584535|  -168.619912992023|        609.0|        453.0|          null|                  I get to go to Gramps's meeting!| teddy|tunic.historicalsociety.closet| tunic.historicalsociety.closet.teddy.intro_0_cs_0|         0|  0|    1|       null|         null|20090312431273200|  1|  1|  1|  1|  0|  1|  1|  0|  1|  1|  1|  1|  1|  1|  1|  1|  1|  1|\n",
       "|20090312431273200|    8|        7014|  person_click|basic|    0|null|  510.7334420194441|-157.72064191237214|        615.0|        442.0|          null|                  Now where did I put my notebook?| teddy|tunic.historicalsociety.closet| tunic.historicalsociety.closet.teddy.intro_0_cs_0|         0|  0|    1|       null|         null|20090312431273200|  1|  1|  1|  1|  0|  1|  1|  0|  1|  1|  1|  1|  1|  1|  1|  1|  1|  1|\n",
       "|20090312431273200|    9|        7946|  person_click|basic|    0|null|   512.048004999717|-153.74363056897224|        616.0|        438.0|          null|                          \\u00f0\\u0178\\u02dc\\u00b4| teddy|tunic.historicalsociety.closet| tunic.historicalsociety.closet.teddy.intro_0_cs_0|         0|  0|    1|       null|         null|20090312431273200|  1|  1|  1|  1|  0|  1|  1|  0|  1|  1|  1|  1|  1|  1|  1|  1|  1|  1|\n",
       "+-----------------+-----+------------+--------------+-----+-----+----+-------------------+-------------------+-------------+-------------+--------------+--------------------------------------------------+------+------------------------------+--------------------------------------------------+----------+---+-----+-----------+-------------+-----------------+---+---+---+---+---+---+---+---+---+---+---+---+---+---+---+---+---+---+"
      ]
     },
     "execution_count": 38,
     "metadata": {},
     "output_type": "execute_result"
    }
   ],
   "source": [
    "# (train_joined := sessions.df.join(pivoted, train.df.session_id == pivoted.session_id)).cache()\n",
    "# train_joined.limit(10)\n",
    "# wrongs"
   ]
  },
  {
   "cell_type": "markdown",
   "id": "55d59a42-721c-4e36-9151-b92bef6fca22",
   "metadata": {},
   "source": [
    "Uma forma de transformar a target é, em vês da planeada \"dataframe de sessões\", teriamos uma \"dataframe de perguntas\", onde em vês de estar uma dataframe com cada linah uma sessão, estar 18 das mesmas linhas, com a diferença nas questões. Ou seja, a nossa chave primária seria o conjunto da das colunas `session_id` e `question` (categórica ou inteira), em vês de apenas ter como chave primária `session_id`.\n",
    "\n",
    "| session_id | q1 | q2 | ... | q18 | feature1 | feature2 | ... |\n",
    "|------------|----|----|-----|-----|----------|----------|-----|\n",
    "| 1          | 0  | 1  | ... | 1   | 423      | 0        | ... |\n",
    "| 2          | 1  | 0  | ... | 1   | 231      | 1        | ... |\n",
    "| 3          | 1  | 1  | ... | 1   | 345      | 1        | ... |\n",
    "\n",
    "para\n",
    "\n",
    "| session_id | question | answer | feature1 | feature2 | ... |\n",
    "|------------|----------|--------|----------|----------|-----|\n",
    "| 1          | 1        | 0      | 423      | 0        | ... |\n",
    "| 1          | 2        | 1      | 423      | 0        | ... |\n",
    "| ...        | ...      | ...    | ...      | ...      | ... |\n",
    "| 1          | 18       | 1      | 423      | 0        | ... |\n",
    "| 2          | 1        | 1      | 231      | 1        |     |\n",
    "| ...        | ...      | ...    | ...      | ...      | ... |\n",
    "\n",
    "Esta opção iria facilitar o processo de previsão, pois podemos usar métodos simples como regressão logística, usando `question` como uma feature também.\n",
    "\n",
    "Uma segunda opção seria usar classificação *multi-label*, sendo que temos vários `targets`, mas estes só têm uma carnidalidade de 2. Isto iria aumentar a complexidade do projeto (em termos de pesquisa). Estamos também limitados pela utilização de MLLIB do spark.\n",
    "\n",
    "https://spark.apache.org/docs/3.1.3/api/python/reference/api/pyspark.ml.classification.OneVsRest.html#pyspark.ml.classification.OneVsRest\n",
    "\n",
    "A terceira opção seria treinar 18 modelos, e criar um algoritmo para escolher um modelos na precisão. Essencialmente, este é o método de `binary relevance`, pertencendo à segunda opção.\n",
    "\n",
    "Nota: da forma como os dados estão agora formatados, essencialmente é o mesmo problema se tivéssemos em vês de uma matriz de "
   ]
  }
 ],
 "metadata": {
  "kernelspec": {
   "display_name": "ipy310",
   "language": "python",
   "name": "ipy310"
  },
  "language_info": {
   "codemirror_mode": {
    "name": "ipython",
    "version": 3
   },
   "file_extension": ".py",
   "mimetype": "text/x-python",
   "name": "python",
   "nbconvert_exporter": "python",
   "pygments_lexer": "ipython3",
   "version": "3.10.10"
  }
 },
 "nbformat": 4,
 "nbformat_minor": 5
}
