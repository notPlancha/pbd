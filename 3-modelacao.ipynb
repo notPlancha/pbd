{
 "cells": [
  {
   "cell_type": "code",
   "execution_count": null,
   "id": "cac8eeaa-fe81-4ff0-bb87-0e5a3f2253c5",
   "metadata": {},
   "outputs": [],
   "source": [
    "from utils.imports import *\n",
    "from utils.start_spark import spark\n",
    "! start http://localhost:4040/jobs/"
   ]
  },
  {
   "cell_type": "markdown",
   "id": "a62a61ac-110d-4fa6-af43-c46b2674edc0",
   "metadata": {},
   "source": [
    "Uma forma de transformar a target é, em vês da planeada \"dataframe de sessões\", teriamos uma \"dataframe de perguntas\", onde em vês de estar uma dataframe com cada linah uma sessão, estar 18 das mesmas linhas, com a diferença nas questões. Ou seja, a nossa chave primária seria o conjunto da das colunas `session_id` e `question` (categórica ou inteira), em vês de apenas ter como chave primária `session_id`.\n",
    "\n",
    "| session_id | q1 | q2 | ... | q18 | feature1 | feature2 | ... |\n",
    "|------------|----|----|-----|-----|----------|----------|-----|\n",
    "| 1          | 0  | 1  | ... | 1   | 423      | 0        | ... |\n",
    "| 2          | 1  | 0  | ... | 1   | 231      | 1        | ... |\n",
    "| 3          | 1  | 1  | ... | 1   | 345      | 1        | ... |\n",
    "\n",
    "para\n",
    "\n",
    "| session_id | question | answer | feature1 | feature2 | ... |\n",
    "|------------|----------|--------|----------|----------|-----|\n",
    "| 1          | 1        | 0      | 423      | 0        | ... |\n",
    "| 1          | 2        | 1      | 423      | 0        | ... |\n",
    "| ...        | ...      | ...    | ...      | ...      | ... |\n",
    "| 1          | 18       | 1      | 423      | 0        | ... |\n",
    "| 2          | 1        | 1      | 231      | 1        |     |\n",
    "| ...        | ...      | ...    | ...      | ...      | ... |\n",
    "\n",
    "Esta opção iria facilitar o processo de previsão, pois podemos usar métodos simples como regressão logística, usando `question` como uma feature também.\n",
    "\n",
    "Uma segunda opção seria usar classificação *multi-label*, sendo que temos vários `targets`, mas estes só têm uma carnidalidade de 2. Isto iria aumentar a complexidade do projeto. Estamos também limitados pela utilização de MLLIB do spark.\n",
    "\n",
    "A terceira opção seria treinar 18 modelos, e criar um algoritmo para escolher um modelos na precisão. Essencialmente, este é o método de *binary relevance*, sendo um dos métodos da segunda opção; no entanto, estamos a notar como opção porque não parece que o MLLIB tenha qualquer opção de *binary relevance*.\n",
    "\n",
    "Nota: da forma como os dados estão agora formatados, essencialmente é o mesmo problema se tivéssemos em vês de uma matriz de 0s e 1s, uma coluna com um array das classes onde a sessão teve certo. \n",
    "\n",
    "Decidimos usar *binary relevance*, ou seja, vamos treinar um modelo para cada pergunta.\n",
    "\n",
    "Para análise das métricas, vamos usar `MultilabelClassificationEvaluator` do MLlib."
   ]
  },
  {
   "cell_type": "code",
   "execution_count": null,
   "id": "44389f57-eec0-4394-a376-a0204242f65d",
   "metadata": {},
   "outputs": [],
   "source": [
    "doing_features = False\n",
    "training = False\n",
    "timing = False\n",
    "evaluate = False"
   ]
  },
  {
   "cell_type": "code",
   "execution_count": null,
   "id": "79119c0e-3374-4678-a437-f000ab316469",
   "metadata": {},
   "outputs": [],
   "source": [
    "if 'stages' in sys.modules: del sys.modules['stages']\n",
    "from stages import *\n",
    "\n",
    "pipeline_no_ML = Pipeline(stages = [\n",
    "    the_transformer(\n",
    "        add_id,\n",
    "        (elapsed_to_diff, \"elapsed_time\", \"elapsed_diff_ms\"),\n",
    "        (negative_to_0, \"elapsed_diff_ms\"),\n",
    "        (elapsed_to_hours, \"elapsed_time\", \"elapsed_time_h\"),\n",
    "        agg1,\n",
    "        agg2,\n",
    "        typeOfText,\n",
    "    ),\n",
    "    VectorAssembler(inputCols = [\"inv_total_time_h\", \"inv_total_time_h_0-4\", \"inv_total_time_h_5-12\"], outputCol = \"inv_time_to_stand\"),\n",
    "    StandardScaler(inputCol = \"inv_time_to_stand\", outputCol = \"inv_time_standed\", withMean = True),\n",
    "    StringIndexer(inputCol = \"type_of_script\", outputCol = \"index_of_type_of_script\"),\n",
    "    OneHotEncoder(inputCol = \"index_of_type_of_script\", outputCol=\"dummies_of_type_of_script\"), #sparse vector\n",
    "])"
   ]
  },
  {
   "cell_type": "code",
   "execution_count": null,
   "id": "55616de8-b5f1-4d5b-ba54-3a9112690b98",
   "metadata": {},
   "outputs": [],
   "source": [
    "if doing_features:\n",
    "    train = spark.read.parquet(\".\\\\data\\\\df_train\\\\\")\n",
    "    test = spark.read.parquet(\".\\\\data\\\\df_test\\\\\")\n",
    "\n",
    "    transformer = pipeline_no_ML.fit(train)\n",
    "    trans_train = transformer.transform(train)\n",
    "    # pivoted {\n",
    "    from files.dfs import train_labels as labels\n",
    "    if labels._isRead == False: labels.read(spark)\n",
    "    splited = labels.df \\\n",
    "        .select(\n",
    "            split(\"session_id\", \"_\").alias(\"both\"),\n",
    "            \"correct\"\n",
    "        ).select(\n",
    "            col(\"both\")[0].alias(\"session_id\"),\n",
    "            col(\"both\")[1].alias(\"question\"),\n",
    "            col(\"correct\").alias(\"isCorrect\")\n",
    "        )\n",
    "    pivoted = splited \\\n",
    "        .groupby(\"session_id\") \\\n",
    "        .pivot(\"question\") \\\n",
    "        .agg(first(\"isCorrect\"))\n",
    "    # }\n",
    "    # add pivoted\n",
    "    trans_joined = trans_train.join(pivoted, [\"session_id\"], \"left\")\n",
    "    trans_joined.drop(trans_joined.session_id)\n",
    "    trans_joined.write.mode(\"overwrite\").parquet(r\"data\\trans_train\")\n",
    "\n",
    "    trans_test = transformer.transform(test)\n",
    "    trans_test.drop(trans_test.session_id)\n",
    "    trans_test.write.mode(\"overwrite\").parquet(r\"data\\trans_test\")\n",
    "\n",
    "    trans_train = trans_joined\n",
    "    \n",
    "    train = trans_train\n",
    "    test = trans_test"
   ]
  },
  {
   "cell_type": "code",
   "execution_count": null,
   "id": "957ede12-c782-4fe4-aec7-3582e791e03e",
   "metadata": {},
   "outputs": [],
   "source": [
    "if not doing_features:\n",
    "    train = spark.read.parquet(r\"data\\trans_train\")\n",
    "    test = spark.read.parquet(r\"data\\trans_train\")"
   ]
  },
  {
   "cell_type": "code",
   "execution_count": null,
   "id": "300b6d67-5239-43f5-ba92-fe2795c5b125",
   "metadata": {},
   "outputs": [],
   "source": [
    "features_ass = VectorAssembler(inputCols = [\n",
    " 'max_index',\n",
    " 'obs_opcional',\n",
    " 'obs_no_in',\n",
    " 'notebook_opens',\n",
    " 'notebook_explorer',\n",
    " 'fullscreen',\n",
    " 'hq',\n",
    " 'music',\n",
    " 'avg_elapsed_diff_ms_cutscene',\n",
    " 'avg_elapsed_diff_ms_person',\n",
    " 'avg_elapsed_diff_ms_navigate',\n",
    " 'inv_time_standed',\n",
    " 'dummies_of_type_of_script'\n",
    "], outputCol=\"features\")"
   ]
  },
  {
   "cell_type": "code",
   "execution_count": null,
   "id": "139d1b3e-8a09-4e1b-b660-55f9706dc5b1",
   "metadata": {},
   "outputs": [],
   "source": [
    "if 'utils.models' in sys.modules: del sys.modules['utils.models']\n",
    "from utils.models import Model\n",
    "LR = Model(LogisticRegression, train, test, features_ass, name = \"lr\")\n",
    "SVM = Model(LinearSVC, train, test, features_ass, name= \"svm\")\n",
    "DT = Model(DecisionTreeClassifier, train, test, features_ass, name=\"dt\")\n",
    "RF = Model(RandomForestClassifier, train, test, features_ass, name=\"rf\")\n",
    "\n",
    "models1:list[Model] = [LR, SVM, DT, RF]"
   ]
  },
  {
   "cell_type": "code",
   "execution_count": null,
   "id": "6ca5fd02-cdd0-4603-9eb4-e90cb4f55aeb",
   "metadata": {},
   "outputs": [],
   "source": [
    "if training:\n",
    "    for i in models1:\n",
    "        i.train_and_predict(write = True)"
   ]
  },
  {
   "cell_type": "code",
   "execution_count": null,
   "id": "d57b5cd9-1e63-45a5-969c-c8d7d8c52a4a",
   "metadata": {},
   "outputs": [],
   "source": [
    "if not training:\n",
    "    for i in models1:\n",
    "        i.load_tested(spark)"
   ]
  },
  {
   "cell_type": "code",
   "execution_count": null,
   "id": "7982ab86-4463-4b80-9b83-da67bf804299",
   "metadata": {},
   "outputs": [],
   "source": [
    "class timeit():\n",
    "    from datetime import datetime\n",
    "    def __enter__(self):\n",
    "        self.tic = self.datetime.now()\n",
    "    def __exit__(self, *args, **kwargs):\n",
    "        print('runtime: {}'.format(self.datetime.now() - self.tic))"
   ]
  },
  {
   "cell_type": "code",
   "execution_count": null,
   "id": "9fbae4d9-4176-493e-8fdb-62ec25fe5976",
   "metadata": {},
   "outputs": [],
   "source": [
    "if timing:\n",
    "    for i in models1:\n",
    "        print(i.name)\n",
    "        for a in range(5):\n",
    "            with timeit():\n",
    "                i.train_and_predict(write=False)"
   ]
  },
  {
   "cell_type": "code",
   "execution_count": null,
   "id": "9ef59ff7-39e5-4b3d-bc01-ecee500bcf10",
   "metadata": {},
   "outputs": [],
   "source": [
    "if evaluate:\n",
    "    for i in models1:\n",
    "        print(i.evaluate())"
   ]
  },
  {
   "cell_type": "code",
   "execution_count": null,
   "id": "998b2a9b-cd69-49ee-b201-3d942cf66240",
   "metadata": {},
   "outputs": [],
   "source": [
    "RF_all_strat = Model(RandomForestClassifier, train, test, features_ass, name=\"rf_all_strat\", featureSubsetStrategy = \"all\")\n",
    "RF_sqrt_strat = Model(RandomForestClassifier, train, test, features_ass, name=\"rf_sqrt_strat\", featureSubsetStrategy = \"sqrt\")\n",
    "RF_log2_strat = Model(RandomForestClassifier, train, test, features_ass, name=\"rf_log2_strat\", featureSubsetStrategy = \"log2\")\n",
    "RF_onethird_strat = Model(RandomForestClassifier, train, test, features_ass, name=\"rf_onethird_strat\", featureSubsetStrategy = \"onethird\")\n",
    "\n",
    "models2 = [RF_all_strat, RF_sqrt_strat, RF_log2_strat, RF_onethird_strat]\n"
   ]
  },
  {
   "cell_type": "code",
   "execution_count": null,
   "id": "12dc64f7-d4f5-42a7-a899-68f775517829",
   "metadata": {},
   "outputs": [],
   "source": [
    "if training:\n",
    "    for i in models2:\n",
    "        i.train_and_predict(write = True)"
   ]
  },
  {
   "cell_type": "code",
   "execution_count": null,
   "id": "2ed4137b-668b-49da-82f4-2f772bd8e422",
   "metadata": {},
   "outputs": [],
   "source": [
    "if not training:\n",
    "    for i in models2:\n",
    "        i.load_tested(spark)"
   ]
  },
  {
   "cell_type": "code",
   "execution_count": null,
   "id": "99b09333-14cc-48c0-85a3-e0c481105713",
   "metadata": {},
   "outputs": [],
   "source": [
    "if evaluate:\n",
    "    for i in models2:\n",
    "        print(i.evaluate())"
   ]
  },
  {
   "cell_type": "code",
   "execution_count": null,
   "id": "a1117f22-4d57-499c-af96-22e3c5c4c725",
   "metadata": {},
   "outputs": [],
   "source": [
    "# confusion matrix\n",
    "from sklearn.metrics import multilabel_confusion_matrix as cm\n",
    "from sklearn.preprocessing import MultiLabelBinarizer\n",
    "RF_onethird_strat.evaluate()\n",
    "forEvalP = RF_onethird_strat.forEval.toPandas()\n",
    "mlb = MultiLabelBinarizer().fit_transform"
   ]
  },
  {
   "cell_type": "code",
   "execution_count": null,
   "id": "6f687f37-35a9-4211-ba61-1b3aca5a5d24",
   "metadata": {},
   "outputs": [
    {
     "data": {
      "text/plain": [
       "array([[[  573,  4476],\n",
       "        [  288, 13366]],\n",
       "\n",
       "       [[    0,   392],\n",
       "        [    0, 18311]],\n",
       "\n",
       "       [[   10,  1190],\n",
       "        [    0, 17503]],\n",
       "\n",
       "       [[  414,  3332],\n",
       "        [  123, 14834]],\n",
       "\n",
       "       [[ 3918,  4485],\n",
       "        [ 2240,  8060]],\n",
       "\n",
       "       [[  257,  3899],\n",
       "        [  103, 14444]],\n",
       "\n",
       "       [[  255,  4613],\n",
       "        [  122, 13713]],\n",
       "\n",
       "       [[  580,  6557],\n",
       "        [  293, 11273]],\n",
       "\n",
       "       [[  249,  4617],\n",
       "        [  106, 13731]],\n",
       "\n",
       "       [[ 5237,  3982],\n",
       "        [ 3097,  6387]],\n",
       "\n",
       "       [[  840,  5759],\n",
       "        [  471, 11633]],\n",
       "\n",
       "       [[    0,  2520],\n",
       "        [    0, 16183]],\n",
       "\n",
       "       [[13404,   120],\n",
       "        [ 4946,   233]],\n",
       "\n",
       "       [[  402,  5053],\n",
       "        [  174, 13074]],\n",
       "\n",
       "       [[ 5465,  4208],\n",
       "        [ 3125,  5905]],\n",
       "\n",
       "       [[    0,  4958],\n",
       "        [    0, 13745]],\n",
       "\n",
       "       [[    6,  5785],\n",
       "        [    0, 12912]],\n",
       "\n",
       "       [[    1,   930],\n",
       "        [    0, 17772]]], dtype=int64)"
      ]
     },
     "execution_count": null,
     "metadata": {},
     "output_type": "execute_result"
    }
   ],
   "source": [
    "cm(y_true = mlb(forEvalP[\"label\"]), y_pred = mlb(forEvalP[\"prediction\"]), samplewise=False)"
   ]
  }
 ],
 "metadata": {
  "kernelspec": {
   "display_name": "ipy310",
   "language": "python",
   "name": "ipy310"
  }
 },
 "nbformat": 4,
 "nbformat_minor": 5
}
