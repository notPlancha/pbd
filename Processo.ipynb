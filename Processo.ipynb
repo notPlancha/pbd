{
 "cells": [
  {
   "cell_type": "code",
   "execution_count": null,
   "id": "8fcd1dbd-c6ea-4ca9-a617-fdea5e858136",
   "metadata": {},
   "outputs": [],
   "source": [
    "from pyspark.sql import SparkSession"
   ]
  },
  {
   "cell_type": "code",
   "execution_count": null,
   "id": "39e6d995-a382-4ac0-9862-a4c74b55c924",
   "metadata": {},
   "outputs": [
    {
     "name": "stdout",
     "output_type": "stream",
     "text": [
      "23/03/20 14:37:57 WARN Utils: Your hostname, IC1019-1 resolves to a loopback address: 127.0.1.1; using 172.30.15.89 instead (on interface eth0)\n",
      "23/03/20 14:37:57 WARN Utils: Set SPARK_LOCAL_IP if you need to bind to another address\n"
     ]
    },
    {
     "name": "stderr",
     "output_type": "stream",
     "text": [
      "Setting default log level to \"WARN\".\n",
      "To adjust logging level use sc.setLogLevel(newLevel). For SparkR, use setLogLevel(newLevel).\n"
     ]
    },
    {
     "name": "stdout",
     "output_type": "stream",
     "text": [
      "23/03/20 14:37:58 WARN NativeCodeLoader: Unable to load native-hadoop library for your platform... using builtin-java classes where applicable\n",
      "23/03/20 14:38:00 WARN Utils: Service 'SparkUI' could not bind on port 4040. Attempting port 4041.\n",
      "23/03/20 14:38:00 WARN Utils: Service 'SparkUI' could not bind on port 4041. Attempting port 4042.\n"
     ]
    }
   ],
   "source": [
    "spark=SparkSession.builder.appName(\"exemplo bla bla\").config(\"spark.driver.memory\",\"4g\").config(\"spark.executor.memory\",\"4g\").getOrCreate()"
   ]
  },
  {
   "cell_type": "code",
   "execution_count": null,
   "id": "2d9d7a15-ac64-4a11-a011-951ace5646f6",
   "metadata": {},
   "outputs": [],
   "source": [
    "# Some general imports \n",
    "\n",
    "import os\n",
    "import sys\n",
    "\n",
    "import numpy as np \n",
    "import pandas as pd  \n",
    "import matplotlib.pyplot as plt\n",
    "import seaborn as sns\n",
    "# from ydata_profiling import ProfileReport\n",
    "import warnings\n",
    "warnings.filterwarnings(\"ignore\")"
   ]
  },
  {
   "cell_type": "code",
   "execution_count": null,
   "id": "7c64e8f8-562f-4c05-9392-5466d3466fb1",
   "metadata": {},
   "outputs": [],
   "source": [
    "def plotHistogram(df, xcol, huecol=None):\n",
    "    sns.histplot(data=df, x=xcol, hue=huecol, multiple=\"stack\")"
   ]
  },
  {
   "cell_type": "code",
   "execution_count": null,
   "id": "cc9af632-31b5-430e-9f0f-4146f1e3b5bf",
   "metadata": {},
   "outputs": [],
   "source": [
    "def plot(df, xcol, ycol):\n",
    "    sns.lineplot(data=df, x=xcol, y=ycol)"
   ]
  },
  {
   "cell_type": "code",
   "execution_count": null,
   "id": "e55fadac-c44f-48bc-bc59-bbbceacea74b",
   "metadata": {},
   "outputs": [],
   "source": [
    "def plotBar(df, xcol, ycol, huecol=None):\n",
    "    sns.barplot(data=df, x=xcol, y=ycol, hue=huecol)"
   ]
  },
  {
   "cell_type": "code",
   "execution_count": null,
   "id": "bd4bc8c9-f4dd-4890-9b60-8537d93a2156",
   "metadata": {},
   "outputs": [],
   "source": [
    "def plotScatter(df, xcol, ycol, huecol=None):\n",
    "    sns.scatterplot(data=df, x=xcol, y=ycol, hue=huecol)"
   ]
  },
  {
   "cell_type": "code",
   "execution_count": null,
   "id": "f4550038-3daf-4bf7-bc2e-e4cdf3b91491",
   "metadata": {},
   "outputs": [],
   "source": [
    "def plotScatterMatrix(df, huecol=None):\n",
    "    sns.pairplot(data=df, hue=huecol)"
   ]
  },
  {
   "cell_type": "code",
   "execution_count": null,
   "id": "a4056739-a351-4766-93a3-80ce1a740c55",
   "metadata": {},
   "outputs": [],
   "source": [
    "def plotCorrelationMatrix_1(df, annot=False):\n",
    "    # compute the correlation matrix\n",
    "    corr = df.corr()\n",
    "    \n",
    "    # generate a mask for the upper triangle\n",
    "    mask = np.triu(np.ones_like(corr, dtype=bool))\n",
    "\n",
    "    # set up the matplotlib figure\n",
    "    f, ax = plt.subplots(figsize=(11, 9))\n",
    "\n",
    "    # generate a custom diverging colormap\n",
    "    cmap = sns.diverging_palette(230, 20, as_cmap=True)\n",
    "    #cmap='coolwarm'\n",
    "\n",
    "    # draw the heatmap with the mask and correct aspect ratio\n",
    "    sns.heatmap(corr, mask=mask, cmap=cmap, vmax=.3, center=0, annot=annot,\n",
    "            square=True, linewidths=.5, cbar_kws={\"shrink\": .5})"
   ]
  },
  {
   "cell_type": "code",
   "execution_count": null,
   "id": "7894801e-d558-43fe-9c72-dbaf99bb5010",
   "metadata": {},
   "outputs": [],
   "source": [
    "def plotCorrelationMatrix_2(df):\n",
    "    # compute a correlation matrix and convert to long-form\n",
    "    corr_mat = df.corr().stack().reset_index(name=\"correlation\")\n",
    "    # draw each cell as a scatter point with varying size and color\n",
    "    g = sns.relplot(\n",
    "        data=corr_mat,\n",
    "        x=\"level_0\", y=\"level_1\", hue=\"correlation\", size=\"correlation\",\n",
    "        palette=\"vlag\", hue_norm=(-1, 1), edgecolor=\".7\",\n",
    "        height=10, sizes=(50, 250), size_norm=(-.2, .8),\n",
    "    )\n",
    "\n",
    "    # tweak the figure to finalize\n",
    "    g.set(xlabel=\"\", ylabel=\"\", aspect=\"equal\")\n",
    "    g.despine(left=True, bottom=True)\n",
    "    g.ax.margins(.02)\n",
    "    for label in g.ax.get_xticklabels():\n",
    "        label.set_rotation(90)\n",
    "    for artist in g.legend.legendHandles:\n",
    "        artist.set_edgecolor(\".7\")"
   ]
  },
  {
   "cell_type": "code",
   "execution_count": null,
   "id": "9c2103f6-c9ce-47a5-9b49-8c7d799bb8a9",
   "metadata": {},
   "outputs": [],
   "source": [
    "# Some Spark related imports we will use hereafter\n",
    "\n",
    "import sys\n",
    "\n",
    "from pyspark.sql import SparkSession\n",
    "import pyspark.sql.functions as F\n",
    "from pyspark.sql.types import *\n",
    "\n",
    "from pyspark.ml import Pipeline\n",
    "from pyspark.ml.stat import Correlation\n",
    "from pyspark.ml.feature import VectorAssembler, StringIndexer, OneHotEncoder\n",
    "from pyspark.ml.classification import LinearSVC\n",
    "from pyspark.ml.evaluation import BinaryClassificationEvaluator"
   ]
  },
  {
   "cell_type": "code",
   "execution_count": null,
   "id": "cff36834-669b-46cc-96a1-3c536b8846ed",
   "metadata": {},
   "outputs": [
    {
     "name": "stderr",
     "output_type": "stream",
     "text": [
      "                                                                                \r"
     ]
    }
   ],
   "source": [
    "filename = \"train.csv\"\n",
    "df_train = spark.read.csv(filename,header=True, sep=\",\", inferSchema=True)\n"
   ]
  },
  {
   "cell_type": "code",
   "execution_count": null,
   "id": "aaa937cb-642a-4177-9762-97830fac247f",
   "metadata": {},
   "outputs": [],
   "source": [
    "filename = \"test.csv\"\n",
    "df_teste = spark.read.csv(filename,header=True, sep=\",\", inferSchema=True)"
   ]
  },
  {
   "cell_type": "code",
   "execution_count": null,
   "id": "81ceaaea-c4f1-4c18-bf83-be8ad67028ab",
   "metadata": {},
   "outputs": [],
   "source": [
    "filename = \"train_labels.csv\"\n",
    "df_train_labs = spark.read.csv(filename,header=True, sep=\",\", inferSchema=True)"
   ]
  },
  {
   "cell_type": "code",
   "execution_count": null,
   "id": "732d2594-5d9e-4218-96dc-57946e91ca08",
   "metadata": {},
   "outputs": [
    {
     "name": "stdout",
     "output_type": "stream",
     "text": [
      "root\n",
      " |-- session_id: long (nullable = true)\n",
      " |-- index: integer (nullable = true)\n",
      " |-- elapsed_time: integer (nullable = true)\n",
      " |-- event_name: string (nullable = true)\n",
      " |-- name: string (nullable = true)\n",
      " |-- level: integer (nullable = true)\n",
      " |-- page: double (nullable = true)\n",
      " |-- room_coor_x: double (nullable = true)\n",
      " |-- room_coor_y: double (nullable = true)\n",
      " |-- screen_coor_x: double (nullable = true)\n",
      " |-- screen_coor_y: double (nullable = true)\n",
      " |-- hover_duration: double (nullable = true)\n",
      " |-- text: string (nullable = true)\n",
      " |-- fqid: string (nullable = true)\n",
      " |-- room_fqid: string (nullable = true)\n",
      " |-- text_fqid: string (nullable = true)\n",
      " |-- fullscreen: string (nullable = true)\n",
      " |-- hq: string (nullable = true)\n",
      " |-- music: string (nullable = true)\n",
      " |-- level_group: string (nullable = true)\n",
      " |-- session_level: string (nullable = true)\n",
      "\n",
      "-RECORD 0------------------------------\n",
      " session_id     | 20090109393214576    \n",
      " index          | 0                    \n",
      " elapsed_time   | 0                    \n",
      " event_name     | cutscene_click       \n",
      " name           | basic                \n",
      " level          | 0                    \n",
      " page           | null                 \n",
      " room_coor_x    | -413.99140522263224  \n",
      " room_coor_y    | 75.6853138297722     \n",
      " screen_coor_x  | 380.0                \n",
      " screen_coor_y  | 259.0                \n",
      " hover_duration | null                 \n",
      " text           | undefined            \n",
      " fqid           | intro                \n",
      " room_fqid      | tunic.historicals... \n",
      " text_fqid      | tunic.historicals... \n",
      " fullscreen     | null                 \n",
      " hq             | null                 \n",
      " music          | null                 \n",
      " level_group    | 0-4                  \n",
      " session_level  | 20090109393214576... \n",
      "only showing top 1 row\n",
      "\n",
      "+-----------------+-----+------------+--------------+-----+-----+----+-------------------+----------------+-------------+-------------+--------------+---------+-----+--------------------+--------------------+----------+----+-----+-----------+--------------------+\n",
      "|       session_id|index|elapsed_time|    event_name| name|level|page|        room_coor_x|     room_coor_y|screen_coor_x|screen_coor_y|hover_duration|     text| fqid|           room_fqid|           text_fqid|fullscreen|  hq|music|level_group|       session_level|\n",
      "+-----------------+-----+------------+--------------+-----+-----+----+-------------------+----------------+-------------+-------------+--------------+---------+-----+--------------------+--------------------+----------+----+-----+-----------+--------------------+\n",
      "|20090109393214576|    0|           0|cutscene_click|basic|    0|null|-413.99140522263224|75.6853138297722|        380.0|        259.0|          null|undefined|intro|tunic.historicals...|tunic.historicals...|      null|null| null|        0-4|20090109393214576...|\n",
      "+-----------------+-----+------------+--------------+-----+-----+----+-------------------+----------------+-------------+-------------+--------------+---------+-----+--------------------+--------------------+----------+----+-----+-----------+--------------------+\n",
      "only showing top 1 row\n",
      "\n"
     ]
    }
   ],
   "source": [
    "df_teste.printSchema()\n",
    "df_teste.show(1, vertical=True)\n",
    "teste_count = df_teste.count()\n",
    "df_teste.show(1)"
   ]
  },
  {
   "cell_type": "code",
   "execution_count": null,
   "id": "82c239e1-91b0-4f21-ab9b-9592052258dd",
   "metadata": {},
   "outputs": [
    {
     "name": "stdout",
     "output_type": "stream",
     "text": [
      "root\n",
      " |-- session_id: long (nullable = true)\n",
      " |-- index: integer (nullable = true)\n",
      " |-- elapsed_time: integer (nullable = true)\n",
      " |-- event_name: string (nullable = true)\n",
      " |-- name: string (nullable = true)\n",
      " |-- level: integer (nullable = true)\n",
      " |-- page: double (nullable = true)\n",
      " |-- room_coor_x: double (nullable = true)\n",
      " |-- room_coor_y: double (nullable = true)\n",
      " |-- screen_coor_x: double (nullable = true)\n",
      " |-- screen_coor_y: double (nullable = true)\n",
      " |-- hover_duration: double (nullable = true)\n",
      " |-- text: string (nullable = true)\n",
      " |-- fqid: string (nullable = true)\n",
      " |-- room_fqid: string (nullable = true)\n",
      " |-- text_fqid: string (nullable = true)\n",
      " |-- fullscreen: string (nullable = true)\n",
      " |-- hq: string (nullable = true)\n",
      " |-- music: string (nullable = true)\n",
      " |-- level_group: string (nullable = true)\n",
      "\n",
      "-RECORD 0------------------------------\n",
      " session_id     | 20090312431273200    \n",
      " index          | 0                    \n",
      " elapsed_time   | 0                    \n",
      " event_name     | cutscene_click       \n",
      " name           | basic                \n",
      " level          | 0                    \n",
      " page           | null                 \n",
      " room_coor_x    | -413.99140522263224  \n",
      " room_coor_y    | -159.31468617022784  \n",
      " screen_coor_x  | 380.0                \n",
      " screen_coor_y  | 494.0                \n",
      " hover_duration | null                 \n",
      " text           | undefined            \n",
      " fqid           | intro                \n",
      " room_fqid      | tunic.historicals... \n",
      " text_fqid      | tunic.historicals... \n",
      " fullscreen     | null                 \n",
      " hq             | null                 \n",
      " music          | null                 \n",
      " level_group    | 0-4                  \n",
      "only showing top 1 row\n",
      "\n"
     ]
    },
    {
     "name": "stderr",
     "output_type": "stream",
     "text": [
      "                                                                                \r"
     ]
    },
    {
     "name": "stdout",
     "output_type": "stream",
     "text": [
      "+-----------------+-----+------------+--------------+-----+-----+----+-------------------+-------------------+-------------+-------------+--------------+---------+-----+--------------------+--------------------+----------+----+-----+-----------+\n",
      "|       session_id|index|elapsed_time|    event_name| name|level|page|        room_coor_x|        room_coor_y|screen_coor_x|screen_coor_y|hover_duration|     text| fqid|           room_fqid|           text_fqid|fullscreen|  hq|music|level_group|\n",
      "+-----------------+-----+------------+--------------+-----+-----+----+-------------------+-------------------+-------------+-------------+--------------+---------+-----+--------------------+--------------------+----------+----+-----+-----------+\n",
      "|20090312431273200|    0|           0|cutscene_click|basic|    0|null|-413.99140522263224|-159.31468617022784|        380.0|        494.0|          null|undefined|intro|tunic.historicals...|tunic.historicals...|      null|null| null|        0-4|\n",
      "+-----------------+-----+------------+--------------+-----+-----+----+-------------------+-------------------+-------------+-------------+--------------+---------+-----+--------------------+--------------------+----------+----+-----+-----------+\n",
      "only showing top 1 row\n",
      "\n"
     ]
    }
   ],
   "source": [
    "df_train.printSchema()\n",
    "df_train.show(1, vertical=True)\n",
    "train_count = df_train.count()\n",
    "train_count\n",
    "df_train.show(1)"
   ]
  },
  {
   "cell_type": "code",
   "execution_count": null,
   "id": "06ccb268-e8fd-41fc-990d-d9105670bbaf",
   "metadata": {},
   "outputs": [
    {
     "name": "stdout",
     "output_type": "stream",
     "text": [
      "+--------------------+-------+\n",
      "|          session_id|correct|\n",
      "+--------------------+-------+\n",
      "|20090312431273200_q1|      1|\n",
      "|20090312433251036_q1|      0|\n",
      "|20090314121766812_q1|      1|\n",
      "|20090314363702160_q1|      1|\n",
      "|20090314441803444_q1|      1|\n",
      "+--------------------+-------+\n",
      "only showing top 5 rows\n",
      "\n"
     ]
    }
   ],
   "source": [
    "df_train_labs.show(5)"
   ]
  },
  {
   "cell_type": "code",
   "execution_count": null,
   "id": "bd389815-27f1-45a1-b86b-0b0f0ea060f5",
   "metadata": {},
   "outputs": [
    {
     "name": "stdout",
     "output_type": "stream",
     "text": [
      "\n",
      "Nulls in all columns\n",
      "Column page with 3575 nulls or NaN, out of 3728 records (95.90%)\n",
      "Column room_coor_x with 362 nulls or NaN, out of 3728 records (9.71%)\n",
      "Column room_coor_y with 362 nulls or NaN, out of 3728 records (9.71%)\n",
      "Column screen_coor_x with 362 nulls or NaN, out of 3728 records (9.71%)\n",
      "Column screen_coor_y with 362 nulls or NaN, out of 3728 records (9.71%)\n",
      "Column hover_duration with 3375 nulls or NaN, out of 3728 records (90.53%)\n",
      "Column text with 2566 nulls or NaN, out of 3728 records (68.83%)\n",
      "Column fqid with 1226 nulls or NaN, out of 3728 records (32.89%)\n",
      "Column room_fqid with 6 nulls or NaN, out of 3728 records (0.16%)\n",
      "Column text_fqid with 2572 nulls or NaN, out of 3728 records (68.99%)\n",
      "Column fullscreen with 3728 nulls or NaN, out of 3728 records (100.00%)\n",
      "Column hq with 3728 nulls or NaN, out of 3728 records (100.00%)\n",
      "Column music with 3728 nulls or NaN, out of 3728 records (100.00%)\n",
      "Column level_group with 6 nulls or NaN, out of 3728 records (0.16%)\n"
     ]
    }
   ],
   "source": [
    "print('\\nNulls in all columns')\n",
    "cols_to_forget = ['Credit Limit']\n",
    "teste_cols_interest = [x for x in df_teste.columns]\n",
    "for cl in teste_cols_interest:\n",
    "    k = df_teste.select(cl).filter(F.col(cl).isNull() | F.isnan(cl)).count()\n",
    "    if k > 0:\n",
    "        print(f'Column {cl} with {k} nulls or NaN, out of {teste_count} records ({k*100/teste_count:.2f}%)')"
   ]
  },
  {
   "cell_type": "code",
   "execution_count": null,
   "id": "b106a498-f60f-4801-b352-d0c2f8c7b8d0",
   "metadata": {},
   "outputs": [
    {
     "name": "stdout",
     "output_type": "stream",
     "text": [
      "\n",
      "Nulls in all columns\n"
     ]
    },
    {
     "name": "stderr",
     "output_type": "stream",
     "text": [
      "                                                                                \r"
     ]
    },
    {
     "name": "stdout",
     "output_type": "stream",
     "text": [
      "Column page with 12889465 nulls or NaN, out of 13174211 records (97.84%)\n"
     ]
    },
    {
     "name": "stderr",
     "output_type": "stream",
     "text": [
      "                                                                                \r"
     ]
    },
    {
     "name": "stdout",
     "output_type": "stream",
     "text": [
      "Column room_coor_x with 1036240 nulls or NaN, out of 13174211 records (7.87%)\n"
     ]
    },
    {
     "name": "stderr",
     "output_type": "stream",
     "text": [
      "                                                                                \r"
     ]
    },
    {
     "name": "stdout",
     "output_type": "stream",
     "text": [
      "Column room_coor_y with 1036240 nulls or NaN, out of 13174211 records (7.87%)\n"
     ]
    },
    {
     "name": "stderr",
     "output_type": "stream",
     "text": [
      "                                                                                \r"
     ]
    },
    {
     "name": "stdout",
     "output_type": "stream",
     "text": [
      "Column screen_coor_x with 1036240 nulls or NaN, out of 13174211 records (7.87%)\n"
     ]
    },
    {
     "name": "stderr",
     "output_type": "stream",
     "text": [
      "                                                                                \r"
     ]
    },
    {
     "name": "stdout",
     "output_type": "stream",
     "text": [
      "Column screen_coor_y with 1036240 nulls or NaN, out of 13174211 records (7.87%)\n"
     ]
    },
    {
     "name": "stderr",
     "output_type": "stream",
     "text": [
      "                                                                                \r"
     ]
    },
    {
     "name": "stdout",
     "output_type": "stream",
     "text": [
      "Column hover_duration with 12173474 nulls or NaN, out of 13174211 records (92.40%)\n"
     ]
    },
    {
     "name": "stderr",
     "output_type": "stream",
     "text": [
      "                                                                                \r"
     ]
    },
    {
     "name": "stdout",
     "output_type": "stream",
     "text": [
      "Column text with 8367320 nulls or NaN, out of 13174211 records (63.51%)\n"
     ]
    },
    {
     "name": "stderr",
     "output_type": "stream",
     "text": [
      "                                                                                \r"
     ]
    },
    {
     "name": "stdout",
     "output_type": "stream",
     "text": [
      "Column fqid with 4171591 nulls or NaN, out of 13174211 records (31.66%)\n"
     ]
    },
    {
     "name": "stderr",
     "output_type": "stream",
     "text": [
      "                                                                                \r"
     ]
    },
    {
     "name": "stdout",
     "output_type": "stream",
     "text": [
      "Column room_fqid with 23790 nulls or NaN, out of 13174211 records (0.18%)\n"
     ]
    },
    {
     "name": "stderr",
     "output_type": "stream",
     "text": [
      "                                                                                \r"
     ]
    },
    {
     "name": "stdout",
     "output_type": "stream",
     "text": [
      "Column text_fqid with 8391056 nulls or NaN, out of 13174211 records (63.69%)\n"
     ]
    },
    {
     "name": "stderr",
     "output_type": "stream",
     "text": [
      "                                                                                \r"
     ]
    },
    {
     "name": "stdout",
     "output_type": "stream",
     "text": [
      "Column fullscreen with 13174211 nulls or NaN, out of 13174211 records (100.00%)\n"
     ]
    },
    {
     "name": "stderr",
     "output_type": "stream",
     "text": [
      "                                                                                \r"
     ]
    },
    {
     "name": "stdout",
     "output_type": "stream",
     "text": [
      "Column hq with 13174211 nulls or NaN, out of 13174211 records (100.00%)\n"
     ]
    },
    {
     "name": "stderr",
     "output_type": "stream",
     "text": [
      "                                                                                \r"
     ]
    },
    {
     "name": "stdout",
     "output_type": "stream",
     "text": [
      "Column music with 13174211 nulls or NaN, out of 13174211 records (100.00%)\n"
     ]
    },
    {
     "name": "stderr",
     "output_type": "stream",
     "text": [
      "[Stage 446:===================================================>   (17 + 1) / 18]\r"
     ]
    },
    {
     "name": "stdout",
     "output_type": "stream",
     "text": [
      "Column level_group with 23790 nulls or NaN, out of 13174211 records (0.18%)\n"
     ]
    },
    {
     "name": "stderr",
     "output_type": "stream",
     "text": [
      "                                                                                \r"
     ]
    }
   ],
   "source": [
    "print('\\nNulls in all columns')\n",
    "cols_to_forget = ['Credit Limit']\n",
    "train_cols_interest = [x for x in df_train.columns]\n",
    "for cl in train_cols_interest:\n",
    "    k = df_train.select(cl).filter(F.col(cl).isNull() | F.isnan(cl)).count()\n",
    "    if k > 0:\n",
    "        print(f'Column {cl} with {k} nulls or NaN, out of {train_count} records ({k*100/train_count:.2f}%)')"
   ]
  },
  {
   "cell_type": "code",
   "execution_count": null,
   "id": "725c8e2e-b807-432c-b93b-15d9b31cb531",
   "metadata": {},
   "outputs": [],
   "source": [
    "df_train.head(4)"
   ]
  },
  {
   "cell_type": "code",
   "execution_count": null,
   "id": "bd59ba34-0254-4fae-b8a1-2c31039e127d",
   "metadata": {},
   "outputs": [
    {
     "name": "stderr",
     "output_type": "stream",
     "text": [
      "                                                                                \r"
     ]
    },
    {
     "data": {
      "text/plain": [
       "[Row(session_id=22100221145014656, index=1601, elapsed_time=5485166, event_name='navigate_click', name='undefined', level=22, page=None, room_coor_x=332.69606975910096, room_coor_y=141.49317778482262, screen_coor_x=545.0, screen_coor_y=221.0, hover_duration=None, text=None, fqid='chap4_finale_c', room_fqid='tunic.capitol_2.hall', text_fqid=None, fullscreen=None, hq=None, music=None, level_group='13-22'),\n",
       " Row(session_id=22100221145014656, index=1602, elapsed_time=5485917, event_name='navigate_click', name='undefined', level=22, page=None, room_coor_x=369.9128589444621, room_coor_y=140.56920467904712, screen_coor_x=611.0, screen_coor_y=217.0, hover_duration=None, text=None, fqid=None, room_fqid='tunic.capitol_2.hall', text_fqid=None, fullscreen=None, hq=None, music=None, level_group='13-22'),\n",
       " Row(session_id=22100221145014656, index=1603, elapsed_time=5486753, event_name='navigate_click', name='undefined', level=22, page=None, room_coor_x=252.2996530220907, room_coor_y=123.80588917533116, screen_coor_x=526.0, screen_coor_y=232.0, hover_duration=None, text=None, fqid='chap4_finale_c', room_fqid='tunic.capitol_2.hall', text_fqid=None, fullscreen=None, hq=None, music=None, level_group='13-22'),\n",
       " Row(session_id=22100221145014656, index=1604, elapsed_time=5487952, event_name='checkpoint', name='basic', level=22, page=None, room_coor_x=None, room_coor_y=None, screen_coor_x=None, screen_coor_y=None, hover_duration=None, text=None, fqid='chap4_finale_c', room_fqid='tunic.capitol_2.hall', text_fqid=None, fullscreen=None, hq=None, music=None, level_group='13-22')]"
      ]
     },
     "execution_count": null,
     "metadata": {},
     "output_type": "execute_result"
    }
   ],
   "source": [
    "df_train.tail(4)"
   ]
  },
  {
   "cell_type": "code",
   "execution_count": null,
   "id": "a9b3e699-2b89-46ad-9bff-400d15c20009",
   "metadata": {},
   "outputs": [],
   "source": [
    "train_cols_interest.remove('fullscreen')\n",
    "train_cols_interest.remove('music')\n",
    "train_cols_interest.remove('hq')\n",
    "train_cols_interest.remove('page')\n",
    "train_cols_interest.remove('hover_duration')\n",
    "train_cols_interest.remove('text')\n",
    "train_cols_interest.remove('text_fqid')"
   ]
  },
  {
   "cell_type": "code",
   "execution_count": null,
   "id": "3b78a372-3cff-4a12-afaf-4dab0bd98677",
   "metadata": {},
   "outputs": [
    {
     "name": "stderr",
     "output_type": "stream",
     "text": [
      "                                                                                \r"
     ]
    },
    {
     "name": "stdout",
     "output_type": "stream",
     "text": [
      "Column room_coor_x with 1036240 nulls or NaN, out of 13174211 records (7.87%)\n"
     ]
    },
    {
     "name": "stderr",
     "output_type": "stream",
     "text": [
      "                                                                                \r"
     ]
    },
    {
     "name": "stdout",
     "output_type": "stream",
     "text": [
      "Column room_coor_y with 1036240 nulls or NaN, out of 13174211 records (7.87%)\n"
     ]
    },
    {
     "name": "stderr",
     "output_type": "stream",
     "text": [
      "                                                                                \r"
     ]
    },
    {
     "name": "stdout",
     "output_type": "stream",
     "text": [
      "Column screen_coor_x with 1036240 nulls or NaN, out of 13174211 records (7.87%)\n"
     ]
    },
    {
     "name": "stderr",
     "output_type": "stream",
     "text": [
      "                                                                                \r"
     ]
    },
    {
     "name": "stdout",
     "output_type": "stream",
     "text": [
      "Column screen_coor_y with 1036240 nulls or NaN, out of 13174211 records (7.87%)\n"
     ]
    },
    {
     "name": "stderr",
     "output_type": "stream",
     "text": [
      "                                                                                \r"
     ]
    },
    {
     "name": "stdout",
     "output_type": "stream",
     "text": [
      "Column fqid with 4171591 nulls or NaN, out of 13174211 records (31.66%)\n"
     ]
    },
    {
     "name": "stderr",
     "output_type": "stream",
     "text": [
      "                                                                                \r"
     ]
    },
    {
     "name": "stdout",
     "output_type": "stream",
     "text": [
      "Column room_fqid with 23790 nulls or NaN, out of 13174211 records (0.18%)\n"
     ]
    },
    {
     "name": "stderr",
     "output_type": "stream",
     "text": [
      "[Stage 536:===================================================>   (17 + 1) / 18]\r"
     ]
    },
    {
     "name": "stdout",
     "output_type": "stream",
     "text": [
      "Column level_group with 23790 nulls or NaN, out of 13174211 records (0.18%)\n"
     ]
    },
    {
     "name": "stderr",
     "output_type": "stream",
     "text": [
      "                                                                                \r"
     ]
    }
   ],
   "source": [
    "for cl in train_cols_interest:\n",
    "    k = df_train.select(cl).filter(F.col(cl).isNull() | F.isnan(cl)).count()\n",
    "    if k > 0:\n",
    "        print(f'Column {cl} with {k} nulls or NaN, out of {train_count} records ({k*100/train_count:.2f}%)')"
   ]
  },
  {
   "cell_type": "code",
   "execution_count": null,
   "id": "473ff700-2e41-4355-8a13-beb9cc591cc6",
   "metadata": {},
   "outputs": [],
   "source": [
    "teste_cols_interest.remove('fullscreen')\n",
    "teste_cols_interest.remove('music')\n",
    "teste_cols_interest.remove('hq')\n",
    "teste_cols_interest.remove('page')"
   ]
  },
  {
   "cell_type": "code",
   "execution_count": null,
   "id": "9056569c-3410-46c8-8176-0052b75e9253",
   "metadata": {},
   "outputs": [
    {
     "name": "stdout",
     "output_type": "stream",
     "text": [
      "Column room_coor_x with 362 nulls or NaN, out of 3728 records (9.71%)\n",
      "Column room_coor_y with 362 nulls or NaN, out of 3728 records (9.71%)\n",
      "Column screen_coor_x with 362 nulls or NaN, out of 3728 records (9.71%)\n",
      "Column screen_coor_y with 362 nulls or NaN, out of 3728 records (9.71%)\n",
      "Column hover_duration with 3375 nulls or NaN, out of 3728 records (90.53%)\n",
      "Column text with 2566 nulls or NaN, out of 3728 records (68.83%)\n",
      "Column fqid with 1226 nulls or NaN, out of 3728 records (32.89%)\n",
      "Column room_fqid with 6 nulls or NaN, out of 3728 records (0.16%)\n",
      "Column text_fqid with 2572 nulls or NaN, out of 3728 records (68.99%)\n",
      "Column level_group with 6 nulls or NaN, out of 3728 records (0.16%)\n",
      "Column session_level with 6 nulls or NaN, out of 3728 records (0.16%)\n"
     ]
    }
   ],
   "source": [
    "for cl in teste_cols_interest:\n",
    "    k = df_teste.select(cl).filter(F.col(cl).isNull() | F.isnan(cl)).count()\n",
    "    if k > 0:\n",
    "        print(f'Column {cl} with {k} nulls or NaN, out of {teste_count} records ({k*100/teste_count:.2f}%)')"
   ]
  },
  {
   "cell_type": "code",
   "execution_count": null,
   "id": "db9ae982-17c4-4586-b966-79f91aae7b9b",
   "metadata": {},
   "outputs": [
    {
     "name": "stdout",
     "output_type": "stream",
     "text": [
      "\n",
      "Uniqueness in teste:\n",
      "Columns session_id with 3 distinct values, out of 3728 records (0.08)%\n",
      "Columns index with 1564 distinct values, out of 3728 records (41.95)%\n",
      "Columns elapsed_time with 3720 distinct values, out of 3728 records (99.79)%\n",
      "Columns event_name with 11 distinct values, out of 3728 records (0.30)%\n",
      "Columns name with 6 distinct values, out of 3728 records (0.16)%\n",
      "Columns level with 23 distinct values, out of 3728 records (0.62)%\n",
      "Columns room_coor_x with 3147 distinct values, out of 3728 records (84.42)%\n",
      "Columns room_coor_y with 2669 distinct values, out of 3728 records (71.59)%\n",
      "Columns screen_coor_x with 802 distinct values, out of 3728 records (21.51)%\n",
      "Columns screen_coor_y with 578 distinct values, out of 3728 records (15.50)%\n",
      "Columns hover_duration with 222 distinct values, out of 3728 records (5.95)%\n",
      "Columns text with 499 distinct values, out of 3728 records (13.39)%\n",
      "Columns fqid with 113 distinct values, out of 3728 records (3.03)%\n",
      "Columns room_fqid with 20 distinct values, out of 3728 records (0.54)%\n",
      "Columns text_fqid with 91 distinct values, out of 3728 records (2.44)%\n",
      "Columns level_group with 4 distinct values, out of 3728 records (0.11)%\n",
      "Columns session_level with 10 distinct values, out of 3728 records (0.27)%\n"
     ]
    }
   ],
   "source": [
    "print('\\nUniqueness in teste:')\n",
    "for cl in teste_cols_interest:\n",
    "    k = df_teste.select(cl).distinct().count()\n",
    "    print(f\"Columns {cl} with {k} distinct values, out of {teste_count}\"+f\" records ({k*100/teste_count:.2f})%\")"
   ]
  },
  {
   "cell_type": "code",
   "execution_count": null,
   "id": "c3057ed2-3361-4656-ab8f-e7230de4b43d",
   "metadata": {},
   "outputs": [
    {
     "name": "stdout",
     "output_type": "stream",
     "text": [
      "\n",
      "Uniqueness in treino:\n"
     ]
    },
    {
     "name": "stderr",
     "output_type": "stream",
     "text": [
      "                                                                                \r"
     ]
    },
    {
     "name": "stdout",
     "output_type": "stream",
     "text": [
      "Columns session_id with 11779 distinct values, out of 13174211 records (0.09)%\n"
     ]
    },
    {
     "name": "stderr",
     "output_type": "stream",
     "text": [
      "                                                                                \r"
     ]
    },
    {
     "name": "stdout",
     "output_type": "stream",
     "text": [
      "Columns index with 20348 distinct values, out of 13174211 records (0.15)%\n"
     ]
    },
    {
     "name": "stderr",
     "output_type": "stream",
     "text": [
      "                                                                                \r"
     ]
    },
    {
     "name": "stdout",
     "output_type": "stream",
     "text": [
      "Columns elapsed_time with 3804019 distinct values, out of 13174211 records (28.87)%\n"
     ]
    },
    {
     "name": "stderr",
     "output_type": "stream",
     "text": [
      "                                                                                \r"
     ]
    },
    {
     "name": "stdout",
     "output_type": "stream",
     "text": [
      "Columns event_name with 11 distinct values, out of 13174211 records (0.00)%\n"
     ]
    },
    {
     "name": "stderr",
     "output_type": "stream",
     "text": [
      "                                                                                \r"
     ]
    },
    {
     "name": "stdout",
     "output_type": "stream",
     "text": [
      "Columns name with 6 distinct values, out of 13174211 records (0.00)%\n"
     ]
    },
    {
     "name": "stderr",
     "output_type": "stream",
     "text": [
      "                                                                                \r"
     ]
    },
    {
     "name": "stdout",
     "output_type": "stream",
     "text": [
      "Columns level with 23 distinct values, out of 13174211 records (0.00)%\n"
     ]
    },
    {
     "name": "stderr",
     "output_type": "stream",
     "text": [
      "                                                                                \r"
     ]
    },
    {
     "name": "stdout",
     "output_type": "stream",
     "text": [
      "Columns room_coor_x with 9120576 distinct values, out of 13174211 records (69.23)%\n"
     ]
    },
    {
     "name": "stderr",
     "output_type": "stream",
     "text": [
      "                                                                                \r"
     ]
    },
    {
     "name": "stdout",
     "output_type": "stream",
     "text": [
      "Columns room_coor_y with 7047655 distinct values, out of 13174211 records (53.50)%\n"
     ]
    },
    {
     "name": "stderr",
     "output_type": "stream",
     "text": [
      "                                                                                \r"
     ]
    },
    {
     "name": "stdout",
     "output_type": "stream",
     "text": [
      "Columns screen_coor_x with 35332 distinct values, out of 13174211 records (0.27)%\n"
     ]
    },
    {
     "name": "stderr",
     "output_type": "stream",
     "text": [
      "                                                                                \r"
     ]
    },
    {
     "name": "stdout",
     "output_type": "stream",
     "text": [
      "Columns screen_coor_y with 56859 distinct values, out of 13174211 records (0.43)%\n"
     ]
    },
    {
     "name": "stderr",
     "output_type": "stream",
     "text": [
      "                                                                                \r"
     ]
    },
    {
     "name": "stdout",
     "output_type": "stream",
     "text": [
      "Columns fqid with 128 distinct values, out of 13174211 records (0.00)%\n"
     ]
    },
    {
     "name": "stderr",
     "output_type": "stream",
     "text": [
      "                                                                                \r"
     ]
    },
    {
     "name": "stdout",
     "output_type": "stream",
     "text": [
      "Columns room_fqid with 20 distinct values, out of 13174211 records (0.00)%\n"
     ]
    },
    {
     "name": "stderr",
     "output_type": "stream",
     "text": [
      "[Stage 827:===================================================>   (17 + 1) / 18]\r"
     ]
    },
    {
     "name": "stdout",
     "output_type": "stream",
     "text": [
      "Columns level_group with 4 distinct values, out of 13174211 records (0.00)%\n"
     ]
    },
    {
     "name": "stderr",
     "output_type": "stream",
     "text": [
      "                                                                                \r"
     ]
    }
   ],
   "source": [
    "print('\\nUniqueness in treino:')\n",
    "for cl in train_cols_interest:\n",
    "    k = df_train.select(cl).distinct().count()\n",
    "    print(f\"Columns {cl} with {k} distinct values, out of {train_count}\"+f\" records ({k*100/train_count:.2f})%\")"
   ]
  },
  {
   "cell_type": "code",
   "execution_count": null,
   "id": "6e6d9fe2-4082-4e19-b579-7533097d2296",
   "metadata": {},
   "outputs": [],
   "source": []
  },
  {
   "cell_type": "code",
   "execution_count": null,
   "id": "b6c3c4f7-37c7-432b-b612-0f32a35140fa",
   "metadata": {},
   "outputs": [],
   "source": []
  },
  {
   "cell_type": "code",
   "execution_count": null,
   "id": "8c24465e-fceb-45e7-8616-ce6742b70cc8",
   "metadata": {},
   "outputs": [],
   "source": []
  },
  {
   "cell_type": "code",
   "execution_count": null,
   "id": "4f4afcef-09c4-40ff-a04d-20be892c51a1",
   "metadata": {},
   "outputs": [],
   "source": []
  },
  {
   "cell_type": "code",
   "execution_count": null,
   "id": "36374ac0-034d-4cff-8e65-c3b202ba892b",
   "metadata": {},
   "outputs": [],
   "source": []
  },
  {
   "cell_type": "code",
   "execution_count": null,
   "id": "8c029127-1ba5-436c-8dd2-4d9461c94c52",
   "metadata": {},
   "outputs": [],
   "source": [
    "df_train_on = df_train.select(train_cols_interest)\n",
    "df_teste_on = df_teste.select(teste_cols_interest)"
   ]
  },
  {
   "cell_type": "code",
   "execution_count": null,
   "id": "b5091ba0-ff90-4ee7-85ce-9e27cd79e0e8",
   "metadata": {},
   "outputs": [
    {
     "name": "stdout",
     "output_type": "stream",
     "text": [
      "root\n",
      " |-- session_id: long (nullable = true)\n",
      " |-- index: integer (nullable = true)\n",
      " |-- elapsed_time: integer (nullable = true)\n",
      " |-- event_name: string (nullable = true)\n",
      " |-- name: string (nullable = true)\n",
      " |-- level: integer (nullable = true)\n",
      " |-- room_coor_x: double (nullable = true)\n",
      " |-- room_coor_y: double (nullable = true)\n",
      " |-- screen_coor_x: double (nullable = true)\n",
      " |-- screen_coor_y: double (nullable = true)\n",
      " |-- fqid: string (nullable = true)\n",
      " |-- room_fqid: string (nullable = true)\n",
      " |-- level_group: string (nullable = true)\n",
      "\n",
      "root\n",
      " |-- session_id: long (nullable = true)\n",
      " |-- index: integer (nullable = true)\n",
      " |-- elapsed_time: integer (nullable = true)\n",
      " |-- event_name: string (nullable = true)\n",
      " |-- name: string (nullable = true)\n",
      " |-- level: integer (nullable = true)\n",
      " |-- room_coor_x: double (nullable = true)\n",
      " |-- room_coor_y: double (nullable = true)\n",
      " |-- screen_coor_x: double (nullable = true)\n",
      " |-- screen_coor_y: double (nullable = true)\n",
      " |-- hover_duration: double (nullable = true)\n",
      " |-- text: string (nullable = true)\n",
      " |-- fqid: string (nullable = true)\n",
      " |-- room_fqid: string (nullable = true)\n",
      " |-- text_fqid: string (nullable = true)\n",
      " |-- level_group: string (nullable = true)\n",
      " |-- session_level: string (nullable = true)\n",
      "\n"
     ]
    }
   ],
   "source": [
    "df_train_on.printSchema()\n",
    "df_teste_on.printSchema()"
   ]
  }
 ],
 "metadata": {
  "kernelspec": {
   "display_name": "python3",
   "language": "python",
   "name": "python3"
  }
 },
 "nbformat": 4,
 "nbformat_minor": 5
}
