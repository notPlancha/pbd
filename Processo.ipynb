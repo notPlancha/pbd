{
 "cells": [
  {
   "cell_type": "code",
   "execution_count": 1,
   "id": "8fcd1dbd-c6ea-4ca9-a617-fdea5e858136",
   "metadata": {
    "tags": []
   },
   "outputs": [
    {
     "name": "stdout",
     "output_type": "stream",
     "text": [
      "Requirement already satisfied: pyspark in c:\\anaconda\\instalation\\lib\\site-packages (3.3.2)\n",
      "Requirement already satisfied: py4j==0.10.9.5 in c:\\anaconda\\instalation\\lib\\site-packages (from pyspark) (0.10.9.5)\n",
      "Note: you may need to restart the kernel to use updated packages.\n"
     ]
    }
   ],
   "source": [
    "pip install pyspark"
   ]
  },
  {
   "cell_type": "code",
   "execution_count": 2,
   "id": "580cbe11-5303-4040-9531-e7f98bef5321",
   "metadata": {},
   "outputs": [
    {
     "name": "stdout",
     "output_type": "stream",
     "text": [
      "Requirement already satisfied: seaborn in c:\\anaconda\\instalation\\lib\\site-packages (0.12.2)\n",
      "Requirement already satisfied: numpy!=1.24.0,>=1.17 in c:\\anaconda\\instalation\\lib\\site-packages (from seaborn) (1.23.5)\n",
      "Requirement already satisfied: matplotlib!=3.6.1,>=3.1 in c:\\anaconda\\instalation\\lib\\site-packages (from seaborn) (3.7.0)\n",
      "Requirement already satisfied: pandas>=0.25 in c:\\anaconda\\instalation\\lib\\site-packages (from seaborn) (1.5.3)\n",
      "Requirement already satisfied: packaging>=20.0 in c:\\anaconda\\instalation\\lib\\site-packages (from matplotlib!=3.6.1,>=3.1->seaborn) (22.0)\n",
      "Requirement already satisfied: cycler>=0.10 in c:\\anaconda\\instalation\\lib\\site-packages (from matplotlib!=3.6.1,>=3.1->seaborn) (0.11.0)\n",
      "Requirement already satisfied: contourpy>=1.0.1 in c:\\anaconda\\instalation\\lib\\site-packages (from matplotlib!=3.6.1,>=3.1->seaborn) (1.0.5)\n",
      "Requirement already satisfied: kiwisolver>=1.0.1 in c:\\anaconda\\instalation\\lib\\site-packages (from matplotlib!=3.6.1,>=3.1->seaborn) (1.4.4)\n",
      "Requirement already satisfied: fonttools>=4.22.0 in c:\\anaconda\\instalation\\lib\\site-packages (from matplotlib!=3.6.1,>=3.1->seaborn) (4.25.0)\n",
      "Requirement already satisfied: pillow>=6.2.0 in c:\\anaconda\\instalation\\lib\\site-packages (from matplotlib!=3.6.1,>=3.1->seaborn) (9.4.0)\n",
      "Requirement already satisfied: pyparsing>=2.3.1 in c:\\anaconda\\instalation\\lib\\site-packages (from matplotlib!=3.6.1,>=3.1->seaborn) (3.0.9)\n",
      "Requirement already satisfied: python-dateutil>=2.7 in c:\\anaconda\\instalation\\lib\\site-packages (from matplotlib!=3.6.1,>=3.1->seaborn) (2.8.2)\n",
      "Requirement already satisfied: pytz>=2020.1 in c:\\anaconda\\instalation\\lib\\site-packages (from pandas>=0.25->seaborn) (2022.7)\n",
      "Requirement already satisfied: six>=1.5 in c:\\anaconda\\instalation\\lib\\site-packages (from python-dateutil>=2.7->matplotlib!=3.6.1,>=3.1->seaborn) (1.16.0)\n",
      "Note: you may need to restart the kernel to use updated packages.\n"
     ]
    }
   ],
   "source": [
    "pip install seaborn"
   ]
  },
  {
   "cell_type": "code",
   "execution_count": 3,
   "id": "1995d9b0-de95-45f3-9a38-dc53e064bb3d",
   "metadata": {},
   "outputs": [
    {
     "name": "stdout",
     "output_type": "stream",
     "text": [
      "Collecting kaggle\n",
      "  Downloading kaggle-1.5.13.tar.gz (63 kB)\n",
      "     ---------------------------------------- 63.3/63.3 kB 3.3 MB/s eta 0:00:00\n",
      "  Preparing metadata (setup.py): started\n",
      "  Preparing metadata (setup.py): finished with status 'done'\n",
      "Collecting nbdev\n",
      "  Downloading nbdev-2.3.12-py3-none-any.whl (64 kB)\n",
      "     ---------------------------------------- 64.8/64.8 kB 3.4 MB/s eta 0:00:00\n",
      "Requirement already satisfied: six>=1.10 in c:\\anaconda\\instalation\\lib\\site-packages (from kaggle) (1.16.0)\n",
      "Requirement already satisfied: certifi in c:\\anaconda\\instalation\\lib\\site-packages (from kaggle) (2022.12.7)\n",
      "Requirement already satisfied: python-dateutil in c:\\anaconda\\instalation\\lib\\site-packages (from kaggle) (2.8.2)\n",
      "Requirement already satisfied: requests in c:\\anaconda\\instalation\\lib\\site-packages (from kaggle) (2.28.1)\n",
      "Requirement already satisfied: tqdm in c:\\anaconda\\instalation\\lib\\site-packages (from kaggle) (4.64.1)\n",
      "Requirement already satisfied: python-slugify in c:\\anaconda\\instalation\\lib\\site-packages (from kaggle) (5.0.2)\n",
      "Requirement already satisfied: urllib3 in c:\\anaconda\\instalation\\lib\\site-packages (from kaggle) (1.26.14)\n",
      "Requirement already satisfied: watchdog in c:\\anaconda\\instalation\\lib\\site-packages (from nbdev) (2.1.6)\n",
      "Collecting ghapi>=1.0.3\n",
      "  Downloading ghapi-1.0.3-py3-none-any.whl (58 kB)\n",
      "     ---------------------------------------- 58.1/58.1 kB 3.2 MB/s eta 0:00:00\n",
      "Collecting execnb>=0.1.4\n",
      "  Downloading execnb-0.1.5-py3-none-any.whl (13 kB)\n",
      "Requirement already satisfied: PyYAML in c:\\anaconda\\instalation\\lib\\site-packages (from nbdev) (6.0)\n",
      "Requirement already satisfied: asttokens in c:\\anaconda\\instalation\\lib\\site-packages (from nbdev) (2.0.5)\n",
      "Collecting fastcore>=1.5.27\n",
      "  Downloading fastcore-1.5.28-py3-none-any.whl (67 kB)\n",
      "     ---------------------------------------- 67.6/67.6 kB 3.6 MB/s eta 0:00:00\n",
      "Collecting astunparse\n",
      "  Using cached astunparse-1.6.3-py2.py3-none-any.whl (12 kB)\n",
      "Requirement already satisfied: ipython in c:\\anaconda\\instalation\\lib\\site-packages (from execnb>=0.1.4->nbdev) (8.10.0)\n",
      "Requirement already satisfied: pip in c:\\anaconda\\instalation\\lib\\site-packages (from fastcore>=1.5.27->nbdev) (22.3.1)\n",
      "Requirement already satisfied: packaging in c:\\anaconda\\instalation\\lib\\site-packages (from fastcore>=1.5.27->nbdev) (22.0)\n",
      "Requirement already satisfied: wheel<1.0,>=0.23.0 in c:\\anaconda\\instalation\\lib\\site-packages (from astunparse->nbdev) (0.38.4)\n",
      "Requirement already satisfied: text-unidecode>=1.3 in c:\\anaconda\\instalation\\lib\\site-packages (from python-slugify->kaggle) (1.3)\n",
      "Requirement already satisfied: charset-normalizer<3,>=2 in c:\\anaconda\\instalation\\lib\\site-packages (from requests->kaggle) (2.0.4)\n",
      "Requirement already satisfied: idna<4,>=2.5 in c:\\anaconda\\instalation\\lib\\site-packages (from requests->kaggle) (3.4)\n",
      "Requirement already satisfied: colorama in c:\\anaconda\\instalation\\lib\\site-packages (from tqdm->kaggle) (0.4.6)\n",
      "Requirement already satisfied: jedi>=0.16 in c:\\anaconda\\instalation\\lib\\site-packages (from ipython->execnb>=0.1.4->nbdev) (0.18.1)\n",
      "Requirement already satisfied: pygments>=2.4.0 in c:\\anaconda\\instalation\\lib\\site-packages (from ipython->execnb>=0.1.4->nbdev) (2.11.2)\n",
      "Requirement already satisfied: pickleshare in c:\\anaconda\\instalation\\lib\\site-packages (from ipython->execnb>=0.1.4->nbdev) (0.7.5)\n",
      "Requirement already satisfied: backcall in c:\\anaconda\\instalation\\lib\\site-packages (from ipython->execnb>=0.1.4->nbdev) (0.2.0)\n",
      "Requirement already satisfied: prompt-toolkit<3.1.0,>=3.0.30 in c:\\anaconda\\instalation\\lib\\site-packages (from ipython->execnb>=0.1.4->nbdev) (3.0.36)\n",
      "Requirement already satisfied: traitlets>=5 in c:\\anaconda\\instalation\\lib\\site-packages (from ipython->execnb>=0.1.4->nbdev) (5.7.1)\n",
      "Requirement already satisfied: stack-data in c:\\anaconda\\instalation\\lib\\site-packages (from ipython->execnb>=0.1.4->nbdev) (0.2.0)\n",
      "Requirement already satisfied: decorator in c:\\anaconda\\instalation\\lib\\site-packages (from ipython->execnb>=0.1.4->nbdev) (5.1.1)\n",
      "Requirement already satisfied: matplotlib-inline in c:\\anaconda\\instalation\\lib\\site-packages (from ipython->execnb>=0.1.4->nbdev) (0.1.6)\n",
      "Requirement already satisfied: parso<0.9.0,>=0.8.0 in c:\\anaconda\\instalation\\lib\\site-packages (from jedi>=0.16->ipython->execnb>=0.1.4->nbdev) (0.8.3)\n",
      "Requirement already satisfied: wcwidth in c:\\anaconda\\instalation\\lib\\site-packages (from prompt-toolkit<3.1.0,>=3.0.30->ipython->execnb>=0.1.4->nbdev) (0.2.5)\n",
      "Requirement already satisfied: executing in c:\\anaconda\\instalation\\lib\\site-packages (from stack-data->ipython->execnb>=0.1.4->nbdev) (0.8.3)\n",
      "Requirement already satisfied: pure-eval in c:\\anaconda\\instalation\\lib\\site-packages (from stack-data->ipython->execnb>=0.1.4->nbdev) (0.2.2)\n",
      "Building wheels for collected packages: kaggle\n",
      "  Building wheel for kaggle (setup.py): started\n",
      "  Building wheel for kaggle (setup.py): finished with status 'done'\n",
      "  Created wheel for kaggle: filename=kaggle-1.5.13-py3-none-any.whl size=77731 sha256=77a7e6853568fc59f163844060e3bcedcb98579ef94ec396608075588e4b6c7a\n",
      "  Stored in directory: c:\\users\\karde\\appdata\\local\\pip\\cache\\wheels\\1b\\22\\79\\e73b3e988388377c1cda3385bfa20c1799be101c2e12bbe3dc\n",
      "Successfully built kaggle\n",
      "Installing collected packages: fastcore, astunparse, kaggle, ghapi, execnb, nbdev\n",
      "Successfully installed astunparse-1.6.3 execnb-0.1.5 fastcore-1.5.28 ghapi-1.0.3 kaggle-1.5.13 nbdev-2.3.12\n",
      "Note: you may need to restart the kernel to use updated packages.\n"
     ]
    }
   ],
   "source": [
    "pip install kaggle nbdev"
   ]
  },
  {
   "cell_type": "code",
   "execution_count": 1,
   "id": "e662a7b0-2f5a-4a1c-b456-2e880d1bb177",
   "metadata": {
    "tags": []
   },
   "outputs": [],
   "source": [
    "from pyspark.sql import SparkSession"
   ]
  },
  {
   "cell_type": "code",
   "execution_count": 2,
   "id": "39e6d995-a382-4ac0-9862-a4c74b55c924",
   "metadata": {
    "tags": []
   },
   "outputs": [],
   "source": [
    "spark=SparkSession.builder.appName(\"exemplo bla bla\").config(\"spark.driver.memory\",\"4g\").config(\"spark.executor.memory\",\"4g\").getOrCreate()"
   ]
  },
  {
   "cell_type": "code",
   "execution_count": 3,
   "id": "2d9d7a15-ac64-4a11-a011-951ace5646f6",
   "metadata": {
    "tags": []
   },
   "outputs": [],
   "source": [
    "# Some general imports \n",
    "\n",
    "import os\n",
    "import sys\n",
    "\n",
    "import numpy as np \n",
    "import pandas as pd  \n",
    "import matplotlib.pyplot as plt\n",
    "import seaborn as sns\n",
    "# from ydata_profiling import ProfileReport\n",
    "import warnings\n",
    "warnings.filterwarnings(\"ignore\")"
   ]
  },
  {
   "cell_type": "code",
   "execution_count": 4,
   "id": "7c64e8f8-562f-4c05-9392-5466d3466fb1",
   "metadata": {
    "tags": []
   },
   "outputs": [],
   "source": [
    "def plotHistogram(df, xcol, huecol=None):\n",
    "    sns.histplot(data=df, x=xcol, hue=huecol, multiple=\"stack\")"
   ]
  },
  {
   "cell_type": "code",
   "execution_count": 5,
   "id": "cc9af632-31b5-430e-9f0f-4146f1e3b5bf",
   "metadata": {
    "tags": []
   },
   "outputs": [],
   "source": [
    "def plot(df, xcol, ycol):\n",
    "    sns.lineplot(data=df, x=xcol, y=ycol)"
   ]
  },
  {
   "cell_type": "code",
   "execution_count": 6,
   "id": "e55fadac-c44f-48bc-bc59-bbbceacea74b",
   "metadata": {
    "tags": []
   },
   "outputs": [],
   "source": [
    "def plotBar(df, xcol, ycol, huecol=None):\n",
    "    sns.barplot(data=df, x=xcol, y=ycol, hue=huecol)"
   ]
  },
  {
   "cell_type": "code",
   "execution_count": 7,
   "id": "bd4bc8c9-f4dd-4890-9b60-8537d93a2156",
   "metadata": {
    "tags": []
   },
   "outputs": [],
   "source": [
    "def plotScatter(df, xcol, ycol, huecol=None):\n",
    "    sns.scatterplot(data=df, x=xcol, y=ycol, hue=huecol)"
   ]
  },
  {
   "cell_type": "code",
   "execution_count": 8,
   "id": "f4550038-3daf-4bf7-bc2e-e4cdf3b91491",
   "metadata": {
    "tags": []
   },
   "outputs": [],
   "source": [
    "def plotScatterMatrix(df, huecol=None):\n",
    "    sns.pairplot(data=df, hue=huecol)"
   ]
  },
  {
   "cell_type": "code",
   "execution_count": 9,
   "id": "a4056739-a351-4766-93a3-80ce1a740c55",
   "metadata": {
    "tags": []
   },
   "outputs": [],
   "source": [
    "def plotCorrelationMatrix_1(df, annot=False):\n",
    "    # compute the correlation matrix\n",
    "    corr = df.corr()\n",
    "    \n",
    "    # generate a mask for the upper triangle\n",
    "    mask = np.triu(np.ones_like(corr, dtype=bool))\n",
    "\n",
    "    # set up the matplotlib figure\n",
    "    f, ax = plt.subplots(figsize=(11, 9))\n",
    "\n",
    "    # generate a custom diverging colormap\n",
    "    cmap = sns.diverging_palette(230, 20, as_cmap=True)\n",
    "    #cmap='coolwarm'\n",
    "\n",
    "    # draw the heatmap with the mask and correct aspect ratio\n",
    "    sns.heatmap(corr, mask=mask, cmap=cmap, vmax=.3, center=0, annot=annot,\n",
    "            square=True, linewidths=.5, cbar_kws={\"shrink\": .5})"
   ]
  },
  {
   "cell_type": "code",
   "execution_count": 10,
   "id": "7894801e-d558-43fe-9c72-dbaf99bb5010",
   "metadata": {
    "tags": []
   },
   "outputs": [],
   "source": [
    "def plotCorrelationMatrix_2(df):\n",
    "    # compute a correlation matrix and convert to long-form\n",
    "    corr_mat = df.corr().stack().reset_index(name=\"correlation\")\n",
    "    # draw each cell as a scatter point with varying size and color\n",
    "    g = sns.relplot(\n",
    "        data=corr_mat,\n",
    "        x=\"level_0\", y=\"level_1\", hue=\"correlation\", size=\"correlation\",\n",
    "        palette=\"vlag\", hue_norm=(-1, 1), edgecolor=\".7\",\n",
    "        height=10, sizes=(50, 250), size_norm=(-.2, .8),\n",
    "    )\n",
    "\n",
    "    # tweak the figure to finalize\n",
    "    g.set(xlabel=\"\", ylabel=\"\", aspect=\"equal\")\n",
    "    g.despine(left=True, bottom=True)\n",
    "    g.ax.margins(.02)\n",
    "    for label in g.ax.get_xticklabels():\n",
    "        label.set_rotation(90)\n",
    "    for artist in g.legend.legendHandles:\n",
    "        artist.set_edgecolor(\".7\")"
   ]
  },
  {
   "cell_type": "code",
   "execution_count": 11,
   "id": "9c2103f6-c9ce-47a5-9b49-8c7d799bb8a9",
   "metadata": {
    "tags": []
   },
   "outputs": [],
   "source": [
    "# Some Spark related imports we will use hereafter\n",
    "\n",
    "import sys\n",
    "\n",
    "from pyspark.sql import SparkSession\n",
    "import pyspark.sql.functions as F\n",
    "from pyspark.sql.types import *\n",
    "\n",
    "from pyspark.ml import Pipeline\n",
    "from pyspark.ml.stat import Correlation\n",
    "from pyspark.ml.feature import VectorAssembler, StringIndexer, OneHotEncoder\n",
    "from pyspark.ml.classification import LinearSVC\n",
    "from pyspark.ml.evaluation import BinaryClassificationEvaluator\n",
    "from pyspark.sql.functions import row_number, monotonically_increasing_id,split\n",
    "from pyspark.sql import Window\n"
   ]
  },
  {
   "cell_type": "code",
   "execution_count": 12,
   "id": "cff36834-669b-46cc-96a1-3c536b8846ed",
   "metadata": {
    "tags": []
   },
   "outputs": [],
   "source": [
    "filename = \"train.csv\"\n",
    "df_train = spark.read.csv(filename,header=True, sep=\",\", inferSchema=True)\n"
   ]
  },
  {
   "cell_type": "code",
   "execution_count": 13,
   "id": "aaa937cb-642a-4177-9762-97830fac247f",
   "metadata": {
    "tags": []
   },
   "outputs": [],
   "source": [
    "filename = \"test.csv\"\n",
    "df_teste = spark.read.csv(filename,header=True, sep=\",\", inferSchema=True)"
   ]
  },
  {
   "cell_type": "code",
   "execution_count": 14,
   "id": "81ceaaea-c4f1-4c18-bf83-be8ad67028ab",
   "metadata": {
    "tags": []
   },
   "outputs": [],
   "source": [
    "filename = \"train_labels.csv\"\n",
    "df_train_labs = spark.read.csv(filename,header=True, sep=\",\", inferSchema=True)"
   ]
  },
  {
   "cell_type": "code",
   "execution_count": 15,
   "id": "11fdf2a4-788f-4b10-b8c5-c693cfe19cf2",
   "metadata": {
    "tags": []
   },
   "outputs": [
    {
     "ename": "AttributeError",
     "evalue": "'DataFrame' object has no attribute 'Schema'",
     "output_type": "error",
     "traceback": [
      "\u001b[1;31m---------------------------------------------------------------------------\u001b[0m",
      "\u001b[1;31mAttributeError\u001b[0m                            Traceback (most recent call last)",
      "Cell \u001b[1;32mIn[15], line 1\u001b[0m\n\u001b[1;32m----> 1\u001b[0m \u001b[43mdf_train\u001b[49m\u001b[38;5;241;43m.\u001b[39;49m\u001b[43mSchema\u001b[49m()\n",
      "File \u001b[1;32mC:\\anaconda\\instalation\\lib\\site-packages\\pyspark\\sql\\dataframe.py:1988\u001b[0m, in \u001b[0;36mDataFrame.__getattr__\u001b[1;34m(self, name)\u001b[0m\n\u001b[0;32m   1978\u001b[0m \u001b[38;5;124;03m\"\"\"Returns the :class:`Column` denoted by ``name``.\u001b[39;00m\n\u001b[0;32m   1979\u001b[0m \n\u001b[0;32m   1980\u001b[0m \u001b[38;5;124;03m.. versionadded:: 1.3.0\u001b[39;00m\n\u001b[1;32m   (...)\u001b[0m\n\u001b[0;32m   1985\u001b[0m \u001b[38;5;124;03m[Row(age=2), Row(age=5)]\u001b[39;00m\n\u001b[0;32m   1986\u001b[0m \u001b[38;5;124;03m\"\"\"\u001b[39;00m\n\u001b[0;32m   1987\u001b[0m \u001b[38;5;28;01mif\u001b[39;00m name \u001b[38;5;129;01mnot\u001b[39;00m \u001b[38;5;129;01min\u001b[39;00m \u001b[38;5;28mself\u001b[39m\u001b[38;5;241m.\u001b[39mcolumns:\n\u001b[1;32m-> 1988\u001b[0m     \u001b[38;5;28;01mraise\u001b[39;00m \u001b[38;5;167;01mAttributeError\u001b[39;00m(\n\u001b[0;32m   1989\u001b[0m         \u001b[38;5;124m\"\u001b[39m\u001b[38;5;124m'\u001b[39m\u001b[38;5;132;01m%s\u001b[39;00m\u001b[38;5;124m'\u001b[39m\u001b[38;5;124m object has no attribute \u001b[39m\u001b[38;5;124m'\u001b[39m\u001b[38;5;132;01m%s\u001b[39;00m\u001b[38;5;124m'\u001b[39m\u001b[38;5;124m\"\u001b[39m \u001b[38;5;241m%\u001b[39m (\u001b[38;5;28mself\u001b[39m\u001b[38;5;241m.\u001b[39m\u001b[38;5;18m__class__\u001b[39m\u001b[38;5;241m.\u001b[39m\u001b[38;5;18m__name__\u001b[39m, name)\n\u001b[0;32m   1990\u001b[0m     )\n\u001b[0;32m   1991\u001b[0m jc \u001b[38;5;241m=\u001b[39m \u001b[38;5;28mself\u001b[39m\u001b[38;5;241m.\u001b[39m_jdf\u001b[38;5;241m.\u001b[39mapply(name)\n\u001b[0;32m   1992\u001b[0m \u001b[38;5;28;01mreturn\u001b[39;00m Column(jc)\n",
      "\u001b[1;31mAttributeError\u001b[0m: 'DataFrame' object has no attribute 'Schema'"
     ]
    }
   ],
   "source": [
    "df_train.Schema() ####uaaaaaaaaaaaaiiiiiiiiii plllllaaaaaaaaaanccchhhhhhhhhhhhaaaaaaaaaaa\n"
   ]
  },
  {
   "cell_type": "code",
   "execution_count": 16,
   "id": "e1fcd972-4eb3-4371-bc61-075e7589875b",
   "metadata": {
    "tags": []
   },
   "outputs": [
    {
     "name": "stdout",
     "output_type": "stream",
     "text": [
      "root\n",
      " |-- session_id: long (nullable = true)\n",
      " |-- index: integer (nullable = true)\n",
      " |-- elapsed_time: integer (nullable = true)\n",
      " |-- event_name: string (nullable = true)\n",
      " |-- name: string (nullable = true)\n",
      " |-- level: integer (nullable = true)\n",
      " |-- page: double (nullable = true)\n",
      " |-- room_coor_x: double (nullable = true)\n",
      " |-- room_coor_y: double (nullable = true)\n",
      " |-- screen_coor_x: double (nullable = true)\n",
      " |-- screen_coor_y: double (nullable = true)\n",
      " |-- hover_duration: double (nullable = true)\n",
      " |-- text: string (nullable = true)\n",
      " |-- fqid: string (nullable = true)\n",
      " |-- room_fqid: string (nullable = true)\n",
      " |-- text_fqid: string (nullable = true)\n",
      " |-- fullscreen: integer (nullable = true)\n",
      " |-- hq: integer (nullable = true)\n",
      " |-- music: integer (nullable = true)\n",
      " |-- level_group: string (nullable = true)\n",
      " |-- session_level: integer (nullable = true)\n",
      "\n"
     ]
    }
   ],
   "source": [
    "df_teste.printSchema()"
   ]
  },
  {
   "cell_type": "code",
   "execution_count": 17,
   "id": "8ebd5e18-6126-42b8-aae5-35f99f4df12b",
   "metadata": {},
   "outputs": [],
   "source": [
    "df_teste2 = df_teste.withColumn(\n",
    "    \"id_new\",\n",
    "    row_number().over(Window.orderBy(monotonically_increasing_id()))-1\n",
    ")"
   ]
  },
  {
   "cell_type": "code",
   "execution_count": 32,
   "id": "16834ee1-017e-47d4-a698-35d0da0678c4",
   "metadata": {},
   "outputs": [
    {
     "data": {
      "text/html": [
       "<div>\n",
       "<style scoped>\n",
       "    .dataframe tbody tr th:only-of-type {\n",
       "        vertical-align: middle;\n",
       "    }\n",
       "\n",
       "    .dataframe tbody tr th {\n",
       "        vertical-align: top;\n",
       "    }\n",
       "\n",
       "    .dataframe thead th {\n",
       "        text-align: right;\n",
       "    }\n",
       "</style>\n",
       "<table border=\"1\" class=\"dataframe\">\n",
       "  <thead>\n",
       "    <tr style=\"text-align: right;\">\n",
       "      <th></th>\n",
       "      <th>session_id</th>\n",
       "      <th>index</th>\n",
       "      <th>elapsed_time</th>\n",
       "      <th>event_name</th>\n",
       "      <th>name</th>\n",
       "      <th>level</th>\n",
       "      <th>page</th>\n",
       "      <th>room_coor_x</th>\n",
       "      <th>room_coor_y</th>\n",
       "      <th>screen_coor_x</th>\n",
       "      <th>...</th>\n",
       "      <th>hover_duration</th>\n",
       "      <th>text</th>\n",
       "      <th>fqid</th>\n",
       "      <th>room_fqid</th>\n",
       "      <th>text_fqid</th>\n",
       "      <th>fullscreen</th>\n",
       "      <th>hq</th>\n",
       "      <th>music</th>\n",
       "      <th>level_group</th>\n",
       "      <th>indexkard</th>\n",
       "    </tr>\n",
       "  </thead>\n",
       "  <tbody>\n",
       "    <tr>\n",
       "      <th>0</th>\n",
       "      <td>20090109393214576</td>\n",
       "      <td>0</td>\n",
       "      <td>0</td>\n",
       "      <td>cutscene_click</td>\n",
       "      <td>basic</td>\n",
       "      <td>0</td>\n",
       "      <td>NaN</td>\n",
       "      <td>-413.991405</td>\n",
       "      <td>75.685314</td>\n",
       "      <td>380.0</td>\n",
       "      <td>...</td>\n",
       "      <td>NaN</td>\n",
       "      <td>undefined</td>\n",
       "      <td>intro</td>\n",
       "      <td>tunic.historicalsociety.closet</td>\n",
       "      <td>tunic.historicalsociety.closet.intro</td>\n",
       "      <td>None</td>\n",
       "      <td>None</td>\n",
       "      <td>None</td>\n",
       "      <td>0-4</td>\n",
       "      <td>0</td>\n",
       "    </tr>\n",
       "    <tr>\n",
       "      <th>1</th>\n",
       "      <td>20090109393214576</td>\n",
       "      <td>1</td>\n",
       "      <td>1965</td>\n",
       "      <td>person_click</td>\n",
       "      <td>basic</td>\n",
       "      <td>0</td>\n",
       "      <td>NaN</td>\n",
       "      <td>-105.991405</td>\n",
       "      <td>-63.314686</td>\n",
       "      <td>688.0</td>\n",
       "      <td>...</td>\n",
       "      <td>NaN</td>\n",
       "      <td>Whatcha doing over there, Jo?</td>\n",
       "      <td>gramps</td>\n",
       "      <td>tunic.historicalsociety.closet</td>\n",
       "      <td>tunic.historicalsociety.closet.gramps.intro_0_...</td>\n",
       "      <td>None</td>\n",
       "      <td>None</td>\n",
       "      <td>None</td>\n",
       "      <td>0-4</td>\n",
       "      <td>1</td>\n",
       "    </tr>\n",
       "    <tr>\n",
       "      <th>2</th>\n",
       "      <td>20090109393214576</td>\n",
       "      <td>2</td>\n",
       "      <td>3614</td>\n",
       "      <td>person_click</td>\n",
       "      <td>basic</td>\n",
       "      <td>0</td>\n",
       "      <td>NaN</td>\n",
       "      <td>-418.991405</td>\n",
       "      <td>47.685314</td>\n",
       "      <td>375.0</td>\n",
       "      <td>...</td>\n",
       "      <td>NaN</td>\n",
       "      <td>Just talking to Teddy.</td>\n",
       "      <td>gramps</td>\n",
       "      <td>tunic.historicalsociety.closet</td>\n",
       "      <td>tunic.historicalsociety.closet.gramps.intro_0_...</td>\n",
       "      <td>None</td>\n",
       "      <td>None</td>\n",
       "      <td>None</td>\n",
       "      <td>0-4</td>\n",
       "      <td>2</td>\n",
       "    </tr>\n",
       "    <tr>\n",
       "      <th>3</th>\n",
       "      <td>20090109393214576</td>\n",
       "      <td>3</td>\n",
       "      <td>5330</td>\n",
       "      <td>person_click</td>\n",
       "      <td>basic</td>\n",
       "      <td>0</td>\n",
       "      <td>NaN</td>\n",
       "      <td>-110.991405</td>\n",
       "      <td>-57.314686</td>\n",
       "      <td>683.0</td>\n",
       "      <td>...</td>\n",
       "      <td>NaN</td>\n",
       "      <td>I gotta run to my meeting!</td>\n",
       "      <td>gramps</td>\n",
       "      <td>tunic.historicalsociety.closet</td>\n",
       "      <td>tunic.historicalsociety.closet.gramps.intro_0_...</td>\n",
       "      <td>None</td>\n",
       "      <td>None</td>\n",
       "      <td>None</td>\n",
       "      <td>0-4</td>\n",
       "      <td>3</td>\n",
       "    </tr>\n",
       "    <tr>\n",
       "      <th>4</th>\n",
       "      <td>20090109393214576</td>\n",
       "      <td>4</td>\n",
       "      <td>6397</td>\n",
       "      <td>person_click</td>\n",
       "      <td>basic</td>\n",
       "      <td>0</td>\n",
       "      <td>NaN</td>\n",
       "      <td>-110.991405</td>\n",
       "      <td>-57.314686</td>\n",
       "      <td>683.0</td>\n",
       "      <td>...</td>\n",
       "      <td>NaN</td>\n",
       "      <td>Can I come, Gramps?</td>\n",
       "      <td>gramps</td>\n",
       "      <td>tunic.historicalsociety.closet</td>\n",
       "      <td>tunic.historicalsociety.closet.gramps.intro_0_...</td>\n",
       "      <td>None</td>\n",
       "      <td>None</td>\n",
       "      <td>None</td>\n",
       "      <td>0-4</td>\n",
       "      <td>4</td>\n",
       "    </tr>\n",
       "    <tr>\n",
       "      <th>...</th>\n",
       "      <td>...</td>\n",
       "      <td>...</td>\n",
       "      <td>...</td>\n",
       "      <td>...</td>\n",
       "      <td>...</td>\n",
       "      <td>...</td>\n",
       "      <td>...</td>\n",
       "      <td>...</td>\n",
       "      <td>...</td>\n",
       "      <td>...</td>\n",
       "      <td>...</td>\n",
       "      <td>...</td>\n",
       "      <td>...</td>\n",
       "      <td>...</td>\n",
       "      <td>...</td>\n",
       "      <td>...</td>\n",
       "      <td>...</td>\n",
       "      <td>...</td>\n",
       "      <td>...</td>\n",
       "      <td>...</td>\n",
       "      <td>...</td>\n",
       "    </tr>\n",
       "    <tr>\n",
       "      <th>3723</th>\n",
       "      <td>20090312331414616</td>\n",
       "      <td>1001</td>\n",
       "      <td>1581679</td>\n",
       "      <td>map_hover</td>\n",
       "      <td>basic</td>\n",
       "      <td>22</td>\n",
       "      <td>NaN</td>\n",
       "      <td>NaN</td>\n",
       "      <td>NaN</td>\n",
       "      <td>NaN</td>\n",
       "      <td>...</td>\n",
       "      <td>484.0</td>\n",
       "      <td>None</td>\n",
       "      <td>tunic.wildlife</td>\n",
       "      <td>tunic.historicalsociety.entry</td>\n",
       "      <td>None</td>\n",
       "      <td>None</td>\n",
       "      <td>None</td>\n",
       "      <td>None</td>\n",
       "      <td>13-22</td>\n",
       "      <td>3723</td>\n",
       "    </tr>\n",
       "    <tr>\n",
       "      <th>3724</th>\n",
       "      <td>20090312331414616</td>\n",
       "      <td>1002</td>\n",
       "      <td>1583044</td>\n",
       "      <td>map_hover</td>\n",
       "      <td>basic</td>\n",
       "      <td>22</td>\n",
       "      <td>NaN</td>\n",
       "      <td>NaN</td>\n",
       "      <td>NaN</td>\n",
       "      <td>NaN</td>\n",
       "      <td>...</td>\n",
       "      <td>783.0</td>\n",
       "      <td>None</td>\n",
       "      <td>tunic.capitol_2</td>\n",
       "      <td>tunic.historicalsociety.entry</td>\n",
       "      <td>None</td>\n",
       "      <td>None</td>\n",
       "      <td>None</td>\n",
       "      <td>None</td>\n",
       "      <td>13-22</td>\n",
       "      <td>3724</td>\n",
       "    </tr>\n",
       "    <tr>\n",
       "      <th>3725</th>\n",
       "      <td>20090312331414616</td>\n",
       "      <td>1003</td>\n",
       "      <td>1583410</td>\n",
       "      <td>map_click</td>\n",
       "      <td>undefined</td>\n",
       "      <td>22</td>\n",
       "      <td>NaN</td>\n",
       "      <td>483.726363</td>\n",
       "      <td>-3.880047</td>\n",
       "      <td>456.0</td>\n",
       "      <td>...</td>\n",
       "      <td>NaN</td>\n",
       "      <td>None</td>\n",
       "      <td>tunic.capitol_2</td>\n",
       "      <td>tunic.historicalsociety.entry</td>\n",
       "      <td>None</td>\n",
       "      <td>None</td>\n",
       "      <td>None</td>\n",
       "      <td>None</td>\n",
       "      <td>13-22</td>\n",
       "      <td>3725</td>\n",
       "    </tr>\n",
       "    <tr>\n",
       "      <th>3726</th>\n",
       "      <td>20090312331414616</td>\n",
       "      <td>1004</td>\n",
       "      <td>1585841</td>\n",
       "      <td>navigate_click</td>\n",
       "      <td>undefined</td>\n",
       "      <td>22</td>\n",
       "      <td>NaN</td>\n",
       "      <td>192.372139</td>\n",
       "      <td>38.216178</td>\n",
       "      <td>383.0</td>\n",
       "      <td>...</td>\n",
       "      <td>NaN</td>\n",
       "      <td>None</td>\n",
       "      <td>chap4_finale_c</td>\n",
       "      <td>tunic.capitol_2.hall</td>\n",
       "      <td>None</td>\n",
       "      <td>None</td>\n",
       "      <td>None</td>\n",
       "      <td>None</td>\n",
       "      <td>13-22</td>\n",
       "      <td>3726</td>\n",
       "    </tr>\n",
       "    <tr>\n",
       "      <th>3727</th>\n",
       "      <td>20090312331414616</td>\n",
       "      <td>1005</td>\n",
       "      <td>1587810</td>\n",
       "      <td>checkpoint</td>\n",
       "      <td>basic</td>\n",
       "      <td>22</td>\n",
       "      <td>NaN</td>\n",
       "      <td>NaN</td>\n",
       "      <td>NaN</td>\n",
       "      <td>NaN</td>\n",
       "      <td>...</td>\n",
       "      <td>NaN</td>\n",
       "      <td>None</td>\n",
       "      <td>chap4_finale_c</td>\n",
       "      <td>tunic.capitol_2.hall</td>\n",
       "      <td>None</td>\n",
       "      <td>None</td>\n",
       "      <td>None</td>\n",
       "      <td>None</td>\n",
       "      <td>13-22</td>\n",
       "      <td>3727</td>\n",
       "    </tr>\n",
       "  </tbody>\n",
       "</table>\n",
       "<p>3728 rows × 21 columns</p>\n",
       "</div>"
      ],
      "text/plain": [
       "             session_id  index  elapsed_time      event_name       name  \\\n",
       "0     20090109393214576      0             0  cutscene_click      basic   \n",
       "1     20090109393214576      1          1965    person_click      basic   \n",
       "2     20090109393214576      2          3614    person_click      basic   \n",
       "3     20090109393214576      3          5330    person_click      basic   \n",
       "4     20090109393214576      4          6397    person_click      basic   \n",
       "...                 ...    ...           ...             ...        ...   \n",
       "3723  20090312331414616   1001       1581679       map_hover      basic   \n",
       "3724  20090312331414616   1002       1583044       map_hover      basic   \n",
       "3725  20090312331414616   1003       1583410       map_click  undefined   \n",
       "3726  20090312331414616   1004       1585841  navigate_click  undefined   \n",
       "3727  20090312331414616   1005       1587810      checkpoint      basic   \n",
       "\n",
       "      level  page  room_coor_x  room_coor_y  screen_coor_x  ...  \\\n",
       "0         0   NaN  -413.991405    75.685314          380.0  ...   \n",
       "1         0   NaN  -105.991405   -63.314686          688.0  ...   \n",
       "2         0   NaN  -418.991405    47.685314          375.0  ...   \n",
       "3         0   NaN  -110.991405   -57.314686          683.0  ...   \n",
       "4         0   NaN  -110.991405   -57.314686          683.0  ...   \n",
       "...     ...   ...          ...          ...            ...  ...   \n",
       "3723     22   NaN          NaN          NaN            NaN  ...   \n",
       "3724     22   NaN          NaN          NaN            NaN  ...   \n",
       "3725     22   NaN   483.726363    -3.880047          456.0  ...   \n",
       "3726     22   NaN   192.372139    38.216178          383.0  ...   \n",
       "3727     22   NaN          NaN          NaN            NaN  ...   \n",
       "\n",
       "      hover_duration                           text             fqid  \\\n",
       "0                NaN                      undefined            intro   \n",
       "1                NaN  Whatcha doing over there, Jo?           gramps   \n",
       "2                NaN         Just talking to Teddy.           gramps   \n",
       "3                NaN     I gotta run to my meeting!           gramps   \n",
       "4                NaN            Can I come, Gramps?           gramps   \n",
       "...              ...                            ...              ...   \n",
       "3723           484.0                           None   tunic.wildlife   \n",
       "3724           783.0                           None  tunic.capitol_2   \n",
       "3725             NaN                           None  tunic.capitol_2   \n",
       "3726             NaN                           None   chap4_finale_c   \n",
       "3727             NaN                           None   chap4_finale_c   \n",
       "\n",
       "                           room_fqid  \\\n",
       "0     tunic.historicalsociety.closet   \n",
       "1     tunic.historicalsociety.closet   \n",
       "2     tunic.historicalsociety.closet   \n",
       "3     tunic.historicalsociety.closet   \n",
       "4     tunic.historicalsociety.closet   \n",
       "...                              ...   \n",
       "3723   tunic.historicalsociety.entry   \n",
       "3724   tunic.historicalsociety.entry   \n",
       "3725   tunic.historicalsociety.entry   \n",
       "3726            tunic.capitol_2.hall   \n",
       "3727            tunic.capitol_2.hall   \n",
       "\n",
       "                                              text_fqid fullscreen    hq  \\\n",
       "0                  tunic.historicalsociety.closet.intro       None  None   \n",
       "1     tunic.historicalsociety.closet.gramps.intro_0_...       None  None   \n",
       "2     tunic.historicalsociety.closet.gramps.intro_0_...       None  None   \n",
       "3     tunic.historicalsociety.closet.gramps.intro_0_...       None  None   \n",
       "4     tunic.historicalsociety.closet.gramps.intro_0_...       None  None   \n",
       "...                                                 ...        ...   ...   \n",
       "3723                                               None       None  None   \n",
       "3724                                               None       None  None   \n",
       "3725                                               None       None  None   \n",
       "3726                                               None       None  None   \n",
       "3727                                               None       None  None   \n",
       "\n",
       "     music level_group indexkard  \n",
       "0     None         0-4         0  \n",
       "1     None         0-4         1  \n",
       "2     None         0-4         2  \n",
       "3     None         0-4         3  \n",
       "4     None         0-4         4  \n",
       "...    ...         ...       ...  \n",
       "3723  None       13-22      3723  \n",
       "3724  None       13-22      3724  \n",
       "3725  None       13-22      3725  \n",
       "3726  None       13-22      3726  \n",
       "3727  None       13-22      3727  \n",
       "\n",
       "[3728 rows x 21 columns]"
      ]
     },
     "execution_count": 32,
     "metadata": {},
     "output_type": "execute_result"
    }
   ],
   "source": [
    "df_teste2.toPandas()"
   ]
  },
  {
   "cell_type": "code",
   "execution_count": 22,
   "id": "12050871-b88b-452d-9130-c5a8efc81390",
   "metadata": {
    "tags": []
   },
   "outputs": [
    {
     "ename": "NameError",
     "evalue": "name 'List' is not defined",
     "output_type": "error",
     "traceback": [
      "\u001b[1;31m---------------------------------------------------------------------------\u001b[0m",
      "\u001b[1;31mNameError\u001b[0m                                 Traceback (most recent call last)",
      "Cell \u001b[1;32mIn[22], line 2\u001b[0m\n\u001b[0;32m      1\u001b[0m df_teste\u001b[38;5;241m.\u001b[39mschema\n\u001b[1;32m----> 2\u001b[0m StructType(\u001b[43mList\u001b[49m(StructField(session_id,long,true),StructField(index,integer,true)))\n",
      "\u001b[1;31mNameError\u001b[0m: name 'List' is not defined"
     ]
    }
   ],
   "source": [
    "df_teste.schema\n",
    "StructType(List(StructField(session_id,long,true),StructField(index,integer,true)))"
   ]
  },
  {
   "cell_type": "code",
   "execution_count": 16,
   "id": "28385a37-654f-4703-97a8-c6c944c47a4e",
   "metadata": {},
   "outputs": [
    {
     "data": {
      "text/html": [
       "<div>\n",
       "<style scoped>\n",
       "    .dataframe tbody tr th:only-of-type {\n",
       "        vertical-align: middle;\n",
       "    }\n",
       "\n",
       "    .dataframe tbody tr th {\n",
       "        vertical-align: top;\n",
       "    }\n",
       "\n",
       "    .dataframe thead th {\n",
       "        text-align: right;\n",
       "    }\n",
       "</style>\n",
       "<table border=\"1\" class=\"dataframe\">\n",
       "  <thead>\n",
       "    <tr style=\"text-align: right;\">\n",
       "      <th></th>\n",
       "      <th>session_id</th>\n",
       "      <th>index</th>\n",
       "      <th>elapsed_time</th>\n",
       "      <th>event_name</th>\n",
       "      <th>name</th>\n",
       "      <th>level</th>\n",
       "      <th>page</th>\n",
       "      <th>room_coor_x</th>\n",
       "      <th>room_coor_y</th>\n",
       "      <th>screen_coor_x</th>\n",
       "      <th>...</th>\n",
       "      <th>hover_duration</th>\n",
       "      <th>text</th>\n",
       "      <th>fqid</th>\n",
       "      <th>room_fqid</th>\n",
       "      <th>text_fqid</th>\n",
       "      <th>fullscreen</th>\n",
       "      <th>hq</th>\n",
       "      <th>music</th>\n",
       "      <th>level_group</th>\n",
       "      <th>session_level</th>\n",
       "    </tr>\n",
       "  </thead>\n",
       "  <tbody>\n",
       "    <tr>\n",
       "      <th>0</th>\n",
       "      <td>20090109393214576</td>\n",
       "      <td>0</td>\n",
       "      <td>0</td>\n",
       "      <td>cutscene_click</td>\n",
       "      <td>basic</td>\n",
       "      <td>0</td>\n",
       "      <td>NaN</td>\n",
       "      <td>-413.991405</td>\n",
       "      <td>75.685314</td>\n",
       "      <td>380.0</td>\n",
       "      <td>...</td>\n",
       "      <td>NaN</td>\n",
       "      <td>undefined</td>\n",
       "      <td>intro</td>\n",
       "      <td>tunic.historicalsociety.closet</td>\n",
       "      <td>tunic.historicalsociety.closet.intro</td>\n",
       "      <td>None</td>\n",
       "      <td>None</td>\n",
       "      <td>None</td>\n",
       "      <td>0-4</td>\n",
       "      <td>20090109393214576_0-4</td>\n",
       "    </tr>\n",
       "    <tr>\n",
       "      <th>1</th>\n",
       "      <td>20090109393214576</td>\n",
       "      <td>1</td>\n",
       "      <td>1965</td>\n",
       "      <td>person_click</td>\n",
       "      <td>basic</td>\n",
       "      <td>0</td>\n",
       "      <td>NaN</td>\n",
       "      <td>-105.991405</td>\n",
       "      <td>-63.314686</td>\n",
       "      <td>688.0</td>\n",
       "      <td>...</td>\n",
       "      <td>NaN</td>\n",
       "      <td>Whatcha doing over there, Jo?</td>\n",
       "      <td>gramps</td>\n",
       "      <td>tunic.historicalsociety.closet</td>\n",
       "      <td>tunic.historicalsociety.closet.gramps.intro_0_...</td>\n",
       "      <td>None</td>\n",
       "      <td>None</td>\n",
       "      <td>None</td>\n",
       "      <td>0-4</td>\n",
       "      <td>20090109393214576_0-4</td>\n",
       "    </tr>\n",
       "    <tr>\n",
       "      <th>2</th>\n",
       "      <td>20090109393214576</td>\n",
       "      <td>2</td>\n",
       "      <td>3614</td>\n",
       "      <td>person_click</td>\n",
       "      <td>basic</td>\n",
       "      <td>0</td>\n",
       "      <td>NaN</td>\n",
       "      <td>-418.991405</td>\n",
       "      <td>47.685314</td>\n",
       "      <td>375.0</td>\n",
       "      <td>...</td>\n",
       "      <td>NaN</td>\n",
       "      <td>Just talking to Teddy.</td>\n",
       "      <td>gramps</td>\n",
       "      <td>tunic.historicalsociety.closet</td>\n",
       "      <td>tunic.historicalsociety.closet.gramps.intro_0_...</td>\n",
       "      <td>None</td>\n",
       "      <td>None</td>\n",
       "      <td>None</td>\n",
       "      <td>0-4</td>\n",
       "      <td>20090109393214576_0-4</td>\n",
       "    </tr>\n",
       "    <tr>\n",
       "      <th>3</th>\n",
       "      <td>20090109393214576</td>\n",
       "      <td>3</td>\n",
       "      <td>5330</td>\n",
       "      <td>person_click</td>\n",
       "      <td>basic</td>\n",
       "      <td>0</td>\n",
       "      <td>NaN</td>\n",
       "      <td>-110.991405</td>\n",
       "      <td>-57.314686</td>\n",
       "      <td>683.0</td>\n",
       "      <td>...</td>\n",
       "      <td>NaN</td>\n",
       "      <td>I gotta run to my meeting!</td>\n",
       "      <td>gramps</td>\n",
       "      <td>tunic.historicalsociety.closet</td>\n",
       "      <td>tunic.historicalsociety.closet.gramps.intro_0_...</td>\n",
       "      <td>None</td>\n",
       "      <td>None</td>\n",
       "      <td>None</td>\n",
       "      <td>0-4</td>\n",
       "      <td>20090109393214576_0-4</td>\n",
       "    </tr>\n",
       "    <tr>\n",
       "      <th>4</th>\n",
       "      <td>20090109393214576</td>\n",
       "      <td>4</td>\n",
       "      <td>6397</td>\n",
       "      <td>person_click</td>\n",
       "      <td>basic</td>\n",
       "      <td>0</td>\n",
       "      <td>NaN</td>\n",
       "      <td>-110.991405</td>\n",
       "      <td>-57.314686</td>\n",
       "      <td>683.0</td>\n",
       "      <td>...</td>\n",
       "      <td>NaN</td>\n",
       "      <td>Can I come, Gramps?</td>\n",
       "      <td>gramps</td>\n",
       "      <td>tunic.historicalsociety.closet</td>\n",
       "      <td>tunic.historicalsociety.closet.gramps.intro_0_...</td>\n",
       "      <td>None</td>\n",
       "      <td>None</td>\n",
       "      <td>None</td>\n",
       "      <td>0-4</td>\n",
       "      <td>20090109393214576_0-4</td>\n",
       "    </tr>\n",
       "    <tr>\n",
       "      <th>...</th>\n",
       "      <td>...</td>\n",
       "      <td>...</td>\n",
       "      <td>...</td>\n",
       "      <td>...</td>\n",
       "      <td>...</td>\n",
       "      <td>...</td>\n",
       "      <td>...</td>\n",
       "      <td>...</td>\n",
       "      <td>...</td>\n",
       "      <td>...</td>\n",
       "      <td>...</td>\n",
       "      <td>...</td>\n",
       "      <td>...</td>\n",
       "      <td>...</td>\n",
       "      <td>...</td>\n",
       "      <td>...</td>\n",
       "      <td>...</td>\n",
       "      <td>...</td>\n",
       "      <td>...</td>\n",
       "      <td>...</td>\n",
       "      <td>...</td>\n",
       "    </tr>\n",
       "    <tr>\n",
       "      <th>3723</th>\n",
       "      <td>20090312331414616</td>\n",
       "      <td>1001</td>\n",
       "      <td>1581679</td>\n",
       "      <td>map_hover</td>\n",
       "      <td>basic</td>\n",
       "      <td>22</td>\n",
       "      <td>NaN</td>\n",
       "      <td>NaN</td>\n",
       "      <td>NaN</td>\n",
       "      <td>NaN</td>\n",
       "      <td>...</td>\n",
       "      <td>484.0</td>\n",
       "      <td>None</td>\n",
       "      <td>tunic.wildlife</td>\n",
       "      <td>tunic.historicalsociety.entry</td>\n",
       "      <td>None</td>\n",
       "      <td>None</td>\n",
       "      <td>None</td>\n",
       "      <td>None</td>\n",
       "      <td>13-22</td>\n",
       "      <td>20090312331414616_13-22</td>\n",
       "    </tr>\n",
       "    <tr>\n",
       "      <th>3724</th>\n",
       "      <td>20090312331414616</td>\n",
       "      <td>1002</td>\n",
       "      <td>1583044</td>\n",
       "      <td>map_hover</td>\n",
       "      <td>basic</td>\n",
       "      <td>22</td>\n",
       "      <td>NaN</td>\n",
       "      <td>NaN</td>\n",
       "      <td>NaN</td>\n",
       "      <td>NaN</td>\n",
       "      <td>...</td>\n",
       "      <td>783.0</td>\n",
       "      <td>None</td>\n",
       "      <td>tunic.capitol_2</td>\n",
       "      <td>tunic.historicalsociety.entry</td>\n",
       "      <td>None</td>\n",
       "      <td>None</td>\n",
       "      <td>None</td>\n",
       "      <td>None</td>\n",
       "      <td>13-22</td>\n",
       "      <td>20090312331414616_13-22</td>\n",
       "    </tr>\n",
       "    <tr>\n",
       "      <th>3725</th>\n",
       "      <td>20090312331414616</td>\n",
       "      <td>1003</td>\n",
       "      <td>1583410</td>\n",
       "      <td>map_click</td>\n",
       "      <td>undefined</td>\n",
       "      <td>22</td>\n",
       "      <td>NaN</td>\n",
       "      <td>483.726363</td>\n",
       "      <td>-3.880047</td>\n",
       "      <td>456.0</td>\n",
       "      <td>...</td>\n",
       "      <td>NaN</td>\n",
       "      <td>None</td>\n",
       "      <td>tunic.capitol_2</td>\n",
       "      <td>tunic.historicalsociety.entry</td>\n",
       "      <td>None</td>\n",
       "      <td>None</td>\n",
       "      <td>None</td>\n",
       "      <td>None</td>\n",
       "      <td>13-22</td>\n",
       "      <td>20090312331414616_13-22</td>\n",
       "    </tr>\n",
       "    <tr>\n",
       "      <th>3726</th>\n",
       "      <td>20090312331414616</td>\n",
       "      <td>1004</td>\n",
       "      <td>1585841</td>\n",
       "      <td>navigate_click</td>\n",
       "      <td>undefined</td>\n",
       "      <td>22</td>\n",
       "      <td>NaN</td>\n",
       "      <td>192.372139</td>\n",
       "      <td>38.216178</td>\n",
       "      <td>383.0</td>\n",
       "      <td>...</td>\n",
       "      <td>NaN</td>\n",
       "      <td>None</td>\n",
       "      <td>chap4_finale_c</td>\n",
       "      <td>tunic.capitol_2.hall</td>\n",
       "      <td>None</td>\n",
       "      <td>None</td>\n",
       "      <td>None</td>\n",
       "      <td>None</td>\n",
       "      <td>13-22</td>\n",
       "      <td>20090312331414616_13-22</td>\n",
       "    </tr>\n",
       "    <tr>\n",
       "      <th>3727</th>\n",
       "      <td>20090312331414616</td>\n",
       "      <td>1005</td>\n",
       "      <td>1587810</td>\n",
       "      <td>checkpoint</td>\n",
       "      <td>basic</td>\n",
       "      <td>22</td>\n",
       "      <td>NaN</td>\n",
       "      <td>NaN</td>\n",
       "      <td>NaN</td>\n",
       "      <td>NaN</td>\n",
       "      <td>...</td>\n",
       "      <td>NaN</td>\n",
       "      <td>None</td>\n",
       "      <td>chap4_finale_c</td>\n",
       "      <td>tunic.capitol_2.hall</td>\n",
       "      <td>None</td>\n",
       "      <td>None</td>\n",
       "      <td>None</td>\n",
       "      <td>None</td>\n",
       "      <td>13-22</td>\n",
       "      <td>20090312331414616_13-22</td>\n",
       "    </tr>\n",
       "  </tbody>\n",
       "</table>\n",
       "<p>3728 rows × 21 columns</p>\n",
       "</div>"
      ],
      "text/plain": [
       "             session_id  index  elapsed_time      event_name       name  \\\n",
       "0     20090109393214576      0             0  cutscene_click      basic   \n",
       "1     20090109393214576      1          1965    person_click      basic   \n",
       "2     20090109393214576      2          3614    person_click      basic   \n",
       "3     20090109393214576      3          5330    person_click      basic   \n",
       "4     20090109393214576      4          6397    person_click      basic   \n",
       "...                 ...    ...           ...             ...        ...   \n",
       "3723  20090312331414616   1001       1581679       map_hover      basic   \n",
       "3724  20090312331414616   1002       1583044       map_hover      basic   \n",
       "3725  20090312331414616   1003       1583410       map_click  undefined   \n",
       "3726  20090312331414616   1004       1585841  navigate_click  undefined   \n",
       "3727  20090312331414616   1005       1587810      checkpoint      basic   \n",
       "\n",
       "      level  page  room_coor_x  room_coor_y  screen_coor_x  ...  \\\n",
       "0         0   NaN  -413.991405    75.685314          380.0  ...   \n",
       "1         0   NaN  -105.991405   -63.314686          688.0  ...   \n",
       "2         0   NaN  -418.991405    47.685314          375.0  ...   \n",
       "3         0   NaN  -110.991405   -57.314686          683.0  ...   \n",
       "4         0   NaN  -110.991405   -57.314686          683.0  ...   \n",
       "...     ...   ...          ...          ...            ...  ...   \n",
       "3723     22   NaN          NaN          NaN            NaN  ...   \n",
       "3724     22   NaN          NaN          NaN            NaN  ...   \n",
       "3725     22   NaN   483.726363    -3.880047          456.0  ...   \n",
       "3726     22   NaN   192.372139    38.216178          383.0  ...   \n",
       "3727     22   NaN          NaN          NaN            NaN  ...   \n",
       "\n",
       "      hover_duration                           text             fqid  \\\n",
       "0                NaN                      undefined            intro   \n",
       "1                NaN  Whatcha doing over there, Jo?           gramps   \n",
       "2                NaN         Just talking to Teddy.           gramps   \n",
       "3                NaN     I gotta run to my meeting!           gramps   \n",
       "4                NaN            Can I come, Gramps?           gramps   \n",
       "...              ...                            ...              ...   \n",
       "3723           484.0                           None   tunic.wildlife   \n",
       "3724           783.0                           None  tunic.capitol_2   \n",
       "3725             NaN                           None  tunic.capitol_2   \n",
       "3726             NaN                           None   chap4_finale_c   \n",
       "3727             NaN                           None   chap4_finale_c   \n",
       "\n",
       "                           room_fqid  \\\n",
       "0     tunic.historicalsociety.closet   \n",
       "1     tunic.historicalsociety.closet   \n",
       "2     tunic.historicalsociety.closet   \n",
       "3     tunic.historicalsociety.closet   \n",
       "4     tunic.historicalsociety.closet   \n",
       "...                              ...   \n",
       "3723   tunic.historicalsociety.entry   \n",
       "3724   tunic.historicalsociety.entry   \n",
       "3725   tunic.historicalsociety.entry   \n",
       "3726            tunic.capitol_2.hall   \n",
       "3727            tunic.capitol_2.hall   \n",
       "\n",
       "                                              text_fqid fullscreen    hq  \\\n",
       "0                  tunic.historicalsociety.closet.intro       None  None   \n",
       "1     tunic.historicalsociety.closet.gramps.intro_0_...       None  None   \n",
       "2     tunic.historicalsociety.closet.gramps.intro_0_...       None  None   \n",
       "3     tunic.historicalsociety.closet.gramps.intro_0_...       None  None   \n",
       "4     tunic.historicalsociety.closet.gramps.intro_0_...       None  None   \n",
       "...                                                 ...        ...   ...   \n",
       "3723                                               None       None  None   \n",
       "3724                                               None       None  None   \n",
       "3725                                               None       None  None   \n",
       "3726                                               None       None  None   \n",
       "3727                                               None       None  None   \n",
       "\n",
       "     music level_group            session_level  \n",
       "0     None         0-4    20090109393214576_0-4  \n",
       "1     None         0-4    20090109393214576_0-4  \n",
       "2     None         0-4    20090109393214576_0-4  \n",
       "3     None         0-4    20090109393214576_0-4  \n",
       "4     None         0-4    20090109393214576_0-4  \n",
       "...    ...         ...                      ...  \n",
       "3723  None       13-22  20090312331414616_13-22  \n",
       "3724  None       13-22  20090312331414616_13-22  \n",
       "3725  None       13-22  20090312331414616_13-22  \n",
       "3726  None       13-22  20090312331414616_13-22  \n",
       "3727  None       13-22  20090312331414616_13-22  \n",
       "\n",
       "[3728 rows x 21 columns]"
      ]
     },
     "execution_count": 16,
     "metadata": {},
     "output_type": "execute_result"
    }
   ],
   "source": [
    "df_teste.select(\"*\").toPandas()"
   ]
  },
  {
   "cell_type": "code",
   "execution_count": 19,
   "id": "03adf801-42bb-4fa5-9167-cf1562f474f0",
   "metadata": {
    "tags": []
   },
   "outputs": [
    {
     "name": "stdout",
     "output_type": "stream",
     "text": [
      "root\n",
      " |-- session_id: long (nullable = true)\n",
      " |-- index: integer (nullable = true)\n",
      " |-- elapsed_time: integer (nullable = true)\n",
      " |-- event_name: string (nullable = true)\n",
      " |-- name: string (nullable = true)\n",
      " |-- level: integer (nullable = true)\n",
      " |-- page: double (nullable = true)\n",
      " |-- room_coor_x: double (nullable = true)\n",
      " |-- room_coor_y: double (nullable = true)\n",
      " |-- screen_coor_x: double (nullable = true)\n",
      " |-- screen_coor_y: double (nullable = true)\n",
      " |-- hover_duration: double (nullable = true)\n",
      " |-- text: string (nullable = true)\n",
      " |-- fqid: string (nullable = true)\n",
      " |-- room_fqid: string (nullable = true)\n",
      " |-- text_fqid: string (nullable = true)\n",
      " |-- fullscreen: integer (nullable = true)\n",
      " |-- hq: integer (nullable = true)\n",
      " |-- music: integer (nullable = true)\n",
      " |-- level_group: string (nullable = true)\n",
      "\n"
     ]
    }
   ],
   "source": [
    "df_train.printSchema()"
   ]
  },
  {
   "cell_type": "code",
   "execution_count": 20,
   "id": "8d4816d2-b81a-43c2-80da-0295526877c5",
   "metadata": {
    "tags": []
   },
   "outputs": [],
   "source": [
    "df_teste = df_teste.drop('session_level')"
   ]
  },
  {
   "cell_type": "code",
   "execution_count": 21,
   "id": "7f848ce6-8d6f-4c7f-9e8a-0350436a0439",
   "metadata": {
    "tags": []
   },
   "outputs": [
    {
     "name": "stdout",
     "output_type": "stream",
     "text": [
      "root\n",
      " |-- session_id: long (nullable = true)\n",
      " |-- index: integer (nullable = true)\n",
      " |-- elapsed_time: integer (nullable = true)\n",
      " |-- event_name: string (nullable = true)\n",
      " |-- name: string (nullable = true)\n",
      " |-- level: integer (nullable = true)\n",
      " |-- page: double (nullable = true)\n",
      " |-- room_coor_x: double (nullable = true)\n",
      " |-- room_coor_y: double (nullable = true)\n",
      " |-- screen_coor_x: double (nullable = true)\n",
      " |-- screen_coor_y: double (nullable = true)\n",
      " |-- hover_duration: double (nullable = true)\n",
      " |-- text: string (nullable = true)\n",
      " |-- fqid: string (nullable = true)\n",
      " |-- room_fqid: string (nullable = true)\n",
      " |-- text_fqid: string (nullable = true)\n",
      " |-- fullscreen: integer (nullable = true)\n",
      " |-- hq: integer (nullable = true)\n",
      " |-- music: integer (nullable = true)\n",
      " |-- level_group: string (nullable = true)\n",
      "\n"
     ]
    }
   ],
   "source": [
    "df_teste.printSchema()"
   ]
  },
  {
   "cell_type": "code",
   "execution_count": 22,
   "id": "403ad396-f7d2-457a-96e0-4b82a7903733",
   "metadata": {
    "tags": []
   },
   "outputs": [],
   "source": [
    "df_todo = df_train.union(df_teste)\n"
   ]
  },
  {
   "cell_type": "code",
   "execution_count": 23,
   "id": "ed8f4877-47a5-4511-a5f8-6fec703a05a9",
   "metadata": {},
   "outputs": [],
   "source": [
    "df_todo = df_todo.withColumn(\n",
    "    \"id_new\",\n",
    "    row_number().over(Window.orderBy(monotonically_increasing_id()))-1\n",
    ")"
   ]
  },
  {
   "cell_type": "code",
   "execution_count": 24,
   "id": "725d8647-0e6c-4033-8d39-c96cfffc5e58",
   "metadata": {},
   "outputs": [],
   "source": [
    "df_train_labs = df_train_labs.select(split(\"session_id\", '_',-1).getItem(0).alias('session_id'),split(\"session_id\", '_',-1).getItem(1).alias('question'),'correct')"
   ]
  },
  {
   "cell_type": "code",
   "execution_count": 25,
   "id": "3f62132b-beee-4edc-a498-d21ed23c126f",
   "metadata": {},
   "outputs": [],
   "source": [
    "df_train_labs = df_train_labs.withColumn(\"session_id\",df_train_labs[\"session_id\"].cast('float'))"
   ]
  },
  {
   "cell_type": "code",
   "execution_count": 26,
   "id": "d83778a0-c552-4563-ba7e-2f3f985667d8",
   "metadata": {},
   "outputs": [
    {
     "name": "stdout",
     "output_type": "stream",
     "text": [
      "root\n",
      " |-- session_id: float (nullable = true)\n",
      " |-- question: string (nullable = true)\n",
      " |-- correct: integer (nullable = true)\n",
      "\n"
     ]
    }
   ],
   "source": [
    "df_train_labs.printSchema()"
   ]
  },
  {
   "cell_type": "code",
   "execution_count": 34,
   "id": "317a9725-7c81-450c-96d2-e1d79d95b322",
   "metadata": {},
   "outputs": [
    {
     "ename": "Py4JJavaError",
     "evalue": "An error occurred while calling o140.parquet.\n: java.lang.RuntimeException: java.io.FileNotFoundException: java.io.FileNotFoundException: HADOOP_HOME and hadoop.home.dir are unset. -see https://wiki.apache.org/hadoop/WindowsProblems\r\n\tat org.apache.hadoop.util.Shell.getWinUtilsPath(Shell.java:735)\r\n\tat org.apache.hadoop.util.Shell.getSetPermissionCommand(Shell.java:270)\r\n\tat org.apache.hadoop.util.Shell.getSetPermissionCommand(Shell.java:286)\r\n\tat org.apache.hadoop.fs.RawLocalFileSystem.setPermission(RawLocalFileSystem.java:978)\r\n\tat org.apache.hadoop.fs.RawLocalFileSystem.mkOneDirWithMode(RawLocalFileSystem.java:660)\r\n\tat org.apache.hadoop.fs.RawLocalFileSystem.mkdirsWithOptionalPermission(RawLocalFileSystem.java:700)\r\n\tat org.apache.hadoop.fs.RawLocalFileSystem.mkdirs(RawLocalFileSystem.java:672)\r\n\tat org.apache.hadoop.fs.RawLocalFileSystem.mkdirsWithOptionalPermission(RawLocalFileSystem.java:699)\r\n\tat org.apache.hadoop.fs.RawLocalFileSystem.mkdirs(RawLocalFileSystem.java:672)\r\n\tat org.apache.hadoop.fs.RawLocalFileSystem.mkdirsWithOptionalPermission(RawLocalFileSystem.java:699)\r\n\tat org.apache.hadoop.fs.RawLocalFileSystem.mkdirs(RawLocalFileSystem.java:672)\r\n\tat org.apache.hadoop.fs.ChecksumFileSystem.mkdirs(ChecksumFileSystem.java:788)\r\n\tat org.apache.hadoop.mapreduce.lib.output.FileOutputCommitter.setupJob(FileOutputCommitter.java:356)\r\n\tat org.apache.spark.internal.io.HadoopMapReduceCommitProtocol.setupJob(HadoopMapReduceCommitProtocol.scala:188)\r\n\tat org.apache.spark.sql.execution.datasources.FileFormatWriter$.write(FileFormatWriter.scala:219)\r\n\tat org.apache.spark.sql.execution.datasources.InsertIntoHadoopFsRelationCommand.run(InsertIntoHadoopFsRelationCommand.scala:186)\r\n\tat org.apache.spark.sql.execution.command.DataWritingCommandExec.sideEffectResult$lzycompute(commands.scala:113)\r\n\tat org.apache.spark.sql.execution.command.DataWritingCommandExec.sideEffectResult(commands.scala:111)\r\n\tat org.apache.spark.sql.execution.command.DataWritingCommandExec.executeCollect(commands.scala:125)\r\n\tat org.apache.spark.sql.execution.QueryExecution$$anonfun$eagerlyExecuteCommands$1.$anonfun$applyOrElse$1(QueryExecution.scala:98)\r\n\tat org.apache.spark.sql.execution.SQLExecution$.$anonfun$withNewExecutionId$6(SQLExecution.scala:109)\r\n\tat org.apache.spark.sql.execution.SQLExecution$.withSQLConfPropagated(SQLExecution.scala:169)\r\n\tat org.apache.spark.sql.execution.SQLExecution$.$anonfun$withNewExecutionId$1(SQLExecution.scala:95)\r\n\tat org.apache.spark.sql.SparkSession.withActive(SparkSession.scala:779)\r\n\tat org.apache.spark.sql.execution.SQLExecution$.withNewExecutionId(SQLExecution.scala:64)\r\n\tat org.apache.spark.sql.execution.QueryExecution$$anonfun$eagerlyExecuteCommands$1.applyOrElse(QueryExecution.scala:98)\r\n\tat org.apache.spark.sql.execution.QueryExecution$$anonfun$eagerlyExecuteCommands$1.applyOrElse(QueryExecution.scala:94)\r\n\tat org.apache.spark.sql.catalyst.trees.TreeNode.$anonfun$transformDownWithPruning$1(TreeNode.scala:584)\r\n\tat org.apache.spark.sql.catalyst.trees.CurrentOrigin$.withOrigin(TreeNode.scala:176)\r\n\tat org.apache.spark.sql.catalyst.trees.TreeNode.transformDownWithPruning(TreeNode.scala:584)\r\n\tat org.apache.spark.sql.catalyst.plans.logical.LogicalPlan.org$apache$spark$sql$catalyst$plans$logical$AnalysisHelper$$super$transformDownWithPruning(LogicalPlan.scala:30)\r\n\tat org.apache.spark.sql.catalyst.plans.logical.AnalysisHelper.transformDownWithPruning(AnalysisHelper.scala:267)\r\n\tat org.apache.spark.sql.catalyst.plans.logical.AnalysisHelper.transformDownWithPruning$(AnalysisHelper.scala:263)\r\n\tat org.apache.spark.sql.catalyst.plans.logical.LogicalPlan.transformDownWithPruning(LogicalPlan.scala:30)\r\n\tat org.apache.spark.sql.catalyst.plans.logical.LogicalPlan.transformDownWithPruning(LogicalPlan.scala:30)\r\n\tat org.apache.spark.sql.catalyst.trees.TreeNode.transformDown(TreeNode.scala:560)\r\n\tat org.apache.spark.sql.execution.QueryExecution.eagerlyExecuteCommands(QueryExecution.scala:94)\r\n\tat org.apache.spark.sql.execution.QueryExecution.commandExecuted$lzycompute(QueryExecution.scala:81)\r\n\tat org.apache.spark.sql.execution.QueryExecution.commandExecuted(QueryExecution.scala:79)\r\n\tat org.apache.spark.sql.execution.QueryExecution.assertCommandExecuted(QueryExecution.scala:116)\r\n\tat org.apache.spark.sql.DataFrameWriter.runCommand(DataFrameWriter.scala:860)\r\n\tat org.apache.spark.sql.DataFrameWriter.saveToV1Source(DataFrameWriter.scala:390)\r\n\tat org.apache.spark.sql.DataFrameWriter.saveInternal(DataFrameWriter.scala:363)\r\n\tat org.apache.spark.sql.DataFrameWriter.save(DataFrameWriter.scala:239)\r\n\tat org.apache.spark.sql.DataFrameWriter.parquet(DataFrameWriter.scala:793)\r\n\tat sun.reflect.NativeMethodAccessorImpl.invoke0(Native Method)\r\n\tat sun.reflect.NativeMethodAccessorImpl.invoke(Unknown Source)\r\n\tat sun.reflect.DelegatingMethodAccessorImpl.invoke(Unknown Source)\r\n\tat java.lang.reflect.Method.invoke(Unknown Source)\r\n\tat py4j.reflection.MethodInvoker.invoke(MethodInvoker.java:244)\r\n\tat py4j.reflection.ReflectionEngine.invoke(ReflectionEngine.java:357)\r\n\tat py4j.Gateway.invoke(Gateway.java:282)\r\n\tat py4j.commands.AbstractCommand.invokeMethod(AbstractCommand.java:132)\r\n\tat py4j.commands.CallCommand.execute(CallCommand.java:79)\r\n\tat py4j.ClientServerConnection.waitForCommands(ClientServerConnection.java:182)\r\n\tat py4j.ClientServerConnection.run(ClientServerConnection.java:106)\r\n\tat java.lang.Thread.run(Unknown Source)\r\nCaused by: java.io.FileNotFoundException: java.io.FileNotFoundException: HADOOP_HOME and hadoop.home.dir are unset. -see https://wiki.apache.org/hadoop/WindowsProblems\r\n\tat org.apache.hadoop.util.Shell.fileNotFoundException(Shell.java:547)\r\n\tat org.apache.hadoop.util.Shell.getHadoopHomeDir(Shell.java:568)\r\n\tat org.apache.hadoop.util.Shell.getQualifiedBin(Shell.java:591)\r\n\tat org.apache.hadoop.util.Shell.<clinit>(Shell.java:688)\r\n\tat org.apache.hadoop.util.StringUtils.<clinit>(StringUtils.java:79)\r\n\tat org.apache.hadoop.conf.Configuration.getTimeDurationHelper(Configuration.java:1907)\r\n\tat org.apache.hadoop.conf.Configuration.getTimeDuration(Configuration.java:1867)\r\n\tat org.apache.hadoop.conf.Configuration.getTimeDuration(Configuration.java:1840)\r\n\tat org.apache.hadoop.util.ShutdownHookManager.getShutdownTimeout(ShutdownHookManager.java:183)\r\n\tat org.apache.hadoop.util.ShutdownHookManager$HookEntry.<init>(ShutdownHookManager.java:207)\r\n\tat org.apache.hadoop.util.ShutdownHookManager.addShutdownHook(ShutdownHookManager.java:304)\r\n\tat org.apache.spark.util.SparkShutdownHookManager.install(ShutdownHookManager.scala:181)\r\n\tat org.apache.spark.util.ShutdownHookManager$.shutdownHooks$lzycompute(ShutdownHookManager.scala:50)\r\n\tat org.apache.spark.util.ShutdownHookManager$.shutdownHooks(ShutdownHookManager.scala:48)\r\n\tat org.apache.spark.util.ShutdownHookManager$.addShutdownHook(ShutdownHookManager.scala:153)\r\n\tat org.apache.spark.util.ShutdownHookManager$.<init>(ShutdownHookManager.scala:58)\r\n\tat org.apache.spark.util.ShutdownHookManager$.<clinit>(ShutdownHookManager.scala)\r\n\tat org.apache.spark.util.Utils$.createTempDir(Utils.scala:343)\r\n\tat org.apache.spark.deploy.SparkSubmit.prepareSubmitEnvironment(SparkSubmit.scala:344)\r\n\tat org.apache.spark.deploy.SparkSubmit.org$apache$spark$deploy$SparkSubmit$$runMain(SparkSubmit.scala:901)\r\n\tat org.apache.spark.deploy.SparkSubmit.doRunMain$1(SparkSubmit.scala:180)\r\n\tat org.apache.spark.deploy.SparkSubmit.submit(SparkSubmit.scala:203)\r\n\tat org.apache.spark.deploy.SparkSubmit.doSubmit(SparkSubmit.scala:90)\r\n\tat org.apache.spark.deploy.SparkSubmit$$anon$2.doSubmit(SparkSubmit.scala:1046)\r\n\tat org.apache.spark.deploy.SparkSubmit$.main(SparkSubmit.scala:1055)\r\n\tat org.apache.spark.deploy.SparkSubmit.main(SparkSubmit.scala)\r\nCaused by: java.io.FileNotFoundException: HADOOP_HOME and hadoop.home.dir are unset.\r\n\tat org.apache.hadoop.util.Shell.checkHadoopHomeInner(Shell.java:467)\r\n\tat org.apache.hadoop.util.Shell.checkHadoopHome(Shell.java:438)\r\n\tat org.apache.hadoop.util.Shell.<clinit>(Shell.java:515)\r\n\t... 22 more\r\n",
     "output_type": "error",
     "traceback": [
      "\u001b[1;31m---------------------------------------------------------------------------\u001b[0m",
      "\u001b[1;31mPy4JJavaError\u001b[0m                             Traceback (most recent call last)",
      "Cell \u001b[1;32mIn[34], line 1\u001b[0m\n\u001b[1;32m----> 1\u001b[0m \u001b[43mdf_todo\u001b[49m\u001b[38;5;241;43m.\u001b[39;49m\u001b[43mwrite\u001b[49m\u001b[38;5;241;43m.\u001b[39;49m\u001b[43mmode\u001b[49m\u001b[43m(\u001b[49m\u001b[38;5;124;43m\"\u001b[39;49m\u001b[38;5;124;43moverwrite\u001b[39;49m\u001b[38;5;124;43m\"\u001b[39;49m\u001b[43m)\u001b[49m\u001b[38;5;241;43m.\u001b[39;49m\u001b[43mparquet\u001b[49m\u001b[43m(\u001b[49m\u001b[38;5;124;43m\"\u001b[39;49m\u001b[38;5;124;43mall_data_predict\u001b[39;49m\u001b[38;5;124;43m\"\u001b[39;49m\u001b[43m)\u001b[49m\n",
      "File \u001b[1;32mC:\\anaconda\\instalation\\lib\\site-packages\\pyspark\\sql\\readwriter.py:1140\u001b[0m, in \u001b[0;36mDataFrameWriter.parquet\u001b[1;34m(self, path, mode, partitionBy, compression)\u001b[0m\n\u001b[0;32m   1138\u001b[0m     \u001b[38;5;28mself\u001b[39m\u001b[38;5;241m.\u001b[39mpartitionBy(partitionBy)\n\u001b[0;32m   1139\u001b[0m \u001b[38;5;28mself\u001b[39m\u001b[38;5;241m.\u001b[39m_set_opts(compression\u001b[38;5;241m=\u001b[39mcompression)\n\u001b[1;32m-> 1140\u001b[0m \u001b[38;5;28;43mself\u001b[39;49m\u001b[38;5;241;43m.\u001b[39;49m\u001b[43m_jwrite\u001b[49m\u001b[38;5;241;43m.\u001b[39;49m\u001b[43mparquet\u001b[49m\u001b[43m(\u001b[49m\u001b[43mpath\u001b[49m\u001b[43m)\u001b[49m\n",
      "File \u001b[1;32mC:\\anaconda\\instalation\\lib\\site-packages\\py4j\\java_gateway.py:1321\u001b[0m, in \u001b[0;36mJavaMember.__call__\u001b[1;34m(self, *args)\u001b[0m\n\u001b[0;32m   1315\u001b[0m command \u001b[38;5;241m=\u001b[39m proto\u001b[38;5;241m.\u001b[39mCALL_COMMAND_NAME \u001b[38;5;241m+\u001b[39m\\\n\u001b[0;32m   1316\u001b[0m     \u001b[38;5;28mself\u001b[39m\u001b[38;5;241m.\u001b[39mcommand_header \u001b[38;5;241m+\u001b[39m\\\n\u001b[0;32m   1317\u001b[0m     args_command \u001b[38;5;241m+\u001b[39m\\\n\u001b[0;32m   1318\u001b[0m     proto\u001b[38;5;241m.\u001b[39mEND_COMMAND_PART\n\u001b[0;32m   1320\u001b[0m answer \u001b[38;5;241m=\u001b[39m \u001b[38;5;28mself\u001b[39m\u001b[38;5;241m.\u001b[39mgateway_client\u001b[38;5;241m.\u001b[39msend_command(command)\n\u001b[1;32m-> 1321\u001b[0m return_value \u001b[38;5;241m=\u001b[39m \u001b[43mget_return_value\u001b[49m\u001b[43m(\u001b[49m\n\u001b[0;32m   1322\u001b[0m \u001b[43m    \u001b[49m\u001b[43manswer\u001b[49m\u001b[43m,\u001b[49m\u001b[43m \u001b[49m\u001b[38;5;28;43mself\u001b[39;49m\u001b[38;5;241;43m.\u001b[39;49m\u001b[43mgateway_client\u001b[49m\u001b[43m,\u001b[49m\u001b[43m \u001b[49m\u001b[38;5;28;43mself\u001b[39;49m\u001b[38;5;241;43m.\u001b[39;49m\u001b[43mtarget_id\u001b[49m\u001b[43m,\u001b[49m\u001b[43m \u001b[49m\u001b[38;5;28;43mself\u001b[39;49m\u001b[38;5;241;43m.\u001b[39;49m\u001b[43mname\u001b[49m\u001b[43m)\u001b[49m\n\u001b[0;32m   1324\u001b[0m \u001b[38;5;28;01mfor\u001b[39;00m temp_arg \u001b[38;5;129;01min\u001b[39;00m temp_args:\n\u001b[0;32m   1325\u001b[0m     temp_arg\u001b[38;5;241m.\u001b[39m_detach()\n",
      "File \u001b[1;32mC:\\anaconda\\instalation\\lib\\site-packages\\pyspark\\sql\\utils.py:190\u001b[0m, in \u001b[0;36mcapture_sql_exception.<locals>.deco\u001b[1;34m(*a, **kw)\u001b[0m\n\u001b[0;32m    188\u001b[0m \u001b[38;5;28;01mdef\u001b[39;00m \u001b[38;5;21mdeco\u001b[39m(\u001b[38;5;241m*\u001b[39ma: Any, \u001b[38;5;241m*\u001b[39m\u001b[38;5;241m*\u001b[39mkw: Any) \u001b[38;5;241m-\u001b[39m\u001b[38;5;241m>\u001b[39m Any:\n\u001b[0;32m    189\u001b[0m     \u001b[38;5;28;01mtry\u001b[39;00m:\n\u001b[1;32m--> 190\u001b[0m         \u001b[38;5;28;01mreturn\u001b[39;00m f(\u001b[38;5;241m*\u001b[39ma, \u001b[38;5;241m*\u001b[39m\u001b[38;5;241m*\u001b[39mkw)\n\u001b[0;32m    191\u001b[0m     \u001b[38;5;28;01mexcept\u001b[39;00m Py4JJavaError \u001b[38;5;28;01mas\u001b[39;00m e:\n\u001b[0;32m    192\u001b[0m         converted \u001b[38;5;241m=\u001b[39m convert_exception(e\u001b[38;5;241m.\u001b[39mjava_exception)\n",
      "File \u001b[1;32mC:\\anaconda\\instalation\\lib\\site-packages\\py4j\\protocol.py:326\u001b[0m, in \u001b[0;36mget_return_value\u001b[1;34m(answer, gateway_client, target_id, name)\u001b[0m\n\u001b[0;32m    324\u001b[0m value \u001b[38;5;241m=\u001b[39m OUTPUT_CONVERTER[\u001b[38;5;28mtype\u001b[39m](answer[\u001b[38;5;241m2\u001b[39m:], gateway_client)\n\u001b[0;32m    325\u001b[0m \u001b[38;5;28;01mif\u001b[39;00m answer[\u001b[38;5;241m1\u001b[39m] \u001b[38;5;241m==\u001b[39m REFERENCE_TYPE:\n\u001b[1;32m--> 326\u001b[0m     \u001b[38;5;28;01mraise\u001b[39;00m Py4JJavaError(\n\u001b[0;32m    327\u001b[0m         \u001b[38;5;124m\"\u001b[39m\u001b[38;5;124mAn error occurred while calling \u001b[39m\u001b[38;5;132;01m{0}\u001b[39;00m\u001b[38;5;132;01m{1}\u001b[39;00m\u001b[38;5;132;01m{2}\u001b[39;00m\u001b[38;5;124m.\u001b[39m\u001b[38;5;130;01m\\n\u001b[39;00m\u001b[38;5;124m\"\u001b[39m\u001b[38;5;241m.\u001b[39m\n\u001b[0;32m    328\u001b[0m         \u001b[38;5;28mformat\u001b[39m(target_id, \u001b[38;5;124m\"\u001b[39m\u001b[38;5;124m.\u001b[39m\u001b[38;5;124m\"\u001b[39m, name), value)\n\u001b[0;32m    329\u001b[0m \u001b[38;5;28;01melse\u001b[39;00m:\n\u001b[0;32m    330\u001b[0m     \u001b[38;5;28;01mraise\u001b[39;00m Py4JError(\n\u001b[0;32m    331\u001b[0m         \u001b[38;5;124m\"\u001b[39m\u001b[38;5;124mAn error occurred while calling \u001b[39m\u001b[38;5;132;01m{0}\u001b[39;00m\u001b[38;5;132;01m{1}\u001b[39;00m\u001b[38;5;132;01m{2}\u001b[39;00m\u001b[38;5;124m. Trace:\u001b[39m\u001b[38;5;130;01m\\n\u001b[39;00m\u001b[38;5;132;01m{3}\u001b[39;00m\u001b[38;5;130;01m\\n\u001b[39;00m\u001b[38;5;124m\"\u001b[39m\u001b[38;5;241m.\u001b[39m\n\u001b[0;32m    332\u001b[0m         \u001b[38;5;28mformat\u001b[39m(target_id, \u001b[38;5;124m\"\u001b[39m\u001b[38;5;124m.\u001b[39m\u001b[38;5;124m\"\u001b[39m, name, value))\n",
      "\u001b[1;31mPy4JJavaError\u001b[0m: An error occurred while calling o140.parquet.\n: java.lang.RuntimeException: java.io.FileNotFoundException: java.io.FileNotFoundException: HADOOP_HOME and hadoop.home.dir are unset. -see https://wiki.apache.org/hadoop/WindowsProblems\r\n\tat org.apache.hadoop.util.Shell.getWinUtilsPath(Shell.java:735)\r\n\tat org.apache.hadoop.util.Shell.getSetPermissionCommand(Shell.java:270)\r\n\tat org.apache.hadoop.util.Shell.getSetPermissionCommand(Shell.java:286)\r\n\tat org.apache.hadoop.fs.RawLocalFileSystem.setPermission(RawLocalFileSystem.java:978)\r\n\tat org.apache.hadoop.fs.RawLocalFileSystem.mkOneDirWithMode(RawLocalFileSystem.java:660)\r\n\tat org.apache.hadoop.fs.RawLocalFileSystem.mkdirsWithOptionalPermission(RawLocalFileSystem.java:700)\r\n\tat org.apache.hadoop.fs.RawLocalFileSystem.mkdirs(RawLocalFileSystem.java:672)\r\n\tat org.apache.hadoop.fs.RawLocalFileSystem.mkdirsWithOptionalPermission(RawLocalFileSystem.java:699)\r\n\tat org.apache.hadoop.fs.RawLocalFileSystem.mkdirs(RawLocalFileSystem.java:672)\r\n\tat org.apache.hadoop.fs.RawLocalFileSystem.mkdirsWithOptionalPermission(RawLocalFileSystem.java:699)\r\n\tat org.apache.hadoop.fs.RawLocalFileSystem.mkdirs(RawLocalFileSystem.java:672)\r\n\tat org.apache.hadoop.fs.ChecksumFileSystem.mkdirs(ChecksumFileSystem.java:788)\r\n\tat org.apache.hadoop.mapreduce.lib.output.FileOutputCommitter.setupJob(FileOutputCommitter.java:356)\r\n\tat org.apache.spark.internal.io.HadoopMapReduceCommitProtocol.setupJob(HadoopMapReduceCommitProtocol.scala:188)\r\n\tat org.apache.spark.sql.execution.datasources.FileFormatWriter$.write(FileFormatWriter.scala:219)\r\n\tat org.apache.spark.sql.execution.datasources.InsertIntoHadoopFsRelationCommand.run(InsertIntoHadoopFsRelationCommand.scala:186)\r\n\tat org.apache.spark.sql.execution.command.DataWritingCommandExec.sideEffectResult$lzycompute(commands.scala:113)\r\n\tat org.apache.spark.sql.execution.command.DataWritingCommandExec.sideEffectResult(commands.scala:111)\r\n\tat org.apache.spark.sql.execution.command.DataWritingCommandExec.executeCollect(commands.scala:125)\r\n\tat org.apache.spark.sql.execution.QueryExecution$$anonfun$eagerlyExecuteCommands$1.$anonfun$applyOrElse$1(QueryExecution.scala:98)\r\n\tat org.apache.spark.sql.execution.SQLExecution$.$anonfun$withNewExecutionId$6(SQLExecution.scala:109)\r\n\tat org.apache.spark.sql.execution.SQLExecution$.withSQLConfPropagated(SQLExecution.scala:169)\r\n\tat org.apache.spark.sql.execution.SQLExecution$.$anonfun$withNewExecutionId$1(SQLExecution.scala:95)\r\n\tat org.apache.spark.sql.SparkSession.withActive(SparkSession.scala:779)\r\n\tat org.apache.spark.sql.execution.SQLExecution$.withNewExecutionId(SQLExecution.scala:64)\r\n\tat org.apache.spark.sql.execution.QueryExecution$$anonfun$eagerlyExecuteCommands$1.applyOrElse(QueryExecution.scala:98)\r\n\tat org.apache.spark.sql.execution.QueryExecution$$anonfun$eagerlyExecuteCommands$1.applyOrElse(QueryExecution.scala:94)\r\n\tat org.apache.spark.sql.catalyst.trees.TreeNode.$anonfun$transformDownWithPruning$1(TreeNode.scala:584)\r\n\tat org.apache.spark.sql.catalyst.trees.CurrentOrigin$.withOrigin(TreeNode.scala:176)\r\n\tat org.apache.spark.sql.catalyst.trees.TreeNode.transformDownWithPruning(TreeNode.scala:584)\r\n\tat org.apache.spark.sql.catalyst.plans.logical.LogicalPlan.org$apache$spark$sql$catalyst$plans$logical$AnalysisHelper$$super$transformDownWithPruning(LogicalPlan.scala:30)\r\n\tat org.apache.spark.sql.catalyst.plans.logical.AnalysisHelper.transformDownWithPruning(AnalysisHelper.scala:267)\r\n\tat org.apache.spark.sql.catalyst.plans.logical.AnalysisHelper.transformDownWithPruning$(AnalysisHelper.scala:263)\r\n\tat org.apache.spark.sql.catalyst.plans.logical.LogicalPlan.transformDownWithPruning(LogicalPlan.scala:30)\r\n\tat org.apache.spark.sql.catalyst.plans.logical.LogicalPlan.transformDownWithPruning(LogicalPlan.scala:30)\r\n\tat org.apache.spark.sql.catalyst.trees.TreeNode.transformDown(TreeNode.scala:560)\r\n\tat org.apache.spark.sql.execution.QueryExecution.eagerlyExecuteCommands(QueryExecution.scala:94)\r\n\tat org.apache.spark.sql.execution.QueryExecution.commandExecuted$lzycompute(QueryExecution.scala:81)\r\n\tat org.apache.spark.sql.execution.QueryExecution.commandExecuted(QueryExecution.scala:79)\r\n\tat org.apache.spark.sql.execution.QueryExecution.assertCommandExecuted(QueryExecution.scala:116)\r\n\tat org.apache.spark.sql.DataFrameWriter.runCommand(DataFrameWriter.scala:860)\r\n\tat org.apache.spark.sql.DataFrameWriter.saveToV1Source(DataFrameWriter.scala:390)\r\n\tat org.apache.spark.sql.DataFrameWriter.saveInternal(DataFrameWriter.scala:363)\r\n\tat org.apache.spark.sql.DataFrameWriter.save(DataFrameWriter.scala:239)\r\n\tat org.apache.spark.sql.DataFrameWriter.parquet(DataFrameWriter.scala:793)\r\n\tat sun.reflect.NativeMethodAccessorImpl.invoke0(Native Method)\r\n\tat sun.reflect.NativeMethodAccessorImpl.invoke(Unknown Source)\r\n\tat sun.reflect.DelegatingMethodAccessorImpl.invoke(Unknown Source)\r\n\tat java.lang.reflect.Method.invoke(Unknown Source)\r\n\tat py4j.reflection.MethodInvoker.invoke(MethodInvoker.java:244)\r\n\tat py4j.reflection.ReflectionEngine.invoke(ReflectionEngine.java:357)\r\n\tat py4j.Gateway.invoke(Gateway.java:282)\r\n\tat py4j.commands.AbstractCommand.invokeMethod(AbstractCommand.java:132)\r\n\tat py4j.commands.CallCommand.execute(CallCommand.java:79)\r\n\tat py4j.ClientServerConnection.waitForCommands(ClientServerConnection.java:182)\r\n\tat py4j.ClientServerConnection.run(ClientServerConnection.java:106)\r\n\tat java.lang.Thread.run(Unknown Source)\r\nCaused by: java.io.FileNotFoundException: java.io.FileNotFoundException: HADOOP_HOME and hadoop.home.dir are unset. -see https://wiki.apache.org/hadoop/WindowsProblems\r\n\tat org.apache.hadoop.util.Shell.fileNotFoundException(Shell.java:547)\r\n\tat org.apache.hadoop.util.Shell.getHadoopHomeDir(Shell.java:568)\r\n\tat org.apache.hadoop.util.Shell.getQualifiedBin(Shell.java:591)\r\n\tat org.apache.hadoop.util.Shell.<clinit>(Shell.java:688)\r\n\tat org.apache.hadoop.util.StringUtils.<clinit>(StringUtils.java:79)\r\n\tat org.apache.hadoop.conf.Configuration.getTimeDurationHelper(Configuration.java:1907)\r\n\tat org.apache.hadoop.conf.Configuration.getTimeDuration(Configuration.java:1867)\r\n\tat org.apache.hadoop.conf.Configuration.getTimeDuration(Configuration.java:1840)\r\n\tat org.apache.hadoop.util.ShutdownHookManager.getShutdownTimeout(ShutdownHookManager.java:183)\r\n\tat org.apache.hadoop.util.ShutdownHookManager$HookEntry.<init>(ShutdownHookManager.java:207)\r\n\tat org.apache.hadoop.util.ShutdownHookManager.addShutdownHook(ShutdownHookManager.java:304)\r\n\tat org.apache.spark.util.SparkShutdownHookManager.install(ShutdownHookManager.scala:181)\r\n\tat org.apache.spark.util.ShutdownHookManager$.shutdownHooks$lzycompute(ShutdownHookManager.scala:50)\r\n\tat org.apache.spark.util.ShutdownHookManager$.shutdownHooks(ShutdownHookManager.scala:48)\r\n\tat org.apache.spark.util.ShutdownHookManager$.addShutdownHook(ShutdownHookManager.scala:153)\r\n\tat org.apache.spark.util.ShutdownHookManager$.<init>(ShutdownHookManager.scala:58)\r\n\tat org.apache.spark.util.ShutdownHookManager$.<clinit>(ShutdownHookManager.scala)\r\n\tat org.apache.spark.util.Utils$.createTempDir(Utils.scala:343)\r\n\tat org.apache.spark.deploy.SparkSubmit.prepareSubmitEnvironment(SparkSubmit.scala:344)\r\n\tat org.apache.spark.deploy.SparkSubmit.org$apache$spark$deploy$SparkSubmit$$runMain(SparkSubmit.scala:901)\r\n\tat org.apache.spark.deploy.SparkSubmit.doRunMain$1(SparkSubmit.scala:180)\r\n\tat org.apache.spark.deploy.SparkSubmit.submit(SparkSubmit.scala:203)\r\n\tat org.apache.spark.deploy.SparkSubmit.doSubmit(SparkSubmit.scala:90)\r\n\tat org.apache.spark.deploy.SparkSubmit$$anon$2.doSubmit(SparkSubmit.scala:1046)\r\n\tat org.apache.spark.deploy.SparkSubmit$.main(SparkSubmit.scala:1055)\r\n\tat org.apache.spark.deploy.SparkSubmit.main(SparkSubmit.scala)\r\nCaused by: java.io.FileNotFoundException: HADOOP_HOME and hadoop.home.dir are unset.\r\n\tat org.apache.hadoop.util.Shell.checkHadoopHomeInner(Shell.java:467)\r\n\tat org.apache.hadoop.util.Shell.checkHadoopHome(Shell.java:438)\r\n\tat org.apache.hadoop.util.Shell.<clinit>(Shell.java:515)\r\n\t... 22 more\r\n"
     ]
    }
   ],
   "source": [
    "df_todo.write.mode(\"overwrite\").parquet(\"all_data_predict\")"
   ]
  },
  {
   "cell_type": "code",
   "execution_count": 28,
   "id": "20e2aebf-f8fa-4349-a427-971c12a9a459",
   "metadata": {},
   "outputs": [
    {
     "data": {
      "text/html": [
       "<div>\n",
       "<style scoped>\n",
       "    .dataframe tbody tr th:only-of-type {\n",
       "        vertical-align: middle;\n",
       "    }\n",
       "\n",
       "    .dataframe tbody tr th {\n",
       "        vertical-align: top;\n",
       "    }\n",
       "\n",
       "    .dataframe thead th {\n",
       "        text-align: right;\n",
       "    }\n",
       "</style>\n",
       "<table border=\"1\" class=\"dataframe\">\n",
       "  <thead>\n",
       "    <tr style=\"text-align: right;\">\n",
       "      <th></th>\n",
       "      <th>session_id</th>\n",
       "    </tr>\n",
       "  </thead>\n",
       "  <tbody>\n",
       "    <tr>\n",
       "      <th>0</th>\n",
       "      <td>2.009031e+16</td>\n",
       "    </tr>\n",
       "    <tr>\n",
       "      <th>1</th>\n",
       "      <td>2.009031e+16</td>\n",
       "    </tr>\n",
       "    <tr>\n",
       "      <th>2</th>\n",
       "      <td>2.009031e+16</td>\n",
       "    </tr>\n",
       "    <tr>\n",
       "      <th>3</th>\n",
       "      <td>2.009031e+16</td>\n",
       "    </tr>\n",
       "    <tr>\n",
       "      <th>4</th>\n",
       "      <td>2.009031e+16</td>\n",
       "    </tr>\n",
       "    <tr>\n",
       "      <th>...</th>\n",
       "      <td>...</td>\n",
       "    </tr>\n",
       "    <tr>\n",
       "      <th>424111</th>\n",
       "      <td>2.210022e+16</td>\n",
       "    </tr>\n",
       "    <tr>\n",
       "      <th>424112</th>\n",
       "      <td>2.210022e+16</td>\n",
       "    </tr>\n",
       "    <tr>\n",
       "      <th>424113</th>\n",
       "      <td>2.210022e+16</td>\n",
       "    </tr>\n",
       "    <tr>\n",
       "      <th>424114</th>\n",
       "      <td>2.210022e+16</td>\n",
       "    </tr>\n",
       "    <tr>\n",
       "      <th>424115</th>\n",
       "      <td>2.210022e+16</td>\n",
       "    </tr>\n",
       "  </tbody>\n",
       "</table>\n",
       "<p>424116 rows × 1 columns</p>\n",
       "</div>"
      ],
      "text/plain": [
       "          session_id\n",
       "0       2.009031e+16\n",
       "1       2.009031e+16\n",
       "2       2.009031e+16\n",
       "3       2.009031e+16\n",
       "4       2.009031e+16\n",
       "...              ...\n",
       "424111  2.210022e+16\n",
       "424112  2.210022e+16\n",
       "424113  2.210022e+16\n",
       "424114  2.210022e+16\n",
       "424115  2.210022e+16\n",
       "\n",
       "[424116 rows x 1 columns]"
      ]
     },
     "execution_count": 28,
     "metadata": {},
     "output_type": "execute_result"
    }
   ],
   "source": [
    "df_train_labs.select(\"session_id\").toPandas()"
   ]
  },
  {
   "cell_type": "code",
   "execution_count": null,
   "id": "fc56766f-8da1-4d22-b6a9-af157aefddea",
   "metadata": {},
   "outputs": [],
   "source": []
  },
  {
   "cell_type": "code",
   "execution_count": null,
   "id": "bc553996-9bdc-4a3a-854d-88e2365d7810",
   "metadata": {},
   "outputs": [],
   "source": [
    "#colunios = split(df_train_labs.select('session_id'), '_')"
   ]
  },
  {
   "cell_type": "code",
   "execution_count": 113,
   "id": "aecef6e6-0de7-4c6e-9d6c-e61ecf201b83",
   "metadata": {},
   "outputs": [],
   "source": [
    "listaasd = df_train_labs.collect()"
   ]
  },
  {
   "cell_type": "code",
   "execution_count": 29,
   "id": "83a3f86f-e864-44d9-b41c-519f7f66e470",
   "metadata": {},
   "outputs": [
    {
     "data": {
      "text/html": [
       "<div>\n",
       "<style scoped>\n",
       "    .dataframe tbody tr th:only-of-type {\n",
       "        vertical-align: middle;\n",
       "    }\n",
       "\n",
       "    .dataframe tbody tr th {\n",
       "        vertical-align: top;\n",
       "    }\n",
       "\n",
       "    .dataframe thead th {\n",
       "        text-align: right;\n",
       "    }\n",
       "</style>\n",
       "<table border=\"1\" class=\"dataframe\">\n",
       "  <thead>\n",
       "    <tr style=\"text-align: right;\">\n",
       "      <th></th>\n",
       "      <th>session_id</th>\n",
       "    </tr>\n",
       "  </thead>\n",
       "  <tbody>\n",
       "    <tr>\n",
       "      <th>0</th>\n",
       "      <td>20100114570801148</td>\n",
       "    </tr>\n",
       "    <tr>\n",
       "      <th>1</th>\n",
       "      <td>20100308381327090</td>\n",
       "    </tr>\n",
       "    <tr>\n",
       "      <th>2</th>\n",
       "      <td>20100016070249504</td>\n",
       "    </tr>\n",
       "    <tr>\n",
       "      <th>3</th>\n",
       "      <td>20100109380136844</td>\n",
       "    </tr>\n",
       "    <tr>\n",
       "      <th>4</th>\n",
       "      <td>20100112570372764</td>\n",
       "    </tr>\n",
       "    <tr>\n",
       "      <th>...</th>\n",
       "      <td>...</td>\n",
       "    </tr>\n",
       "    <tr>\n",
       "      <th>23560</th>\n",
       "      <td>22090614284270924</td>\n",
       "    </tr>\n",
       "    <tr>\n",
       "      <th>23561</th>\n",
       "      <td>22100221145014656</td>\n",
       "    </tr>\n",
       "    <tr>\n",
       "      <th>23562</th>\n",
       "      <td>20090312331414616</td>\n",
       "    </tr>\n",
       "    <tr>\n",
       "      <th>23563</th>\n",
       "      <td>20090312143683264</td>\n",
       "    </tr>\n",
       "    <tr>\n",
       "      <th>23564</th>\n",
       "      <td>20090109393214576</td>\n",
       "    </tr>\n",
       "  </tbody>\n",
       "</table>\n",
       "<p>23565 rows × 1 columns</p>\n",
       "</div>"
      ],
      "text/plain": [
       "              session_id\n",
       "0      20100114570801148\n",
       "1      20100308381327090\n",
       "2      20100016070249504\n",
       "3      20100109380136844\n",
       "4      20100112570372764\n",
       "...                  ...\n",
       "23560  22090614284270924\n",
       "23561  22100221145014656\n",
       "23562  20090312331414616\n",
       "23563  20090312143683264\n",
       "23564  20090109393214576\n",
       "\n",
       "[23565 rows x 1 columns]"
      ]
     },
     "execution_count": 29,
     "metadata": {},
     "output_type": "execute_result"
    }
   ],
   "source": [
    "df_todo.select(\"session_id\").distinct().toPandas()"
   ]
  },
  {
   "cell_type": "code",
   "execution_count": 33,
   "id": "9d90e79a-6956-4f09-94c9-a3d88f20248c",
   "metadata": {},
   "outputs": [
    {
     "data": {
      "text/html": [
       "<div>\n",
       "<style scoped>\n",
       "    .dataframe tbody tr th:only-of-type {\n",
       "        vertical-align: middle;\n",
       "    }\n",
       "\n",
       "    .dataframe tbody tr th {\n",
       "        vertical-align: top;\n",
       "    }\n",
       "\n",
       "    .dataframe thead th {\n",
       "        text-align: right;\n",
       "    }\n",
       "</style>\n",
       "<table border=\"1\" class=\"dataframe\">\n",
       "  <thead>\n",
       "    <tr style=\"text-align: right;\">\n",
       "      <th></th>\n",
       "      <th>session_id</th>\n",
       "    </tr>\n",
       "  </thead>\n",
       "  <tbody>\n",
       "    <tr>\n",
       "      <th>0</th>\n",
       "      <td>2.010022e+16</td>\n",
       "    </tr>\n",
       "    <tr>\n",
       "      <th>1</th>\n",
       "      <td>2.103012e+16</td>\n",
       "    </tr>\n",
       "    <tr>\n",
       "      <th>2</th>\n",
       "      <td>2.105061e+16</td>\n",
       "    </tr>\n",
       "    <tr>\n",
       "      <th>3</th>\n",
       "      <td>2.106001e+16</td>\n",
       "    </tr>\n",
       "    <tr>\n",
       "      <th>4</th>\n",
       "      <td>2.107022e+16</td>\n",
       "    </tr>\n",
       "    <tr>\n",
       "      <th>...</th>\n",
       "      <td>...</td>\n",
       "    </tr>\n",
       "    <tr>\n",
       "      <th>1430</th>\n",
       "      <td>2.201061e+16</td>\n",
       "    </tr>\n",
       "    <tr>\n",
       "      <th>1431</th>\n",
       "      <td>2.206021e+16</td>\n",
       "    </tr>\n",
       "    <tr>\n",
       "      <th>1432</th>\n",
       "      <td>2.207002e+16</td>\n",
       "    </tr>\n",
       "    <tr>\n",
       "      <th>1433</th>\n",
       "      <td>2.207060e+16</td>\n",
       "    </tr>\n",
       "    <tr>\n",
       "      <th>1434</th>\n",
       "      <td>2.208031e+16</td>\n",
       "    </tr>\n",
       "  </tbody>\n",
       "</table>\n",
       "<p>1435 rows × 1 columns</p>\n",
       "</div>"
      ],
      "text/plain": [
       "        session_id\n",
       "0     2.010022e+16\n",
       "1     2.103012e+16\n",
       "2     2.105061e+16\n",
       "3     2.106001e+16\n",
       "4     2.107022e+16\n",
       "...            ...\n",
       "1430  2.201061e+16\n",
       "1431  2.206021e+16\n",
       "1432  2.207002e+16\n",
       "1433  2.207060e+16\n",
       "1434  2.208031e+16\n",
       "\n",
       "[1435 rows x 1 columns]"
      ]
     },
     "execution_count": 33,
     "metadata": {},
     "output_type": "execute_result"
    }
   ],
   "source": [
    "df_train_labs.select(\"session_id\").distinct().toPandas()"
   ]
  },
  {
   "cell_type": "code",
   "execution_count": 31,
   "id": "f2e3a1e8-e788-4a27-9692-9894fb266663",
   "metadata": {},
   "outputs": [
    {
     "data": {
      "text/plain": [
       "1309.1666666666667"
      ]
     },
     "execution_count": 31,
     "metadata": {},
     "output_type": "execute_result"
    }
   ],
   "source": [
    "23565/18"
   ]
  },
  {
   "cell_type": "code",
   "execution_count": null,
   "id": "9650ef75-18b7-4143-98fa-b7edb9339ca4",
   "metadata": {},
   "outputs": [],
   "source": [
    "listaasd"
   ]
  },
  {
   "cell_type": "code",
   "execution_count": 121,
   "id": "b8b04d5e-e469-4a1a-a794-9725d6cd3051",
   "metadata": {},
   "outputs": [],
   "source": [
    "asd = df_todo.select(\"session_id\").distinct().collect()"
   ]
  },
  {
   "cell_type": "code",
   "execution_count": 122,
   "id": "ab852f17-07b5-4736-b8da-e0656059e9cf",
   "metadata": {},
   "outputs": [],
   "source": [
    "kar = [x for x in asd if asd in listaasd]"
   ]
  },
  {
   "cell_type": "code",
   "execution_count": null,
   "id": "794fdb24-ba51-4c01-a8ad-cc7bc8228a90",
   "metadata": {},
   "outputs": [],
   "source": []
  },
  {
   "cell_type": "code",
   "execution_count": 115,
   "id": "d408ad06-a148-4be1-af50-2ab8146326b6",
   "metadata": {},
   "outputs": [
    {
     "ename": "TypeError",
     "evalue": "Invalid argument, not a string or column: False of type <class 'bool'>. For column literals, use 'lit', 'array', 'struct' or 'create_map' function.",
     "output_type": "error",
     "traceback": [
      "\u001b[1;31m---------------------------------------------------------------------------\u001b[0m",
      "\u001b[1;31mTypeError\u001b[0m                                 Traceback (most recent call last)",
      "Cell \u001b[1;32mIn[115], line 1\u001b[0m\n\u001b[1;32m----> 1\u001b[0m \u001b[43mdf_train_labs\u001b[49m\u001b[38;5;241;43m.\u001b[39;49m\u001b[43mselect\u001b[49m\u001b[43m(\u001b[49m\u001b[38;5;124;43m\"\u001b[39;49m\u001b[38;5;124;43msession_id\u001b[39;49m\u001b[38;5;124;43m\"\u001b[39;49m\u001b[38;5;241;43m==\u001b[39;49m\u001b[43mlistaasd\u001b[49m\u001b[43m)\u001b[49m\u001b[38;5;241m.\u001b[39mshow()\n",
      "File \u001b[1;32mC:\\anaconda\\instalation\\lib\\site-packages\\pyspark\\sql\\dataframe.py:2023\u001b[0m, in \u001b[0;36mDataFrame.select\u001b[1;34m(self, *cols)\u001b[0m\n\u001b[0;32m   2002\u001b[0m \u001b[38;5;28;01mdef\u001b[39;00m \u001b[38;5;21mselect\u001b[39m(\u001b[38;5;28mself\u001b[39m, \u001b[38;5;241m*\u001b[39mcols: \u001b[38;5;124m\"\u001b[39m\u001b[38;5;124mColumnOrName\u001b[39m\u001b[38;5;124m\"\u001b[39m) \u001b[38;5;241m-\u001b[39m\u001b[38;5;241m>\u001b[39m \u001b[38;5;124m\"\u001b[39m\u001b[38;5;124mDataFrame\u001b[39m\u001b[38;5;124m\"\u001b[39m:  \u001b[38;5;66;03m# type: ignore[misc]\u001b[39;00m\n\u001b[0;32m   2003\u001b[0m     \u001b[38;5;124;03m\"\"\"Projects a set of expressions and returns a new :class:`DataFrame`.\u001b[39;00m\n\u001b[0;32m   2004\u001b[0m \n\u001b[0;32m   2005\u001b[0m \u001b[38;5;124;03m    .. versionadded:: 1.3.0\u001b[39;00m\n\u001b[1;32m   (...)\u001b[0m\n\u001b[0;32m   2021\u001b[0m \u001b[38;5;124;03m    [Row(name='Alice', age=12), Row(name='Bob', age=15)]\u001b[39;00m\n\u001b[0;32m   2022\u001b[0m \u001b[38;5;124;03m    \"\"\"\u001b[39;00m\n\u001b[1;32m-> 2023\u001b[0m     jdf \u001b[38;5;241m=\u001b[39m \u001b[38;5;28mself\u001b[39m\u001b[38;5;241m.\u001b[39m_jdf\u001b[38;5;241m.\u001b[39mselect(\u001b[38;5;28;43mself\u001b[39;49m\u001b[38;5;241;43m.\u001b[39;49m\u001b[43m_jcols\u001b[49m\u001b[43m(\u001b[49m\u001b[38;5;241;43m*\u001b[39;49m\u001b[43mcols\u001b[49m\u001b[43m)\u001b[49m)\n\u001b[0;32m   2024\u001b[0m     \u001b[38;5;28;01mreturn\u001b[39;00m DataFrame(jdf, \u001b[38;5;28mself\u001b[39m\u001b[38;5;241m.\u001b[39msparkSession)\n",
      "File \u001b[1;32mC:\\anaconda\\instalation\\lib\\site-packages\\pyspark\\sql\\dataframe.py:1754\u001b[0m, in \u001b[0;36mDataFrame._jcols\u001b[1;34m(self, *cols)\u001b[0m\n\u001b[0;32m   1752\u001b[0m \u001b[38;5;28;01mif\u001b[39;00m \u001b[38;5;28mlen\u001b[39m(cols) \u001b[38;5;241m==\u001b[39m \u001b[38;5;241m1\u001b[39m \u001b[38;5;129;01mand\u001b[39;00m \u001b[38;5;28misinstance\u001b[39m(cols[\u001b[38;5;241m0\u001b[39m], \u001b[38;5;28mlist\u001b[39m):\n\u001b[0;32m   1753\u001b[0m     cols \u001b[38;5;241m=\u001b[39m cols[\u001b[38;5;241m0\u001b[39m]\n\u001b[1;32m-> 1754\u001b[0m \u001b[38;5;28;01mreturn\u001b[39;00m \u001b[38;5;28;43mself\u001b[39;49m\u001b[38;5;241;43m.\u001b[39;49m\u001b[43m_jseq\u001b[49m\u001b[43m(\u001b[49m\u001b[43mcols\u001b[49m\u001b[43m,\u001b[49m\u001b[43m \u001b[49m\u001b[43m_to_java_column\u001b[49m\u001b[43m)\u001b[49m\n",
      "File \u001b[1;32mC:\\anaconda\\instalation\\lib\\site-packages\\pyspark\\sql\\dataframe.py:1741\u001b[0m, in \u001b[0;36mDataFrame._jseq\u001b[1;34m(self, cols, converter)\u001b[0m\n\u001b[0;32m   1735\u001b[0m \u001b[38;5;28;01mdef\u001b[39;00m \u001b[38;5;21m_jseq\u001b[39m(\n\u001b[0;32m   1736\u001b[0m     \u001b[38;5;28mself\u001b[39m,\n\u001b[0;32m   1737\u001b[0m     cols: Sequence,\n\u001b[0;32m   1738\u001b[0m     converter: Optional[Callable[\u001b[38;5;241m.\u001b[39m\u001b[38;5;241m.\u001b[39m\u001b[38;5;241m.\u001b[39m, Union[\u001b[38;5;124m\"\u001b[39m\u001b[38;5;124mPrimitiveType\u001b[39m\u001b[38;5;124m\"\u001b[39m, JavaObject]]] \u001b[38;5;241m=\u001b[39m \u001b[38;5;28;01mNone\u001b[39;00m,\n\u001b[0;32m   1739\u001b[0m ) \u001b[38;5;241m-\u001b[39m\u001b[38;5;241m>\u001b[39m JavaObject:\n\u001b[0;32m   1740\u001b[0m     \u001b[38;5;124;03m\"\"\"Return a JVM Seq of Columns from a list of Column or names\"\"\"\u001b[39;00m\n\u001b[1;32m-> 1741\u001b[0m     \u001b[38;5;28;01mreturn\u001b[39;00m \u001b[43m_to_seq\u001b[49m\u001b[43m(\u001b[49m\u001b[38;5;28;43mself\u001b[39;49m\u001b[38;5;241;43m.\u001b[39;49m\u001b[43msparkSession\u001b[49m\u001b[38;5;241;43m.\u001b[39;49m\u001b[43m_sc\u001b[49m\u001b[43m,\u001b[49m\u001b[43m \u001b[49m\u001b[43mcols\u001b[49m\u001b[43m,\u001b[49m\u001b[43m \u001b[49m\u001b[43mconverter\u001b[49m\u001b[43m)\u001b[49m\n",
      "File \u001b[1;32mC:\\anaconda\\instalation\\lib\\site-packages\\pyspark\\sql\\column.py:86\u001b[0m, in \u001b[0;36m_to_seq\u001b[1;34m(sc, cols, converter)\u001b[0m\n\u001b[0;32m     79\u001b[0m \u001b[38;5;124;03m\"\"\"\u001b[39;00m\n\u001b[0;32m     80\u001b[0m \u001b[38;5;124;03mConvert a list of Column (or names) into a JVM Seq of Column.\u001b[39;00m\n\u001b[0;32m     81\u001b[0m \n\u001b[0;32m     82\u001b[0m \u001b[38;5;124;03mAn optional `converter` could be used to convert items in `cols`\u001b[39;00m\n\u001b[0;32m     83\u001b[0m \u001b[38;5;124;03minto JVM Column objects.\u001b[39;00m\n\u001b[0;32m     84\u001b[0m \u001b[38;5;124;03m\"\"\"\u001b[39;00m\n\u001b[0;32m     85\u001b[0m \u001b[38;5;28;01mif\u001b[39;00m converter:\n\u001b[1;32m---> 86\u001b[0m     cols \u001b[38;5;241m=\u001b[39m [converter(c) \u001b[38;5;28;01mfor\u001b[39;00m c \u001b[38;5;129;01min\u001b[39;00m cols]\n\u001b[0;32m     87\u001b[0m \u001b[38;5;28;01massert\u001b[39;00m sc\u001b[38;5;241m.\u001b[39m_jvm \u001b[38;5;129;01mis\u001b[39;00m \u001b[38;5;129;01mnot\u001b[39;00m \u001b[38;5;28;01mNone\u001b[39;00m\n\u001b[0;32m     88\u001b[0m \u001b[38;5;28;01mreturn\u001b[39;00m sc\u001b[38;5;241m.\u001b[39m_jvm\u001b[38;5;241m.\u001b[39mPythonUtils\u001b[38;5;241m.\u001b[39mtoSeq(cols)\n",
      "File \u001b[1;32mC:\\anaconda\\instalation\\lib\\site-packages\\pyspark\\sql\\column.py:86\u001b[0m, in \u001b[0;36m<listcomp>\u001b[1;34m(.0)\u001b[0m\n\u001b[0;32m     79\u001b[0m \u001b[38;5;124;03m\"\"\"\u001b[39;00m\n\u001b[0;32m     80\u001b[0m \u001b[38;5;124;03mConvert a list of Column (or names) into a JVM Seq of Column.\u001b[39;00m\n\u001b[0;32m     81\u001b[0m \n\u001b[0;32m     82\u001b[0m \u001b[38;5;124;03mAn optional `converter` could be used to convert items in `cols`\u001b[39;00m\n\u001b[0;32m     83\u001b[0m \u001b[38;5;124;03minto JVM Column objects.\u001b[39;00m\n\u001b[0;32m     84\u001b[0m \u001b[38;5;124;03m\"\"\"\u001b[39;00m\n\u001b[0;32m     85\u001b[0m \u001b[38;5;28;01mif\u001b[39;00m converter:\n\u001b[1;32m---> 86\u001b[0m     cols \u001b[38;5;241m=\u001b[39m [\u001b[43mconverter\u001b[49m\u001b[43m(\u001b[49m\u001b[43mc\u001b[49m\u001b[43m)\u001b[49m \u001b[38;5;28;01mfor\u001b[39;00m c \u001b[38;5;129;01min\u001b[39;00m cols]\n\u001b[0;32m     87\u001b[0m \u001b[38;5;28;01massert\u001b[39;00m sc\u001b[38;5;241m.\u001b[39m_jvm \u001b[38;5;129;01mis\u001b[39;00m \u001b[38;5;129;01mnot\u001b[39;00m \u001b[38;5;28;01mNone\u001b[39;00m\n\u001b[0;32m     88\u001b[0m \u001b[38;5;28;01mreturn\u001b[39;00m sc\u001b[38;5;241m.\u001b[39m_jvm\u001b[38;5;241m.\u001b[39mPythonUtils\u001b[38;5;241m.\u001b[39mtoSeq(cols)\n",
      "File \u001b[1;32mC:\\anaconda\\instalation\\lib\\site-packages\\pyspark\\sql\\column.py:65\u001b[0m, in \u001b[0;36m_to_java_column\u001b[1;34m(col)\u001b[0m\n\u001b[0;32m     63\u001b[0m     jcol \u001b[38;5;241m=\u001b[39m _create_column_from_name(col)\n\u001b[0;32m     64\u001b[0m \u001b[38;5;28;01melse\u001b[39;00m:\n\u001b[1;32m---> 65\u001b[0m     \u001b[38;5;28;01mraise\u001b[39;00m \u001b[38;5;167;01mTypeError\u001b[39;00m(\n\u001b[0;32m     66\u001b[0m         \u001b[38;5;124m\"\u001b[39m\u001b[38;5;124mInvalid argument, not a string or column: \u001b[39m\u001b[38;5;124m\"\u001b[39m\n\u001b[0;32m     67\u001b[0m         \u001b[38;5;124m\"\u001b[39m\u001b[38;5;132;01m{0}\u001b[39;00m\u001b[38;5;124m of type \u001b[39m\u001b[38;5;132;01m{1}\u001b[39;00m\u001b[38;5;124m. \u001b[39m\u001b[38;5;124m\"\u001b[39m\n\u001b[0;32m     68\u001b[0m         \u001b[38;5;124m\"\u001b[39m\u001b[38;5;124mFor column literals, use \u001b[39m\u001b[38;5;124m'\u001b[39m\u001b[38;5;124mlit\u001b[39m\u001b[38;5;124m'\u001b[39m\u001b[38;5;124m, \u001b[39m\u001b[38;5;124m'\u001b[39m\u001b[38;5;124marray\u001b[39m\u001b[38;5;124m'\u001b[39m\u001b[38;5;124m, \u001b[39m\u001b[38;5;124m'\u001b[39m\u001b[38;5;124mstruct\u001b[39m\u001b[38;5;124m'\u001b[39m\u001b[38;5;124m or \u001b[39m\u001b[38;5;124m'\u001b[39m\u001b[38;5;124mcreate_map\u001b[39m\u001b[38;5;124m'\u001b[39m\u001b[38;5;124m \u001b[39m\u001b[38;5;124m\"\u001b[39m\n\u001b[0;32m     69\u001b[0m         \u001b[38;5;124m\"\u001b[39m\u001b[38;5;124mfunction.\u001b[39m\u001b[38;5;124m\"\u001b[39m\u001b[38;5;241m.\u001b[39mformat(col, \u001b[38;5;28mtype\u001b[39m(col))\n\u001b[0;32m     70\u001b[0m     )\n\u001b[0;32m     71\u001b[0m \u001b[38;5;28;01mreturn\u001b[39;00m jcol\n",
      "\u001b[1;31mTypeError\u001b[0m: Invalid argument, not a string or column: False of type <class 'bool'>. For column literals, use 'lit', 'array', 'struct' or 'create_map' function."
     ]
    }
   ],
   "source": [
    "df_train_labs.select(\"session_id\"==listaasd).show()"
   ]
  },
  {
   "cell_type": "code",
   "execution_count": null,
   "id": "a0e21c45-c17a-4823-96bf-85de54c72050",
   "metadata": {},
   "outputs": [],
   "source": []
  },
  {
   "cell_type": "code",
   "execution_count": 21,
   "id": "fbcffe1e-1660-493c-9a98-fb3211a568a4",
   "metadata": {},
   "outputs": [
    {
     "ename": "NameError",
     "evalue": "name 'monotonically_increasing_id' is not defined",
     "output_type": "error",
     "traceback": [
      "\u001b[1;31m---------------------------------------------------------------------------\u001b[0m",
      "\u001b[1;31mNameError\u001b[0m                                 Traceback (most recent call last)",
      "Cell \u001b[1;32mIn[21], line 1\u001b[0m\n\u001b[1;32m----> 1\u001b[0m df_todo \u001b[38;5;241m=\u001b[39m df_todo\u001b[38;5;241m.\u001b[39mselect(\u001b[38;5;124m\"\u001b[39m\u001b[38;5;124m*\u001b[39m\u001b[38;5;124m\"\u001b[39m)\u001b[38;5;241m.\u001b[39mwithColumn(\u001b[38;5;124m\"\u001b[39m\u001b[38;5;124mid_index\u001b[39m\u001b[38;5;124m\"\u001b[39m, \u001b[43mmonotonically_increasing_id\u001b[49m())\n",
      "\u001b[1;31mNameError\u001b[0m: name 'monotonically_increasing_id' is not defined"
     ]
    }
   ],
   "source": [
    "#df_todo = df_todo.select(\"*\").withColumn(\"id_index\", monotonically_increasing_id())"
   ]
  },
  {
   "cell_type": "code",
   "execution_count": null,
   "id": "103bd959-c188-404e-87f1-7368caeb41ff",
   "metadata": {
    "tags": []
   },
   "outputs": [
    {
     "name": "stderr",
     "output_type": "stream",
     "text": [
      "ERROR:root:KeyboardInterrupt while sending command.\n",
      "Traceback (most recent call last):\n",
      "  File \"C:\\anaconda\\instalation\\lib\\socket.py\", line 705, in readinto\n",
      "    return self._sock.recv_into(b)\n",
      "ConnectionResetError: [WinError 10054] Foi forçado o cancelamento de uma conexão existente pelo host remoto\n",
      "\n",
      "During handling of the above exception, another exception occurred:\n",
      "\n",
      "Traceback (most recent call last):\n",
      "  File \"C:\\anaconda\\instalation\\lib\\site-packages\\py4j\\java_gateway.py\", line 1038, in send_command\n",
      "    response = connection.send_command(command)\n",
      "  File \"C:\\anaconda\\instalation\\lib\\site-packages\\py4j\\clientserver.py\", line 511, in send_command\n",
      "    answer = smart_decode(self.stream.readline()[:-1])\n",
      "  File \"C:\\anaconda\\instalation\\lib\\socket.py\", line 705, in readinto\n",
      "    return self._sock.recv_into(b)\n",
      "KeyboardInterrupt\n"
     ]
    }
   ],
   "source": [
    "#df_todo.select(\"*\").toPandas()"
   ]
  },
  {
   "cell_type": "code",
   "execution_count": 19,
   "id": "3cb596e4-355e-4a07-af26-eb2dc5c0f133",
   "metadata": {
    "tags": []
   },
   "outputs": [
    {
     "name": "stdout",
     "output_type": "stream",
     "text": [
      "-RECORD 0------------------------------\n",
      " session_id     | 20090109393214576    \n",
      " index          | 0                    \n",
      " elapsed_time   | 0                    \n",
      " event_name     | cutscene_click       \n",
      " name           | basic                \n",
      " level          | 0                    \n",
      " page           | null                 \n",
      " room_coor_x    | -413.99140522263224  \n",
      " room_coor_y    | 75.6853138297722     \n",
      " screen_coor_x  | 380.0                \n",
      " screen_coor_y  | 259.0                \n",
      " hover_duration | null                 \n",
      " text           | undefined            \n",
      " fqid           | intro                \n",
      " room_fqid      | tunic.historicals... \n",
      " text_fqid      | tunic.historicals... \n",
      " fullscreen     | null                 \n",
      " hq             | null                 \n",
      " music          | null                 \n",
      " level_group    | 0-4                  \n",
      " session_level  | 20090109393214576... \n",
      "only showing top 1 row\n",
      "\n",
      "+-----------------+-----+------------+--------------+-----+-----+----+-------------------+----------------+-------------+-------------+--------------+---------+-----+--------------------+--------------------+----------+----+-----+-----------+--------------------+\n",
      "|       session_id|index|elapsed_time|    event_name| name|level|page|        room_coor_x|     room_coor_y|screen_coor_x|screen_coor_y|hover_duration|     text| fqid|           room_fqid|           text_fqid|fullscreen|  hq|music|level_group|       session_level|\n",
      "+-----------------+-----+------------+--------------+-----+-----+----+-------------------+----------------+-------------+-------------+--------------+---------+-----+--------------------+--------------------+----------+----+-----+-----------+--------------------+\n",
      "|20090109393214576|    0|           0|cutscene_click|basic|    0|null|-413.99140522263224|75.6853138297722|        380.0|        259.0|          null|undefined|intro|tunic.historicals...|tunic.historicals...|      null|null| null|        0-4|20090109393214576...|\n",
      "+-----------------+-----+------------+--------------+-----+-----+----+-------------------+----------------+-------------+-------------+--------------+---------+-----+--------------------+--------------------+----------+----+-----+-----------+--------------------+\n",
      "only showing top 1 row\n",
      "\n"
     ]
    }
   ],
   "source": [
    "df_teste.show(1, vertical=True)\n",
    "teste_count = df_teste.count()\n",
    "df_teste.show(1)"
   ]
  },
  {
   "cell_type": "code",
   "execution_count": 20,
   "id": "78043c60-50ee-4ebe-9236-9aa80ed0a831",
   "metadata": {
    "tags": []
   },
   "outputs": [
    {
     "name": "stdout",
     "output_type": "stream",
     "text": [
      "-RECORD 0------------------------------\n",
      " session_id     | 20090312431273200    \n",
      " index          | 0                    \n",
      " elapsed_time   | 0                    \n",
      " event_name     | cutscene_click       \n",
      " name           | basic                \n",
      " level          | 0                    \n",
      " page           | null                 \n",
      " room_coor_x    | -413.99140522263224  \n",
      " room_coor_y    | -159.31468617022784  \n",
      " screen_coor_x  | 380.0                \n",
      " screen_coor_y  | 494.0                \n",
      " hover_duration | null                 \n",
      " text           | undefined            \n",
      " fqid           | intro                \n",
      " room_fqid      | tunic.historicals... \n",
      " text_fqid      | tunic.historicals... \n",
      " fullscreen     | null                 \n",
      " hq             | null                 \n",
      " music          | null                 \n",
      " level_group    | 0-4                  \n",
      "only showing top 1 row\n",
      "\n",
      "+-----------------+-----+------------+--------------+-----+-----+----+-------------------+-------------------+-------------+-------------+--------------+---------+-----+--------------------+--------------------+----------+----+-----+-----------+\n",
      "|       session_id|index|elapsed_time|    event_name| name|level|page|        room_coor_x|        room_coor_y|screen_coor_x|screen_coor_y|hover_duration|     text| fqid|           room_fqid|           text_fqid|fullscreen|  hq|music|level_group|\n",
      "+-----------------+-----+------------+--------------+-----+-----+----+-------------------+-------------------+-------------+-------------+--------------+---------+-----+--------------------+--------------------+----------+----+-----+-----------+\n",
      "|20090312431273200|    0|           0|cutscene_click|basic|    0|null|-413.99140522263224|-159.31468617022784|        380.0|        494.0|          null|undefined|intro|tunic.historicals...|tunic.historicals...|      null|null| null|        0-4|\n",
      "+-----------------+-----+------------+--------------+-----+-----+----+-------------------+-------------------+-------------+-------------+--------------+---------+-----+--------------------+--------------------+----------+----+-----+-----------+\n",
      "only showing top 1 row\n",
      "\n"
     ]
    }
   ],
   "source": [
    "df_train.show(1, vertical=True)\n",
    "train_count = df_train.count()\n",
    "df_train.show(1)"
   ]
  },
  {
   "cell_type": "code",
   "execution_count": null,
   "id": "1b4c4bd1-ade2-4e8e-a95d-44dd3e909a0c",
   "metadata": {
    "tags": []
   },
   "outputs": [],
   "source": [
    "cols_to_forget = ['session_id']\n",
    "cards_cols_interest = [x for x in df_teste.columns if x in cols_to_forget]"
   ]
  },
  {
   "cell_type": "code",
   "execution_count": null,
   "id": "78d0112c-9c61-49bf-a334-576bf213793d",
   "metadata": {
    "tags": []
   },
   "outputs": [],
   "source": [
    "df_teste.describe(cards_cols_interest).show()"
   ]
  },
  {
   "cell_type": "code",
   "execution_count": null,
   "id": "cc786f9e-aa3c-43c1-95b7-44ccd7e8f1c0",
   "metadata": {
    "tags": []
   },
   "outputs": [],
   "source": [
    "'session_id == 20100308381327090'"
   ]
  },
  {
   "cell_type": "code",
   "execution_count": null,
   "id": "1f64ffb5-2692-440c-a882-58c4f7d2b6ef",
   "metadata": {},
   "outputs": [],
   "source": [
    "df_aaa = ( df_teste\n",
    "                .withColumn(\"session_id\", F.when(F.col('session_id')=='20100308381327090', 1).otherwise(0))\n",
    "            )\n",
    "df_aaa"
   ]
  },
  {
   "cell_type": "code",
   "execution_count": null,
   "id": "af1f5c82-36e2-4e9a-8665-2b165b29e1c2",
   "metadata": {
    "tags": []
   },
   "outputs": [],
   "source": [
    "df_teste.filter(F.expr('session_id == 20090312331414616')).toPandas()"
   ]
  },
  {
   "cell_type": "code",
   "execution_count": null,
   "id": "07b6ff92-41e1-4e13-946c-22464dc235f3",
   "metadata": {
    "tags": []
   },
   "outputs": [],
   "source": [
    "df_teste.where('session_id == 20100308381327090').show()"
   ]
  },
  {
   "cell_type": "code",
   "execution_count": null,
   "id": "0a552643-1f39-4c83-9455-13537f6bec83",
   "metadata": {
    "tags": []
   },
   "outputs": [],
   "source": [
    "#df_teste.groupBy('level').count().toPandas().sort(df_teste.col(\"level\"),(\"count\")).show(truncate=False)"
   ]
  },
  {
   "cell_type": "code",
   "execution_count": null,
   "id": "58432c0d-7998-49cd-899a-d1b45ddbae0a",
   "metadata": {
    "tags": []
   },
   "outputs": [],
   "source": [
    "df_teste.groupBy('session_id').count().toPandas()\n",
    "\n",
    "\n",
    "#incialmente pensamento em utilziar o dataset de teste para trabalhar com um dataset menor, foi verificado que no dataset de teste possui apenas 3 session ID unicos enquanto que no dataset de treino tem 11779 session id unicos por isso não podemos utilziar o dataset de teste, teremos de fazer uma reduçao apartir dp dataset de treino"
   ]
  },
  {
   "cell_type": "code",
   "execution_count": null,
   "id": "dd1317f3-548f-4a34-8140-a408798813d8",
   "metadata": {
    "tags": []
   },
   "outputs": [],
   "source": [
    "df_teste.groupBy('text').count().toPandas()"
   ]
  },
  {
   "cell_type": "code",
   "execution_count": null,
   "id": "e056c1df-2fd6-4c81-bf45-fd389e87227a",
   "metadata": {
    "tags": []
   },
   "outputs": [],
   "source": [
    "df_teste.groupBy('event_name').count().toPandas()"
   ]
  },
  {
   "cell_type": "code",
   "execution_count": null,
   "id": "7ddf3e95-4b0c-4307-894b-b26597f21512",
   "metadata": {
    "tags": []
   },
   "outputs": [],
   "source": [
    "df_plot = df_teste.groupBy('event_name').count().toPandas()\n",
    "plotBar(df_plot, 'event_name', 'count')\n",
    "plt.title('grupos (event_name)')\n",
    "plt.show()"
   ]
  },
  {
   "cell_type": "code",
   "execution_count": null,
   "id": "e3d26c87-e8e7-4a15-ae30-dc86a182e9ad",
   "metadata": {
    "tags": []
   },
   "outputs": [],
   "source": [
    "df_train[f.Column'session_id'].printSchema()\n",
    "df_train.show(1, vertical=True)\n",
    "train_count = df_train.count()\n",
    "train_count\n",
    "df_train.show(1)"
   ]
  },
  {
   "cell_type": "code",
   "execution_count": null,
   "id": "06ccb268-e8fd-41fc-990d-d9105670bbaf",
   "metadata": {
    "tags": []
   },
   "outputs": [],
   "source": [
    "df_train_labs.show(5)"
   ]
  },
  {
   "cell_type": "code",
   "execution_count": null,
   "id": "bd389815-27f1-45a1-b86b-0b0f0ea060f5",
   "metadata": {
    "tags": []
   },
   "outputs": [],
   "source": [
    "print('\\nNulls in all columns')\n",
    "cols_to_forget = ['Credit Limit']\n",
    "teste_cols_interest = [x for x in df_teste.columns]\n",
    "for cl in teste_cols_interest:\n",
    "    k = df_teste.select(cl).filter(F.col(cl).isNull() | F.isnan(cl)).count()\n",
    "    if k > 0:\n",
    "        print(f'Column {cl} with {k} nulls or NaN, out of {teste_count} records ({k*100/teste_count:.2f}%)')"
   ]
  },
  {
   "cell_type": "code",
   "execution_count": null,
   "id": "2939000d-8cc8-47d6-bb2f-d258e51c1214",
   "metadata": {},
   "outputs": [],
   "source": [
    "test"
   ]
  },
  {
   "cell_type": "code",
   "execution_count": null,
   "id": "af54242e-d896-4a4a-b00f-fd5a74ff047c",
   "metadata": {},
   "outputs": [],
   "source": [
    "print('\\nNulls in all columns')\n",
    "cols_to_forget = ['fullscreen','hq','music','hover_duration']\n",
    "train_cols_interest = [x for x in df_train.columns if df_train.columns not in cols_to_forget]\n",
    "for cl in train_cols_interest:\n",
    "    k = df_train.select(cl).filter(F.col(cl).isNull() | F.isnan(cl)).count()\n",
    "    if k > 0:\n",
    "        print(f'Column {cl} with {k} nulls or NaN, out of {train_count} records ({k*100/train_count:.2f}%)')"
   ]
  },
  {
   "cell_type": "code",
   "execution_count": null,
   "id": "725c8e2e-b807-432c-b93b-15d9b31cb531",
   "metadata": {
    "tags": []
   },
   "outputs": [],
   "source": [
    "df_train.head(4)"
   ]
  },
  {
   "cell_type": "code",
   "execution_count": null,
   "id": "bd59ba34-0254-4fae-b8a1-2c31039e127d",
   "metadata": {
    "tags": []
   },
   "outputs": [],
   "source": [
    "df_train.tail(4)"
   ]
  },
  {
   "cell_type": "code",
   "execution_count": null,
   "id": "a9b3e699-2b89-46ad-9bff-400d15c20009",
   "metadata": {
    "tags": []
   },
   "outputs": [],
   "source": [
    "train_cols_interest.remove('fullscreen')\n",
    "train_cols_interest.remove('music')\n",
    "train_cols_interest.remove('hq')\n",
    "train_cols_interest.remove('page')\n",
    "train_cols_interest.remove('hover_duration')\n",
    "train_cols_interest.remove('text')\n",
    "train_cols_interest.remove('text_fqid')"
   ]
  },
  {
   "cell_type": "code",
   "execution_count": null,
   "id": "3b78a372-3cff-4a12-afaf-4dab0bd98677",
   "metadata": {
    "tags": []
   },
   "outputs": [],
   "source": [
    "for cl in train_cols_interest:\n",
    "    k = df_train.select(cl).filter(F.col(cl).isNull() | F.isnan(cl)).count()\n",
    "    if k > 0:\n",
    "        print(f'Column {cl} with {k} nulls or NaN, out of {train_count} records ({k*100/train_count:.2f}%)')"
   ]
  },
  {
   "cell_type": "code",
   "execution_count": null,
   "id": "473ff700-2e41-4355-8a13-beb9cc591cc6",
   "metadata": {
    "tags": []
   },
   "outputs": [],
   "source": [
    "teste_cols_interest.remove('fullscreen')\n",
    "teste_cols_interest.remove('music')\n",
    "teste_cols_interest.remove('hq')\n",
    "teste_cols_interest.remove('page')"
   ]
  },
  {
   "cell_type": "code",
   "execution_count": null,
   "id": "9056569c-3410-46c8-8176-0052b75e9253",
   "metadata": {
    "tags": []
   },
   "outputs": [],
   "source": [
    "for cl in teste_cols_interest:\n",
    "    k = df_teste.select(cl).filter(F.col(cl).isNull() | F.isnan(cl)).count()\n",
    "    if k > 0:\n",
    "        print(f'Column {cl} with {k} nulls or NaN, out of {teste_count} records ({k*100/teste_count:.2f}%)')"
   ]
  },
  {
   "cell_type": "code",
   "execution_count": null,
   "id": "db9ae982-17c4-4586-b966-79f91aae7b9b",
   "metadata": {
    "tags": []
   },
   "outputs": [],
   "source": [
    "print('\\nUniqueness in teste:')\n",
    "for cl in teste_cols_interest:\n",
    "    k = df_teste.select(cl).distinct().count()\n",
    "    print(f\"Columns {cl} with {k} distinct values, out of {teste_count}\"+f\" records ({k*100/teste_count:.2f})%\")"
   ]
  },
  {
   "cell_type": "code",
   "execution_count": null,
   "id": "c3057ed2-3361-4656-ab8f-e7230de4b43d",
   "metadata": {
    "tags": []
   },
   "outputs": [],
   "source": [
    "print('\\nUniqueness in treino:')\n",
    "for cl in train_cols_interest:\n",
    "    k = df_train.select(cl).distinct().count()\n",
    "    print(f\"Columns {cl} with {k} distinct values, out of {train_count}\"+f\" records ({k*100/train_count:.2f})%\")"
   ]
  },
  {
   "cell_type": "code",
   "execution_count": null,
   "id": "9f71d7de-9d93-4352-98a2-f5337a1a2130",
   "metadata": {
    "tags": []
   },
   "outputs": [],
   "source": [
    "#corr_matrix = Correlation.corr(df_teste, df_teste).collect()[0][0].toArray().tolist()"
   ]
  },
  {
   "cell_type": "code",
   "execution_count": null,
   "id": "7de612e2-50b0-4deb-bc4c-860fd8a3399d",
   "metadata": {
    "tags": []
   },
   "outputs": [],
   "source": [
    "#df_plot = pd.DataFrame(data = corr_matrix, index=df.teste.columns, columns=df.teste.columns)\n",
    "#plotCorrelationMatrix_1(df_plot, annot=True)\n",
    "#plt.title('Correlations among numerical features')\n",
    "#plt.show()"
   ]
  },
  {
   "cell_type": "code",
   "execution_count": null,
   "id": "8503b129-9e0e-4d8d-a1a4-8c8d41c31b33",
   "metadata": {
    "tags": []
   },
   "outputs": [],
   "source": [
    "seed = 5\n",
    "with_replacement = False\n",
    "fraction = 0.2          # reduce to 20%\n",
    "small_df_train = df_train.sample(withReplacement=with_replacement, \n",
    "                                               fraction=fraction, seed=seed)"
   ]
  },
  {
   "cell_type": "code",
   "execution_count": null,
   "id": "94d27f58-deec-4eb9-80e0-b5f5d130a6bb",
   "metadata": {
    "tags": []
   },
   "outputs": [],
   "source": [
    "small_df_train.count()"
   ]
  },
  {
   "cell_type": "code",
   "execution_count": null,
   "id": "b4dfb0ec-90d1-48cd-a328-40f0f240da32",
   "metadata": {
    "tags": []
   },
   "outputs": [],
   "source": [
    "df_train.count()"
   ]
  },
  {
   "cell_type": "code",
   "execution_count": 80,
   "id": "8c24465e-fceb-45e7-8616-ce6742b70cc8",
   "metadata": {
    "tags": []
   },
   "outputs": [
    {
     "name": "stderr",
     "output_type": "stream",
     "text": [
      "                                                                                \r"
     ]
    }
   ],
   "source": [
    "small_df_train.write.mode(\"overwrite\").parquet(\"small-df_train\")"
   ]
  },
  {
   "cell_type": "code",
   "execution_count": 32,
   "id": "4f4afcef-09c4-40ff-a04d-20be892c51a1",
   "metadata": {
    "tags": []
   },
   "outputs": [],
   "source": [
    "df_train_clean = spark.read.parquet('small-df_train')"
   ]
  },
  {
   "cell_type": "code",
   "execution_count": 33,
   "id": "5c6c41bd-558b-4d97-af6e-17b537eb89e5",
   "metadata": {
    "tags": []
   },
   "outputs": [
    {
     "name": "stderr",
     "output_type": "stream",
     "text": [
      "ERROR:root:Exception while sending command.                                     \n",
      "Traceback (most recent call last):\n",
      "  File \"/home/kardec/.local/lib/python3.10/site-packages/py4j/clientserver.py\", line 516, in send_command\n",
      "    raise Py4JNetworkError(\"Answer from Java side is empty\")\n",
      "py4j.protocol.Py4JNetworkError: Answer from Java side is empty\n",
      "\n",
      "During handling of the above exception, another exception occurred:\n",
      "\n",
      "Traceback (most recent call last):\n",
      "  File \"/home/kardec/.local/lib/python3.10/site-packages/py4j/java_gateway.py\", line 1038, in send_command\n",
      "    response = connection.send_command(command)\n",
      "  File \"/home/kardec/.local/lib/python3.10/site-packages/py4j/clientserver.py\", line 539, in send_command\n",
      "    raise Py4JNetworkError(\n",
      "py4j.protocol.Py4JNetworkError: Error while sending or receiving\n"
     ]
    },
    {
     "data": {
      "text/html": [
       "<div>\n",
       "<style scoped>\n",
       "    .dataframe tbody tr th:only-of-type {\n",
       "        vertical-align: middle;\n",
       "    }\n",
       "\n",
       "    .dataframe tbody tr th {\n",
       "        vertical-align: top;\n",
       "    }\n",
       "\n",
       "    .dataframe thead th {\n",
       "        text-align: right;\n",
       "    }\n",
       "</style>\n",
       "<table border=\"1\" class=\"dataframe\">\n",
       "  <thead>\n",
       "    <tr style=\"text-align: right;\">\n",
       "      <th></th>\n",
       "      <th>session_id</th>\n",
       "      <th>index</th>\n",
       "      <th>elapsed_time</th>\n",
       "      <th>event_name</th>\n",
       "      <th>name</th>\n",
       "      <th>level</th>\n",
       "      <th>page</th>\n",
       "      <th>room_coor_x</th>\n",
       "      <th>room_coor_y</th>\n",
       "      <th>screen_coor_x</th>\n",
       "      <th>screen_coor_y</th>\n",
       "      <th>hover_duration</th>\n",
       "      <th>text</th>\n",
       "      <th>fqid</th>\n",
       "      <th>room_fqid</th>\n",
       "      <th>text_fqid</th>\n",
       "      <th>fullscreen</th>\n",
       "      <th>hq</th>\n",
       "      <th>music</th>\n",
       "      <th>level_group</th>\n",
       "    </tr>\n",
       "  </thead>\n",
       "  <tbody>\n",
       "    <tr>\n",
       "      <th>0</th>\n",
       "      <td>21050410434308160</td>\n",
       "      <td>968</td>\n",
       "      <td>1726999</td>\n",
       "      <td>person_click</td>\n",
       "      <td>basic</td>\n",
       "      <td>20</td>\n",
       "      <td>NaN</td>\n",
       "      <td>-381.847136</td>\n",
       "      <td>110.712177</td>\n",
       "      <td>254.0</td>\n",
       "      <td>245.0</td>\n",
       "      <td>NaN</td>\n",
       "      <td>It has something to do with ecology.</td>\n",
       "      <td>worker</td>\n",
       "      <td>tunic.library.frontdesk</td>\n",
       "      <td>tunic.library.frontdesk.worker.flag</td>\n",
       "      <td>None</td>\n",
       "      <td>None</td>\n",
       "      <td>None</td>\n",
       "      <td>13-22</td>\n",
       "    </tr>\n",
       "    <tr>\n",
       "      <th>1</th>\n",
       "      <td>21050410434308160</td>\n",
       "      <td>978</td>\n",
       "      <td>1735199</td>\n",
       "      <td>navigate_click</td>\n",
       "      <td>undefined</td>\n",
       "      <td>20</td>\n",
       "      <td>NaN</td>\n",
       "      <td>586.732639</td>\n",
       "      <td>227.529868</td>\n",
       "      <td>762.0</td>\n",
       "      <td>155.0</td>\n",
       "      <td>NaN</td>\n",
       "      <td>None</td>\n",
       "      <td>tomicrofiche</td>\n",
       "      <td>tunic.library.frontdesk</td>\n",
       "      <td>None</td>\n",
       "      <td>None</td>\n",
       "      <td>None</td>\n",
       "      <td>None</td>\n",
       "      <td>13-22</td>\n",
       "    </tr>\n",
       "    <tr>\n",
       "      <th>2</th>\n",
       "      <td>21050410434308160</td>\n",
       "      <td>985</td>\n",
       "      <td>1754449</td>\n",
       "      <td>object_click</td>\n",
       "      <td>basic</td>\n",
       "      <td>20</td>\n",
       "      <td>NaN</td>\n",
       "      <td>32.837203</td>\n",
       "      <td>-229.000000</td>\n",
       "      <td>480.0</td>\n",
       "      <td>559.0</td>\n",
       "      <td>NaN</td>\n",
       "      <td>None</td>\n",
       "      <td>reader_flag.paper1.next</td>\n",
       "      <td>tunic.library.microfiche</td>\n",
       "      <td>None</td>\n",
       "      <td>None</td>\n",
       "      <td>None</td>\n",
       "      <td>None</td>\n",
       "      <td>13-22</td>\n",
       "    </tr>\n",
       "    <tr>\n",
       "      <th>3</th>\n",
       "      <td>21050410434308160</td>\n",
       "      <td>986</td>\n",
       "      <td>1758732</td>\n",
       "      <td>object_hover</td>\n",
       "      <td>undefined</td>\n",
       "      <td>20</td>\n",
       "      <td>NaN</td>\n",
       "      <td>NaN</td>\n",
       "      <td>NaN</td>\n",
       "      <td>NaN</td>\n",
       "      <td>NaN</td>\n",
       "      <td>10699.0</td>\n",
       "      <td>None</td>\n",
       "      <td>reader_flag.paper0.next</td>\n",
       "      <td>tunic.library.microfiche</td>\n",
       "      <td>None</td>\n",
       "      <td>None</td>\n",
       "      <td>None</td>\n",
       "      <td>None</td>\n",
       "      <td>13-22</td>\n",
       "    </tr>\n",
       "    <tr>\n",
       "      <th>4</th>\n",
       "      <td>21050410434308160</td>\n",
       "      <td>987</td>\n",
       "      <td>1759332</td>\n",
       "      <td>object_hover</td>\n",
       "      <td>undefined</td>\n",
       "      <td>20</td>\n",
       "      <td>NaN</td>\n",
       "      <td>NaN</td>\n",
       "      <td>NaN</td>\n",
       "      <td>NaN</td>\n",
       "      <td>NaN</td>\n",
       "      <td>566.0</td>\n",
       "      <td>None</td>\n",
       "      <td>reader_flag.paper2.bingo</td>\n",
       "      <td>tunic.library.microfiche</td>\n",
       "      <td>None</td>\n",
       "      <td>None</td>\n",
       "      <td>None</td>\n",
       "      <td>None</td>\n",
       "      <td>13-22</td>\n",
       "    </tr>\n",
       "    <tr>\n",
       "      <th>...</th>\n",
       "      <td>...</td>\n",
       "      <td>...</td>\n",
       "      <td>...</td>\n",
       "      <td>...</td>\n",
       "      <td>...</td>\n",
       "      <td>...</td>\n",
       "      <td>...</td>\n",
       "      <td>...</td>\n",
       "      <td>...</td>\n",
       "      <td>...</td>\n",
       "      <td>...</td>\n",
       "      <td>...</td>\n",
       "      <td>...</td>\n",
       "      <td>...</td>\n",
       "      <td>...</td>\n",
       "      <td>...</td>\n",
       "      <td>...</td>\n",
       "      <td>...</td>\n",
       "      <td>...</td>\n",
       "      <td>...</td>\n",
       "    </tr>\n",
       "    <tr>\n",
       "      <th>2634645</th>\n",
       "      <td>22100221145014656</td>\n",
       "      <td>1570</td>\n",
       "      <td>5431389</td>\n",
       "      <td>object_click</td>\n",
       "      <td>basic</td>\n",
       "      <td>21</td>\n",
       "      <td>NaN</td>\n",
       "      <td>-257.274472</td>\n",
       "      <td>45.755580</td>\n",
       "      <td>107.0</td>\n",
       "      <td>286.0</td>\n",
       "      <td>NaN</td>\n",
       "      <td>None</td>\n",
       "      <td>journals_flag.hub.topics</td>\n",
       "      <td>tunic.historicalsociety.stacks</td>\n",
       "      <td>None</td>\n",
       "      <td>None</td>\n",
       "      <td>None</td>\n",
       "      <td>None</td>\n",
       "      <td>13-22</td>\n",
       "    </tr>\n",
       "    <tr>\n",
       "      <th>2634646</th>\n",
       "      <td>22100221145014656</td>\n",
       "      <td>1584</td>\n",
       "      <td>5445520</td>\n",
       "      <td>object_hover</td>\n",
       "      <td>undefined</td>\n",
       "      <td>21</td>\n",
       "      <td>NaN</td>\n",
       "      <td>NaN</td>\n",
       "      <td>NaN</td>\n",
       "      <td>NaN</td>\n",
       "      <td>NaN</td>\n",
       "      <td>404.0</td>\n",
       "      <td>None</td>\n",
       "      <td>journals_flag.pic_1.next</td>\n",
       "      <td>tunic.historicalsociety.stacks</td>\n",
       "      <td>None</td>\n",
       "      <td>None</td>\n",
       "      <td>None</td>\n",
       "      <td>None</td>\n",
       "      <td>13-22</td>\n",
       "    </tr>\n",
       "    <tr>\n",
       "      <th>2634647</th>\n",
       "      <td>22100221145014656</td>\n",
       "      <td>1586</td>\n",
       "      <td>5447903</td>\n",
       "      <td>object_click</td>\n",
       "      <td>basic</td>\n",
       "      <td>21</td>\n",
       "      <td>NaN</td>\n",
       "      <td>447.725528</td>\n",
       "      <td>-72.244420</td>\n",
       "      <td>812.0</td>\n",
       "      <td>404.0</td>\n",
       "      <td>NaN</td>\n",
       "      <td>None</td>\n",
       "      <td>journals_flag.pic_2.next</td>\n",
       "      <td>tunic.historicalsociety.stacks</td>\n",
       "      <td>None</td>\n",
       "      <td>None</td>\n",
       "      <td>None</td>\n",
       "      <td>None</td>\n",
       "      <td>13-22</td>\n",
       "    </tr>\n",
       "    <tr>\n",
       "      <th>2634648</th>\n",
       "      <td>22100221145014656</td>\n",
       "      <td>1590</td>\n",
       "      <td>5470870</td>\n",
       "      <td>navigate_click</td>\n",
       "      <td>undefined</td>\n",
       "      <td>22</td>\n",
       "      <td>NaN</td>\n",
       "      <td>10.725528</td>\n",
       "      <td>-282.244420</td>\n",
       "      <td>375.0</td>\n",
       "      <td>614.0</td>\n",
       "      <td>NaN</td>\n",
       "      <td>None</td>\n",
       "      <td>toentry</td>\n",
       "      <td>tunic.historicalsociety.stacks</td>\n",
       "      <td>None</td>\n",
       "      <td>None</td>\n",
       "      <td>None</td>\n",
       "      <td>None</td>\n",
       "      <td>13-22</td>\n",
       "    </tr>\n",
       "    <tr>\n",
       "      <th>2634649</th>\n",
       "      <td>22100221145014656</td>\n",
       "      <td>1600</td>\n",
       "      <td>5483231</td>\n",
       "      <td>navigate_click</td>\n",
       "      <td>undefined</td>\n",
       "      <td>22</td>\n",
       "      <td>NaN</td>\n",
       "      <td>343.887291</td>\n",
       "      <td>36.701026</td>\n",
       "      <td>483.0</td>\n",
       "      <td>273.0</td>\n",
       "      <td>NaN</td>\n",
       "      <td>None</td>\n",
       "      <td>None</td>\n",
       "      <td>tunic.capitol_2.hall</td>\n",
       "      <td>None</td>\n",
       "      <td>None</td>\n",
       "      <td>None</td>\n",
       "      <td>None</td>\n",
       "      <td>13-22</td>\n",
       "    </tr>\n",
       "  </tbody>\n",
       "</table>\n",
       "<p>2634650 rows × 20 columns</p>\n",
       "</div>"
      ],
      "text/plain": [
       "                session_id  index  elapsed_time      event_name       name  \\\n",
       "0        21050410434308160    968       1726999    person_click      basic   \n",
       "1        21050410434308160    978       1735199  navigate_click  undefined   \n",
       "2        21050410434308160    985       1754449    object_click      basic   \n",
       "3        21050410434308160    986       1758732    object_hover  undefined   \n",
       "4        21050410434308160    987       1759332    object_hover  undefined   \n",
       "...                    ...    ...           ...             ...        ...   \n",
       "2634645  22100221145014656   1570       5431389    object_click      basic   \n",
       "2634646  22100221145014656   1584       5445520    object_hover  undefined   \n",
       "2634647  22100221145014656   1586       5447903    object_click      basic   \n",
       "2634648  22100221145014656   1590       5470870  navigate_click  undefined   \n",
       "2634649  22100221145014656   1600       5483231  navigate_click  undefined   \n",
       "\n",
       "         level  page  room_coor_x  room_coor_y  screen_coor_x  screen_coor_y  \\\n",
       "0           20   NaN  -381.847136   110.712177          254.0          245.0   \n",
       "1           20   NaN   586.732639   227.529868          762.0          155.0   \n",
       "2           20   NaN    32.837203  -229.000000          480.0          559.0   \n",
       "3           20   NaN          NaN          NaN            NaN            NaN   \n",
       "4           20   NaN          NaN          NaN            NaN            NaN   \n",
       "...        ...   ...          ...          ...            ...            ...   \n",
       "2634645     21   NaN  -257.274472    45.755580          107.0          286.0   \n",
       "2634646     21   NaN          NaN          NaN            NaN            NaN   \n",
       "2634647     21   NaN   447.725528   -72.244420          812.0          404.0   \n",
       "2634648     22   NaN    10.725528  -282.244420          375.0          614.0   \n",
       "2634649     22   NaN   343.887291    36.701026          483.0          273.0   \n",
       "\n",
       "         hover_duration                                  text  \\\n",
       "0                   NaN  It has something to do with ecology.   \n",
       "1                   NaN                                  None   \n",
       "2                   NaN                                  None   \n",
       "3               10699.0                                  None   \n",
       "4                 566.0                                  None   \n",
       "...                 ...                                   ...   \n",
       "2634645             NaN                                  None   \n",
       "2634646           404.0                                  None   \n",
       "2634647             NaN                                  None   \n",
       "2634648             NaN                                  None   \n",
       "2634649             NaN                                  None   \n",
       "\n",
       "                             fqid                       room_fqid  \\\n",
       "0                          worker         tunic.library.frontdesk   \n",
       "1                    tomicrofiche         tunic.library.frontdesk   \n",
       "2         reader_flag.paper1.next        tunic.library.microfiche   \n",
       "3         reader_flag.paper0.next        tunic.library.microfiche   \n",
       "4        reader_flag.paper2.bingo        tunic.library.microfiche   \n",
       "...                           ...                             ...   \n",
       "2634645  journals_flag.hub.topics  tunic.historicalsociety.stacks   \n",
       "2634646  journals_flag.pic_1.next  tunic.historicalsociety.stacks   \n",
       "2634647  journals_flag.pic_2.next  tunic.historicalsociety.stacks   \n",
       "2634648                   toentry  tunic.historicalsociety.stacks   \n",
       "2634649                      None            tunic.capitol_2.hall   \n",
       "\n",
       "                                   text_fqid fullscreen    hq music  \\\n",
       "0        tunic.library.frontdesk.worker.flag       None  None  None   \n",
       "1                                       None       None  None  None   \n",
       "2                                       None       None  None  None   \n",
       "3                                       None       None  None  None   \n",
       "4                                       None       None  None  None   \n",
       "...                                      ...        ...   ...   ...   \n",
       "2634645                                 None       None  None  None   \n",
       "2634646                                 None       None  None  None   \n",
       "2634647                                 None       None  None  None   \n",
       "2634648                                 None       None  None  None   \n",
       "2634649                                 None       None  None  None   \n",
       "\n",
       "        level_group  \n",
       "0             13-22  \n",
       "1             13-22  \n",
       "2             13-22  \n",
       "3             13-22  \n",
       "4             13-22  \n",
       "...             ...  \n",
       "2634645       13-22  \n",
       "2634646       13-22  \n",
       "2634647       13-22  \n",
       "2634648       13-22  \n",
       "2634649       13-22  \n",
       "\n",
       "[2634650 rows x 20 columns]"
      ]
     },
     "execution_count": 33,
     "metadata": {},
     "output_type": "execute_result"
    }
   ],
   "source": [
    "df_train_clean.toPandas()"
   ]
  },
  {
   "cell_type": "code",
   "execution_count": 49,
   "id": "36f67664-85f0-4803-8b22-deb5b80caae5",
   "metadata": {
    "tags": []
   },
   "outputs": [],
   "source": []
  },
  {
   "cell_type": "code",
   "execution_count": 49,
   "id": "37a68eae-1d99-43b5-a11e-b5228a127d81",
   "metadata": {
    "tags": []
   },
   "outputs": [],
   "source": []
  },
  {
   "cell_type": "code",
   "execution_count": 49,
   "id": "da4e1c66-8219-4188-926f-7f35960f8ee2",
   "metadata": {
    "tags": []
   },
   "outputs": [],
   "source": []
  },
  {
   "cell_type": "code",
   "execution_count": 49,
   "id": "beb57332-8659-4850-85bf-bb791f1c99da",
   "metadata": {
    "tags": []
   },
   "outputs": [],
   "source": []
  },
  {
   "cell_type": "code",
   "execution_count": 49,
   "id": "877f6417-53b9-4c24-a387-70cc7e8c2a52",
   "metadata": {
    "tags": []
   },
   "outputs": [],
   "source": []
  },
  {
   "cell_type": "code",
   "execution_count": 49,
   "id": "4c32fc3a-569d-4934-b21d-bf8b9f1cfa1d",
   "metadata": {
    "tags": []
   },
   "outputs": [],
   "source": []
  },
  {
   "cell_type": "code",
   "execution_count": 49,
   "id": "c88fb94f-e1e2-43d7-85ff-63920e5b6698",
   "metadata": {
    "tags": []
   },
   "outputs": [],
   "source": []
  },
  {
   "cell_type": "code",
   "execution_count": 49,
   "id": "8c029127-1ba5-436c-8dd2-4d9461c94c52",
   "metadata": {
    "tags": []
   },
   "outputs": [],
   "source": [
    "df_train_on = df_train.select(train_cols_interest)\n",
    "df_teste_on = df_teste.select(teste_cols_interest)"
   ]
  },
  {
   "cell_type": "code",
   "execution_count": 50,
   "id": "b5091ba0-ff90-4ee7-85ce-9e27cd79e0e8",
   "metadata": {
    "tags": []
   },
   "outputs": [
    {
     "name": "stdout",
     "output_type": "stream",
     "text": [
      "root\n",
      " |-- session_id: long (nullable = true)\n",
      " |-- index: integer (nullable = true)\n",
      " |-- elapsed_time: integer (nullable = true)\n",
      " |-- event_name: string (nullable = true)\n",
      " |-- name: string (nullable = true)\n",
      " |-- level: integer (nullable = true)\n",
      " |-- room_coor_x: double (nullable = true)\n",
      " |-- room_coor_y: double (nullable = true)\n",
      " |-- screen_coor_x: double (nullable = true)\n",
      " |-- screen_coor_y: double (nullable = true)\n",
      " |-- fqid: string (nullable = true)\n",
      " |-- room_fqid: string (nullable = true)\n",
      " |-- level_group: string (nullable = true)\n",
      "\n",
      "root\n",
      " |-- session_id: long (nullable = true)\n",
      " |-- index: integer (nullable = true)\n",
      " |-- elapsed_time: integer (nullable = true)\n",
      " |-- event_name: string (nullable = true)\n",
      " |-- name: string (nullable = true)\n",
      " |-- level: integer (nullable = true)\n",
      " |-- room_coor_x: double (nullable = true)\n",
      " |-- room_coor_y: double (nullable = true)\n",
      " |-- screen_coor_x: double (nullable = true)\n",
      " |-- screen_coor_y: double (nullable = true)\n",
      " |-- hover_duration: double (nullable = true)\n",
      " |-- text: string (nullable = true)\n",
      " |-- fqid: string (nullable = true)\n",
      " |-- room_fqid: string (nullable = true)\n",
      " |-- text_fqid: string (nullable = true)\n",
      " |-- level_group: string (nullable = true)\n",
      " |-- session_level: string (nullable = true)\n",
      "\n"
     ]
    }
   ],
   "source": [
    "df_train_on.printSchema()\n",
    "df_teste_on.printSchema()"
   ]
  }
 ],
 "metadata": {
  "kernelspec": {
   "display_name": "Python 3 (ipykernel)",
   "language": "python",
   "name": "python3"
  },
  "language_info": {
   "codemirror_mode": {
    "name": "ipython",
    "version": 3
   },
   "file_extension": ".py",
   "mimetype": "text/x-python",
   "name": "python",
   "nbconvert_exporter": "python",
   "pygments_lexer": "ipython3",
   "version": "3.10.9"
  }
 },
 "nbformat": 4,
 "nbformat_minor": 5
}
