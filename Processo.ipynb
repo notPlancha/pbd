{
 "cells": [
  {
   "cell_type": "code",
   "execution_count": 1,
   "id": "8fcd1dbd-c6ea-4ca9-a617-fdea5e858136",
   "metadata": {
    "colab": {
     "base_uri": "https://localhost:8080/"
    },
    "collapsed": true,
    "id": "8fcd1dbd-c6ea-4ca9-a617-fdea5e858136",
    "jupyter": {
     "outputs_hidden": true
    },
    "outputId": "09643f89-219a-41f8-c036-6de15c0a2e1b",
    "tags": []
   },
   "outputs": [
    {
     "name": "stdout",
     "output_type": "stream",
     "text": [
      "Looking in indexes: https://pypi.org/simple, https://us-python.pkg.dev/colab-wheels/public/simple/\n",
      "Collecting pyspark\n",
      "  Downloading pyspark-3.3.2.tar.gz (281.4 MB)\n",
      "\u001b[2K     \u001b[90m━━━━━━━━━━━━━━━━━━━━━━━━━━━━━━━━━━━━━━━\u001b[0m \u001b[32m281.4/281.4 MB\u001b[0m \u001b[31m4.2 MB/s\u001b[0m eta \u001b[36m0:00:00\u001b[0m\n",
      "\u001b[?25h  Preparing metadata (setup.py) ... \u001b[?25l\u001b[?25hdone\n",
      "Collecting py4j==0.10.9.5\n",
      "  Downloading py4j-0.10.9.5-py2.py3-none-any.whl (199 kB)\n",
      "\u001b[2K     \u001b[90m━━━━━━━━━━━━━━━━━━━━━━━━━━━━━━━━━━━━━━\u001b[0m \u001b[32m199.7/199.7 KB\u001b[0m \u001b[31m16.5 MB/s\u001b[0m eta \u001b[36m0:00:00\u001b[0m\n",
      "\u001b[?25hBuilding wheels for collected packages: pyspark\n",
      "  Building wheel for pyspark (setup.py) ... \u001b[?25l\u001b[?25hdone\n",
      "  Created wheel for pyspark: filename=pyspark-3.3.2-py2.py3-none-any.whl size=281824028 sha256=d3bb2ea602059e2e2894869e32e903ac2d81ac0deb676925a7dd71ab77e4b05b\n",
      "  Stored in directory: /root/.cache/pip/wheels/6c/e3/9b/0525ce8a69478916513509d43693511463c6468db0de237c86\n",
      "Successfully built pyspark\n",
      "Installing collected packages: py4j, pyspark\n",
      "  Attempting uninstall: py4j\n",
      "    Found existing installation: py4j 0.10.9.7\n",
      "    Uninstalling py4j-0.10.9.7:\n",
      "      Successfully uninstalled py4j-0.10.9.7\n",
      "Successfully installed py4j-0.10.9.5 pyspark-3.3.2\n"
     ]
    }
   ],
   "source": [
    "pip install pyspark"
   ]
  },
  {
   "cell_type": "code",
   "execution_count": 2,
   "id": "580cbe11-5303-4040-9531-e7f98bef5321",
   "metadata": {
    "colab": {
     "base_uri": "https://localhost:8080/"
    },
    "collapsed": true,
    "id": "580cbe11-5303-4040-9531-e7f98bef5321",
    "jupyter": {
     "outputs_hidden": true
    },
    "outputId": "788c9776-c55e-4b9a-ae8a-60eb7b0e60cf",
    "tags": []
   },
   "outputs": [
    {
     "name": "stdout",
     "output_type": "stream",
     "text": [
      "Looking in indexes: https://pypi.org/simple, https://us-python.pkg.dev/colab-wheels/public/simple/\n",
      "Requirement already satisfied: seaborn in /usr/local/lib/python3.9/dist-packages (0.12.2)\n",
      "Requirement already satisfied: numpy!=1.24.0,>=1.17 in /usr/local/lib/python3.9/dist-packages (from seaborn) (1.22.4)\n",
      "Requirement already satisfied: pandas>=0.25 in /usr/local/lib/python3.9/dist-packages (from seaborn) (1.4.4)\n",
      "Requirement already satisfied: matplotlib!=3.6.1,>=3.1 in /usr/local/lib/python3.9/dist-packages (from seaborn) (3.7.1)\n",
      "Requirement already satisfied: fonttools>=4.22.0 in /usr/local/lib/python3.9/dist-packages (from matplotlib!=3.6.1,>=3.1->seaborn) (4.39.3)\n",
      "Requirement already satisfied: packaging>=20.0 in /usr/local/lib/python3.9/dist-packages (from matplotlib!=3.6.1,>=3.1->seaborn) (23.0)\n",
      "Requirement already satisfied: cycler>=0.10 in /usr/local/lib/python3.9/dist-packages (from matplotlib!=3.6.1,>=3.1->seaborn) (0.11.0)\n",
      "Requirement already satisfied: pillow>=6.2.0 in /usr/local/lib/python3.9/dist-packages (from matplotlib!=3.6.1,>=3.1->seaborn) (8.4.0)\n",
      "Requirement already satisfied: kiwisolver>=1.0.1 in /usr/local/lib/python3.9/dist-packages (from matplotlib!=3.6.1,>=3.1->seaborn) (1.4.4)\n",
      "Requirement already satisfied: pyparsing>=2.3.1 in /usr/local/lib/python3.9/dist-packages (from matplotlib!=3.6.1,>=3.1->seaborn) (3.0.9)\n",
      "Requirement already satisfied: importlib-resources>=3.2.0 in /usr/local/lib/python3.9/dist-packages (from matplotlib!=3.6.1,>=3.1->seaborn) (5.12.0)\n",
      "Requirement already satisfied: python-dateutil>=2.7 in /usr/local/lib/python3.9/dist-packages (from matplotlib!=3.6.1,>=3.1->seaborn) (2.8.2)\n",
      "Requirement already satisfied: contourpy>=1.0.1 in /usr/local/lib/python3.9/dist-packages (from matplotlib!=3.6.1,>=3.1->seaborn) (1.0.7)\n",
      "Requirement already satisfied: pytz>=2020.1 in /usr/local/lib/python3.9/dist-packages (from pandas>=0.25->seaborn) (2022.7.1)\n",
      "Requirement already satisfied: zipp>=3.1.0 in /usr/local/lib/python3.9/dist-packages (from importlib-resources>=3.2.0->matplotlib!=3.6.1,>=3.1->seaborn) (3.15.0)\n",
      "Requirement already satisfied: six>=1.5 in /usr/local/lib/python3.9/dist-packages (from python-dateutil>=2.7->matplotlib!=3.6.1,>=3.1->seaborn) (1.16.0)\n"
     ]
    }
   ],
   "source": [
    "pip install seaborn"
   ]
  },
  {
   "cell_type": "code",
   "execution_count": 3,
   "id": "1995d9b0-de95-45f3-9a38-dc53e064bb3d",
   "metadata": {
    "colab": {
     "base_uri": "https://localhost:8080/"
    },
    "collapsed": true,
    "id": "1995d9b0-de95-45f3-9a38-dc53e064bb3d",
    "jupyter": {
     "outputs_hidden": true
    },
    "outputId": "e3c5cf3e-22fa-4d8b-92ad-14103952a452",
    "tags": []
   },
   "outputs": [
    {
     "name": "stdout",
     "output_type": "stream",
     "text": [
      "Looking in indexes: https://pypi.org/simple, https://us-python.pkg.dev/colab-wheels/public/simple/\n",
      "Requirement already satisfied: kaggle in /usr/local/lib/python3.9/dist-packages (1.5.13)\n",
      "Collecting nbdev\n",
      "  Downloading nbdev-2.3.12-py3-none-any.whl (64 kB)\n",
      "\u001b[2K     \u001b[90m━━━━━━━━━━━━━━━━━━━━━━━━━━━━━━━━━━━━━━━━\u001b[0m \u001b[32m64.8/64.8 KB\u001b[0m \u001b[31m8.2 MB/s\u001b[0m eta \u001b[36m0:00:00\u001b[0m\n",
      "\u001b[?25hRequirement already satisfied: six>=1.10 in /usr/local/lib/python3.9/dist-packages (from kaggle) (1.16.0)\n",
      "Requirement already satisfied: python-slugify in /usr/local/lib/python3.9/dist-packages (from kaggle) (8.0.1)\n",
      "Requirement already satisfied: python-dateutil in /usr/local/lib/python3.9/dist-packages (from kaggle) (2.8.2)\n",
      "Requirement already satisfied: requests in /usr/local/lib/python3.9/dist-packages (from kaggle) (2.27.1)\n",
      "Requirement already satisfied: certifi in /usr/local/lib/python3.9/dist-packages (from kaggle) (2022.12.7)\n",
      "Requirement already satisfied: tqdm in /usr/local/lib/python3.9/dist-packages (from kaggle) (4.65.0)\n",
      "Requirement already satisfied: urllib3 in /usr/local/lib/python3.9/dist-packages (from kaggle) (1.26.15)\n",
      "Collecting ghapi>=1.0.3\n",
      "  Downloading ghapi-1.0.3-py3-none-any.whl (58 kB)\n",
      "\u001b[2K     \u001b[90m━━━━━━━━━━━━━━━━━━━━━━━━━━━━━━━━━━━━━━━━\u001b[0m \u001b[32m58.1/58.1 KB\u001b[0m \u001b[31m7.1 MB/s\u001b[0m eta \u001b[36m0:00:00\u001b[0m\n",
      "\u001b[?25hCollecting watchdog\n",
      "  Downloading watchdog-3.0.0-py3-none-manylinux2014_x86_64.whl (82 kB)\n",
      "\u001b[2K     \u001b[90m━━━━━━━━━━━━━━━━━━━━━━━━━━━━━━━━━━━━━━━━\u001b[0m \u001b[32m82.1/82.1 KB\u001b[0m \u001b[31m10.6 MB/s\u001b[0m eta \u001b[36m0:00:00\u001b[0m\n",
      "\u001b[?25hRequirement already satisfied: PyYAML in /usr/local/lib/python3.9/dist-packages (from nbdev) (6.0)\n",
      "Requirement already satisfied: astunparse in /usr/local/lib/python3.9/dist-packages (from nbdev) (1.6.3)\n",
      "Collecting execnb>=0.1.4\n",
      "  Downloading execnb-0.1.5-py3-none-any.whl (13 kB)\n",
      "Collecting asttokens\n",
      "  Downloading asttokens-2.2.1-py2.py3-none-any.whl (26 kB)\n",
      "Requirement already satisfied: fastcore>=1.5.27 in /usr/local/lib/python3.9/dist-packages (from nbdev) (1.5.29)\n",
      "Requirement already satisfied: ipython in /usr/local/lib/python3.9/dist-packages (from execnb>=0.1.4->nbdev) (7.34.0)\n",
      "Requirement already satisfied: packaging in /usr/local/lib/python3.9/dist-packages (from fastcore>=1.5.27->nbdev) (23.0)\n",
      "Requirement already satisfied: pip in /usr/local/lib/python3.9/dist-packages (from fastcore>=1.5.27->nbdev) (22.0.4)\n",
      "Requirement already satisfied: wheel<1.0,>=0.23.0 in /usr/local/lib/python3.9/dist-packages (from astunparse->nbdev) (0.40.0)\n",
      "Requirement already satisfied: text-unidecode>=1.3 in /usr/local/lib/python3.9/dist-packages (from python-slugify->kaggle) (1.3)\n",
      "Requirement already satisfied: charset-normalizer~=2.0.0 in /usr/local/lib/python3.9/dist-packages (from requests->kaggle) (2.0.12)\n",
      "Requirement already satisfied: idna<4,>=2.5 in /usr/local/lib/python3.9/dist-packages (from requests->kaggle) (3.4)\n",
      "Requirement already satisfied: pickleshare in /usr/local/lib/python3.9/dist-packages (from ipython->execnb>=0.1.4->nbdev) (0.7.5)\n",
      "Requirement already satisfied: pygments in /usr/local/lib/python3.9/dist-packages (from ipython->execnb>=0.1.4->nbdev) (2.14.0)\n",
      "Requirement already satisfied: backcall in /usr/local/lib/python3.9/dist-packages (from ipython->execnb>=0.1.4->nbdev) (0.2.0)\n",
      "Requirement already satisfied: pexpect>4.3 in /usr/local/lib/python3.9/dist-packages (from ipython->execnb>=0.1.4->nbdev) (4.8.0)\n",
      "Requirement already satisfied: prompt-toolkit!=3.0.0,!=3.0.1,<3.1.0,>=2.0.0 in /usr/local/lib/python3.9/dist-packages (from ipython->execnb>=0.1.4->nbdev) (3.0.38)\n",
      "Requirement already satisfied: matplotlib-inline in /usr/local/lib/python3.9/dist-packages (from ipython->execnb>=0.1.4->nbdev) (0.1.6)\n",
      "Requirement already satisfied: traitlets>=4.2 in /usr/local/lib/python3.9/dist-packages (from ipython->execnb>=0.1.4->nbdev) (5.7.1)\n",
      "Requirement already satisfied: decorator in /usr/local/lib/python3.9/dist-packages (from ipython->execnb>=0.1.4->nbdev) (4.4.2)\n",
      "Collecting jedi>=0.16\n",
      "  Downloading jedi-0.18.2-py2.py3-none-any.whl (1.6 MB)\n",
      "\u001b[2K     \u001b[90m━━━━━━━━━━━━━━━━━━━━━━━━━━━━━━━━━━━━━━━━\u001b[0m \u001b[32m1.6/1.6 MB\u001b[0m \u001b[31m84.7 MB/s\u001b[0m eta \u001b[36m0:00:00\u001b[0m\n",
      "\u001b[?25hRequirement already satisfied: setuptools>=18.5 in /usr/local/lib/python3.9/dist-packages (from ipython->execnb>=0.1.4->nbdev) (67.6.1)\n",
      "Requirement already satisfied: parso<0.9.0,>=0.8.0 in /usr/local/lib/python3.9/dist-packages (from jedi>=0.16->ipython->execnb>=0.1.4->nbdev) (0.8.3)\n",
      "Requirement already satisfied: ptyprocess>=0.5 in /usr/local/lib/python3.9/dist-packages (from pexpect>4.3->ipython->execnb>=0.1.4->nbdev) (0.7.0)\n",
      "Requirement already satisfied: wcwidth in /usr/local/lib/python3.9/dist-packages (from prompt-toolkit!=3.0.0,!=3.0.1,<3.1.0,>=2.0.0->ipython->execnb>=0.1.4->nbdev) (0.2.6)\n",
      "Installing collected packages: watchdog, jedi, asttokens, ghapi, execnb, nbdev\n",
      "Successfully installed asttokens-2.2.1 execnb-0.1.5 ghapi-1.0.3 jedi-0.18.2 nbdev-2.3.12 watchdog-3.0.0\n"
     ]
    }
   ],
   "source": [
    "pip install kaggle nbdev"
   ]
  },
  {
   "cell_type": "code",
   "execution_count": 4,
   "id": "e662a7b0-2f5a-4a1c-b456-2e880d1bb177",
   "metadata": {
    "id": "e662a7b0-2f5a-4a1c-b456-2e880d1bb177",
    "tags": []
   },
   "outputs": [],
   "source": [
    "from pyspark.sql import SparkSession"
   ]
  },
  {
   "cell_type": "code",
   "execution_count": 5,
   "id": "39e6d995-a382-4ac0-9862-a4c74b55c924",
   "metadata": {
    "id": "39e6d995-a382-4ac0-9862-a4c74b55c924",
    "tags": []
   },
   "outputs": [],
   "source": [
    "spark=SparkSession.builder.appName(\"exemplo bla bla\").config(\"spark.driver.memory\",\"4g\").config(\"spark.executor.memory\",\"4g\").getOrCreate()"
   ]
  },
  {
   "cell_type": "code",
   "execution_count": 6,
   "id": "2d9d7a15-ac64-4a11-a011-951ace5646f6",
   "metadata": {
    "id": "2d9d7a15-ac64-4a11-a011-951ace5646f6",
    "tags": []
   },
   "outputs": [],
   "source": [
    "# Some general imports \n",
    "\n",
    "import os\n",
    "import sys\n",
    "\n",
    "import numpy as np\n",
    "import pandas as pd  \n",
    "import matplotlib.pyplot as plt\n",
    "import seaborn as sns\n",
    "# from ydata_profiling import ProfileReport\n",
    "import warnings\n",
    "warnings.filterwarnings(\"ignore\")"
   ]
  },
  {
   "cell_type": "code",
   "execution_count": 7,
   "id": "7c64e8f8-562f-4c05-9392-5466d3466fb1",
   "metadata": {
    "id": "7c64e8f8-562f-4c05-9392-5466d3466fb1",
    "tags": []
   },
   "outputs": [],
   "source": [
    "def plotHistogram(df, xcol, huecol=None):\n",
    "    sns.histplot(data=df, x=xcol, hue=huecol, multiple=\"stack\")"
   ]
  },
  {
   "cell_type": "code",
   "execution_count": 8,
   "id": "cc9af632-31b5-430e-9f0f-4146f1e3b5bf",
   "metadata": {
    "id": "cc9af632-31b5-430e-9f0f-4146f1e3b5bf",
    "tags": []
   },
   "outputs": [],
   "source": [
    "def plot(df, xcol, ycol):\n",
    "    sns.lineplot(data=df, x=xcol, y=ycol)"
   ]
  },
  {
   "cell_type": "code",
   "execution_count": 9,
   "id": "e55fadac-c44f-48bc-bc59-bbbceacea74b",
   "metadata": {
    "id": "e55fadac-c44f-48bc-bc59-bbbceacea74b",
    "tags": []
   },
   "outputs": [],
   "source": [
    "def plotBar(df, xcol, ycol, huecol=None):\n",
    "    sns.barplot(data=df, x=xcol, y=ycol, hue=huecol)"
   ]
  },
  {
   "cell_type": "code",
   "execution_count": 10,
   "id": "bd4bc8c9-f4dd-4890-9b60-8537d93a2156",
   "metadata": {
    "id": "bd4bc8c9-f4dd-4890-9b60-8537d93a2156",
    "tags": []
   },
   "outputs": [],
   "source": [
    "def plotScatter(df, xcol, ycol, huecol=None):\n",
    "    sns.scatterplot(data=df, x=xcol, y=ycol, hue=huecol)"
   ]
  },
  {
   "cell_type": "code",
   "execution_count": 11,
   "id": "f4550038-3daf-4bf7-bc2e-e4cdf3b91491",
   "metadata": {
    "id": "f4550038-3daf-4bf7-bc2e-e4cdf3b91491",
    "tags": []
   },
   "outputs": [],
   "source": [
    "def plotScatterMatrix(df, huecol=None):\n",
    "    sns.pairplot(data=df, hue=huecol)"
   ]
  },
  {
   "cell_type": "code",
   "execution_count": 12,
   "id": "a4056739-a351-4766-93a3-80ce1a740c55",
   "metadata": {
    "id": "a4056739-a351-4766-93a3-80ce1a740c55",
    "tags": []
   },
   "outputs": [],
   "source": [
    "def plotCorrelationMatrix_1(df, annot=False):\n",
    "    # compute the correlation matrix\n",
    "    corr = df.corr()\n",
    "    \n",
    "    # generate a mask for the upper triangle\n",
    "    mask = np.triu(np.ones_like(corr, dtype=bool))\n",
    "\n",
    "    # set up the matplotlib figure\n",
    "    f, ax = plt.subplots(figsize=(11, 9))\n",
    "\n",
    "    # generate a custom diverging colormap\n",
    "    cmap = sns.diverging_palette(230, 20, as_cmap=True)\n",
    "    #cmap='coolwarm'\n",
    "\n",
    "    # draw the heatmap with the mask and correct aspect ratio\n",
    "    sns.heatmap(corr, mask=mask, cmap=cmap, vmax=.3, center=0, annot=annot,\n",
    "            square=True, linewidths=.5, cbar_kws={\"shrink\": .5})"
   ]
  },
  {
   "cell_type": "code",
   "execution_count": 13,
   "id": "7894801e-d558-43fe-9c72-dbaf99bb5010",
   "metadata": {
    "id": "7894801e-d558-43fe-9c72-dbaf99bb5010",
    "tags": []
   },
   "outputs": [],
   "source": [
    "def plotCorrelationMatrix_2(df):\n",
    "    # compute a correlation matrix and convert to long-form\n",
    "    corr_mat = df.corr().stack().reset_index(name=\"correlation\")\n",
    "    # draw each cell as a scatter point with varying size and color\n",
    "    g = sns.relplot(\n",
    "        data=corr_mat,\n",
    "        x=\"level_0\", y=\"level_1\", hue=\"correlation\", size=\"correlation\",\n",
    "        palette=\"vlag\", hue_norm=(-1, 1), edgecolor=\".7\",\n",
    "        height=10, sizes=(50, 250), size_norm=(-.2, .8),\n",
    "    )\n",
    "\n",
    "    # tweak the figure to finalize\n",
    "    g.set(xlabel=\"\", ylabel=\"\", aspect=\"equal\")\n",
    "    g.despine(left=True, bottom=True)\n",
    "    g.ax.margins(.02)\n",
    "    for label in g.ax.get_xticklabels():\n",
    "        label.set_rotation(90)\n",
    "    for artist in g.legend.legendHandles:\n",
    "        artist.set_edgecolor(\".7\")"
   ]
  },
  {
   "cell_type": "code",
   "execution_count": 14,
   "id": "9c2103f6-c9ce-47a5-9b49-8c7d799bb8a9",
   "metadata": {
    "id": "9c2103f6-c9ce-47a5-9b49-8c7d799bb8a9",
    "tags": []
   },
   "outputs": [],
   "source": [
    "# Some Spark related imports we will use hereafter\n",
    "\n",
    "import sys\n",
    "\n",
    "from pyspark.sql import SparkSession\n",
    "import pyspark.sql.functions as F\n",
    "from pyspark.sql.types import *\n",
    "\n",
    "from pyspark.ml import Pipeline, Transformer\n",
    "from pyspark.ml.stat import Correlation\n",
    "from pyspark.ml.feature import VectorAssembler, StringIndexer, OneHotEncoder, SQLTransformer\n",
    "from pyspark.ml.classification import LinearSVC\n",
    "from pyspark.ml.evaluation import BinaryClassificationEvaluator\n",
    "from pyspark.sql.functions import row_number, monotonically_increasing_id, split, transform\n",
    "from pyspark.sql import Window\n",
    "\n"
   ]
  },
  {
   "cell_type": "code",
   "execution_count": null,
   "id": "2112f6f6-ac57-406a-b0fc-dd2ac8ff35ea",
   "metadata": {
    "id": "2112f6f6-ac57-406a-b0fc-dd2ac8ff35ea",
    "tags": []
   },
   "outputs": [],
   "source": [
    "os.environ['PYSPARK_PYTHON'] = sys.executable\n",
    "os.environ['PYSPARK_DRIVER_PYTHON'] = sys.executable"
   ]
  },
  {
   "cell_type": "code",
   "execution_count": 16,
   "id": "cff36834-669b-46cc-96a1-3c536b8846ed",
   "metadata": {
    "colab": {
     "base_uri": "https://localhost:8080/",
     "height": 345
    },
    "id": "cff36834-669b-46cc-96a1-3c536b8846ed",
    "outputId": "a86fc7b6-02ff-40ed-f468-dc2985c7d166",
    "tags": []
   },
   "outputs": [
    {
     "ename": "AnalysisException",
     "evalue": "ignored",
     "output_type": "error",
     "traceback": [
      "\u001b[0;31m---------------------------------------------------------------------------\u001b[0m",
      "\u001b[0;31mAnalysisException\u001b[0m                         Traceback (most recent call last)",
      "\u001b[0;32m<ipython-input-16-45b0937b0894>\u001b[0m in \u001b[0;36m<cell line: 24>\u001b[0;34m()\u001b[0m\n\u001b[1;32m     22\u001b[0m \u001b[0;34m\u001b[0m\u001b[0m\n\u001b[1;32m     23\u001b[0m \u001b[0mfilename\u001b[0m \u001b[0;34m=\u001b[0m \u001b[0;34m\"train.csv\"\u001b[0m\u001b[0;34m\u001b[0m\u001b[0;34m\u001b[0m\u001b[0m\n\u001b[0;32m---> 24\u001b[0;31m \u001b[0mdf_train\u001b[0m \u001b[0;34m=\u001b[0m \u001b[0mspark\u001b[0m\u001b[0;34m.\u001b[0m\u001b[0mread\u001b[0m\u001b[0;34m.\u001b[0m\u001b[0mcsv\u001b[0m\u001b[0;34m(\u001b[0m\u001b[0mfilename\u001b[0m\u001b[0;34m,\u001b[0m \u001b[0mheader\u001b[0m\u001b[0;34m=\u001b[0m\u001b[0;32mTrue\u001b[0m\u001b[0;34m,\u001b[0m \u001b[0mschema\u001b[0m\u001b[0;34m=\u001b[0m\u001b[0mtrain_schema\u001b[0m\u001b[0;34m,\u001b[0m \u001b[0msep\u001b[0m\u001b[0;34m=\u001b[0m\u001b[0;34m','\u001b[0m\u001b[0;34m)\u001b[0m\u001b[0;34m\u001b[0m\u001b[0;34m\u001b[0m\u001b[0m\n\u001b[0m",
      "\u001b[0;32m/usr/local/lib/python3.9/dist-packages/pyspark/sql/readwriter.py\u001b[0m in \u001b[0;36mcsv\u001b[0;34m(self, path, schema, sep, encoding, quote, escape, comment, header, inferSchema, ignoreLeadingWhiteSpace, ignoreTrailingWhiteSpace, nullValue, nanValue, positiveInf, negativeInf, dateFormat, timestampFormat, maxColumns, maxCharsPerColumn, maxMalformedLogPerPartition, mode, columnNameOfCorruptRecord, multiLine, charToEscapeQuoteEscaping, samplingRatio, enforceSchema, emptyValue, locale, lineSep, pathGlobFilter, recursiveFileLookup, modifiedBefore, modifiedAfter, unescapedQuoteHandling)\u001b[0m\n\u001b[1;32m    533\u001b[0m         \u001b[0;32mif\u001b[0m \u001b[0mtype\u001b[0m\u001b[0;34m(\u001b[0m\u001b[0mpath\u001b[0m\u001b[0;34m)\u001b[0m \u001b[0;34m==\u001b[0m \u001b[0mlist\u001b[0m\u001b[0;34m:\u001b[0m\u001b[0;34m\u001b[0m\u001b[0;34m\u001b[0m\u001b[0m\n\u001b[1;32m    534\u001b[0m             \u001b[0;32massert\u001b[0m \u001b[0mself\u001b[0m\u001b[0;34m.\u001b[0m\u001b[0m_spark\u001b[0m\u001b[0;34m.\u001b[0m\u001b[0m_sc\u001b[0m\u001b[0;34m.\u001b[0m\u001b[0m_jvm\u001b[0m \u001b[0;32mis\u001b[0m \u001b[0;32mnot\u001b[0m \u001b[0;32mNone\u001b[0m\u001b[0;34m\u001b[0m\u001b[0;34m\u001b[0m\u001b[0m\n\u001b[0;32m--> 535\u001b[0;31m             \u001b[0;32mreturn\u001b[0m \u001b[0mself\u001b[0m\u001b[0;34m.\u001b[0m\u001b[0m_df\u001b[0m\u001b[0;34m(\u001b[0m\u001b[0mself\u001b[0m\u001b[0;34m.\u001b[0m\u001b[0m_jreader\u001b[0m\u001b[0;34m.\u001b[0m\u001b[0mcsv\u001b[0m\u001b[0;34m(\u001b[0m\u001b[0mself\u001b[0m\u001b[0;34m.\u001b[0m\u001b[0m_spark\u001b[0m\u001b[0;34m.\u001b[0m\u001b[0m_sc\u001b[0m\u001b[0;34m.\u001b[0m\u001b[0m_jvm\u001b[0m\u001b[0;34m.\u001b[0m\u001b[0mPythonUtils\u001b[0m\u001b[0;34m.\u001b[0m\u001b[0mtoSeq\u001b[0m\u001b[0;34m(\u001b[0m\u001b[0mpath\u001b[0m\u001b[0;34m)\u001b[0m\u001b[0;34m)\u001b[0m\u001b[0;34m)\u001b[0m\u001b[0;34m\u001b[0m\u001b[0;34m\u001b[0m\u001b[0m\n\u001b[0m\u001b[1;32m    536\u001b[0m         \u001b[0;32melif\u001b[0m \u001b[0misinstance\u001b[0m\u001b[0;34m(\u001b[0m\u001b[0mpath\u001b[0m\u001b[0;34m,\u001b[0m \u001b[0mRDD\u001b[0m\u001b[0;34m)\u001b[0m\u001b[0;34m:\u001b[0m\u001b[0;34m\u001b[0m\u001b[0;34m\u001b[0m\u001b[0m\n\u001b[1;32m    537\u001b[0m \u001b[0;34m\u001b[0m\u001b[0m\n",
      "\u001b[0;32m/usr/local/lib/python3.9/dist-packages/py4j/java_gateway.py\u001b[0m in \u001b[0;36m__call__\u001b[0;34m(self, *args)\u001b[0m\n\u001b[1;32m   1319\u001b[0m \u001b[0;34m\u001b[0m\u001b[0m\n\u001b[1;32m   1320\u001b[0m         \u001b[0manswer\u001b[0m \u001b[0;34m=\u001b[0m \u001b[0mself\u001b[0m\u001b[0;34m.\u001b[0m\u001b[0mgateway_client\u001b[0m\u001b[0;34m.\u001b[0m\u001b[0msend_command\u001b[0m\u001b[0;34m(\u001b[0m\u001b[0mcommand\u001b[0m\u001b[0;34m)\u001b[0m\u001b[0;34m\u001b[0m\u001b[0;34m\u001b[0m\u001b[0m\n\u001b[0;32m-> 1321\u001b[0;31m         return_value = get_return_value(\n\u001b[0m\u001b[1;32m   1322\u001b[0m             answer, self.gateway_client, self.target_id, self.name)\n\u001b[1;32m   1323\u001b[0m \u001b[0;34m\u001b[0m\u001b[0m\n",
      "\u001b[0;32m/usr/local/lib/python3.9/dist-packages/pyspark/sql/utils.py\u001b[0m in \u001b[0;36mdeco\u001b[0;34m(*a, **kw)\u001b[0m\n\u001b[1;32m    194\u001b[0m                 \u001b[0;31m# Hide where the exception came from that shows a non-Pythonic\u001b[0m\u001b[0;34m\u001b[0m\u001b[0;34m\u001b[0m\u001b[0m\n\u001b[1;32m    195\u001b[0m                 \u001b[0;31m# JVM exception message.\u001b[0m\u001b[0;34m\u001b[0m\u001b[0;34m\u001b[0m\u001b[0m\n\u001b[0;32m--> 196\u001b[0;31m                 \u001b[0;32mraise\u001b[0m \u001b[0mconverted\u001b[0m \u001b[0;32mfrom\u001b[0m \u001b[0;32mNone\u001b[0m\u001b[0;34m\u001b[0m\u001b[0;34m\u001b[0m\u001b[0m\n\u001b[0m\u001b[1;32m    197\u001b[0m             \u001b[0;32melse\u001b[0m\u001b[0;34m:\u001b[0m\u001b[0;34m\u001b[0m\u001b[0;34m\u001b[0m\u001b[0m\n\u001b[1;32m    198\u001b[0m                 \u001b[0;32mraise\u001b[0m\u001b[0;34m\u001b[0m\u001b[0;34m\u001b[0m\u001b[0m\n",
      "\u001b[0;31mAnalysisException\u001b[0m: Path does not exist: file:/content/train.csv"
     ]
    }
   ],
   "source": [
    "train_schema = StructType([StructField('session_id', LongType(), True),\n",
    "                     StructField('index', IntegerType(), True),\n",
    "                     StructField('elapsed_time', IntegerType(), True),\n",
    "                     StructField('event_name', StringType(), True),                  \n",
    "                     StructField('name', StringType(), True),      \n",
    "                     StructField('level', IntegerType(), True),                \n",
    "                     StructField('page', DoubleType(), True),\n",
    "                     StructField('room_coor_x', DoubleType(), True),\n",
    "                     StructField('room_coor_y', DoubleType(), True),\n",
    "                     StructField('screen_coor_x', DoubleType(), True),\n",
    "                     StructField('screen_coor_y', DoubleType(), True),\n",
    "                     StructField('hover_duration', DoubleType(), True),\n",
    "                     StructField('text', StringType(), True),\n",
    "                     StructField('fqid', StringType(), True),\n",
    "                     StructField('room_fqid', StringType(), True),\n",
    "                     StructField('text_fqid', StringType(), True),       \n",
    "                     StructField('fullscreen', StringType(), True),       \n",
    "                     StructField('hq', IntegerType(), True),       \n",
    "                     StructField('music', IntegerType(), True),                 \n",
    "                     StructField('level_group', IntegerType(), True),       \n",
    "                     StructField('session_level', StringType(), True)])\n",
    "\n",
    "filename = \"train.csv\"\n",
    "df_train = spark.read.csv(filename, header=True, schema=train_schema, sep=',')\n"
   ]
  },
  {
   "cell_type": "code",
   "execution_count": 15,
   "id": "aaa937cb-642a-4177-9762-97830fac247f",
   "metadata": {
    "id": "aaa937cb-642a-4177-9762-97830fac247f",
    "tags": []
   },
   "outputs": [],
   "source": [
    "test_schema = StructType([StructField('session_id', LongType(), True),\n",
    "                     StructField('index', IntegerType(), True),\n",
    "                     StructField('elapsed_time', IntegerType(), True),\n",
    "                     StructField('event_name', StringType(), True),                  \n",
    "                     StructField('name', StringType(), True),      \n",
    "                     StructField('level', IntegerType(), True),                \n",
    "                     StructField('page', DoubleType(), True),\n",
    "                     StructField('room_coor_x', DoubleType(), True),\n",
    "                     StructField('room_coor_y', DoubleType(), True),\n",
    "                     StructField('screen_coor_x', DoubleType(), True),\n",
    "                     StructField('screen_coor_y', DoubleType(), True),\n",
    "                     StructField('hover_duration', DoubleType(), True),\n",
    "                     StructField('text', StringType(), True),\n",
    "                     StructField('fqid', StringType(), True),\n",
    "                     StructField('room_fqid', StringType(), True),\n",
    "                     StructField('text_fqid', StringType(), True),       \n",
    "                     StructField('fullscreen', StringType(), True),       \n",
    "                     StructField('hq', IntegerType(), True),       \n",
    "                     StructField('music', IntegerType(), True),                 \n",
    "                     StructField('level_group', IntegerType(), True),       \n",
    "                     StructField('session_level', StringType(), True)])\n",
    "\n",
    "filename = \"test.csv\"\n",
    "df_teste = spark.read.csv(filename, header=True, schema=test_schema, sep=',')"
   ]
  },
  {
   "cell_type": "code",
   "execution_count": null,
   "id": "81ceaaea-c4f1-4c18-bf83-be8ad67028ab",
   "metadata": {
    "id": "81ceaaea-c4f1-4c18-bf83-be8ad67028ab",
    "tags": []
   },
   "outputs": [],
   "source": [
    "train_labs_schema = StructType([StructField('session_id', StringType(), True),\n",
    "                     StructField('correct', IntegerType(), True)])\n",
    "\n",
    "filename = \"train_labels.csv\"\n",
    "df_train_labs = spark.read.csv(filename, header=True, schema=train_labs_schema, sep=',')"
   ]
  },
  {
   "cell_type": "code",
   "execution_count": null,
   "id": "87c57f17-ace6-4917-a2a8-a5cd758565c8",
   "metadata": {
    "id": "87c57f17-ace6-4917-a2a8-a5cd758565c8",
    "tags": []
   },
   "outputs": [],
   "source": [
    "sample_sub_schema = StructType([StructField('session_id', StringType(), True),\n",
    "                     StructField('correct', IntegerType(), True)])\n",
    "\n",
    "filename = \"sample_submission.csv\"\n",
    "df_sample_sub = spark.read.csv(filename, header=True, schema=sample_sub_schema, sep=',')"
   ]
  },
  {
   "cell_type": "code",
   "execution_count": 18,
   "id": "11fdf2a4-788f-4b10-b8c5-c693cfe19cf2",
   "metadata": {
    "colab": {
     "base_uri": "https://localhost:8080/",
     "height": 165
    },
    "id": "11fdf2a4-788f-4b10-b8c5-c693cfe19cf2",
    "outputId": "2b517bc0-2987-4df0-ccd4-c13c4c43f9a8",
    "tags": []
   },
   "outputs": [
    {
     "ename": "NameError",
     "evalue": "ignored",
     "output_type": "error",
     "traceback": [
      "\u001b[0;31m---------------------------------------------------------------------------\u001b[0m",
      "\u001b[0;31mNameError\u001b[0m                                 Traceback (most recent call last)",
      "\u001b[0;32m<ipython-input-18-bb03463a00fa>\u001b[0m in \u001b[0;36m<cell line: 1>\u001b[0;34m()\u001b[0m\n\u001b[0;32m----> 1\u001b[0;31m \u001b[0mdf_sample_sub\u001b[0m\u001b[0;34m.\u001b[0m\u001b[0mprintSchema\u001b[0m\u001b[0;34m(\u001b[0m\u001b[0;34m)\u001b[0m\u001b[0;34m\u001b[0m\u001b[0;34m\u001b[0m\u001b[0m\n\u001b[0m",
      "\u001b[0;31mNameError\u001b[0m: name 'df_sample_sub' is not defined"
     ]
    }
   ],
   "source": [
    "df_sample_sub.printSchema()"
   ]
  },
  {
   "cell_type": "code",
   "execution_count": null,
   "id": "e1fcd972-4eb3-4371-bc61-075e7589875b",
   "metadata": {
    "id": "e1fcd972-4eb3-4371-bc61-075e7589875b",
    "outputId": "4252b906-b607-4d66-d314-69ddcd5fffa6",
    "tags": []
   },
   "outputs": [
    {
     "name": "stdout",
     "output_type": "stream",
     "text": [
      "+-----------------+-----+------------+--------------+---------+-----+----+-------------------+-------------------+-------------+-------------+--------------+--------------------+------+--------------------+--------------------+----------+---+-----+-----------+-------------+\n",
      "|       session_id|index|elapsed_time|    event_name|     name|level|page|        room_coor_x|        room_coor_y|screen_coor_x|screen_coor_y|hover_duration|                text|  fqid|           room_fqid|           text_fqid|fullscreen| hq|music|level_group|session_level|\n",
      "+-----------------+-----+------------+--------------+---------+-----+----+-------------------+-------------------+-------------+-------------+--------------+--------------------+------+--------------------+--------------------+----------+---+-----+-----------+-------------+\n",
      "|20090312431273200|    0|           0|cutscene_click|    basic|    0|null|-413.99140522263224|-159.31468617022784|        380.0|        494.0|          null|           undefined| intro|tunic.historicals...|tunic.historicals...|         0|  0|    1|       null|         null|\n",
      "|20090312431273200|    1|        1323|  person_click|    basic|    0|null|-413.99140522263224|-159.31468617022784|        380.0|        494.0|          null|Whatcha doing ove...|gramps|tunic.historicals...|tunic.historicals...|         0|  0|    1|       null|         null|\n",
      "|20090312431273200|    2|         831|  person_click|    basic|    0|null|-413.99140522263224|-159.31468617022784|        380.0|        494.0|          null|Just talking to T...|gramps|tunic.historicals...|tunic.historicals...|         0|  0|    1|       null|         null|\n",
      "|20090312431273200|    3|        1147|  person_click|    basic|    0|null|-413.99140522263224|-159.31468617022784|        380.0|        494.0|          null|I gotta run to my...|gramps|tunic.historicals...|tunic.historicals...|         0|  0|    1|       null|         null|\n",
      "|20090312431273200|    4|        1863|  person_click|    basic|    0|null|-412.99140522263224|-159.31468617022784|        381.0|        494.0|          null| Can I come, Gramps?|gramps|tunic.historicals...|tunic.historicals...|         0|  0|    1|       null|         null|\n",
      "|20090312431273200|    5|        3423|  person_click|    basic|    0|null|-412.99140522263224|-157.31468617022784|        381.0|        492.0|          null|Sure thing, Jo. G...|gramps|tunic.historicals...|tunic.historicals...|         0|  0|    1|       null|         null|\n",
      "|20090312431273200|    6|        5197|  person_click|    basic|    0|null| 478.48507948953636| -199.9716787422361|        593.0|        485.0|          null|See you later, Te...| teddy|tunic.historicals...|tunic.historicals...|         0|  0|    1|       null|         null|\n",
      "|20090312431273200|    7|        6180|  person_click|    basic|    0|null| 503.35512792584535|  -168.619912992023|        609.0|        453.0|          null|I get to go to Gr...| teddy|tunic.historicals...|tunic.historicals...|         0|  0|    1|       null|         null|\n",
      "|20090312431273200|    8|        7014|  person_click|    basic|    0|null|  510.7334420194441|-157.72064191237214|        615.0|        442.0|          null|Now where did I p...| teddy|tunic.historicals...|tunic.historicals...|         0|  0|    1|       null|         null|\n",
      "|20090312431273200|    9|        7946|  person_click|    basic|    0|null|   512.048004999717|-153.74363056897224|        616.0|        438.0|          null|\\u00f0\\u0178\\u02d...| teddy|tunic.historicals...|tunic.historicals...|         0|  0|    1|       null|         null|\n",
      "|20090312431273200|   10|        9133|navigate_click|undefined|    0|null| 501.11003511815835|-160.74816380772285|        605.0|        445.0|          null|                null| teddy|tunic.historicals...|                null|         0|  0|    1|       null|         null|\n",
      "|20090312431273200|   11|       10263|  person_click|    basic|    0|null| 501.08499062304816| -164.7623661141941|        605.0|        445.0|          null|\\u00f0\\u0178\\u02d...| teddy|tunic.historicals...|tunic.historicals...|         0|  0|    1|       null|         null|\n",
      "+-----------------+-----+------------+--------------+---------+-----+----+-------------------+-------------------+-------------+-------------+--------------+--------------------+------+--------------------+--------------------+----------+---+-----+-----------+-------------+\n",
      "only showing top 12 rows\n",
      "\n"
     ]
    }
   ],
   "source": [
    "df_train.select(\"*\").show(12)"
   ]
  },
  {
   "cell_type": "code",
   "execution_count": null,
   "id": "8ebd5e18-6126-42b8-aae5-35f99f4df12b",
   "metadata": {
    "id": "8ebd5e18-6126-42b8-aae5-35f99f4df12b",
    "tags": []
   },
   "outputs": [],
   "source": [
    "# df_teste2 = df_teste.withColumn(\n",
    "#     \"id_new\",\n",
    "#     row_number().over(Window.orderBy(monotonically_increasing_id()))-1\n",
    "# )"
   ]
  },
  {
   "cell_type": "code",
   "execution_count": null,
   "id": "16834ee1-017e-47d4-a698-35d0da0678c4",
   "metadata": {
    "id": "16834ee1-017e-47d4-a698-35d0da0678c4",
    "tags": []
   },
   "outputs": [],
   "source": [
    "# df_teste2.toPandas()"
   ]
  },
  {
   "cell_type": "code",
   "execution_count": null,
   "id": "12050871-b88b-452d-9130-c5a8efc81390",
   "metadata": {
    "id": "12050871-b88b-452d-9130-c5a8efc81390",
    "tags": []
   },
   "outputs": [],
   "source": [
    "# train_schema = StructType([StructField('session_id', LongType(), True),\n",
    "#                      StructField('index', IntegerType(), True),\n",
    "#                      StructField('elapsed_time', IntegerType(), True),\n",
    "#                      StructField('event_name', StringType(), True),                  \n",
    "#                      StructField('name', StringType(), True),      \n",
    "#                      StructField('level', IntegerType(), True),                \n",
    "#                      StructField('page', DoubleType(), True),\n",
    "#                      StructField('room_coor_x', DoubleType(), True),\n",
    "#                      StructField('room_coor_y', DoubleType(), True),\n",
    "#                      StructField('screen_coor_x', DoubleType(), True),\n",
    "#                      StructField('screen_coor_y', DoubleType(), True),\n",
    "#                      StructField('hover_duration', DoubleType(), True),\n",
    "#                      StructField('text', StringType(), True),\n",
    "#                      StructField('fqid', StringType(), True),\n",
    "#                      StructField('room_fqid', StringType(), True),\n",
    "#                      StructField('text_fqid', StringType(), True),       \n",
    "#                      StructField('fullscreen', StringType(), True),       \n",
    "#                      StructField('hq', IntegerType(), True),       \n",
    "#                      StructField('music', IntegerType(), True),                 \n",
    "#                      StructField('level_group', IntegerType(), True),       \n",
    "#                      StructField('session_level', StringType(), True)])"
   ]
  },
  {
   "cell_type": "code",
   "execution_count": null,
   "id": "28385a37-654f-4703-97a8-c6c944c47a4e",
   "metadata": {
    "id": "28385a37-654f-4703-97a8-c6c944c47a4e",
    "outputId": "ac80011a-20df-4cf5-a229-bed6a97c3271",
    "tags": []
   },
   "outputs": [
    {
     "name": "stdout",
     "output_type": "stream",
     "text": [
      "+-----------------+-----+------------+-----------------+---------+-----+----+-------------------+-------------------+-------------+-------------+--------------+--------------------+------+--------------------+--------------------+----------+---+-----+-----------+-------------+\n",
      "|       session_id|index|elapsed_time|       event_name|     name|level|page|        room_coor_x|        room_coor_y|screen_coor_x|screen_coor_y|hover_duration|                text|  fqid|           room_fqid|           text_fqid|fullscreen| hq|music|level_group|session_level|\n",
      "+-----------------+-----+------------+-----------------+---------+-----+----+-------------------+-------------------+-------------+-------------+--------------+--------------------+------+--------------------+--------------------+----------+---+-----+-----------+-------------+\n",
      "|20090109393214576|    0|           0|   cutscene_click|    basic|    0|null|-413.99140522263224|   75.6853138297722|        380.0|        259.0|          null|           undefined| intro|tunic.historicals...|tunic.historicals...|         0|  0|    1|       null|            0|\n",
      "|20090109393214576|    1|        1965|     person_click|    basic|    0|null|-105.99140522263217| -63.31468617022782|        688.0|        398.0|          null|Whatcha doing ove...|gramps|tunic.historicals...|tunic.historicals...|         0|  0|    1|       null|            0|\n",
      "|20090109393214576|    2|        3614|     person_click|    basic|    0|null|-418.99140522263224|  47.68531382977217|        375.0|        287.0|          null|Just talking to T...|gramps|tunic.historicals...|tunic.historicals...|         0|  0|    1|       null|            0|\n",
      "|20090109393214576|    3|        5330|     person_click|    basic|    0|null|-110.99140522263218| -57.31468617022785|        683.0|        392.0|          null|I gotta run to my...|gramps|tunic.historicals...|tunic.historicals...|         0|  0|    1|       null|            0|\n",
      "|20090109393214576|    4|        6397|     person_click|    basic|    0|null|-110.99140522263218| -57.31468617022785|        683.0|        392.0|          null| Can I come, Gramps?|gramps|tunic.historicals...|tunic.historicals...|         0|  0|    1|       null|            0|\n",
      "|20090109393214576|    5|        8864|     person_click|    basic|    0|null|-110.99140522263218| -57.31468617022785|        683.0|        392.0|          null|Sure thing, Jo. G...|gramps|tunic.historicals...|tunic.historicals...|         0|  0|    1|       null|            0|\n",
      "|20090109393214576|    6|       11697|     person_click|    basic|    0|null|   571.276981998838|-107.17571447457635|        683.0|        392.0|          null|See you later, Te...| teddy|tunic.historicals...|tunic.historicals...|         0|  0|    1|       null|            0|\n",
      "|20090109393214576|    7|       12898|     person_click|    basic|    0|null|  578.2429872763329|-107.68479886543304|        683.0|        392.0|          null|I get to go to Gr...| teddy|tunic.historicals...|tunic.historicals...|         0|  0|    1|       null|            0|\n",
      "|20090109393214576|    8|       13847|     person_click|    basic|    0|null|  578.9636848751824|-107.73746834865715|        683.0|        392.0|          null|Now where did I p...| teddy|tunic.historicals...|tunic.historicals...|         0|  0|    1|       null|            0|\n",
      "|20090109393214576|    9|       16847|     person_click|    basic|    0|null|  534.1171843228348| -92.74868628055523|        638.0|        377.0|          null|\\u00f0\\u0178\\u02d...| teddy|tunic.historicals...|tunic.historicals...|         0|  0|    1|       null|            0|\n",
      "|20090109393214576|   10|       17780|   navigate_click|undefined|    0|null|  534.1177123473617| -92.74872486924905|        638.0|        377.0|          null|                null| photo|tunic.historicals...|                null|         0|  0|    1|       null|            0|\n",
      "|20090109393214576|   11|       18781|observation_click|    basic|    0|null| 510.88471027587167|   -88.609503420557|        638.0|        377.0|          null|I love these phot...| photo|tunic.historicals...|tunic.historicals...|         0|  0|    1|       null|            0|\n",
      "+-----------------+-----+------------+-----------------+---------+-----+----+-------------------+-------------------+-------------+-------------+--------------+--------------------+------+--------------------+--------------------+----------+---+-----+-----------+-------------+\n",
      "only showing top 12 rows\n",
      "\n"
     ]
    }
   ],
   "source": [
    "df_teste.select(\"*\").show(12)"
   ]
  },
  {
   "cell_type": "code",
   "execution_count": null,
   "id": "403ad396-f7d2-457a-96e0-4b82a7903733",
   "metadata": {
    "id": "403ad396-f7d2-457a-96e0-4b82a7903733",
    "tags": []
   },
   "outputs": [],
   "source": [
    "df_todo = df_train.union(df_teste)\n"
   ]
  },
  {
   "cell_type": "code",
   "execution_count": 26,
   "id": "ed8f4877-47a5-4511-a5f8-6fec703a05a9",
   "metadata": {
    "id": "ed8f4877-47a5-4511-a5f8-6fec703a05a9"
   },
   "outputs": [],
   "source": [
    "df_teste = df_teste.withColumn(\n",
    "    \"id_new\",\n",
    "    row_number().over(Window.orderBy(monotonically_increasing_id()))-1\n",
    ")"
   ]
  },
  {
   "cell_type": "code",
   "execution_count": null,
   "id": "e0fd8dc0-8efa-443e-88b5-0d56d0965db1",
   "metadata": {
    "id": "e0fd8dc0-8efa-443e-88b5-0d56d0965db1"
   },
   "outputs": [],
   "source": []
  },
  {
   "cell_type": "code",
   "execution_count": null,
   "id": "e09b4723-937f-4660-80af-c7672d09beeb",
   "metadata": {
    "id": "e09b4723-937f-4660-80af-c7672d09beeb"
   },
   "outputs": [],
   "source": []
  },
  {
   "cell_type": "code",
   "execution_count": null,
   "id": "5534c9b6-1319-4a7f-b9df-e91b4abf1808",
   "metadata": {
    "id": "5534c9b6-1319-4a7f-b9df-e91b4abf1808"
   },
   "outputs": [],
   "source": []
  },
  {
   "cell_type": "code",
   "execution_count": 19,
   "id": "5bf72989-a9f6-4af0-8e74-24e9e7d4c441",
   "metadata": {
    "id": "5bf72989-a9f6-4af0-8e74-24e9e7d4c441",
    "tags": []
   },
   "outputs": [],
   "source": [
    "def time_paseed(a):\n",
    "    kard = a.collect()\n",
    "    lss = 0\n",
    "    lastos = []\n",
    "    for i in kard:\n",
    "        try:\n",
    "            lastos.append(kard[lss+1][0] - i[0])\n",
    "        except IndexError:\n",
    "            lastos.append(0)\n",
    "        # print(kard[lss+1][0]-i[0])\n",
    "        # print(kard[lss+1][0])\n",
    "        lss+= 1\n",
    "    return lastos\n",
    "        \n",
    "        "
   ]
  },
  {
   "cell_type": "code",
   "execution_count": 21,
   "id": "1a5bc9d8-073f-4659-93c7-1fc439fc1d86",
   "metadata": {
    "id": "1a5bc9d8-073f-4659-93c7-1fc439fc1d86",
    "tags": []
   },
   "outputs": [],
   "source": [
    "def converto(karr):\n",
    "  lasldlasd = time_paseed(karr.select(\"elapsed_time\"))\n",
    "  labels_udf = F.udf(lambda indx: lasldlasd[indx-1], IntegerType())\n",
    "  karr = karr.withColumn(\"nummm_id\", row_number().over(Window.orderBy(monotonically_increasing_id())))\n",
    "  karr = karr.withColumn('time_passed', labels_udf('nummm_id'))\n",
    "  karr = karr.drop('nummm_id')\n",
    "  return karr"
   ]
  },
  {
   "cell_type": "code",
   "execution_count": 26,
   "id": "NBwR5MgS1nW_",
   "metadata": {
    "colab": {
     "base_uri": "https://localhost:8080/",
     "height": 424
    },
    "id": "NBwR5MgS1nW_",
    "outputId": "dfc5245f-634d-4ceb-9192-9c9624feab82"
   },
   "outputs": [
    {
     "data": {
      "text/html": [
       "\n",
       "  <div id=\"df-2216c9fa-2bc9-469a-82be-92daa1ca1336\">\n",
       "    <div class=\"colab-df-container\">\n",
       "      <div>\n",
       "<style scoped>\n",
       "    .dataframe tbody tr th:only-of-type {\n",
       "        vertical-align: middle;\n",
       "    }\n",
       "\n",
       "    .dataframe tbody tr th {\n",
       "        vertical-align: top;\n",
       "    }\n",
       "\n",
       "    .dataframe thead th {\n",
       "        text-align: right;\n",
       "    }\n",
       "</style>\n",
       "<table border=\"1\" class=\"dataframe\">\n",
       "  <thead>\n",
       "    <tr style=\"text-align: right;\">\n",
       "      <th></th>\n",
       "      <th>elapsed_time</th>\n",
       "      <th>time_passed</th>\n",
       "    </tr>\n",
       "  </thead>\n",
       "  <tbody>\n",
       "    <tr>\n",
       "      <th>0</th>\n",
       "      <td>0</td>\n",
       "      <td>1965</td>\n",
       "    </tr>\n",
       "    <tr>\n",
       "      <th>1</th>\n",
       "      <td>1965</td>\n",
       "      <td>1649</td>\n",
       "    </tr>\n",
       "    <tr>\n",
       "      <th>2</th>\n",
       "      <td>3614</td>\n",
       "      <td>1716</td>\n",
       "    </tr>\n",
       "    <tr>\n",
       "      <th>3</th>\n",
       "      <td>5330</td>\n",
       "      <td>1067</td>\n",
       "    </tr>\n",
       "    <tr>\n",
       "      <th>4</th>\n",
       "      <td>6397</td>\n",
       "      <td>2467</td>\n",
       "    </tr>\n",
       "    <tr>\n",
       "      <th>...</th>\n",
       "      <td>...</td>\n",
       "      <td>...</td>\n",
       "    </tr>\n",
       "    <tr>\n",
       "      <th>3723</th>\n",
       "      <td>1581679</td>\n",
       "      <td>1365</td>\n",
       "    </tr>\n",
       "    <tr>\n",
       "      <th>3724</th>\n",
       "      <td>1583044</td>\n",
       "      <td>366</td>\n",
       "    </tr>\n",
       "    <tr>\n",
       "      <th>3725</th>\n",
       "      <td>1583410</td>\n",
       "      <td>2431</td>\n",
       "    </tr>\n",
       "    <tr>\n",
       "      <th>3726</th>\n",
       "      <td>1585841</td>\n",
       "      <td>1969</td>\n",
       "    </tr>\n",
       "    <tr>\n",
       "      <th>3727</th>\n",
       "      <td>1587810</td>\n",
       "      <td>1587810</td>\n",
       "    </tr>\n",
       "  </tbody>\n",
       "</table>\n",
       "<p>3728 rows × 2 columns</p>\n",
       "</div>\n",
       "      <button class=\"colab-df-convert\" onclick=\"convertToInteractive('df-2216c9fa-2bc9-469a-82be-92daa1ca1336')\"\n",
       "              title=\"Convert this dataframe to an interactive table.\"\n",
       "              style=\"display:none;\">\n",
       "        \n",
       "  <svg xmlns=\"http://www.w3.org/2000/svg\" height=\"24px\"viewBox=\"0 0 24 24\"\n",
       "       width=\"24px\">\n",
       "    <path d=\"M0 0h24v24H0V0z\" fill=\"none\"/>\n",
       "    <path d=\"M18.56 5.44l.94 2.06.94-2.06 2.06-.94-2.06-.94-.94-2.06-.94 2.06-2.06.94zm-11 1L8.5 8.5l.94-2.06 2.06-.94-2.06-.94L8.5 2.5l-.94 2.06-2.06.94zm10 10l.94 2.06.94-2.06 2.06-.94-2.06-.94-.94-2.06-.94 2.06-2.06.94z\"/><path d=\"M17.41 7.96l-1.37-1.37c-.4-.4-.92-.59-1.43-.59-.52 0-1.04.2-1.43.59L10.3 9.45l-7.72 7.72c-.78.78-.78 2.05 0 2.83L4 21.41c.39.39.9.59 1.41.59.51 0 1.02-.2 1.41-.59l7.78-7.78 2.81-2.81c.8-.78.8-2.07 0-2.86zM5.41 20L4 18.59l7.72-7.72 1.47 1.35L5.41 20z\"/>\n",
       "  </svg>\n",
       "      </button>\n",
       "      \n",
       "  <style>\n",
       "    .colab-df-container {\n",
       "      display:flex;\n",
       "      flex-wrap:wrap;\n",
       "      gap: 12px;\n",
       "    }\n",
       "\n",
       "    .colab-df-convert {\n",
       "      background-color: #E8F0FE;\n",
       "      border: none;\n",
       "      border-radius: 50%;\n",
       "      cursor: pointer;\n",
       "      display: none;\n",
       "      fill: #1967D2;\n",
       "      height: 32px;\n",
       "      padding: 0 0 0 0;\n",
       "      width: 32px;\n",
       "    }\n",
       "\n",
       "    .colab-df-convert:hover {\n",
       "      background-color: #E2EBFA;\n",
       "      box-shadow: 0px 1px 2px rgba(60, 64, 67, 0.3), 0px 1px 3px 1px rgba(60, 64, 67, 0.15);\n",
       "      fill: #174EA6;\n",
       "    }\n",
       "\n",
       "    [theme=dark] .colab-df-convert {\n",
       "      background-color: #3B4455;\n",
       "      fill: #D2E3FC;\n",
       "    }\n",
       "\n",
       "    [theme=dark] .colab-df-convert:hover {\n",
       "      background-color: #434B5C;\n",
       "      box-shadow: 0px 1px 3px 1px rgba(0, 0, 0, 0.15);\n",
       "      filter: drop-shadow(0px 1px 2px rgba(0, 0, 0, 0.3));\n",
       "      fill: #FFFFFF;\n",
       "    }\n",
       "  </style>\n",
       "\n",
       "      <script>\n",
       "        const buttonEl =\n",
       "          document.querySelector('#df-2216c9fa-2bc9-469a-82be-92daa1ca1336 button.colab-df-convert');\n",
       "        buttonEl.style.display =\n",
       "          google.colab.kernel.accessAllowed ? 'block' : 'none';\n",
       "\n",
       "        async function convertToInteractive(key) {\n",
       "          const element = document.querySelector('#df-2216c9fa-2bc9-469a-82be-92daa1ca1336');\n",
       "          const dataTable =\n",
       "            await google.colab.kernel.invokeFunction('convertToInteractive',\n",
       "                                                     [key], {});\n",
       "          if (!dataTable) return;\n",
       "\n",
       "          const docLinkHtml = 'Like what you see? Visit the ' +\n",
       "            '<a target=\"_blank\" href=https://colab.research.google.com/notebooks/data_table.ipynb>data table notebook</a>'\n",
       "            + ' to learn more about interactive tables.';\n",
       "          element.innerHTML = '';\n",
       "          dataTable['output_type'] = 'display_data';\n",
       "          await google.colab.output.renderOutput(dataTable, element);\n",
       "          const docLink = document.createElement('div');\n",
       "          docLink.innerHTML = docLinkHtml;\n",
       "          element.appendChild(docLink);\n",
       "        }\n",
       "      </script>\n",
       "    </div>\n",
       "  </div>\n",
       "  "
      ],
      "text/plain": [
       "      elapsed_time  time_passed\n",
       "0                0         1965\n",
       "1             1965         1649\n",
       "2             3614         1716\n",
       "3             5330         1067\n",
       "4             6397         2467\n",
       "...            ...          ...\n",
       "3723       1581679         1365\n",
       "3724       1583044          366\n",
       "3725       1583410         2431\n",
       "3726       1585841         1969\n",
       "3727       1587810      1587810\n",
       "\n",
       "[3728 rows x 2 columns]"
      ]
     },
     "execution_count": 26,
     "metadata": {},
     "output_type": "execute_result"
    }
   ],
   "source": [
    "df_teste.select(\"elapsed_time\",\"time_passed\").toPandas()"
   ]
  },
  {
   "cell_type": "code",
   "execution_count": 22,
   "id": "ywm76Nnt3gIa",
   "metadata": {
    "id": "ywm76Nnt3gIa"
   },
   "outputs": [],
   "source": [
    "def time_paseed_group(a):\n",
    "    kard = a.collect()\n",
    "    lss = 0\n",
    "    lastos = []\n",
    "    for i in kard:\n",
    "        # print(i[1])\n",
    "        try:\n",
    "            lastos.append([i[0],kard[lss+1][1] - i[1]])\n",
    "        except IndexError:\n",
    "            lastos.append([i[0],lss-lss])\n",
    "        # #print(kard[1][lss+1]-i[1])\n",
    "        # print(kard[lss+1][1])\n",
    "        lss+= 1\n",
    "    return lastos\n",
    "        "
   ]
  },
  {
   "cell_type": "code",
   "execution_count": 110,
   "id": "Q97FdVpD3_a8",
   "metadata": {
    "colab": {
     "base_uri": "https://localhost:8080/"
    },
    "id": "Q97FdVpD3_a8",
    "outputId": "8ecc328c-a59d-4cf7-80b8-364233196144"
   },
   "outputs": [
    {
     "data": {
      "text/plain": [
       "3728"
      ]
     },
     "execution_count": 110,
     "metadata": {},
     "output_type": "execute_result"
    }
   ],
   "source": [
    "groupss = df_teste.select(\"session_id\",\"event_name\").distinct().collect()\n",
    "len(groupss)\n",
    "df_teste.count()"
   ]
  },
  {
   "cell_type": "code",
   "execution_count": 93,
   "id": "k7Kv7btpO8mm",
   "metadata": {
    "colab": {
     "base_uri": "https://localhost:8080/"
    },
    "id": "k7Kv7btpO8mm",
    "outputId": "96b5df4e-b2b8-4850-cd80-33dd2f06cc77"
   },
   "outputs": [
    {
     "name": "stdout",
     "output_type": "stream",
     "text": [
      "17780\n",
      "19980\n"
     ]
    },
    {
     "data": {
      "text/plain": [
       "[]"
      ]
     },
     "execution_count": 93,
     "metadata": {},
     "output_type": "execute_result"
    }
   ],
   "source": [
    "time_paseed_group(df_teste.filter(f\"session_id == {i[0]}\" and f\"event_name == '{i[1]}'\").select(\"id_new\",\"elapsed_time\"))"
   ]
  },
  {
   "cell_type": "code",
   "execution_count": null,
   "id": "qRwz5R-8HWiw",
   "metadata": {
    "id": "qRwz5R-8HWiw"
   },
   "outputs": [],
   "source": [
    "df_teste.select(\"session_id\",\"event_name\").distinct().toPandas()"
   ]
  },
  {
   "cell_type": "code",
   "execution_count": 154,
   "id": "F4PfQmAxBHkW",
   "metadata": {
    "id": "F4PfQmAxBHkW"
   },
   "outputs": [],
   "source": [
    "def func_groups(xa):\n",
    "  emp_RDD = spark.sparkContext.emptyRDD()\n",
    "  columns = StructType([StructField('session_id', LongType(), True),\n",
    "                      StructField('index', IntegerType(), True),\n",
    "                      StructField('elapsed_time', IntegerType(), True),\n",
    "                      StructField('event_name', StringType(), True),                  \n",
    "                      StructField('name', StringType(), True),      \n",
    "                      StructField('level', IntegerType(), True),                \n",
    "                      StructField('page', DoubleType(), True),\n",
    "                      StructField('room_coor_x', DoubleType(), True),\n",
    "                      StructField('room_coor_y', DoubleType(), True),\n",
    "                      StructField('screen_coor_x', DoubleType(), True),\n",
    "                      StructField('screen_coor_y', DoubleType(), True),\n",
    "                      StructField('hover_duration', DoubleType(), True),\n",
    "                      StructField('text', StringType(), True),\n",
    "                      StructField('fqid', StringType(), True),\n",
    "                      StructField('room_fqid', StringType(), True),\n",
    "                      StructField('text_fqid', StringType(), True),       \n",
    "                      StructField('fullscreen', StringType(), True),       \n",
    "                      StructField('hq', IntegerType(), True),       \n",
    "                      StructField('music', IntegerType(), True),                 \n",
    "                      StructField('level_group', StringType(), True),       \n",
    "                      StructField('session_level', StringType(), True),\n",
    "                      StructField('id_new', IntegerType(), True),\n",
    "                      StructField('time_passed_grups', IntegerType(), True)])\n",
    "  kakakka = spark.createDataFrame(data = emp_RDD,schema = columns)\n",
    "  itera = 0\n",
    "  joinDF2 = []\n",
    "  groupss = xa.select(\"session_id\",\"event_name\").distinct().collect()\n",
    "  for i in groupss:\n",
    "    arraysalvo = time_paseed_group(xa.filter(f\"session_id == {i[0]}\" and f\"event_name == '{i[1]}'\").select(\"id_new\",\"elapsed_time\"))\n",
    "    labels_array = F.udf(lambda indx: arraysalvo[indx-1][1], IntegerType())\n",
    "    df_teste_12 = xa.filter(f\"session_id == {i[0]}\" and f\"event_name == '{i[1]}'\").withColumn(\"id_groups\", row_number().over(Window.orderBy(monotonically_increasing_id())))\n",
    "    df_teste_12 = df_teste_12.withColumn('time_passed_grups', labels_array('id_groups'))\n",
    "    df_teste_12 = df_teste_12.drop('id_groups')\n",
    "    kakakka.createOrReplaceTempView(\"fixa\")\n",
    "    df_teste_12.createOrReplaceTempView(\"tempo\")\n",
    "    kakakka = spark.sql(\"SELECT * FROM tempo UNION SELECT * FROM fixa\")\n",
    "  return kakakka\n"
   ]
  },
  {
   "cell_type": "code",
   "execution_count": 155,
   "id": "wqZ3fU8Zahe_",
   "metadata": {
    "id": "wqZ3fU8Zahe_"
   },
   "outputs": [],
   "source": [
    "asdddd = func_groups(df_teste)"
   ]
  },
  {
   "cell_type": "code",
   "execution_count": 156,
   "id": "mnpKLSaGAhzw",
   "metadata": {
    "colab": {
     "base_uri": "https://localhost:8080/"
    },
    "id": "mnpKLSaGAhzw",
    "outputId": "79abab7c-e3b8-4d7f-9de8-af1d1f9dc129"
   },
   "outputs": [
    {
     "data": {
      "text/plain": [
       "3728"
      ]
     },
     "execution_count": 156,
     "metadata": {},
     "output_type": "execute_result"
    }
   ],
   "source": [
    "asdddd.count()"
   ]
  },
  {
   "cell_type": "code",
   "execution_count": 148,
   "id": "3U2siZpAkxYv",
   "metadata": {
    "id": "3U2siZpAkxYv"
   },
   "outputs": [],
   "source": [
    "from pyspark.ml.param import P\n",
    "# Create an empty RDD\n",
    "emp_RDD = spark.sparkContext.emptyRDD()\n",
    " \n",
    "# Create empty schema\n",
    "columns = StructType([StructField('session_id', LongType(), True),\n",
    "                     StructField('index', IntegerType(), True),\n",
    "                     StructField('elapsed_time', IntegerType(), True),\n",
    "                     StructField('event_name', StringType(), True),                  \n",
    "                     StructField('name', StringType(), True),      \n",
    "                     StructField('level', IntegerType(), True),                \n",
    "                     StructField('page', DoubleType(), True),\n",
    "                     StructField('room_coor_x', DoubleType(), True),\n",
    "                     StructField('room_coor_y', DoubleType(), True),\n",
    "                     StructField('screen_coor_x', DoubleType(), True),\n",
    "                     StructField('screen_coor_y', DoubleType(), True),\n",
    "                     StructField('hover_duration', DoubleType(), True),\n",
    "                     StructField('text', StringType(), True),\n",
    "                     StructField('fqid', StringType(), True),\n",
    "                     StructField('room_fqid', StringType(), True),\n",
    "                     StructField('text_fqid', StringType(), True),       \n",
    "                     StructField('fullscreen', StringType(), True),       \n",
    "                     StructField('hq', IntegerType(), True),       \n",
    "                     StructField('music', IntegerType(), True),                 \n",
    "                     StructField('level_group', StringType(), True),       \n",
    "                     StructField('session_level', StringType(), True),\n",
    "                     StructField('id_new', IntegerType(), True),\n",
    "                     StructField('time_passed_grups', IntegerType(), True)])\n",
    " \n",
    "# Create an empty RDD with empty schema\n",
    "kakakka = spark.createDataFrame(data = emp_RDD,schema = columns)\n",
    "aaa= 0\n",
    "for i in asdddd:\n",
    "  kakak = i.select(\"id_new\").collect()\n",
    "  break\n",
    "  print(i.select(\"id_new\").collect() not in kakakka.select(\"id_new\").collect())\n",
    "  if i.select(\"session_id\", \"event_name\").collect() not in kakakka.select(\"session_id\", \"event_name\").collect():\n",
    "    #kakakka = kakakka.union(i)\\\n",
    "    pass\n",
    "  #i.show()\n",
    "  "
   ]
  },
  {
   "cell_type": "code",
   "execution_count": 150,
   "id": "CbkZB8V79DVp",
   "metadata": {
    "colab": {
     "base_uri": "https://localhost:8080/"
    },
    "id": "CbkZB8V79DVp",
    "outputId": "d4906748-d34d-41d4-c441-ef5bc5d62da7"
   },
   "outputs": [
    {
     "data": {
      "text/plain": [
       "1519"
      ]
     },
     "execution_count": 150,
     "metadata": {},
     "output_type": "execute_result"
    }
   ],
   "source": [
    "len(kakak)"
   ]
  },
  {
   "cell_type": "code",
   "execution_count": 138,
   "id": "79wBsIeYWPq3",
   "metadata": {
    "colab": {
     "base_uri": "https://localhost:8080/"
    },
    "id": "79wBsIeYWPq3",
    "outputId": "3e06f05c-f4e0-4b2f-edb9-e1b5a8bcf933"
   },
   "outputs": [
    {
     "data": {
      "text/plain": [
       "11184"
      ]
     },
     "execution_count": 138,
     "metadata": {},
     "output_type": "execute_result"
    }
   ],
   "source": [
    "kakakka.count()"
   ]
  },
  {
   "cell_type": "code",
   "execution_count": 165,
   "id": "9AAZsjtBMQWR",
   "metadata": {
    "colab": {
     "base_uri": "https://localhost:8080/"
    },
    "id": "9AAZsjtBMQWR",
    "outputId": "b173bea0-3677-4c8b-c9a3-473f7a8844eb"
   },
   "outputs": [
    {
     "name": "stdout",
     "output_type": "stream",
     "text": [
      "+-----------------+-----+------------+--------------+---------+-----+----+-------------------+-------------------+-------------+-------------+--------------+----+----------+--------------------+---------+----------+---+-----+-----------+-------------+-----------+------+---------+-----------------+\n",
      "|       session_id|index|elapsed_time|    event_name|     name|level|page|        room_coor_x|        room_coor_y|screen_coor_x|screen_coor_y|hover_duration|text|      fqid|           room_fqid|text_fqid|fullscreen| hq|music|level_group|session_level|time_passed|id_new|id_groups|time_passed_grups|\n",
      "+-----------------+-----+------------+--------------+---------+-----+----+-------------------+-------------------+-------------+-------------+--------------+----+----------+--------------------+---------+----------+---+-----+-----------+-------------+-----------+------+---------+-----------------+\n",
      "|20090109393214576|   10|       17780|navigate_click|undefined|    0|null|  534.1177123473617| -92.74872486924905|        638.0|        377.0|          null|null|     photo|tunic.historicals...|     null|         0|  0|    1|       null|            0|       1001|    10|        1|             5100|\n",
      "|20090109393214576|   12|       19980|navigate_click|undefined|    0|null|  506.3468963606781|  -87.8278701704662|        638.0|        377.0|          null|null|     photo|tunic.historicals...|     null|         0|  0|    1|       null|            0|       1422|    12|        2|             4383|\n",
      "|20090109393214576|   14|       23230|navigate_click|undefined|    0|null| 173.79758525808498| -184.7332519621273|        306.0|        474.0|          null|null|      null|tunic.historicals...|     null|         0|  0|    1|       null|            0|       1166|    14|        3|             1802|\n",
      "|20090109393214576|   15|       24396|navigate_click|undefined|    0|null| -91.35459626385664| -214.5730474957053|        165.0|        502.0|          null|null|      null|tunic.historicals...|     null|         0|  0|    1|       null|            0|        834|    15|        4|             3131|\n",
      "|20090109393214576|   16|       25230|navigate_click|undefined|    0|null|-234.64804292856826|-164.00896788474037|        170.0|        447.0|          null|null|      null|tunic.historicals...|     null|         0|  0|    1|       null|            0|       1518|    16|        5|             5318|\n",
      "|20090109393214576|   17|       26748|navigate_click|undefined|    0|null|-186.81338341256057|-136.27886302629716|        438.0|        427.0|          null|null|      null|tunic.historicals...|     null|         0|  0|    1|       null|            0|        999|    17|        6|            35421|\n",
      "|20090109393214576|   18|       27747|navigate_click|undefined|    0|null|-134.48967965006278|-141.86639863023447|        473.0|        438.0|          null|null|      null|tunic.historicals...|     null|         0|  0|    1|       null|            0|       1199|    18|        7|              328|\n",
      "|20090109393214576|   19|       28946|navigate_click|undefined|    0|null| -383.2877806365772|-120.93583810576746|        181.0|        417.0|          null|null|      null|tunic.historicals...|     null|         0|  0|    1|       null|            0|       1068|    19|        8|             2032|\n",
      "|20090109393214576|   20|       30014|navigate_click|undefined|    0|null| -564.3937860868377|-115.00309832204435|        141.0|        415.0|          null|null|      null|tunic.historicals...|     null|         0|  0|    1|       null|            0|       1033|    20|        9|            15434|\n",
      "|20090109393214576|   21|       31047|navigate_click|undefined|    0|null| -801.6590482365721|-129.26060217537486|         49.0|        431.0|          null|null|      null|tunic.historicals...|     null|         0|  0|    1|       null|            0|       1283|    21|       10|            10115|\n",
      "|20090109393214576|   22|       32330|navigate_click|undefined|    0|null| -923.8978448763099|-269.87211639016107|         64.0|        569.0|          null|null|  notebook|tunic.historicals...|     null|         0|  0|    1|       null|            0|       2251|    22|       11|            21317|\n",
      "|20090109393214576|   25|       37430|navigate_click|undefined|    1|null|-347.65671725733733|-17.914959974825976|        681.0|        293.0|          null|null|      null|tunic.historicals...|     null|         0|  0|    1|       null|            0|       1833|    25|       12|             3161|\n",
      "|20090109393214576|   26|       39263|navigate_click|undefined|    1|null|-298.51972031998963| 124.88651527448329|        491.0|        197.0|          null|null|tobasement|tunic.historicals...|     null|         0|  0|    1|       null|            0|       4383|    26|       13|              624|\n",
      "|20090109393214576|   27|       43646|navigate_click|undefined|    1|null| 123.99460742424245|   19.1296063311372|        502.0|        307.0|          null|null|  tocloset|tunic.historicals...|     null|         0|  0|    1|       null|            0|       1734|    27|       14|             1715|\n",
      "|20090109393214576|   28|       45380|navigate_click|undefined|    1|null| -382.0290931904356| 119.12718740270643|        358.0|        208.0|          null|null|tobasement|tunic.historicals...|     null|         0|  0|    1|       null|            0|       1802|    28|       15|              750|\n",
      "|20090109393214576|   29|       47182|navigate_click|undefined|    1|null| -239.8235743939394| -1.779484577953694|        241.0|        322.0|          null|null|   janitor|tunic.historicals...|     null|         0|  0|    1|       null|            0|       2182|    29|       16|              667|\n",
      "|20090109393214576|   31|       50313|navigate_click|undefined|    1|null| -526.5220000548119| -111.9006966991658|         97.0|        401.0|          null|null|   toentry|tunic.historicals...|     null|         0|  0|    1|       null|            0|       5318|    31|       17|             1634|\n",
      "|20090109393214576|   32|       55631|navigate_click|undefined|    1|null|  330.2236213937263|  80.79568358536096|        427.0|        280.0|          null|null|groupconvo|tunic.historicals...|     null|         0|  0|    1|       null|            0|       2232|    32|       18|             2718|\n",
      "|20090109393214576|   51|       91052|navigate_click|undefined|    2|null|-182.55718745045638|-143.49256515949287|        173.0|        415.0|          null|null|      null|tunic.historicals...|     null|         0|  0|    1|       null|            0|        328|    51|       19|              134|\n",
      "|20090109393214576|   52|       91380|navigate_click|undefined|    2|null| -539.7655218141281|-153.14089511853442|         47.0|        413.0|          null|null|      null|tunic.historicals...|     null|         0|  0|    1|       null|            0|       2032|    52|       20|              150|\n",
      "+-----------------+-----+------------+--------------+---------+-----+----+-------------------+-------------------+-------------+-------------+--------------+----+----------+--------------------+---------+----------+---+-----+-----------+-------------+-----------+------+---------+-----------------+\n",
      "only showing top 20 rows\n",
      "\n"
     ]
    }
   ],
   "source": [
    "df_teste_12.show()"
   ]
  },
  {
   "cell_type": "code",
   "execution_count": 59,
   "id": "1Q74XrvbGket",
   "metadata": {
    "colab": {
     "base_uri": "https://localhost:8080/"
    },
    "id": "1Q74XrvbGket",
    "outputId": "59aafd1d-ff39-427a-8959-9dd2f39eaeae"
   },
   "outputs": [
    {
     "data": {
      "text/plain": [
       "8"
      ]
     },
     "execution_count": 59,
     "metadata": {},
     "output_type": "execute_result"
    }
   ],
   "source": [
    "b = f\"{20090312331414616}\"\n",
    "a = \"session_id == {}\".format(b)\n",
    "b1 = \"observation_click\"\n",
    "a1 = f\"event_name == '{b1}'\"\n",
    "df_teste.filter(a).filter(a1).count()"
   ]
  },
  {
   "cell_type": "code",
   "execution_count": 69,
   "id": "gRxCOkuA41kW",
   "metadata": {
    "colab": {
     "base_uri": "https://localhost:8080/"
    },
    "id": "gRxCOkuA41kW",
    "outputId": "5fd00e3a-0490-4181-b998-953d2f648a10"
   },
   "outputs": [
    {
     "data": {
      "text/plain": [
       "965"
      ]
     },
     "execution_count": 69,
     "metadata": {},
     "output_type": "execute_result"
    }
   ],
   "source": [
    "df_teste.filter(\"session_id == {}\".format() and \"event_name == {}\".format()).select(\"elapsed_time\").count()"
   ]
  },
  {
   "cell_type": "code",
   "execution_count": 70,
   "id": "AO6r-s9k3rzr",
   "metadata": {
    "id": "AO6r-s9k3rzr"
   },
   "outputs": [],
   "source": [
    "asdwd = time_paseed_group(df_teste.filter(\"session_id == 20090312331414616\").select(\"elapsed_time\"))"
   ]
  },
  {
   "cell_type": "code",
   "execution_count": 71,
   "id": "zXqLy-WR47mc",
   "metadata": {
    "colab": {
     "base_uri": "https://localhost:8080/"
    },
    "id": "zXqLy-WR47mc",
    "outputId": "77386061-585f-4aa9-8123-b40852e29adf"
   },
   "outputs": [
    {
     "data": {
      "text/plain": [
       "965"
      ]
     },
     "execution_count": 71,
     "metadata": {},
     "output_type": "execute_result"
    }
   ],
   "source": [
    "len(asdwd)"
   ]
  },
  {
   "cell_type": "code",
   "execution_count": null,
   "id": "0c0af1f4-69a5-4e68-aee5-99c28419e78e",
   "metadata": {
    "id": "0c0af1f4-69a5-4e68-aee5-99c28419e78e",
    "outputId": "b96439a1-8a8c-4d76-e30d-0e0c0f2d1a22",
    "tags": []
   },
   "outputs": [
    {
     "name": "stderr",
     "output_type": "stream",
     "text": [
      "ERROR:root:KeyboardInterrupt while sending command.\n",
      "Traceback (most recent call last):\n",
      "  File \"C:\\anaconda\\instalation\\envs\\pbd\\lib\\socket.py\", line 705, in readinto\n",
      "    return self._sock.recv_into(b)\n",
      "ConnectionResetError: [WinError 10054] Foi forçado o cancelamento de uma conexão existente pelo host remoto\n",
      "\n",
      "During handling of the above exception, another exception occurred:\n",
      "\n",
      "Traceback (most recent call last):\n",
      "  File \"C:\\anaconda\\instalation\\envs\\pbd\\lib\\site-packages\\py4j\\java_gateway.py\", line 1038, in send_command\n",
      "    response = connection.send_command(command)\n",
      "  File \"C:\\anaconda\\instalation\\envs\\pbd\\lib\\site-packages\\py4j\\clientserver.py\", line 511, in send_command\n",
      "    answer = smart_decode(self.stream.readline()[:-1])\n",
      "  File \"C:\\anaconda\\instalation\\envs\\pbd\\lib\\socket.py\", line 705, in readinto\n",
      "    return self._sock.recv_into(b)\n",
      "KeyboardInterrupt\n"
     ]
    }
   ],
   "source": [
    "df_train = df_train.withColumn(\n",
    "    \"time_passed_group\",\n",
    "    time_paseed(df_train.select(\"elapsed_time\"))\n",
    ")"
   ]
  },
  {
   "cell_type": "code",
   "execution_count": null,
   "id": "f2b2b436-8e51-4ea2-a117-8614fe323c52",
   "metadata": {
    "id": "f2b2b436-8e51-4ea2-a117-8614fe323c52"
   },
   "outputs": [],
   "source": [
    "df_train = df_train.withColumn(\n",
    "    \"time_group\",\n",
    "    row_number().over(Window.orderBy(monotonically_increasing_id()))-1\n",
    ")"
   ]
  },
  {
   "cell_type": "code",
   "execution_count": null,
   "id": "98072b0b-f0d3-4b7b-a4e7-fa25f88673ad",
   "metadata": {
    "id": "98072b0b-f0d3-4b7b-a4e7-fa25f88673ad"
   },
   "outputs": [],
   "source": []
  },
  {
   "cell_type": "code",
   "execution_count": null,
   "id": "bdb07324-23c9-4e87-840b-1204ed66380d",
   "metadata": {
    "id": "bdb07324-23c9-4e87-840b-1204ed66380d"
   },
   "outputs": [],
   "source": []
  },
  {
   "cell_type": "code",
   "execution_count": null,
   "id": "beaec147-0b8e-4dc5-81f4-00ee3e439ebf",
   "metadata": {
    "id": "beaec147-0b8e-4dc5-81f4-00ee3e439ebf"
   },
   "outputs": [],
   "source": []
  },
  {
   "cell_type": "code",
   "execution_count": null,
   "id": "dd99773f-28b6-4876-96fe-9b543497ed4f",
   "metadata": {
    "id": "dd99773f-28b6-4876-96fe-9b543497ed4f"
   },
   "outputs": [],
   "source": []
  },
  {
   "cell_type": "code",
   "execution_count": null,
   "id": "02e20187-087b-433d-b0de-c7ac7198bdd9",
   "metadata": {
    "id": "02e20187-087b-433d-b0de-c7ac7198bdd9"
   },
   "outputs": [],
   "source": []
  },
  {
   "cell_type": "code",
   "execution_count": null,
   "id": "941961ee-86e9-47a0-bd5c-463758ee9573",
   "metadata": {
    "id": "941961ee-86e9-47a0-bd5c-463758ee9573"
   },
   "outputs": [],
   "source": []
  },
  {
   "cell_type": "code",
   "execution_count": null,
   "id": "fc0ee42e-414a-4f32-90f6-56b9a439119c",
   "metadata": {
    "id": "fc0ee42e-414a-4f32-90f6-56b9a439119c",
    "outputId": "c5038289-f381-4cfe-b409-215163b245dc"
   },
   "outputs": [
    {
     "name": "stdout",
     "output_type": "stream",
     "text": [
      "+-----------------+--------+-------+\n",
      "|       session_id|question|correct|\n",
      "+-----------------+--------+-------+\n",
      "|20090312431273200|      q1|      1|\n",
      "|20090312433251036|      q1|      0|\n",
      "|20090312455206810|      q1|      1|\n",
      "|20090313091715820|      q1|      0|\n",
      "|20090313571836404|      q1|      1|\n",
      "|20090314035813970|      q1|      1|\n",
      "|20090314121766812|      q1|      1|\n",
      "|20090314221187252|      q1|      0|\n",
      "|20090314363702160|      q1|      1|\n",
      "|20090314441803444|      q1|      1|\n",
      "|20090315081004164|      q1|      0|\n",
      "|20090315085850788|      q1|      1|\n",
      "+-----------------+--------+-------+\n",
      "only showing top 12 rows\n",
      "\n"
     ]
    }
   ],
   "source": [
    "df_train_labs.select(split(\"session_id\", '_',-1).getItem(0).alias('session_id'),split(\"session_id\", '_',-1).getItem(1).alias('question'),'correct').show(12)"
   ]
  },
  {
   "cell_type": "code",
   "execution_count": null,
   "id": "725d8647-0e6c-4033-8d39-c96cfffc5e58",
   "metadata": {
    "id": "725d8647-0e6c-4033-8d39-c96cfffc5e58"
   },
   "outputs": [],
   "source": [
    "df_train_labs = df_train_labs.select(split(\"session_id\", '_',-1).getItem(0).alias('session_id'),split(\"session_id\", '_',-1).getItem(1).alias('question'),'correct')"
   ]
  },
  {
   "cell_type": "code",
   "execution_count": null,
   "id": "249bb6d4-fe07-4f6a-a84d-1a9f4eac2bcb",
   "metadata": {
    "id": "249bb6d4-fe07-4f6a-a84d-1a9f4eac2bcb",
    "outputId": "21769297-c245-4dfd-d903-00e04cca72d1"
   },
   "outputs": [
    {
     "name": "stdout",
     "output_type": "stream",
     "text": [
      "+-----------------+--------+-------+\n",
      "|       session_id|question|correct|\n",
      "+-----------------+--------+-------+\n",
      "|20090312431273200|      q1|      1|\n",
      "|20090312433251036|      q1|      0|\n",
      "|20090312455206810|      q1|      1|\n",
      "|20090313091715820|      q1|      0|\n",
      "|20090313571836404|      q1|      1|\n",
      "+-----------------+--------+-------+\n",
      "only showing top 5 rows\n",
      "\n"
     ]
    }
   ],
   "source": [
    "df_train_labs.show(5)"
   ]
  },
  {
   "cell_type": "code",
   "execution_count": null,
   "id": "3f62132b-beee-4edc-a498-d21ed23c126f",
   "metadata": {
    "id": "3f62132b-beee-4edc-a498-d21ed23c126f"
   },
   "outputs": [],
   "source": [
    "df_train_labs = df_train_labs.withColumn(\"session_id\",df_train_labs[\"session_id\"].cast('Long'))"
   ]
  },
  {
   "cell_type": "code",
   "execution_count": null,
   "id": "c62d458b-e334-4fde-ba1e-126b31cc01cd",
   "metadata": {
    "id": "c62d458b-e334-4fde-ba1e-126b31cc01cd",
    "outputId": "9fc92f9a-0ead-45fd-c2df-60f9a8d56dca"
   },
   "outputs": [
    {
     "data": {
      "text/html": [
       "<div>\n",
       "<style scoped>\n",
       "    .dataframe tbody tr th:only-of-type {\n",
       "        vertical-align: middle;\n",
       "    }\n",
       "\n",
       "    .dataframe tbody tr th {\n",
       "        vertical-align: top;\n",
       "    }\n",
       "\n",
       "    .dataframe thead th {\n",
       "        text-align: right;\n",
       "    }\n",
       "</style>\n",
       "<table border=\"1\" class=\"dataframe\">\n",
       "  <thead>\n",
       "    <tr style=\"text-align: right;\">\n",
       "      <th></th>\n",
       "      <th>session_id</th>\n",
       "      <th>question</th>\n",
       "      <th>correct</th>\n",
       "    </tr>\n",
       "  </thead>\n",
       "  <tbody>\n",
       "    <tr>\n",
       "      <th>0</th>\n",
       "      <td>20090312431273200</td>\n",
       "      <td>q1</td>\n",
       "      <td>1</td>\n",
       "    </tr>\n",
       "    <tr>\n",
       "      <th>1</th>\n",
       "      <td>20090312433251036</td>\n",
       "      <td>q1</td>\n",
       "      <td>0</td>\n",
       "    </tr>\n",
       "    <tr>\n",
       "      <th>2</th>\n",
       "      <td>20090312455206810</td>\n",
       "      <td>q1</td>\n",
       "      <td>1</td>\n",
       "    </tr>\n",
       "    <tr>\n",
       "      <th>3</th>\n",
       "      <td>20090313091715820</td>\n",
       "      <td>q1</td>\n",
       "      <td>0</td>\n",
       "    </tr>\n",
       "    <tr>\n",
       "      <th>4</th>\n",
       "      <td>20090313571836404</td>\n",
       "      <td>q1</td>\n",
       "      <td>1</td>\n",
       "    </tr>\n",
       "    <tr>\n",
       "      <th>...</th>\n",
       "      <td>...</td>\n",
       "      <td>...</td>\n",
       "      <td>...</td>\n",
       "    </tr>\n",
       "    <tr>\n",
       "      <th>424111</th>\n",
       "      <td>22100215342220508</td>\n",
       "      <td>q18</td>\n",
       "      <td>1</td>\n",
       "    </tr>\n",
       "    <tr>\n",
       "      <th>424112</th>\n",
       "      <td>22100215460321130</td>\n",
       "      <td>q18</td>\n",
       "      <td>1</td>\n",
       "    </tr>\n",
       "    <tr>\n",
       "      <th>424113</th>\n",
       "      <td>22100217104993650</td>\n",
       "      <td>q18</td>\n",
       "      <td>1</td>\n",
       "    </tr>\n",
       "    <tr>\n",
       "      <th>424114</th>\n",
       "      <td>22100219442786200</td>\n",
       "      <td>q18</td>\n",
       "      <td>1</td>\n",
       "    </tr>\n",
       "    <tr>\n",
       "      <th>424115</th>\n",
       "      <td>22100221145014656</td>\n",
       "      <td>q18</td>\n",
       "      <td>1</td>\n",
       "    </tr>\n",
       "  </tbody>\n",
       "</table>\n",
       "<p>424116 rows × 3 columns</p>\n",
       "</div>"
      ],
      "text/plain": [
       "               session_id question  correct\n",
       "0       20090312431273200       q1        1\n",
       "1       20090312433251036       q1        0\n",
       "2       20090312455206810       q1        1\n",
       "3       20090313091715820       q1        0\n",
       "4       20090313571836404       q1        1\n",
       "...                   ...      ...      ...\n",
       "424111  22100215342220508      q18        1\n",
       "424112  22100215460321130      q18        1\n",
       "424113  22100217104993650      q18        1\n",
       "424114  22100219442786200      q18        1\n",
       "424115  22100221145014656      q18        1\n",
       "\n",
       "[424116 rows x 3 columns]"
      ]
     },
     "execution_count": 55,
     "metadata": {},
     "output_type": "execute_result"
    }
   ],
   "source": [
    "df_train_labs.toPandas()"
   ]
  },
  {
   "cell_type": "code",
   "execution_count": null,
   "id": "d83778a0-c552-4563-ba7e-2f3f985667d8",
   "metadata": {
    "id": "d83778a0-c552-4563-ba7e-2f3f985667d8"
   },
   "outputs": [],
   "source": [
    "df_train_labs.show(12).groupby('session_id')"
   ]
  },
  {
   "cell_type": "code",
   "execution_count": null,
   "id": "317a9725-7c81-450c-96d2-e1d79d95b322",
   "metadata": {
    "id": "317a9725-7c81-450c-96d2-e1d79d95b322"
   },
   "outputs": [],
   "source": [
    "#df_todo.write.mode(\"overwrite\").parquet(\"all_data_predict\")"
   ]
  },
  {
   "cell_type": "code",
   "execution_count": null,
   "id": "20e2aebf-f8fa-4349-a427-971c12a9a459",
   "metadata": {
    "id": "20e2aebf-f8fa-4349-a427-971c12a9a459"
   },
   "outputs": [],
   "source": [
    "df_train_labs.select(\"session_id\").toPandas()"
   ]
  },
  {
   "cell_type": "code",
   "execution_count": null,
   "id": "bc553996-9bdc-4a3a-854d-88e2365d7810",
   "metadata": {
    "id": "bc553996-9bdc-4a3a-854d-88e2365d7810"
   },
   "outputs": [],
   "source": [
    "#colunios = split(df_train_labs.select('session_id'), '_')"
   ]
  },
  {
   "cell_type": "code",
   "execution_count": null,
   "id": "83a3f86f-e864-44d9-b41c-519f7f66e470",
   "metadata": {
    "id": "83a3f86f-e864-44d9-b41c-519f7f66e470"
   },
   "outputs": [],
   "source": [
    "df_todo.select(\"session_id\").distinct().toPandas()"
   ]
  },
  {
   "cell_type": "code",
   "execution_count": null,
   "id": "9d90e79a-6956-4f09-94c9-a3d88f20248c",
   "metadata": {
    "id": "9d90e79a-6956-4f09-94c9-a3d88f20248c"
   },
   "outputs": [],
   "source": [
    "df_train_labs.select(\"session_id\").distinct().toPandas()"
   ]
  },
  {
   "cell_type": "code",
   "execution_count": null,
   "id": "f2e3a1e8-e788-4a27-9692-9894fb266663",
   "metadata": {
    "id": "f2e3a1e8-e788-4a27-9692-9894fb266663",
    "outputId": "6e79a3c0-a129-48ee-aa53-41b25455b0fc"
   },
   "outputs": [
    {
     "data": {
      "text/plain": [
       "1309.1666666666667"
      ]
     },
     "execution_count": 31,
     "metadata": {},
     "output_type": "execute_result"
    }
   ],
   "source": [
    "23565/18"
   ]
  },
  {
   "cell_type": "code",
   "execution_count": null,
   "id": "9650ef75-18b7-4143-98fa-b7edb9339ca4",
   "metadata": {
    "id": "9650ef75-18b7-4143-98fa-b7edb9339ca4"
   },
   "outputs": [],
   "source": [
    "listaasd = df_train_labs.select(\"session_id\").distinct().collect()"
   ]
  },
  {
   "cell_type": "code",
   "execution_count": null,
   "id": "a5826961-a750-4e4e-a620-8f0a0b44c69a",
   "metadata": {
    "id": "a5826961-a750-4e4e-a620-8f0a0b44c69a"
   },
   "outputs": [],
   "source": [
    "listaasd"
   ]
  },
  {
   "cell_type": "code",
   "execution_count": null,
   "id": "b8b04d5e-e469-4a1a-a794-9725d6cd3051",
   "metadata": {
    "id": "b8b04d5e-e469-4a1a-a794-9725d6cd3051"
   },
   "outputs": [],
   "source": [
    "asd = df_train.select(\"session_id\").distinct().collect()"
   ]
  },
  {
   "cell_type": "code",
   "execution_count": null,
   "id": "131f8485-0527-4c1d-87e6-e5183abae239",
   "metadata": {
    "id": "131f8485-0527-4c1d-87e6-e5183abae239"
   },
   "outputs": [],
   "source": [
    "asd"
   ]
  },
  {
   "cell_type": "code",
   "execution_count": null,
   "id": "31e99dfe-cb08-4e36-827b-1070704db51c",
   "metadata": {
    "id": "31e99dfe-cb08-4e36-827b-1070704db51c",
    "outputId": "3b9120a3-bd5d-449c-eeab-ea3cac69952b"
   },
   "outputs": [
    {
     "data": {
      "text/plain": [
       "33811470"
      ]
     },
     "execution_count": 40,
     "metadata": {},
     "output_type": "execute_result"
    }
   ],
   "source": [
    "1435*23562"
   ]
  },
  {
   "cell_type": "code",
   "execution_count": null,
   "id": "ab852f17-07b5-4736-b8da-e0656059e9cf",
   "metadata": {
    "id": "ab852f17-07b5-4736-b8da-e0656059e9cf"
   },
   "outputs": [],
   "source": [
    "kar = [x for x in asd if x in listaasd]"
   ]
  },
  {
   "cell_type": "code",
   "execution_count": null,
   "id": "794fdb24-ba51-4c01-a8ad-cc7bc8228a90",
   "metadata": {
    "id": "794fdb24-ba51-4c01-a8ad-cc7bc8228a90",
    "outputId": "aadc3343-13a8-407a-8913-df1d6524ae3b"
   },
   "outputs": [
    {
     "data": {
      "text/plain": [
       "0"
      ]
     },
     "execution_count": 42,
     "metadata": {},
     "output_type": "execute_result"
    }
   ],
   "source": [
    "len(kar)"
   ]
  },
  {
   "cell_type": "code",
   "execution_count": null,
   "id": "d408ad06-a148-4be1-af50-2ab8146326b6",
   "metadata": {
    "id": "d408ad06-a148-4be1-af50-2ab8146326b6"
   },
   "outputs": [],
   "source": [
    "df_train_labs.select(\"session_id\"==listaasd).show()"
   ]
  },
  {
   "cell_type": "code",
   "execution_count": null,
   "id": "a0e21c45-c17a-4823-96bf-85de54c72050",
   "metadata": {
    "id": "a0e21c45-c17a-4823-96bf-85de54c72050"
   },
   "outputs": [],
   "source": []
  },
  {
   "cell_type": "code",
   "execution_count": null,
   "id": "fbcffe1e-1660-493c-9a98-fb3211a568a4",
   "metadata": {
    "id": "fbcffe1e-1660-493c-9a98-fb3211a568a4"
   },
   "outputs": [],
   "source": [
    "#df_todo = df_todo.select(\"*\").withColumn(\"id_index\", monotonically_increasing_id())"
   ]
  },
  {
   "cell_type": "code",
   "execution_count": null,
   "id": "103bd959-c188-404e-87f1-7368caeb41ff",
   "metadata": {
    "id": "103bd959-c188-404e-87f1-7368caeb41ff",
    "tags": []
   },
   "outputs": [],
   "source": [
    "#df_todo.select(\"*\").toPandas()"
   ]
  },
  {
   "cell_type": "code",
   "execution_count": null,
   "id": "3cb596e4-355e-4a07-af26-eb2dc5c0f133",
   "metadata": {
    "id": "3cb596e4-355e-4a07-af26-eb2dc5c0f133",
    "outputId": "f291ebb6-4f3f-41f7-973a-91bed4990436",
    "tags": []
   },
   "outputs": [
    {
     "name": "stdout",
     "output_type": "stream",
     "text": [
      "-RECORD 0------------------------------\n",
      " session_id     | 20090109393214576    \n",
      " index          | 0                    \n",
      " elapsed_time   | 0                    \n",
      " event_name     | cutscene_click       \n",
      " name           | basic                \n",
      " level          | 0                    \n",
      " page           | null                 \n",
      " room_coor_x    | -413.99140522263224  \n",
      " room_coor_y    | 75.6853138297722     \n",
      " screen_coor_x  | 380.0                \n",
      " screen_coor_y  | 259.0                \n",
      " hover_duration | null                 \n",
      " text           | undefined            \n",
      " fqid           | intro                \n",
      " room_fqid      | tunic.historicals... \n",
      " text_fqid      | tunic.historicals... \n",
      " fullscreen     | null                 \n",
      " hq             | null                 \n",
      " music          | null                 \n",
      " level_group    | 0-4                  \n",
      " session_level  | 20090109393214576... \n",
      "only showing top 1 row\n",
      "\n",
      "+-----------------+-----+------------+--------------+-----+-----+----+-------------------+----------------+-------------+-------------+--------------+---------+-----+--------------------+--------------------+----------+----+-----+-----------+--------------------+\n",
      "|       session_id|index|elapsed_time|    event_name| name|level|page|        room_coor_x|     room_coor_y|screen_coor_x|screen_coor_y|hover_duration|     text| fqid|           room_fqid|           text_fqid|fullscreen|  hq|music|level_group|       session_level|\n",
      "+-----------------+-----+------------+--------------+-----+-----+----+-------------------+----------------+-------------+-------------+--------------+---------+-----+--------------------+--------------------+----------+----+-----+-----------+--------------------+\n",
      "|20090109393214576|    0|           0|cutscene_click|basic|    0|null|-413.99140522263224|75.6853138297722|        380.0|        259.0|          null|undefined|intro|tunic.historicals...|tunic.historicals...|      null|null| null|        0-4|20090109393214576...|\n",
      "+-----------------+-----+------------+--------------+-----+-----+----+-------------------+----------------+-------------+-------------+--------------+---------+-----+--------------------+--------------------+----------+----+-----+-----------+--------------------+\n",
      "only showing top 1 row\n",
      "\n"
     ]
    }
   ],
   "source": [
    "df_teste.show(1, vertical=True)\n",
    "teste_count = df_teste.count()\n",
    "df_teste.show(1)"
   ]
  },
  {
   "cell_type": "code",
   "execution_count": null,
   "id": "78043c60-50ee-4ebe-9236-9aa80ed0a831",
   "metadata": {
    "id": "78043c60-50ee-4ebe-9236-9aa80ed0a831",
    "outputId": "a0f05727-9b00-4c28-e367-7b5fa0a60318",
    "tags": []
   },
   "outputs": [
    {
     "name": "stdout",
     "output_type": "stream",
     "text": [
      "-RECORD 0------------------------------\n",
      " session_id     | 20090312431273200    \n",
      " index          | 0                    \n",
      " elapsed_time   | 0                    \n",
      " event_name     | cutscene_click       \n",
      " name           | basic                \n",
      " level          | 0                    \n",
      " page           | null                 \n",
      " room_coor_x    | -413.99140522263224  \n",
      " room_coor_y    | -159.31468617022784  \n",
      " screen_coor_x  | 380.0                \n",
      " screen_coor_y  | 494.0                \n",
      " hover_duration | null                 \n",
      " text           | undefined            \n",
      " fqid           | intro                \n",
      " room_fqid      | tunic.historicals... \n",
      " text_fqid      | tunic.historicals... \n",
      " fullscreen     | null                 \n",
      " hq             | null                 \n",
      " music          | null                 \n",
      " level_group    | 0-4                  \n",
      "only showing top 1 row\n",
      "\n",
      "+-----------------+-----+------------+--------------+-----+-----+----+-------------------+-------------------+-------------+-------------+--------------+---------+-----+--------------------+--------------------+----------+----+-----+-----------+\n",
      "|       session_id|index|elapsed_time|    event_name| name|level|page|        room_coor_x|        room_coor_y|screen_coor_x|screen_coor_y|hover_duration|     text| fqid|           room_fqid|           text_fqid|fullscreen|  hq|music|level_group|\n",
      "+-----------------+-----+------------+--------------+-----+-----+----+-------------------+-------------------+-------------+-------------+--------------+---------+-----+--------------------+--------------------+----------+----+-----+-----------+\n",
      "|20090312431273200|    0|           0|cutscene_click|basic|    0|null|-413.99140522263224|-159.31468617022784|        380.0|        494.0|          null|undefined|intro|tunic.historicals...|tunic.historicals...|      null|null| null|        0-4|\n",
      "+-----------------+-----+------------+--------------+-----+-----+----+-------------------+-------------------+-------------+-------------+--------------+---------+-----+--------------------+--------------------+----------+----+-----+-----------+\n",
      "only showing top 1 row\n",
      "\n"
     ]
    }
   ],
   "source": [
    "df_train.show(1, vertical=True)\n",
    "train_count = df_train.count()\n",
    "df_train.show(1)"
   ]
  },
  {
   "cell_type": "code",
   "execution_count": null,
   "id": "439a385f-4b86-4eea-9bc4-44dafc398787",
   "metadata": {
    "id": "439a385f-4b86-4eea-9bc4-44dafc398787"
   },
   "outputs": [],
   "source": [
    "seed = 10\n",
    "with_replacement = False\n",
    "fraction = 0.5          # reduce to 20%\n",
    "small_df_train = df_train.sample(withReplacement=with_replacement, \n",
    "                                               fraction=fraction, seed=seed)"
   ]
  },
  {
   "cell_type": "code",
   "execution_count": null,
   "id": "f12e6c51-09b9-4eda-ae54-a2c005810866",
   "metadata": {
    "id": "f12e6c51-09b9-4eda-ae54-a2c005810866",
    "outputId": "ced9d8ff-d23c-404f-e6d9-5bceda40a047"
   },
   "outputs": [
    {
     "data": {
      "text/plain": [
       "13148649"
      ]
     },
     "execution_count": 21,
     "metadata": {},
     "output_type": "execute_result"
    }
   ],
   "source": [
    "small_df_train.select(\"*\").count()"
   ]
  },
  {
   "cell_type": "code",
   "execution_count": null,
   "id": "e324e6d7-64b3-420a-9a3b-4b7a74f8bebe",
   "metadata": {
    "id": "e324e6d7-64b3-420a-9a3b-4b7a74f8bebe",
    "tags": []
   },
   "outputs": [],
   "source": [
    "small_df_train.groupby(\"session_id\",\"index\").count().sort(F.col(\"count\").desc()).show(337)"
   ]
  },
  {
   "cell_type": "code",
   "execution_count": null,
   "id": "0e2ac693-c3fb-436c-8711-be704956f683",
   "metadata": {
    "id": "0e2ac693-c3fb-436c-8711-be704956f683",
    "tags": []
   },
   "outputs": [],
   "source": [
    "df_train.groupby(\"session_id\",\"index\").count().filter(\"count >= 2\").groupby(\"session_id\").count().show()"
   ]
  },
  {
   "cell_type": "code",
   "execution_count": null,
   "id": "7835c9fa-c0e9-465e-af9e-f1c19e792656",
   "metadata": {
    "id": "7835c9fa-c0e9-465e-af9e-f1c19e792656"
   },
   "outputs": [],
   "source": [
    "asd = df_train.filter(\"session_id==21000108034275240\")"
   ]
  },
  {
   "cell_type": "code",
   "execution_count": null,
   "id": "654dcf4a-26a5-4bfa-9ea2-09562ae17c80",
   "metadata": {
    "id": "654dcf4a-26a5-4bfa-9ea2-09562ae17c80"
   },
   "outputs": [],
   "source": [
    "asd.write.csv(\"kawkdakwd\")"
   ]
  },
  {
   "cell_type": "code",
   "execution_count": null,
   "id": "b8d3f234-9a7a-4374-a442-56c128866508",
   "metadata": {
    "id": "b8d3f234-9a7a-4374-a442-56c128866508"
   },
   "outputs": [],
   "source": []
  },
  {
   "cell_type": "code",
   "execution_count": null,
   "id": "b02a1c62-0e49-40a4-87d4-c05384877dd9",
   "metadata": {
    "id": "b02a1c62-0e49-40a4-87d4-c05384877dd9"
   },
   "outputs": [],
   "source": []
  },
  {
   "cell_type": "code",
   "execution_count": null,
   "id": "ef708893-9ce3-4f74-9ce7-63fe8f0957e9",
   "metadata": {
    "id": "ef708893-9ce3-4f74-9ce7-63fe8f0957e9"
   },
   "outputs": [],
   "source": []
  },
  {
   "cell_type": "code",
   "execution_count": null,
   "id": "17f82ac4-01d5-4335-92b2-13b7019cc7cb",
   "metadata": {
    "id": "17f82ac4-01d5-4335-92b2-13b7019cc7cb"
   },
   "outputs": [],
   "source": []
  },
  {
   "cell_type": "code",
   "execution_count": null,
   "id": "31f69c45-db5d-4e52-80f1-1db8898f8c78",
   "metadata": {
    "id": "31f69c45-db5d-4e52-80f1-1db8898f8c78"
   },
   "outputs": [],
   "source": []
  },
  {
   "cell_type": "code",
   "execution_count": null,
   "id": "17107f11-82b3-44d6-b1c9-9a822258b6b9",
   "metadata": {
    "id": "17107f11-82b3-44d6-b1c9-9a822258b6b9"
   },
   "outputs": [],
   "source": []
  },
  {
   "cell_type": "code",
   "execution_count": null,
   "id": "671d15c7-3a67-4768-b72b-d1598531502f",
   "metadata": {
    "id": "671d15c7-3a67-4768-b72b-d1598531502f"
   },
   "outputs": [],
   "source": []
  },
  {
   "cell_type": "code",
   "execution_count": null,
   "id": "8c0ecac3-6aa3-4cb6-93f9-23e561eab2de",
   "metadata": {
    "collapsed": true,
    "id": "8c0ecac3-6aa3-4cb6-93f9-23e561eab2de",
    "jupyter": {
     "outputs_hidden": true
    },
    "outputId": "ad81cab7-dbc8-4a29-e5a5-0e21bd88eda2",
    "tags": []
   },
   "outputs": [
    {
     "data": {
      "text/html": [
       "<div>\n",
       "<style scoped>\n",
       "    .dataframe tbody tr th:only-of-type {\n",
       "        vertical-align: middle;\n",
       "    }\n",
       "\n",
       "    .dataframe tbody tr th {\n",
       "        vertical-align: top;\n",
       "    }\n",
       "\n",
       "    .dataframe thead th {\n",
       "        text-align: right;\n",
       "    }\n",
       "</style>\n",
       "<table border=\"1\" class=\"dataframe\">\n",
       "  <thead>\n",
       "    <tr style=\"text-align: right;\">\n",
       "      <th></th>\n",
       "      <th>session_id</th>\n",
       "      <th>index</th>\n",
       "      <th>elapsed_time</th>\n",
       "      <th>event_name</th>\n",
       "      <th>name</th>\n",
       "      <th>level</th>\n",
       "      <th>page</th>\n",
       "      <th>room_coor_x</th>\n",
       "      <th>room_coor_y</th>\n",
       "      <th>screen_coor_x</th>\n",
       "      <th>...</th>\n",
       "      <th>hover_duration</th>\n",
       "      <th>text</th>\n",
       "      <th>fqid</th>\n",
       "      <th>room_fqid</th>\n",
       "      <th>text_fqid</th>\n",
       "      <th>fullscreen</th>\n",
       "      <th>hq</th>\n",
       "      <th>music</th>\n",
       "      <th>level_group</th>\n",
       "      <th>session_level</th>\n",
       "    </tr>\n",
       "  </thead>\n",
       "  <tbody>\n",
       "    <tr>\n",
       "      <th>0</th>\n",
       "      <td>20090109393214576</td>\n",
       "      <td>0</td>\n",
       "      <td>0</td>\n",
       "      <td>cutscene_click</td>\n",
       "      <td>basic</td>\n",
       "      <td>0</td>\n",
       "      <td>NaN</td>\n",
       "      <td>-413.991405</td>\n",
       "      <td>75.685314</td>\n",
       "      <td>380.0</td>\n",
       "      <td>...</td>\n",
       "      <td>NaN</td>\n",
       "      <td>undefined</td>\n",
       "      <td>intro</td>\n",
       "      <td>tunic.historicalsociety.closet</td>\n",
       "      <td>tunic.historicalsociety.closet.intro</td>\n",
       "      <td>0</td>\n",
       "      <td>0.0</td>\n",
       "      <td>1.0</td>\n",
       "      <td>NaN</td>\n",
       "      <td>0</td>\n",
       "    </tr>\n",
       "    <tr>\n",
       "      <th>1</th>\n",
       "      <td>20090109393214576</td>\n",
       "      <td>1</td>\n",
       "      <td>1965</td>\n",
       "      <td>person_click</td>\n",
       "      <td>basic</td>\n",
       "      <td>0</td>\n",
       "      <td>NaN</td>\n",
       "      <td>-105.991405</td>\n",
       "      <td>-63.314686</td>\n",
       "      <td>688.0</td>\n",
       "      <td>...</td>\n",
       "      <td>NaN</td>\n",
       "      <td>Whatcha doing over there, Jo?</td>\n",
       "      <td>gramps</td>\n",
       "      <td>tunic.historicalsociety.closet</td>\n",
       "      <td>tunic.historicalsociety.closet.gramps.intro_0_...</td>\n",
       "      <td>0</td>\n",
       "      <td>0.0</td>\n",
       "      <td>1.0</td>\n",
       "      <td>NaN</td>\n",
       "      <td>0</td>\n",
       "    </tr>\n",
       "    <tr>\n",
       "      <th>2</th>\n",
       "      <td>20090109393214576</td>\n",
       "      <td>2</td>\n",
       "      <td>3614</td>\n",
       "      <td>person_click</td>\n",
       "      <td>basic</td>\n",
       "      <td>0</td>\n",
       "      <td>NaN</td>\n",
       "      <td>-418.991405</td>\n",
       "      <td>47.685314</td>\n",
       "      <td>375.0</td>\n",
       "      <td>...</td>\n",
       "      <td>NaN</td>\n",
       "      <td>Just talking to Teddy.</td>\n",
       "      <td>gramps</td>\n",
       "      <td>tunic.historicalsociety.closet</td>\n",
       "      <td>tunic.historicalsociety.closet.gramps.intro_0_...</td>\n",
       "      <td>0</td>\n",
       "      <td>0.0</td>\n",
       "      <td>1.0</td>\n",
       "      <td>NaN</td>\n",
       "      <td>0</td>\n",
       "    </tr>\n",
       "    <tr>\n",
       "      <th>3</th>\n",
       "      <td>20090109393214576</td>\n",
       "      <td>3</td>\n",
       "      <td>5330</td>\n",
       "      <td>person_click</td>\n",
       "      <td>basic</td>\n",
       "      <td>0</td>\n",
       "      <td>NaN</td>\n",
       "      <td>-110.991405</td>\n",
       "      <td>-57.314686</td>\n",
       "      <td>683.0</td>\n",
       "      <td>...</td>\n",
       "      <td>NaN</td>\n",
       "      <td>I gotta run to my meeting!</td>\n",
       "      <td>gramps</td>\n",
       "      <td>tunic.historicalsociety.closet</td>\n",
       "      <td>tunic.historicalsociety.closet.gramps.intro_0_...</td>\n",
       "      <td>0</td>\n",
       "      <td>0.0</td>\n",
       "      <td>1.0</td>\n",
       "      <td>NaN</td>\n",
       "      <td>0</td>\n",
       "    </tr>\n",
       "    <tr>\n",
       "      <th>4</th>\n",
       "      <td>20090109393214576</td>\n",
       "      <td>4</td>\n",
       "      <td>6397</td>\n",
       "      <td>person_click</td>\n",
       "      <td>basic</td>\n",
       "      <td>0</td>\n",
       "      <td>NaN</td>\n",
       "      <td>-110.991405</td>\n",
       "      <td>-57.314686</td>\n",
       "      <td>683.0</td>\n",
       "      <td>...</td>\n",
       "      <td>NaN</td>\n",
       "      <td>Can I come, Gramps?</td>\n",
       "      <td>gramps</td>\n",
       "      <td>tunic.historicalsociety.closet</td>\n",
       "      <td>tunic.historicalsociety.closet.gramps.intro_0_...</td>\n",
       "      <td>0</td>\n",
       "      <td>0.0</td>\n",
       "      <td>1.0</td>\n",
       "      <td>NaN</td>\n",
       "      <td>0</td>\n",
       "    </tr>\n",
       "    <tr>\n",
       "      <th>...</th>\n",
       "      <td>...</td>\n",
       "      <td>...</td>\n",
       "      <td>...</td>\n",
       "      <td>...</td>\n",
       "      <td>...</td>\n",
       "      <td>...</td>\n",
       "      <td>...</td>\n",
       "      <td>...</td>\n",
       "      <td>...</td>\n",
       "      <td>...</td>\n",
       "      <td>...</td>\n",
       "      <td>...</td>\n",
       "      <td>...</td>\n",
       "      <td>...</td>\n",
       "      <td>...</td>\n",
       "      <td>...</td>\n",
       "      <td>...</td>\n",
       "      <td>...</td>\n",
       "      <td>...</td>\n",
       "      <td>...</td>\n",
       "      <td>...</td>\n",
       "    </tr>\n",
       "    <tr>\n",
       "      <th>3723</th>\n",
       "      <td>20090312331414616</td>\n",
       "      <td>1001</td>\n",
       "      <td>1581679</td>\n",
       "      <td>map_hover</td>\n",
       "      <td>basic</td>\n",
       "      <td>22</td>\n",
       "      <td>NaN</td>\n",
       "      <td>NaN</td>\n",
       "      <td>NaN</td>\n",
       "      <td>NaN</td>\n",
       "      <td>...</td>\n",
       "      <td>484.0</td>\n",
       "      <td>None</td>\n",
       "      <td>tunic.wildlife</td>\n",
       "      <td>tunic.historicalsociety.entry</td>\n",
       "      <td>None</td>\n",
       "      <td>0</td>\n",
       "      <td>0.0</td>\n",
       "      <td>1.0</td>\n",
       "      <td>NaN</td>\n",
       "      <td>2</td>\n",
       "    </tr>\n",
       "    <tr>\n",
       "      <th>3724</th>\n",
       "      <td>20090312331414616</td>\n",
       "      <td>1002</td>\n",
       "      <td>1583044</td>\n",
       "      <td>map_hover</td>\n",
       "      <td>basic</td>\n",
       "      <td>22</td>\n",
       "      <td>NaN</td>\n",
       "      <td>NaN</td>\n",
       "      <td>NaN</td>\n",
       "      <td>NaN</td>\n",
       "      <td>...</td>\n",
       "      <td>783.0</td>\n",
       "      <td>None</td>\n",
       "      <td>tunic.capitol_2</td>\n",
       "      <td>tunic.historicalsociety.entry</td>\n",
       "      <td>None</td>\n",
       "      <td>0</td>\n",
       "      <td>0.0</td>\n",
       "      <td>1.0</td>\n",
       "      <td>NaN</td>\n",
       "      <td>2</td>\n",
       "    </tr>\n",
       "    <tr>\n",
       "      <th>3725</th>\n",
       "      <td>20090312331414616</td>\n",
       "      <td>1003</td>\n",
       "      <td>1583410</td>\n",
       "      <td>map_click</td>\n",
       "      <td>undefined</td>\n",
       "      <td>22</td>\n",
       "      <td>NaN</td>\n",
       "      <td>483.726363</td>\n",
       "      <td>-3.880047</td>\n",
       "      <td>456.0</td>\n",
       "      <td>...</td>\n",
       "      <td>NaN</td>\n",
       "      <td>None</td>\n",
       "      <td>tunic.capitol_2</td>\n",
       "      <td>tunic.historicalsociety.entry</td>\n",
       "      <td>None</td>\n",
       "      <td>0</td>\n",
       "      <td>0.0</td>\n",
       "      <td>1.0</td>\n",
       "      <td>NaN</td>\n",
       "      <td>2</td>\n",
       "    </tr>\n",
       "    <tr>\n",
       "      <th>3726</th>\n",
       "      <td>20090312331414616</td>\n",
       "      <td>1004</td>\n",
       "      <td>1585841</td>\n",
       "      <td>navigate_click</td>\n",
       "      <td>undefined</td>\n",
       "      <td>22</td>\n",
       "      <td>NaN</td>\n",
       "      <td>192.372139</td>\n",
       "      <td>38.216178</td>\n",
       "      <td>383.0</td>\n",
       "      <td>...</td>\n",
       "      <td>NaN</td>\n",
       "      <td>None</td>\n",
       "      <td>chap4_finale_c</td>\n",
       "      <td>tunic.capitol_2.hall</td>\n",
       "      <td>None</td>\n",
       "      <td>0</td>\n",
       "      <td>0.0</td>\n",
       "      <td>1.0</td>\n",
       "      <td>NaN</td>\n",
       "      <td>2</td>\n",
       "    </tr>\n",
       "    <tr>\n",
       "      <th>3727</th>\n",
       "      <td>20090312331414616</td>\n",
       "      <td>1005</td>\n",
       "      <td>1587810</td>\n",
       "      <td>checkpoint</td>\n",
       "      <td>basic</td>\n",
       "      <td>22</td>\n",
       "      <td>NaN</td>\n",
       "      <td>NaN</td>\n",
       "      <td>NaN</td>\n",
       "      <td>NaN</td>\n",
       "      <td>...</td>\n",
       "      <td>NaN</td>\n",
       "      <td>None</td>\n",
       "      <td>chap4_finale_c</td>\n",
       "      <td>tunic.capitol_2.hall</td>\n",
       "      <td>None</td>\n",
       "      <td>0</td>\n",
       "      <td>0.0</td>\n",
       "      <td>1.0</td>\n",
       "      <td>NaN</td>\n",
       "      <td>2</td>\n",
       "    </tr>\n",
       "  </tbody>\n",
       "</table>\n",
       "<p>3728 rows × 21 columns</p>\n",
       "</div>"
      ],
      "text/plain": [
       "             session_id  index  elapsed_time      event_name       name  \\\n",
       "0     20090109393214576      0             0  cutscene_click      basic   \n",
       "1     20090109393214576      1          1965    person_click      basic   \n",
       "2     20090109393214576      2          3614    person_click      basic   \n",
       "3     20090109393214576      3          5330    person_click      basic   \n",
       "4     20090109393214576      4          6397    person_click      basic   \n",
       "...                 ...    ...           ...             ...        ...   \n",
       "3723  20090312331414616   1001       1581679       map_hover      basic   \n",
       "3724  20090312331414616   1002       1583044       map_hover      basic   \n",
       "3725  20090312331414616   1003       1583410       map_click  undefined   \n",
       "3726  20090312331414616   1004       1585841  navigate_click  undefined   \n",
       "3727  20090312331414616   1005       1587810      checkpoint      basic   \n",
       "\n",
       "      level  page  room_coor_x  room_coor_y  screen_coor_x  ...  \\\n",
       "0         0   NaN  -413.991405    75.685314          380.0  ...   \n",
       "1         0   NaN  -105.991405   -63.314686          688.0  ...   \n",
       "2         0   NaN  -418.991405    47.685314          375.0  ...   \n",
       "3         0   NaN  -110.991405   -57.314686          683.0  ...   \n",
       "4         0   NaN  -110.991405   -57.314686          683.0  ...   \n",
       "...     ...   ...          ...          ...            ...  ...   \n",
       "3723     22   NaN          NaN          NaN            NaN  ...   \n",
       "3724     22   NaN          NaN          NaN            NaN  ...   \n",
       "3725     22   NaN   483.726363    -3.880047          456.0  ...   \n",
       "3726     22   NaN   192.372139    38.216178          383.0  ...   \n",
       "3727     22   NaN          NaN          NaN            NaN  ...   \n",
       "\n",
       "      hover_duration                           text             fqid  \\\n",
       "0                NaN                      undefined            intro   \n",
       "1                NaN  Whatcha doing over there, Jo?           gramps   \n",
       "2                NaN         Just talking to Teddy.           gramps   \n",
       "3                NaN     I gotta run to my meeting!           gramps   \n",
       "4                NaN            Can I come, Gramps?           gramps   \n",
       "...              ...                            ...              ...   \n",
       "3723           484.0                           None   tunic.wildlife   \n",
       "3724           783.0                           None  tunic.capitol_2   \n",
       "3725             NaN                           None  tunic.capitol_2   \n",
       "3726             NaN                           None   chap4_finale_c   \n",
       "3727             NaN                           None   chap4_finale_c   \n",
       "\n",
       "                           room_fqid  \\\n",
       "0     tunic.historicalsociety.closet   \n",
       "1     tunic.historicalsociety.closet   \n",
       "2     tunic.historicalsociety.closet   \n",
       "3     tunic.historicalsociety.closet   \n",
       "4     tunic.historicalsociety.closet   \n",
       "...                              ...   \n",
       "3723   tunic.historicalsociety.entry   \n",
       "3724   tunic.historicalsociety.entry   \n",
       "3725   tunic.historicalsociety.entry   \n",
       "3726            tunic.capitol_2.hall   \n",
       "3727            tunic.capitol_2.hall   \n",
       "\n",
       "                                              text_fqid fullscreen   hq  \\\n",
       "0                  tunic.historicalsociety.closet.intro          0  0.0   \n",
       "1     tunic.historicalsociety.closet.gramps.intro_0_...          0  0.0   \n",
       "2     tunic.historicalsociety.closet.gramps.intro_0_...          0  0.0   \n",
       "3     tunic.historicalsociety.closet.gramps.intro_0_...          0  0.0   \n",
       "4     tunic.historicalsociety.closet.gramps.intro_0_...          0  0.0   \n",
       "...                                                 ...        ...  ...   \n",
       "3723                                               None          0  0.0   \n",
       "3724                                               None          0  0.0   \n",
       "3725                                               None          0  0.0   \n",
       "3726                                               None          0  0.0   \n",
       "3727                                               None          0  0.0   \n",
       "\n",
       "      music  level_group  session_level  \n",
       "0       1.0          NaN              0  \n",
       "1       1.0          NaN              0  \n",
       "2       1.0          NaN              0  \n",
       "3       1.0          NaN              0  \n",
       "4       1.0          NaN              0  \n",
       "...     ...          ...            ...  \n",
       "3723    1.0          NaN              2  \n",
       "3724    1.0          NaN              2  \n",
       "3725    1.0          NaN              2  \n",
       "3726    1.0          NaN              2  \n",
       "3727    1.0          NaN              2  \n",
       "\n",
       "[3728 rows x 21 columns]"
      ]
     },
     "execution_count": 51,
     "metadata": {},
     "output_type": "execute_result"
    }
   ],
   "source": [
    "df_teste.toPandas()"
   ]
  },
  {
   "cell_type": "code",
   "execution_count": null,
   "id": "6d958586-654a-423a-a386-80ffed7e4944",
   "metadata": {
    "id": "6d958586-654a-423a-a386-80ffed7e4944",
    "outputId": "f32b0af1-008b-44de-d951-336f193f4294"
   },
   "outputs": [
    {
     "data": {
      "text/plain": [
       "pyspark.sql.dataframe.DataFrame"
      ]
     },
     "execution_count": 23,
     "metadata": {},
     "output_type": "execute_result"
    }
   ],
   "source": [
    "type(df_teste)"
   ]
  },
  {
   "cell_type": "code",
   "execution_count": null,
   "id": "79e592c6-481f-4569-9774-299c4dcf389d",
   "metadata": {
    "id": "79e592c6-481f-4569-9774-299c4dcf389d"
   },
   "outputs": [],
   "source": [
    "def trasnfo(x):\n",
    "    return upper(x)"
   ]
  },
  {
   "cell_type": "code",
   "execution_count": null,
   "id": "74ebfe2a-c184-44dd-91df-141642305100",
   "metadata": {
    "collapsed": true,
    "id": "74ebfe2a-c184-44dd-91df-141642305100",
    "jupyter": {
     "outputs_hidden": true
    },
    "outputId": "d81b5e7b-420e-4a05-fddd-a8cba92790ec",
    "tags": []
   },
   "outputs": [
    {
     "ename": "NameError",
     "evalue": "name 'upper' is not defined",
     "output_type": "error",
     "traceback": [
      "\u001b[1;31m---------------------------------------------------------------------------\u001b[0m",
      "\u001b[1;31mNameError\u001b[0m                                 Traceback (most recent call last)",
      "Cell \u001b[1;32mIn[57], line 1\u001b[0m\n\u001b[1;32m----> 1\u001b[0m df_teste\u001b[38;5;241m.\u001b[39mselect(\u001b[43mtransform\u001b[49m\u001b[43m(\u001b[49m\u001b[38;5;124;43m\"\u001b[39;49m\u001b[38;5;124;43mtext\u001b[39;49m\u001b[38;5;124;43m\"\u001b[39;49m\u001b[43m,\u001b[49m\u001b[43m \u001b[49m\u001b[43mtrasnfo\u001b[49m\u001b[43m)\u001b[49m)\u001b[38;5;241m.\u001b[39mshow(\u001b[38;5;241m10\u001b[39m)\n",
      "File \u001b[1;32mC:\\anaconda\\instalation\\lib\\site-packages\\pyspark\\sql\\functions.py:4785\u001b[0m, in \u001b[0;36mtransform\u001b[1;34m(col, f)\u001b[0m\n\u001b[0;32m   4736\u001b[0m \u001b[38;5;28;01mdef\u001b[39;00m \u001b[38;5;21mtransform\u001b[39m(\n\u001b[0;32m   4737\u001b[0m     col: \u001b[38;5;124m\"\u001b[39m\u001b[38;5;124mColumnOrName\u001b[39m\u001b[38;5;124m\"\u001b[39m,\n\u001b[0;32m   4738\u001b[0m     f: Union[Callable[[Column], Column], Callable[[Column, Column], Column]],\n\u001b[0;32m   4739\u001b[0m ) \u001b[38;5;241m-\u001b[39m\u001b[38;5;241m>\u001b[39m Column:\n\u001b[0;32m   4740\u001b[0m     \u001b[38;5;124;03m\"\"\"\u001b[39;00m\n\u001b[0;32m   4741\u001b[0m \u001b[38;5;124;03m    Returns an array of elements after applying a transformation to each element in the input array.\u001b[39;00m\n\u001b[0;32m   4742\u001b[0m \n\u001b[1;32m   (...)\u001b[0m\n\u001b[0;32m   4783\u001b[0m \u001b[38;5;124;03m    +--------------+\u001b[39;00m\n\u001b[0;32m   4784\u001b[0m \u001b[38;5;124;03m    \"\"\"\u001b[39;00m\n\u001b[1;32m-> 4785\u001b[0m     \u001b[38;5;28;01mreturn\u001b[39;00m \u001b[43m_invoke_higher_order_function\u001b[49m\u001b[43m(\u001b[49m\u001b[38;5;124;43m\"\u001b[39;49m\u001b[38;5;124;43mArrayTransform\u001b[39;49m\u001b[38;5;124;43m\"\u001b[39;49m\u001b[43m,\u001b[49m\u001b[43m \u001b[49m\u001b[43m[\u001b[49m\u001b[43mcol\u001b[49m\u001b[43m]\u001b[49m\u001b[43m,\u001b[49m\u001b[43m \u001b[49m\u001b[43m[\u001b[49m\u001b[43mf\u001b[49m\u001b[43m]\u001b[49m\u001b[43m)\u001b[49m\n",
      "File \u001b[1;32mC:\\anaconda\\instalation\\lib\\site-packages\\pyspark\\sql\\functions.py:4721\u001b[0m, in \u001b[0;36m_invoke_higher_order_function\u001b[1;34m(name, cols, funs)\u001b[0m\n\u001b[0;32m   4718\u001b[0m expr \u001b[38;5;241m=\u001b[39m \u001b[38;5;28mgetattr\u001b[39m(expressions, name)\n\u001b[0;32m   4720\u001b[0m jcols \u001b[38;5;241m=\u001b[39m [_to_java_column(col)\u001b[38;5;241m.\u001b[39mexpr() \u001b[38;5;28;01mfor\u001b[39;00m col \u001b[38;5;129;01min\u001b[39;00m cols]\n\u001b[1;32m-> 4721\u001b[0m jfuns \u001b[38;5;241m=\u001b[39m [_create_lambda(f) \u001b[38;5;28;01mfor\u001b[39;00m f \u001b[38;5;129;01min\u001b[39;00m funs]\n\u001b[0;32m   4723\u001b[0m \u001b[38;5;28;01mreturn\u001b[39;00m Column(sc\u001b[38;5;241m.\u001b[39m_jvm\u001b[38;5;241m.\u001b[39mColumn(expr(\u001b[38;5;241m*\u001b[39mjcols \u001b[38;5;241m+\u001b[39m jfuns)))\n",
      "File \u001b[1;32mC:\\anaconda\\instalation\\lib\\site-packages\\pyspark\\sql\\functions.py:4721\u001b[0m, in \u001b[0;36m<listcomp>\u001b[1;34m(.0)\u001b[0m\n\u001b[0;32m   4718\u001b[0m expr \u001b[38;5;241m=\u001b[39m \u001b[38;5;28mgetattr\u001b[39m(expressions, name)\n\u001b[0;32m   4720\u001b[0m jcols \u001b[38;5;241m=\u001b[39m [_to_java_column(col)\u001b[38;5;241m.\u001b[39mexpr() \u001b[38;5;28;01mfor\u001b[39;00m col \u001b[38;5;129;01min\u001b[39;00m cols]\n\u001b[1;32m-> 4721\u001b[0m jfuns \u001b[38;5;241m=\u001b[39m [\u001b[43m_create_lambda\u001b[49m\u001b[43m(\u001b[49m\u001b[43mf\u001b[49m\u001b[43m)\u001b[49m \u001b[38;5;28;01mfor\u001b[39;00m f \u001b[38;5;129;01min\u001b[39;00m funs]\n\u001b[0;32m   4723\u001b[0m \u001b[38;5;28;01mreturn\u001b[39;00m Column(sc\u001b[38;5;241m.\u001b[39m_jvm\u001b[38;5;241m.\u001b[39mColumn(expr(\u001b[38;5;241m*\u001b[39mjcols \u001b[38;5;241m+\u001b[39m jfuns)))\n",
      "File \u001b[1;32mC:\\anaconda\\instalation\\lib\\site-packages\\pyspark\\sql\\functions.py:4688\u001b[0m, in \u001b[0;36m_create_lambda\u001b[1;34m(f)\u001b[0m\n\u001b[0;32m   4680\u001b[0m argnames \u001b[38;5;241m=\u001b[39m [\u001b[38;5;124m\"\u001b[39m\u001b[38;5;124mx\u001b[39m\u001b[38;5;124m\"\u001b[39m, \u001b[38;5;124m\"\u001b[39m\u001b[38;5;124my\u001b[39m\u001b[38;5;124m\"\u001b[39m, \u001b[38;5;124m\"\u001b[39m\u001b[38;5;124mz\u001b[39m\u001b[38;5;124m\"\u001b[39m]\n\u001b[0;32m   4681\u001b[0m args \u001b[38;5;241m=\u001b[39m [\n\u001b[0;32m   4682\u001b[0m     _unresolved_named_lambda_variable(\n\u001b[0;32m   4683\u001b[0m         expressions\u001b[38;5;241m.\u001b[39mUnresolvedNamedLambdaVariable\u001b[38;5;241m.\u001b[39mfreshVarName(arg)\n\u001b[0;32m   4684\u001b[0m     )\n\u001b[0;32m   4685\u001b[0m     \u001b[38;5;28;01mfor\u001b[39;00m arg \u001b[38;5;129;01min\u001b[39;00m argnames[: \u001b[38;5;28mlen\u001b[39m(parameters)]\n\u001b[0;32m   4686\u001b[0m ]\n\u001b[1;32m-> 4688\u001b[0m result \u001b[38;5;241m=\u001b[39m \u001b[43mf\u001b[49m\u001b[43m(\u001b[49m\u001b[38;5;241;43m*\u001b[39;49m\u001b[43margs\u001b[49m\u001b[43m)\u001b[49m\n\u001b[0;32m   4690\u001b[0m \u001b[38;5;28;01mif\u001b[39;00m \u001b[38;5;129;01mnot\u001b[39;00m \u001b[38;5;28misinstance\u001b[39m(result, Column):\n\u001b[0;32m   4691\u001b[0m     \u001b[38;5;28;01mraise\u001b[39;00m \u001b[38;5;167;01mValueError\u001b[39;00m(\u001b[38;5;124m\"\u001b[39m\u001b[38;5;124mf should return Column, got \u001b[39m\u001b[38;5;132;01m{}\u001b[39;00m\u001b[38;5;124m\"\u001b[39m\u001b[38;5;241m.\u001b[39mformat(\u001b[38;5;28mtype\u001b[39m(result)))\n",
      "Cell \u001b[1;32mIn[56], line 2\u001b[0m, in \u001b[0;36mtrasnfo\u001b[1;34m(x)\u001b[0m\n\u001b[0;32m      1\u001b[0m \u001b[38;5;28;01mdef\u001b[39;00m \u001b[38;5;21mtrasnfo\u001b[39m(x):\n\u001b[1;32m----> 2\u001b[0m     \u001b[38;5;28;01mreturn\u001b[39;00m \u001b[43mupper\u001b[49m(x)\n",
      "\u001b[1;31mNameError\u001b[0m: name 'upper' is not defined"
     ]
    }
   ],
   "source": [
    "df_teste.select(transform(\"text\", trasnfo)).show(10)"
   ]
  },
  {
   "cell_type": "code",
   "execution_count": null,
   "id": "03b60916-5b48-44ed-94d9-c1017d71a253",
   "metadata": {
    "collapsed": true,
    "id": "03b60916-5b48-44ed-94d9-c1017d71a253",
    "jupyter": {
     "outputs_hidden": true
    },
    "outputId": "9424fa37-6b56-4739-a1a5-4134198c768a",
    "tags": []
   },
   "outputs": [
    {
     "ename": "NameError",
     "evalue": "name 'upper' is not defined",
     "output_type": "error",
     "traceback": [
      "\u001b[1;31m---------------------------------------------------------------------------\u001b[0m",
      "\u001b[1;31mNameError\u001b[0m                                 Traceback (most recent call last)",
      "Cell \u001b[1;32mIn[55], line 1\u001b[0m\n\u001b[1;32m----> 1\u001b[0m df_teste\u001b[38;5;241m.\u001b[39mselect(\u001b[38;5;124m\"\u001b[39m\u001b[38;5;124mname\u001b[39m\u001b[38;5;124m\"\u001b[39m,\u001b[38;5;124m\"\u001b[39m\u001b[38;5;124msession_id\u001b[39m\u001b[38;5;124m\"\u001b[39m,\u001b[43mtransform\u001b[49m\u001b[43m(\u001b[49m\u001b[38;5;124;43m\"\u001b[39;49m\u001b[38;5;124;43mtext\u001b[39;49m\u001b[38;5;124;43m\"\u001b[39;49m\u001b[43m,\u001b[49m\u001b[43m \u001b[49m\u001b[38;5;28;43;01mlambda\u001b[39;49;00m\u001b[43m \u001b[49m\u001b[43mx\u001b[49m\u001b[43m:\u001b[49m\u001b[43m \u001b[49m\u001b[43mupper\u001b[49m\u001b[43m(\u001b[49m\u001b[43mx\u001b[49m\u001b[43m)\u001b[49m\u001b[43m)\u001b[49m\u001b[38;5;241m.\u001b[39malias(\u001b[38;5;124m\"\u001b[39m\u001b[38;5;124mtext\u001b[39m\u001b[38;5;124m\"\u001b[39m))\u001b[38;5;241m.\u001b[39mshow(\u001b[38;5;241m10\u001b[39m)\n",
      "File \u001b[1;32mC:\\anaconda\\instalation\\lib\\site-packages\\pyspark\\sql\\functions.py:4785\u001b[0m, in \u001b[0;36mtransform\u001b[1;34m(col, f)\u001b[0m\n\u001b[0;32m   4736\u001b[0m \u001b[38;5;28;01mdef\u001b[39;00m \u001b[38;5;21mtransform\u001b[39m(\n\u001b[0;32m   4737\u001b[0m     col: \u001b[38;5;124m\"\u001b[39m\u001b[38;5;124mColumnOrName\u001b[39m\u001b[38;5;124m\"\u001b[39m,\n\u001b[0;32m   4738\u001b[0m     f: Union[Callable[[Column], Column], Callable[[Column, Column], Column]],\n\u001b[0;32m   4739\u001b[0m ) \u001b[38;5;241m-\u001b[39m\u001b[38;5;241m>\u001b[39m Column:\n\u001b[0;32m   4740\u001b[0m     \u001b[38;5;124;03m\"\"\"\u001b[39;00m\n\u001b[0;32m   4741\u001b[0m \u001b[38;5;124;03m    Returns an array of elements after applying a transformation to each element in the input array.\u001b[39;00m\n\u001b[0;32m   4742\u001b[0m \n\u001b[1;32m   (...)\u001b[0m\n\u001b[0;32m   4783\u001b[0m \u001b[38;5;124;03m    +--------------+\u001b[39;00m\n\u001b[0;32m   4784\u001b[0m \u001b[38;5;124;03m    \"\"\"\u001b[39;00m\n\u001b[1;32m-> 4785\u001b[0m     \u001b[38;5;28;01mreturn\u001b[39;00m \u001b[43m_invoke_higher_order_function\u001b[49m\u001b[43m(\u001b[49m\u001b[38;5;124;43m\"\u001b[39;49m\u001b[38;5;124;43mArrayTransform\u001b[39;49m\u001b[38;5;124;43m\"\u001b[39;49m\u001b[43m,\u001b[49m\u001b[43m \u001b[49m\u001b[43m[\u001b[49m\u001b[43mcol\u001b[49m\u001b[43m]\u001b[49m\u001b[43m,\u001b[49m\u001b[43m \u001b[49m\u001b[43m[\u001b[49m\u001b[43mf\u001b[49m\u001b[43m]\u001b[49m\u001b[43m)\u001b[49m\n",
      "File \u001b[1;32mC:\\anaconda\\instalation\\lib\\site-packages\\pyspark\\sql\\functions.py:4721\u001b[0m, in \u001b[0;36m_invoke_higher_order_function\u001b[1;34m(name, cols, funs)\u001b[0m\n\u001b[0;32m   4718\u001b[0m expr \u001b[38;5;241m=\u001b[39m \u001b[38;5;28mgetattr\u001b[39m(expressions, name)\n\u001b[0;32m   4720\u001b[0m jcols \u001b[38;5;241m=\u001b[39m [_to_java_column(col)\u001b[38;5;241m.\u001b[39mexpr() \u001b[38;5;28;01mfor\u001b[39;00m col \u001b[38;5;129;01min\u001b[39;00m cols]\n\u001b[1;32m-> 4721\u001b[0m jfuns \u001b[38;5;241m=\u001b[39m [_create_lambda(f) \u001b[38;5;28;01mfor\u001b[39;00m f \u001b[38;5;129;01min\u001b[39;00m funs]\n\u001b[0;32m   4723\u001b[0m \u001b[38;5;28;01mreturn\u001b[39;00m Column(sc\u001b[38;5;241m.\u001b[39m_jvm\u001b[38;5;241m.\u001b[39mColumn(expr(\u001b[38;5;241m*\u001b[39mjcols \u001b[38;5;241m+\u001b[39m jfuns)))\n",
      "File \u001b[1;32mC:\\anaconda\\instalation\\lib\\site-packages\\pyspark\\sql\\functions.py:4721\u001b[0m, in \u001b[0;36m<listcomp>\u001b[1;34m(.0)\u001b[0m\n\u001b[0;32m   4718\u001b[0m expr \u001b[38;5;241m=\u001b[39m \u001b[38;5;28mgetattr\u001b[39m(expressions, name)\n\u001b[0;32m   4720\u001b[0m jcols \u001b[38;5;241m=\u001b[39m [_to_java_column(col)\u001b[38;5;241m.\u001b[39mexpr() \u001b[38;5;28;01mfor\u001b[39;00m col \u001b[38;5;129;01min\u001b[39;00m cols]\n\u001b[1;32m-> 4721\u001b[0m jfuns \u001b[38;5;241m=\u001b[39m [\u001b[43m_create_lambda\u001b[49m\u001b[43m(\u001b[49m\u001b[43mf\u001b[49m\u001b[43m)\u001b[49m \u001b[38;5;28;01mfor\u001b[39;00m f \u001b[38;5;129;01min\u001b[39;00m funs]\n\u001b[0;32m   4723\u001b[0m \u001b[38;5;28;01mreturn\u001b[39;00m Column(sc\u001b[38;5;241m.\u001b[39m_jvm\u001b[38;5;241m.\u001b[39mColumn(expr(\u001b[38;5;241m*\u001b[39mjcols \u001b[38;5;241m+\u001b[39m jfuns)))\n",
      "File \u001b[1;32mC:\\anaconda\\instalation\\lib\\site-packages\\pyspark\\sql\\functions.py:4688\u001b[0m, in \u001b[0;36m_create_lambda\u001b[1;34m(f)\u001b[0m\n\u001b[0;32m   4680\u001b[0m argnames \u001b[38;5;241m=\u001b[39m [\u001b[38;5;124m\"\u001b[39m\u001b[38;5;124mx\u001b[39m\u001b[38;5;124m\"\u001b[39m, \u001b[38;5;124m\"\u001b[39m\u001b[38;5;124my\u001b[39m\u001b[38;5;124m\"\u001b[39m, \u001b[38;5;124m\"\u001b[39m\u001b[38;5;124mz\u001b[39m\u001b[38;5;124m\"\u001b[39m]\n\u001b[0;32m   4681\u001b[0m args \u001b[38;5;241m=\u001b[39m [\n\u001b[0;32m   4682\u001b[0m     _unresolved_named_lambda_variable(\n\u001b[0;32m   4683\u001b[0m         expressions\u001b[38;5;241m.\u001b[39mUnresolvedNamedLambdaVariable\u001b[38;5;241m.\u001b[39mfreshVarName(arg)\n\u001b[0;32m   4684\u001b[0m     )\n\u001b[0;32m   4685\u001b[0m     \u001b[38;5;28;01mfor\u001b[39;00m arg \u001b[38;5;129;01min\u001b[39;00m argnames[: \u001b[38;5;28mlen\u001b[39m(parameters)]\n\u001b[0;32m   4686\u001b[0m ]\n\u001b[1;32m-> 4688\u001b[0m result \u001b[38;5;241m=\u001b[39m \u001b[43mf\u001b[49m\u001b[43m(\u001b[49m\u001b[38;5;241;43m*\u001b[39;49m\u001b[43margs\u001b[49m\u001b[43m)\u001b[49m\n\u001b[0;32m   4690\u001b[0m \u001b[38;5;28;01mif\u001b[39;00m \u001b[38;5;129;01mnot\u001b[39;00m \u001b[38;5;28misinstance\u001b[39m(result, Column):\n\u001b[0;32m   4691\u001b[0m     \u001b[38;5;28;01mraise\u001b[39;00m \u001b[38;5;167;01mValueError\u001b[39;00m(\u001b[38;5;124m\"\u001b[39m\u001b[38;5;124mf should return Column, got \u001b[39m\u001b[38;5;132;01m{}\u001b[39;00m\u001b[38;5;124m\"\u001b[39m\u001b[38;5;241m.\u001b[39mformat(\u001b[38;5;28mtype\u001b[39m(result)))\n",
      "Cell \u001b[1;32mIn[55], line 1\u001b[0m, in \u001b[0;36m<lambda>\u001b[1;34m(x)\u001b[0m\n\u001b[1;32m----> 1\u001b[0m df_teste\u001b[38;5;241m.\u001b[39mselect(\u001b[38;5;124m\"\u001b[39m\u001b[38;5;124mname\u001b[39m\u001b[38;5;124m\"\u001b[39m,\u001b[38;5;124m\"\u001b[39m\u001b[38;5;124msession_id\u001b[39m\u001b[38;5;124m\"\u001b[39m,transform(\u001b[38;5;124m\"\u001b[39m\u001b[38;5;124mtext\u001b[39m\u001b[38;5;124m\"\u001b[39m, \u001b[38;5;28;01mlambda\u001b[39;00m x: \u001b[43mupper\u001b[49m(x))\u001b[38;5;241m.\u001b[39malias(\u001b[38;5;124m\"\u001b[39m\u001b[38;5;124mtext\u001b[39m\u001b[38;5;124m\"\u001b[39m))\u001b[38;5;241m.\u001b[39mshow(\u001b[38;5;241m10\u001b[39m)\n",
      "\u001b[1;31mNameError\u001b[0m: name 'upper' is not defined"
     ]
    }
   ],
   "source": [
    "df_teste.select(\"name\",\"session_id\",transform(\"text\", lambda x: upper(x)).alias(\"text\")).show(10)"
   ]
  },
  {
   "cell_type": "code",
   "execution_count": null,
   "id": "b6bbb65f-7db5-4efb-a875-c2eaaa4f4e96",
   "metadata": {
    "id": "b6bbb65f-7db5-4efb-a875-c2eaaa4f4e96",
    "tags": []
   },
   "outputs": [],
   "source": [
    "sparkContext=spark.sparkContext"
   ]
  },
  {
   "cell_type": "code",
   "execution_count": null,
   "id": "a86d379d-15b4-4c06-b5bf-7e193904d99e",
   "metadata": {
    "collapsed": true,
    "id": "a86d379d-15b4-4c06-b5bf-7e193904d99e",
    "jupyter": {
     "outputs_hidden": true
    },
    "outputId": "a78d9ff0-20a5-4da4-ca39-b02476d542cd",
    "tags": []
   },
   "outputs": [
    {
     "name": "stdout",
     "output_type": "stream",
     "text": [
      "Number of Partitions: 4\n"
     ]
    },
    {
     "ename": "Py4JJavaError",
     "evalue": "An error occurred while calling z:org.apache.spark.api.python.PythonRDD.runJob.\n: org.apache.spark.SparkException: Job aborted due to stage failure: Task 0 in stage 2.0 failed 1 times, most recent failure: Lost task 0.0 in stage 2.0 (TID 5) (DESKTOP-9NRQ44U executor driver): org.apache.spark.api.python.PythonException: Traceback (most recent call last):\n  File \"C:\\anaconda\\instalation\\envs\\pbd\\Lib\\site-packages\\pyspark\\python\\lib\\pyspark.zip\\pyspark\\worker.py\", line 540, in main\nRuntimeError: Python in worker has different version 3.9 than that in driver 3.10, PySpark cannot run with different minor versions. Please check environment variables PYSPARK_PYTHON and PYSPARK_DRIVER_PYTHON are correctly set.\n\r\n\tat org.apache.spark.api.python.BasePythonRunner$ReaderIterator.handlePythonException(PythonRunner.scala:552)\r\n\tat org.apache.spark.api.python.PythonRunner$$anon$3.read(PythonRunner.scala:758)\r\n\tat org.apache.spark.api.python.PythonRunner$$anon$3.read(PythonRunner.scala:740)\r\n\tat org.apache.spark.api.python.BasePythonRunner$ReaderIterator.hasNext(PythonRunner.scala:505)\r\n\tat org.apache.spark.InterruptibleIterator.hasNext(InterruptibleIterator.scala:37)\r\n\tat scala.collection.Iterator.foreach(Iterator.scala:943)\r\n\tat scala.collection.Iterator.foreach$(Iterator.scala:943)\r\n\tat org.apache.spark.InterruptibleIterator.foreach(InterruptibleIterator.scala:28)\r\n\tat scala.collection.generic.Growable.$plus$plus$eq(Growable.scala:62)\r\n\tat scala.collection.generic.Growable.$plus$plus$eq$(Growable.scala:53)\r\n\tat scala.collection.mutable.ArrayBuffer.$plus$plus$eq(ArrayBuffer.scala:105)\r\n\tat scala.collection.mutable.ArrayBuffer.$plus$plus$eq(ArrayBuffer.scala:49)\r\n\tat scala.collection.TraversableOnce.to(TraversableOnce.scala:366)\r\n\tat scala.collection.TraversableOnce.to$(TraversableOnce.scala:364)\r\n\tat org.apache.spark.InterruptibleIterator.to(InterruptibleIterator.scala:28)\r\n\tat scala.collection.TraversableOnce.toBuffer(TraversableOnce.scala:358)\r\n\tat scala.collection.TraversableOnce.toBuffer$(TraversableOnce.scala:358)\r\n\tat org.apache.spark.InterruptibleIterator.toBuffer(InterruptibleIterator.scala:28)\r\n\tat scala.collection.TraversableOnce.toArray(TraversableOnce.scala:345)\r\n\tat scala.collection.TraversableOnce.toArray$(TraversableOnce.scala:339)\r\n\tat org.apache.spark.InterruptibleIterator.toArray(InterruptibleIterator.scala:28)\r\n\tat org.apache.spark.api.python.PythonRDD$.$anonfun$runJob$1(PythonRDD.scala:166)\r\n\tat org.apache.spark.SparkContext.$anonfun$runJob$5(SparkContext.scala:2278)\r\n\tat org.apache.spark.scheduler.ResultTask.runTask(ResultTask.scala:90)\r\n\tat org.apache.spark.scheduler.Task.run(Task.scala:136)\r\n\tat org.apache.spark.executor.Executor$TaskRunner.$anonfun$run$3(Executor.scala:548)\r\n\tat org.apache.spark.util.Utils$.tryWithSafeFinally(Utils.scala:1504)\r\n\tat org.apache.spark.executor.Executor$TaskRunner.run(Executor.scala:551)\r\n\tat java.util.concurrent.ThreadPoolExecutor.runWorker(Unknown Source)\r\n\tat java.util.concurrent.ThreadPoolExecutor$Worker.run(Unknown Source)\r\n\tat java.lang.Thread.run(Unknown Source)\r\n\nDriver stacktrace:\r\n\tat org.apache.spark.scheduler.DAGScheduler.failJobAndIndependentStages(DAGScheduler.scala:2672)\r\n\tat org.apache.spark.scheduler.DAGScheduler.$anonfun$abortStage$2(DAGScheduler.scala:2608)\r\n\tat org.apache.spark.scheduler.DAGScheduler.$anonfun$abortStage$2$adapted(DAGScheduler.scala:2607)\r\n\tat scala.collection.mutable.ResizableArray.foreach(ResizableArray.scala:62)\r\n\tat scala.collection.mutable.ResizableArray.foreach$(ResizableArray.scala:55)\r\n\tat scala.collection.mutable.ArrayBuffer.foreach(ArrayBuffer.scala:49)\r\n\tat org.apache.spark.scheduler.DAGScheduler.abortStage(DAGScheduler.scala:2607)\r\n\tat org.apache.spark.scheduler.DAGScheduler.$anonfun$handleTaskSetFailed$1(DAGScheduler.scala:1182)\r\n\tat org.apache.spark.scheduler.DAGScheduler.$anonfun$handleTaskSetFailed$1$adapted(DAGScheduler.scala:1182)\r\n\tat scala.Option.foreach(Option.scala:407)\r\n\tat org.apache.spark.scheduler.DAGScheduler.handleTaskSetFailed(DAGScheduler.scala:1182)\r\n\tat org.apache.spark.scheduler.DAGSchedulerEventProcessLoop.doOnReceive(DAGScheduler.scala:2860)\r\n\tat org.apache.spark.scheduler.DAGSchedulerEventProcessLoop.onReceive(DAGScheduler.scala:2802)\r\n\tat org.apache.spark.scheduler.DAGSchedulerEventProcessLoop.onReceive(DAGScheduler.scala:2791)\r\n\tat org.apache.spark.util.EventLoop$$anon$1.run(EventLoop.scala:49)\r\n\tat org.apache.spark.scheduler.DAGScheduler.runJob(DAGScheduler.scala:952)\r\n\tat org.apache.spark.SparkContext.runJob(SparkContext.scala:2238)\r\n\tat org.apache.spark.SparkContext.runJob(SparkContext.scala:2259)\r\n\tat org.apache.spark.SparkContext.runJob(SparkContext.scala:2278)\r\n\tat org.apache.spark.api.python.PythonRDD$.runJob(PythonRDD.scala:166)\r\n\tat org.apache.spark.api.python.PythonRDD.runJob(PythonRDD.scala)\r\n\tat sun.reflect.NativeMethodAccessorImpl.invoke0(Native Method)\r\n\tat sun.reflect.NativeMethodAccessorImpl.invoke(Unknown Source)\r\n\tat sun.reflect.DelegatingMethodAccessorImpl.invoke(Unknown Source)\r\n\tat java.lang.reflect.Method.invoke(Unknown Source)\r\n\tat py4j.reflection.MethodInvoker.invoke(MethodInvoker.java:244)\r\n\tat py4j.reflection.ReflectionEngine.invoke(ReflectionEngine.java:357)\r\n\tat py4j.Gateway.invoke(Gateway.java:282)\r\n\tat py4j.commands.AbstractCommand.invokeMethod(AbstractCommand.java:132)\r\n\tat py4j.commands.CallCommand.execute(CallCommand.java:79)\r\n\tat py4j.ClientServerConnection.waitForCommands(ClientServerConnection.java:182)\r\n\tat py4j.ClientServerConnection.run(ClientServerConnection.java:106)\r\n\tat java.lang.Thread.run(Unknown Source)\r\nCaused by: org.apache.spark.api.python.PythonException: Traceback (most recent call last):\n  File \"C:\\anaconda\\instalation\\envs\\pbd\\Lib\\site-packages\\pyspark\\python\\lib\\pyspark.zip\\pyspark\\worker.py\", line 540, in main\nRuntimeError: Python in worker has different version 3.9 than that in driver 3.10, PySpark cannot run with different minor versions. Please check environment variables PYSPARK_PYTHON and PYSPARK_DRIVER_PYTHON are correctly set.\n\r\n\tat org.apache.spark.api.python.BasePythonRunner$ReaderIterator.handlePythonException(PythonRunner.scala:552)\r\n\tat org.apache.spark.api.python.PythonRunner$$anon$3.read(PythonRunner.scala:758)\r\n\tat org.apache.spark.api.python.PythonRunner$$anon$3.read(PythonRunner.scala:740)\r\n\tat org.apache.spark.api.python.BasePythonRunner$ReaderIterator.hasNext(PythonRunner.scala:505)\r\n\tat org.apache.spark.InterruptibleIterator.hasNext(InterruptibleIterator.scala:37)\r\n\tat scala.collection.Iterator.foreach(Iterator.scala:943)\r\n\tat scala.collection.Iterator.foreach$(Iterator.scala:943)\r\n\tat org.apache.spark.InterruptibleIterator.foreach(InterruptibleIterator.scala:28)\r\n\tat scala.collection.generic.Growable.$plus$plus$eq(Growable.scala:62)\r\n\tat scala.collection.generic.Growable.$plus$plus$eq$(Growable.scala:53)\r\n\tat scala.collection.mutable.ArrayBuffer.$plus$plus$eq(ArrayBuffer.scala:105)\r\n\tat scala.collection.mutable.ArrayBuffer.$plus$plus$eq(ArrayBuffer.scala:49)\r\n\tat scala.collection.TraversableOnce.to(TraversableOnce.scala:366)\r\n\tat scala.collection.TraversableOnce.to$(TraversableOnce.scala:364)\r\n\tat org.apache.spark.InterruptibleIterator.to(InterruptibleIterator.scala:28)\r\n\tat scala.collection.TraversableOnce.toBuffer(TraversableOnce.scala:358)\r\n\tat scala.collection.TraversableOnce.toBuffer$(TraversableOnce.scala:358)\r\n\tat org.apache.spark.InterruptibleIterator.toBuffer(InterruptibleIterator.scala:28)\r\n\tat scala.collection.TraversableOnce.toArray(TraversableOnce.scala:345)\r\n\tat scala.collection.TraversableOnce.toArray$(TraversableOnce.scala:339)\r\n\tat org.apache.spark.InterruptibleIterator.toArray(InterruptibleIterator.scala:28)\r\n\tat org.apache.spark.api.python.PythonRDD$.$anonfun$runJob$1(PythonRDD.scala:166)\r\n\tat org.apache.spark.SparkContext.$anonfun$runJob$5(SparkContext.scala:2278)\r\n\tat org.apache.spark.scheduler.ResultTask.runTask(ResultTask.scala:90)\r\n\tat org.apache.spark.scheduler.Task.run(Task.scala:136)\r\n\tat org.apache.spark.executor.Executor$TaskRunner.$anonfun$run$3(Executor.scala:548)\r\n\tat org.apache.spark.util.Utils$.tryWithSafeFinally(Utils.scala:1504)\r\n\tat org.apache.spark.executor.Executor$TaskRunner.run(Executor.scala:551)\r\n\tat java.util.concurrent.ThreadPoolExecutor.runWorker(Unknown Source)\r\n\tat java.util.concurrent.ThreadPoolExecutor$Worker.run(Unknown Source)\r\n\t... 1 more\r\n",
     "output_type": "error",
     "traceback": [
      "\u001b[1;31m---------------------------------------------------------------------------\u001b[0m",
      "\u001b[1;31mPy4JJavaError\u001b[0m                             Traceback (most recent call last)",
      "Cell \u001b[1;32mIn[20], line 4\u001b[0m\n\u001b[0;32m      2\u001b[0m rddCollect \u001b[38;5;241m=\u001b[39m rdd\u001b[38;5;241m.\u001b[39mcollect()\n\u001b[0;32m      3\u001b[0m \u001b[38;5;28mprint\u001b[39m(\u001b[38;5;124m\"\u001b[39m\u001b[38;5;124mNumber of Partitions: \u001b[39m\u001b[38;5;124m\"\u001b[39m\u001b[38;5;241m+\u001b[39m\u001b[38;5;28mstr\u001b[39m(rdd\u001b[38;5;241m.\u001b[39mgetNumPartitions()))\n\u001b[1;32m----> 4\u001b[0m \u001b[38;5;28mprint\u001b[39m(\u001b[38;5;124m\"\u001b[39m\u001b[38;5;124mAction: First element: \u001b[39m\u001b[38;5;124m\"\u001b[39m\u001b[38;5;241m+\u001b[39m\u001b[38;5;28mstr\u001b[39m(\u001b[43mrdd\u001b[49m\u001b[38;5;241;43m.\u001b[39;49m\u001b[43mfirst\u001b[49m\u001b[43m(\u001b[49m\u001b[43m)\u001b[49m))\n\u001b[0;32m      5\u001b[0m \u001b[38;5;28mprint\u001b[39m(rddCollect)\n",
      "File \u001b[1;32mC:\\anaconda\\instalation\\envs\\pbd\\lib\\site-packages\\pyspark\\rdd.py:1903\u001b[0m, in \u001b[0;36mRDD.first\u001b[1;34m(self)\u001b[0m\n\u001b[0;32m   1890\u001b[0m \u001b[38;5;28;01mdef\u001b[39;00m \u001b[38;5;21mfirst\u001b[39m(\u001b[38;5;28mself\u001b[39m: \u001b[38;5;124m\"\u001b[39m\u001b[38;5;124mRDD[T]\u001b[39m\u001b[38;5;124m\"\u001b[39m) \u001b[38;5;241m-\u001b[39m\u001b[38;5;241m>\u001b[39m T:\n\u001b[0;32m   1891\u001b[0m \u001b[38;5;250m    \u001b[39m\u001b[38;5;124;03m\"\"\"\u001b[39;00m\n\u001b[0;32m   1892\u001b[0m \u001b[38;5;124;03m    Return the first element in this RDD.\u001b[39;00m\n\u001b[0;32m   1893\u001b[0m \n\u001b[1;32m   (...)\u001b[0m\n\u001b[0;32m   1901\u001b[0m \u001b[38;5;124;03m    ValueError: RDD is empty\u001b[39;00m\n\u001b[0;32m   1902\u001b[0m \u001b[38;5;124;03m    \"\"\"\u001b[39;00m\n\u001b[1;32m-> 1903\u001b[0m     rs \u001b[38;5;241m=\u001b[39m \u001b[38;5;28;43mself\u001b[39;49m\u001b[38;5;241;43m.\u001b[39;49m\u001b[43mtake\u001b[49m\u001b[43m(\u001b[49m\u001b[38;5;241;43m1\u001b[39;49m\u001b[43m)\u001b[49m\n\u001b[0;32m   1904\u001b[0m     \u001b[38;5;28;01mif\u001b[39;00m rs:\n\u001b[0;32m   1905\u001b[0m         \u001b[38;5;28;01mreturn\u001b[39;00m rs[\u001b[38;5;241m0\u001b[39m]\n",
      "File \u001b[1;32mC:\\anaconda\\instalation\\envs\\pbd\\lib\\site-packages\\pyspark\\rdd.py:1883\u001b[0m, in \u001b[0;36mRDD.take\u001b[1;34m(self, num)\u001b[0m\n\u001b[0;32m   1880\u001b[0m         taken \u001b[38;5;241m+\u001b[39m\u001b[38;5;241m=\u001b[39m \u001b[38;5;241m1\u001b[39m\n\u001b[0;32m   1882\u001b[0m p \u001b[38;5;241m=\u001b[39m \u001b[38;5;28mrange\u001b[39m(partsScanned, \u001b[38;5;28mmin\u001b[39m(partsScanned \u001b[38;5;241m+\u001b[39m numPartsToTry, totalParts))\n\u001b[1;32m-> 1883\u001b[0m res \u001b[38;5;241m=\u001b[39m \u001b[38;5;28;43mself\u001b[39;49m\u001b[38;5;241;43m.\u001b[39;49m\u001b[43mcontext\u001b[49m\u001b[38;5;241;43m.\u001b[39;49m\u001b[43mrunJob\u001b[49m\u001b[43m(\u001b[49m\u001b[38;5;28;43mself\u001b[39;49m\u001b[43m,\u001b[49m\u001b[43m \u001b[49m\u001b[43mtakeUpToNumLeft\u001b[49m\u001b[43m,\u001b[49m\u001b[43m \u001b[49m\u001b[43mp\u001b[49m\u001b[43m)\u001b[49m\n\u001b[0;32m   1885\u001b[0m items \u001b[38;5;241m+\u001b[39m\u001b[38;5;241m=\u001b[39m res\n\u001b[0;32m   1886\u001b[0m partsScanned \u001b[38;5;241m+\u001b[39m\u001b[38;5;241m=\u001b[39m numPartsToTry\n",
      "File \u001b[1;32mC:\\anaconda\\instalation\\envs\\pbd\\lib\\site-packages\\pyspark\\context.py:1486\u001b[0m, in \u001b[0;36mSparkContext.runJob\u001b[1;34m(self, rdd, partitionFunc, partitions, allowLocal)\u001b[0m\n\u001b[0;32m   1484\u001b[0m mappedRDD \u001b[38;5;241m=\u001b[39m rdd\u001b[38;5;241m.\u001b[39mmapPartitions(partitionFunc)\n\u001b[0;32m   1485\u001b[0m \u001b[38;5;28;01massert\u001b[39;00m \u001b[38;5;28mself\u001b[39m\u001b[38;5;241m.\u001b[39m_jvm \u001b[38;5;129;01mis\u001b[39;00m \u001b[38;5;129;01mnot\u001b[39;00m \u001b[38;5;28;01mNone\u001b[39;00m\n\u001b[1;32m-> 1486\u001b[0m sock_info \u001b[38;5;241m=\u001b[39m \u001b[38;5;28;43mself\u001b[39;49m\u001b[38;5;241;43m.\u001b[39;49m\u001b[43m_jvm\u001b[49m\u001b[38;5;241;43m.\u001b[39;49m\u001b[43mPythonRDD\u001b[49m\u001b[38;5;241;43m.\u001b[39;49m\u001b[43mrunJob\u001b[49m\u001b[43m(\u001b[49m\u001b[38;5;28;43mself\u001b[39;49m\u001b[38;5;241;43m.\u001b[39;49m\u001b[43m_jsc\u001b[49m\u001b[38;5;241;43m.\u001b[39;49m\u001b[43msc\u001b[49m\u001b[43m(\u001b[49m\u001b[43m)\u001b[49m\u001b[43m,\u001b[49m\u001b[43m \u001b[49m\u001b[43mmappedRDD\u001b[49m\u001b[38;5;241;43m.\u001b[39;49m\u001b[43m_jrdd\u001b[49m\u001b[43m,\u001b[49m\u001b[43m \u001b[49m\u001b[43mpartitions\u001b[49m\u001b[43m)\u001b[49m\n\u001b[0;32m   1487\u001b[0m \u001b[38;5;28;01mreturn\u001b[39;00m \u001b[38;5;28mlist\u001b[39m(_load_from_socket(sock_info, mappedRDD\u001b[38;5;241m.\u001b[39m_jrdd_deserializer))\n",
      "File \u001b[1;32mC:\\anaconda\\instalation\\envs\\pbd\\lib\\site-packages\\py4j\\java_gateway.py:1321\u001b[0m, in \u001b[0;36mJavaMember.__call__\u001b[1;34m(self, *args)\u001b[0m\n\u001b[0;32m   1315\u001b[0m command \u001b[38;5;241m=\u001b[39m proto\u001b[38;5;241m.\u001b[39mCALL_COMMAND_NAME \u001b[38;5;241m+\u001b[39m\\\n\u001b[0;32m   1316\u001b[0m     \u001b[38;5;28mself\u001b[39m\u001b[38;5;241m.\u001b[39mcommand_header \u001b[38;5;241m+\u001b[39m\\\n\u001b[0;32m   1317\u001b[0m     args_command \u001b[38;5;241m+\u001b[39m\\\n\u001b[0;32m   1318\u001b[0m     proto\u001b[38;5;241m.\u001b[39mEND_COMMAND_PART\n\u001b[0;32m   1320\u001b[0m answer \u001b[38;5;241m=\u001b[39m \u001b[38;5;28mself\u001b[39m\u001b[38;5;241m.\u001b[39mgateway_client\u001b[38;5;241m.\u001b[39msend_command(command)\n\u001b[1;32m-> 1321\u001b[0m return_value \u001b[38;5;241m=\u001b[39m \u001b[43mget_return_value\u001b[49m\u001b[43m(\u001b[49m\n\u001b[0;32m   1322\u001b[0m \u001b[43m    \u001b[49m\u001b[43manswer\u001b[49m\u001b[43m,\u001b[49m\u001b[43m \u001b[49m\u001b[38;5;28;43mself\u001b[39;49m\u001b[38;5;241;43m.\u001b[39;49m\u001b[43mgateway_client\u001b[49m\u001b[43m,\u001b[49m\u001b[43m \u001b[49m\u001b[38;5;28;43mself\u001b[39;49m\u001b[38;5;241;43m.\u001b[39;49m\u001b[43mtarget_id\u001b[49m\u001b[43m,\u001b[49m\u001b[43m \u001b[49m\u001b[38;5;28;43mself\u001b[39;49m\u001b[38;5;241;43m.\u001b[39;49m\u001b[43mname\u001b[49m\u001b[43m)\u001b[49m\n\u001b[0;32m   1324\u001b[0m \u001b[38;5;28;01mfor\u001b[39;00m temp_arg \u001b[38;5;129;01min\u001b[39;00m temp_args:\n\u001b[0;32m   1325\u001b[0m     temp_arg\u001b[38;5;241m.\u001b[39m_detach()\n",
      "File \u001b[1;32mC:\\anaconda\\instalation\\envs\\pbd\\lib\\site-packages\\pyspark\\sql\\utils.py:190\u001b[0m, in \u001b[0;36mcapture_sql_exception.<locals>.deco\u001b[1;34m(*a, **kw)\u001b[0m\n\u001b[0;32m    188\u001b[0m \u001b[38;5;28;01mdef\u001b[39;00m \u001b[38;5;21mdeco\u001b[39m(\u001b[38;5;241m*\u001b[39ma: Any, \u001b[38;5;241m*\u001b[39m\u001b[38;5;241m*\u001b[39mkw: Any) \u001b[38;5;241m-\u001b[39m\u001b[38;5;241m>\u001b[39m Any:\n\u001b[0;32m    189\u001b[0m     \u001b[38;5;28;01mtry\u001b[39;00m:\n\u001b[1;32m--> 190\u001b[0m         \u001b[38;5;28;01mreturn\u001b[39;00m f(\u001b[38;5;241m*\u001b[39ma, \u001b[38;5;241m*\u001b[39m\u001b[38;5;241m*\u001b[39mkw)\n\u001b[0;32m    191\u001b[0m     \u001b[38;5;28;01mexcept\u001b[39;00m Py4JJavaError \u001b[38;5;28;01mas\u001b[39;00m e:\n\u001b[0;32m    192\u001b[0m         converted \u001b[38;5;241m=\u001b[39m convert_exception(e\u001b[38;5;241m.\u001b[39mjava_exception)\n",
      "File \u001b[1;32mC:\\anaconda\\instalation\\envs\\pbd\\lib\\site-packages\\py4j\\protocol.py:326\u001b[0m, in \u001b[0;36mget_return_value\u001b[1;34m(answer, gateway_client, target_id, name)\u001b[0m\n\u001b[0;32m    324\u001b[0m value \u001b[38;5;241m=\u001b[39m OUTPUT_CONVERTER[\u001b[38;5;28mtype\u001b[39m](answer[\u001b[38;5;241m2\u001b[39m:], gateway_client)\n\u001b[0;32m    325\u001b[0m \u001b[38;5;28;01mif\u001b[39;00m answer[\u001b[38;5;241m1\u001b[39m] \u001b[38;5;241m==\u001b[39m REFERENCE_TYPE:\n\u001b[1;32m--> 326\u001b[0m     \u001b[38;5;28;01mraise\u001b[39;00m Py4JJavaError(\n\u001b[0;32m    327\u001b[0m         \u001b[38;5;124m\"\u001b[39m\u001b[38;5;124mAn error occurred while calling \u001b[39m\u001b[38;5;132;01m{0}\u001b[39;00m\u001b[38;5;132;01m{1}\u001b[39;00m\u001b[38;5;132;01m{2}\u001b[39;00m\u001b[38;5;124m.\u001b[39m\u001b[38;5;130;01m\\n\u001b[39;00m\u001b[38;5;124m\"\u001b[39m\u001b[38;5;241m.\u001b[39m\n\u001b[0;32m    328\u001b[0m         \u001b[38;5;28mformat\u001b[39m(target_id, \u001b[38;5;124m\"\u001b[39m\u001b[38;5;124m.\u001b[39m\u001b[38;5;124m\"\u001b[39m, name), value)\n\u001b[0;32m    329\u001b[0m \u001b[38;5;28;01melse\u001b[39;00m:\n\u001b[0;32m    330\u001b[0m     \u001b[38;5;28;01mraise\u001b[39;00m Py4JError(\n\u001b[0;32m    331\u001b[0m         \u001b[38;5;124m\"\u001b[39m\u001b[38;5;124mAn error occurred while calling \u001b[39m\u001b[38;5;132;01m{0}\u001b[39;00m\u001b[38;5;132;01m{1}\u001b[39;00m\u001b[38;5;132;01m{2}\u001b[39;00m\u001b[38;5;124m. Trace:\u001b[39m\u001b[38;5;130;01m\\n\u001b[39;00m\u001b[38;5;132;01m{3}\u001b[39;00m\u001b[38;5;130;01m\\n\u001b[39;00m\u001b[38;5;124m\"\u001b[39m\u001b[38;5;241m.\u001b[39m\n\u001b[0;32m    332\u001b[0m         \u001b[38;5;28mformat\u001b[39m(target_id, \u001b[38;5;124m\"\u001b[39m\u001b[38;5;124m.\u001b[39m\u001b[38;5;124m\"\u001b[39m, name, value))\n",
      "\u001b[1;31mPy4JJavaError\u001b[0m: An error occurred while calling z:org.apache.spark.api.python.PythonRDD.runJob.\n: org.apache.spark.SparkException: Job aborted due to stage failure: Task 0 in stage 2.0 failed 1 times, most recent failure: Lost task 0.0 in stage 2.0 (TID 5) (DESKTOP-9NRQ44U executor driver): org.apache.spark.api.python.PythonException: Traceback (most recent call last):\n  File \"C:\\anaconda\\instalation\\envs\\pbd\\Lib\\site-packages\\pyspark\\python\\lib\\pyspark.zip\\pyspark\\worker.py\", line 540, in main\nRuntimeError: Python in worker has different version 3.9 than that in driver 3.10, PySpark cannot run with different minor versions. Please check environment variables PYSPARK_PYTHON and PYSPARK_DRIVER_PYTHON are correctly set.\n\r\n\tat org.apache.spark.api.python.BasePythonRunner$ReaderIterator.handlePythonException(PythonRunner.scala:552)\r\n\tat org.apache.spark.api.python.PythonRunner$$anon$3.read(PythonRunner.scala:758)\r\n\tat org.apache.spark.api.python.PythonRunner$$anon$3.read(PythonRunner.scala:740)\r\n\tat org.apache.spark.api.python.BasePythonRunner$ReaderIterator.hasNext(PythonRunner.scala:505)\r\n\tat org.apache.spark.InterruptibleIterator.hasNext(InterruptibleIterator.scala:37)\r\n\tat scala.collection.Iterator.foreach(Iterator.scala:943)\r\n\tat scala.collection.Iterator.foreach$(Iterator.scala:943)\r\n\tat org.apache.spark.InterruptibleIterator.foreach(InterruptibleIterator.scala:28)\r\n\tat scala.collection.generic.Growable.$plus$plus$eq(Growable.scala:62)\r\n\tat scala.collection.generic.Growable.$plus$plus$eq$(Growable.scala:53)\r\n\tat scala.collection.mutable.ArrayBuffer.$plus$plus$eq(ArrayBuffer.scala:105)\r\n\tat scala.collection.mutable.ArrayBuffer.$plus$plus$eq(ArrayBuffer.scala:49)\r\n\tat scala.collection.TraversableOnce.to(TraversableOnce.scala:366)\r\n\tat scala.collection.TraversableOnce.to$(TraversableOnce.scala:364)\r\n\tat org.apache.spark.InterruptibleIterator.to(InterruptibleIterator.scala:28)\r\n\tat scala.collection.TraversableOnce.toBuffer(TraversableOnce.scala:358)\r\n\tat scala.collection.TraversableOnce.toBuffer$(TraversableOnce.scala:358)\r\n\tat org.apache.spark.InterruptibleIterator.toBuffer(InterruptibleIterator.scala:28)\r\n\tat scala.collection.TraversableOnce.toArray(TraversableOnce.scala:345)\r\n\tat scala.collection.TraversableOnce.toArray$(TraversableOnce.scala:339)\r\n\tat org.apache.spark.InterruptibleIterator.toArray(InterruptibleIterator.scala:28)\r\n\tat org.apache.spark.api.python.PythonRDD$.$anonfun$runJob$1(PythonRDD.scala:166)\r\n\tat org.apache.spark.SparkContext.$anonfun$runJob$5(SparkContext.scala:2278)\r\n\tat org.apache.spark.scheduler.ResultTask.runTask(ResultTask.scala:90)\r\n\tat org.apache.spark.scheduler.Task.run(Task.scala:136)\r\n\tat org.apache.spark.executor.Executor$TaskRunner.$anonfun$run$3(Executor.scala:548)\r\n\tat org.apache.spark.util.Utils$.tryWithSafeFinally(Utils.scala:1504)\r\n\tat org.apache.spark.executor.Executor$TaskRunner.run(Executor.scala:551)\r\n\tat java.util.concurrent.ThreadPoolExecutor.runWorker(Unknown Source)\r\n\tat java.util.concurrent.ThreadPoolExecutor$Worker.run(Unknown Source)\r\n\tat java.lang.Thread.run(Unknown Source)\r\n\nDriver stacktrace:\r\n\tat org.apache.spark.scheduler.DAGScheduler.failJobAndIndependentStages(DAGScheduler.scala:2672)\r\n\tat org.apache.spark.scheduler.DAGScheduler.$anonfun$abortStage$2(DAGScheduler.scala:2608)\r\n\tat org.apache.spark.scheduler.DAGScheduler.$anonfun$abortStage$2$adapted(DAGScheduler.scala:2607)\r\n\tat scala.collection.mutable.ResizableArray.foreach(ResizableArray.scala:62)\r\n\tat scala.collection.mutable.ResizableArray.foreach$(ResizableArray.scala:55)\r\n\tat scala.collection.mutable.ArrayBuffer.foreach(ArrayBuffer.scala:49)\r\n\tat org.apache.spark.scheduler.DAGScheduler.abortStage(DAGScheduler.scala:2607)\r\n\tat org.apache.spark.scheduler.DAGScheduler.$anonfun$handleTaskSetFailed$1(DAGScheduler.scala:1182)\r\n\tat org.apache.spark.scheduler.DAGScheduler.$anonfun$handleTaskSetFailed$1$adapted(DAGScheduler.scala:1182)\r\n\tat scala.Option.foreach(Option.scala:407)\r\n\tat org.apache.spark.scheduler.DAGScheduler.handleTaskSetFailed(DAGScheduler.scala:1182)\r\n\tat org.apache.spark.scheduler.DAGSchedulerEventProcessLoop.doOnReceive(DAGScheduler.scala:2860)\r\n\tat org.apache.spark.scheduler.DAGSchedulerEventProcessLoop.onReceive(DAGScheduler.scala:2802)\r\n\tat org.apache.spark.scheduler.DAGSchedulerEventProcessLoop.onReceive(DAGScheduler.scala:2791)\r\n\tat org.apache.spark.util.EventLoop$$anon$1.run(EventLoop.scala:49)\r\n\tat org.apache.spark.scheduler.DAGScheduler.runJob(DAGScheduler.scala:952)\r\n\tat org.apache.spark.SparkContext.runJob(SparkContext.scala:2238)\r\n\tat org.apache.spark.SparkContext.runJob(SparkContext.scala:2259)\r\n\tat org.apache.spark.SparkContext.runJob(SparkContext.scala:2278)\r\n\tat org.apache.spark.api.python.PythonRDD$.runJob(PythonRDD.scala:166)\r\n\tat org.apache.spark.api.python.PythonRDD.runJob(PythonRDD.scala)\r\n\tat sun.reflect.NativeMethodAccessorImpl.invoke0(Native Method)\r\n\tat sun.reflect.NativeMethodAccessorImpl.invoke(Unknown Source)\r\n\tat sun.reflect.DelegatingMethodAccessorImpl.invoke(Unknown Source)\r\n\tat java.lang.reflect.Method.invoke(Unknown Source)\r\n\tat py4j.reflection.MethodInvoker.invoke(MethodInvoker.java:244)\r\n\tat py4j.reflection.ReflectionEngine.invoke(ReflectionEngine.java:357)\r\n\tat py4j.Gateway.invoke(Gateway.java:282)\r\n\tat py4j.commands.AbstractCommand.invokeMethod(AbstractCommand.java:132)\r\n\tat py4j.commands.CallCommand.execute(CallCommand.java:79)\r\n\tat py4j.ClientServerConnection.waitForCommands(ClientServerConnection.java:182)\r\n\tat py4j.ClientServerConnection.run(ClientServerConnection.java:106)\r\n\tat java.lang.Thread.run(Unknown Source)\r\nCaused by: org.apache.spark.api.python.PythonException: Traceback (most recent call last):\n  File \"C:\\anaconda\\instalation\\envs\\pbd\\Lib\\site-packages\\pyspark\\python\\lib\\pyspark.zip\\pyspark\\worker.py\", line 540, in main\nRuntimeError: Python in worker has different version 3.9 than that in driver 3.10, PySpark cannot run with different minor versions. Please check environment variables PYSPARK_PYTHON and PYSPARK_DRIVER_PYTHON are correctly set.\n\r\n\tat org.apache.spark.api.python.BasePythonRunner$ReaderIterator.handlePythonException(PythonRunner.scala:552)\r\n\tat org.apache.spark.api.python.PythonRunner$$anon$3.read(PythonRunner.scala:758)\r\n\tat org.apache.spark.api.python.PythonRunner$$anon$3.read(PythonRunner.scala:740)\r\n\tat org.apache.spark.api.python.BasePythonRunner$ReaderIterator.hasNext(PythonRunner.scala:505)\r\n\tat org.apache.spark.InterruptibleIterator.hasNext(InterruptibleIterator.scala:37)\r\n\tat scala.collection.Iterator.foreach(Iterator.scala:943)\r\n\tat scala.collection.Iterator.foreach$(Iterator.scala:943)\r\n\tat org.apache.spark.InterruptibleIterator.foreach(InterruptibleIterator.scala:28)\r\n\tat scala.collection.generic.Growable.$plus$plus$eq(Growable.scala:62)\r\n\tat scala.collection.generic.Growable.$plus$plus$eq$(Growable.scala:53)\r\n\tat scala.collection.mutable.ArrayBuffer.$plus$plus$eq(ArrayBuffer.scala:105)\r\n\tat scala.collection.mutable.ArrayBuffer.$plus$plus$eq(ArrayBuffer.scala:49)\r\n\tat scala.collection.TraversableOnce.to(TraversableOnce.scala:366)\r\n\tat scala.collection.TraversableOnce.to$(TraversableOnce.scala:364)\r\n\tat org.apache.spark.InterruptibleIterator.to(InterruptibleIterator.scala:28)\r\n\tat scala.collection.TraversableOnce.toBuffer(TraversableOnce.scala:358)\r\n\tat scala.collection.TraversableOnce.toBuffer$(TraversableOnce.scala:358)\r\n\tat org.apache.spark.InterruptibleIterator.toBuffer(InterruptibleIterator.scala:28)\r\n\tat scala.collection.TraversableOnce.toArray(TraversableOnce.scala:345)\r\n\tat scala.collection.TraversableOnce.toArray$(TraversableOnce.scala:339)\r\n\tat org.apache.spark.InterruptibleIterator.toArray(InterruptibleIterator.scala:28)\r\n\tat org.apache.spark.api.python.PythonRDD$.$anonfun$runJob$1(PythonRDD.scala:166)\r\n\tat org.apache.spark.SparkContext.$anonfun$runJob$5(SparkContext.scala:2278)\r\n\tat org.apache.spark.scheduler.ResultTask.runTask(ResultTask.scala:90)\r\n\tat org.apache.spark.scheduler.Task.run(Task.scala:136)\r\n\tat org.apache.spark.executor.Executor$TaskRunner.$anonfun$run$3(Executor.scala:548)\r\n\tat org.apache.spark.util.Utils$.tryWithSafeFinally(Utils.scala:1504)\r\n\tat org.apache.spark.executor.Executor$TaskRunner.run(Executor.scala:551)\r\n\tat java.util.concurrent.ThreadPoolExecutor.runWorker(Unknown Source)\r\n\tat java.util.concurrent.ThreadPoolExecutor$Worker.run(Unknown Source)\r\n\t... 1 more\r\n"
     ]
    }
   ],
   "source": [
    "rdd=sparkContext.parallelize([1,2,3,4,5])\n",
    "rddCollect = rdd.collect()\n",
    "print(\"Number of Partitions: \"+str(rdd.getNumPartitions()))\n",
    "print(\"Action: First element: \"+str(rdd.first()))\n",
    "print(rddCollect)"
   ]
  },
  {
   "cell_type": "code",
   "execution_count": null,
   "id": "3d4f7cf9-0604-4231-abb0-96a82e06750a",
   "metadata": {
    "id": "3d4f7cf9-0604-4231-abb0-96a82e06750a"
   },
   "outputs": [],
   "source": []
  },
  {
   "cell_type": "code",
   "execution_count": null,
   "id": "fd4c14ef-ad53-4bdd-a1ab-9f75101c7dc9",
   "metadata": {
    "id": "fd4c14ef-ad53-4bdd-a1ab-9f75101c7dc9"
   },
   "outputs": [],
   "source": []
  },
  {
   "cell_type": "code",
   "execution_count": null,
   "id": "0ec90d46-154f-4f75-bb5c-8484e28794a0",
   "metadata": {
    "id": "0ec90d46-154f-4f75-bb5c-8484e28794a0"
   },
   "outputs": [],
   "source": []
  },
  {
   "cell_type": "code",
   "execution_count": null,
   "id": "9093ef87-5007-4c67-9da8-97f603f14099",
   "metadata": {
    "id": "9093ef87-5007-4c67-9da8-97f603f14099"
   },
   "outputs": [],
   "source": []
  },
  {
   "cell_type": "code",
   "execution_count": null,
   "id": "18881e6b-20eb-49cf-bd1b-d0786f47a75e",
   "metadata": {
    "id": "18881e6b-20eb-49cf-bd1b-d0786f47a75e"
   },
   "outputs": [],
   "source": []
  },
  {
   "cell_type": "code",
   "execution_count": null,
   "id": "7758bd9d-ab56-4c3d-9621-94d403b974cc",
   "metadata": {
    "id": "7758bd9d-ab56-4c3d-9621-94d403b974cc"
   },
   "outputs": [],
   "source": []
  },
  {
   "cell_type": "code",
   "execution_count": null,
   "id": "b2bb2bbd-81c7-40d5-b211-b3b5a45357d9",
   "metadata": {
    "id": "b2bb2bbd-81c7-40d5-b211-b3b5a45357d9",
    "outputId": "cf26d71a-c087-4fb8-ad99-c5685f6477fd",
    "tags": []
   },
   "outputs": [
    {
     "ename": "TypeError",
     "evalue": "Column is not iterable",
     "output_type": "error",
     "traceback": [
      "\u001b[1;31m---------------------------------------------------------------------------\u001b[0m",
      "\u001b[1;31mTypeError\u001b[0m                                 Traceback (most recent call last)",
      "Cell \u001b[1;32mIn[49], line 3\u001b[0m\n\u001b[0;32m      1\u001b[0m sessions \u001b[38;5;241m=\u001b[39m df_train\u001b[38;5;241m.\u001b[39mgroupby(\u001b[38;5;124m'\u001b[39m\u001b[38;5;124msession_id\u001b[39m\u001b[38;5;124m'\u001b[39m) \\\n\u001b[0;32m      2\u001b[0m     \u001b[38;5;241m.\u001b[39magg(\n\u001b[1;32m----> 3\u001b[0m         \u001b[38;5;28;43mmax\u001b[39;49m\u001b[43m(\u001b[49m\u001b[43mF\u001b[49m\u001b[38;5;241;43m.\u001b[39;49m\u001b[43mcol\u001b[49m\u001b[43m(\u001b[49m\u001b[38;5;124;43m\"\u001b[39;49m\u001b[38;5;124;43mindex\u001b[39;49m\u001b[38;5;124;43m\"\u001b[39;49m\u001b[43m)\u001b[49m\u001b[43m)\u001b[49m\u001b[38;5;241m.\u001b[39malias(\u001b[38;5;124m\"\u001b[39m\u001b[38;5;124mmax_index\u001b[39m\u001b[38;5;124m\"\u001b[39m),\n\u001b[0;32m      4\u001b[0m         \n\u001b[0;32m      5\u001b[0m     )\u001b[38;5;241m.\u001b[39mwithColumn(\n\u001b[0;32m      6\u001b[0m     \u001b[38;5;124m\"\u001b[39m\u001b[38;5;124mid\u001b[39m\u001b[38;5;124m\"\u001b[39m,\n\u001b[0;32m      7\u001b[0m     row_number()\u001b[38;5;241m.\u001b[39mover(Window\u001b[38;5;241m.\u001b[39morderBy(monotonically_increasing_id()))\u001b[38;5;241m-\u001b[39m\u001b[38;5;241m1\u001b[39m\n\u001b[0;32m      8\u001b[0m )\n\u001b[0;32m      9\u001b[0m sessions\u001b[38;5;241m.\u001b[39mlimit(\u001b[38;5;241m10\u001b[39m)\n",
      "File \u001b[1;32mC:\\anaconda\\instalation\\envs\\pbd\\lib\\site-packages\\pyspark\\sql\\column.py:560\u001b[0m, in \u001b[0;36mColumn.__iter__\u001b[1;34m(self)\u001b[0m\n\u001b[0;32m    559\u001b[0m \u001b[38;5;28;01mdef\u001b[39;00m \u001b[38;5;21m__iter__\u001b[39m(\u001b[38;5;28mself\u001b[39m) \u001b[38;5;241m-\u001b[39m\u001b[38;5;241m>\u001b[39m \u001b[38;5;28;01mNone\u001b[39;00m:\n\u001b[1;32m--> 560\u001b[0m     \u001b[38;5;28;01mraise\u001b[39;00m \u001b[38;5;167;01mTypeError\u001b[39;00m(\u001b[38;5;124m\"\u001b[39m\u001b[38;5;124mColumn is not iterable\u001b[39m\u001b[38;5;124m\"\u001b[39m)\n",
      "\u001b[1;31mTypeError\u001b[0m: Column is not iterable"
     ]
    }
   ],
   "source": [
    "sessions = df_train.groupby('session_id') \\\n",
    "    .agg(\n",
    "        max(F.col(\"index\")).alias(\"max_index\"),\n",
    "        \n",
    "    ).withColumn(\n",
    "    \"id\",\n",
    "    row_number().over(Window.orderBy(monotonically_increasing_id()))-1\n",
    ")\n",
    "sessions.limit(10)"
   ]
  },
  {
   "cell_type": "code",
   "execution_count": null,
   "id": "7f0125e4-77ee-4f0e-bdf4-6a038f6b0c4f",
   "metadata": {
    "id": "7f0125e4-77ee-4f0e-bdf4-6a038f6b0c4f"
   },
   "outputs": [],
   "source": []
  },
  {
   "cell_type": "code",
   "execution_count": null,
   "id": "14c6721d-2601-4de2-83e2-f8a44d35231e",
   "metadata": {
    "id": "14c6721d-2601-4de2-83e2-f8a44d35231e",
    "outputId": "019aa662-d53e-4342-d991-be4e979bda20",
    "tags": []
   },
   "outputs": [
    {
     "ename": "SyntaxError",
     "evalue": "invalid syntax (958298010.py, line 2)",
     "output_type": "error",
     "traceback": [
      "\u001b[1;36m  Cell \u001b[1;32mIn[23], line 2\u001b[1;36m\u001b[0m\n\u001b[1;33m    cls_numeric =\u001b[0m\n\u001b[1;37m                  ^\u001b[0m\n\u001b[1;31mSyntaxError\u001b[0m\u001b[1;31m:\u001b[0m invalid syntax\n"
     ]
    }
   ],
   "source": [
    "cls_not_features = ['Time', 'Merchant State', 'Zip', 'Is Fraud?', 'Fraud'] \n",
    "cls_numeric = ['Time', 'Merchant State', 'Zip', 'Is Fraud?', 'Fraud']\n",
    "cls_non_numeric = [i for i in transactions_cols_interest if i not in cls_numeric]\n",
    "cls_non_numeric"
   ]
  },
  {
   "cell_type": "code",
   "execution_count": null,
   "id": "1b009945-9dd3-4a55-923b-fd8295002e4a",
   "metadata": {
    "id": "1b009945-9dd3-4a55-923b-fd8295002e4a"
   },
   "outputs": [],
   "source": [
    "# Encoding columns and vector assembling them\n",
    "# See Chapter 10 of the book \"Learning Spark - Lightning-Fast Data Analytics\"\n",
    "\n",
    "categorical_cols = [i for i in cls_non_numeric if i not in cls_not_features]\n",
    "non_categorical_cols = [i for i in cls_numeric if i not in cls_not_features]\n",
    "\n",
    "index_output_cols = [x + ' Index' for x in categorical_cols]\n",
    "ohe_output_cols = [x + ' OHE' for x in categorical_cols]\n",
    "\n",
    "string_indexer = StringIndexer(inputCols=categorical_cols, outputCols=index_output_cols, handleInvalid=\"skip\")\n",
    "\n",
    "ohe_encoder = OneHotEncoder(inputCols=index_output_cols, outputCols=ohe_output_cols)\n",
    "   \n",
    "# Put all input features into a single vector, by using a transformer\n",
    "\n",
    "assembler_inputs = ohe_output_cols + non_categorical_cols\n",
    "vec_assembler = VectorAssembler(inputCols=assembler_inputs, outputCol=\"features\")\n",
    "assembler_inputs"
   ]
  },
  {
   "cell_type": "code",
   "execution_count": null,
   "id": "dbe9f74e-d10e-47a2-81d9-88c3578f4b1e",
   "metadata": {
    "id": "dbe9f74e-d10e-47a2-81d9-88c3578f4b1e"
   },
   "outputs": [],
   "source": []
  },
  {
   "cell_type": "code",
   "execution_count": null,
   "id": "109bd9c8-1936-42c9-b797-9e660265fc4d",
   "metadata": {
    "id": "109bd9c8-1936-42c9-b797-9e660265fc4d",
    "outputId": "98fa7258-5f0d-4703-b078-d0b6e1062b66",
    "tags": []
   },
   "outputs": [
    {
     "ename": "NameError",
     "evalue": "name 'string_indexer' is not defined",
     "output_type": "error",
     "traceback": [
      "\u001b[1;31m---------------------------------------------------------------------------\u001b[0m",
      "\u001b[1;31mNameError\u001b[0m                                 Traceback (most recent call last)",
      "Cell \u001b[1;32mIn[22], line 1\u001b[0m\n\u001b[1;32m----> 1\u001b[0m pipeline \u001b[38;5;241m=\u001b[39m Pipeline(stages\u001b[38;5;241m=\u001b[39m[\u001b[43mstring_indexer\u001b[49m, ohe_encoder, vec_assembler, lsvc])\n",
      "\u001b[1;31mNameError\u001b[0m: name 'string_indexer' is not defined"
     ]
    }
   ],
   "source": [
    "pipeline = Pipeline(stages=[string_indexer, ohe_encoder, vec_assembler, lsvc])"
   ]
  },
  {
   "cell_type": "code",
   "execution_count": null,
   "id": "442600df-0a3e-4051-895a-918b582e6ad7",
   "metadata": {
    "id": "442600df-0a3e-4051-895a-918b582e6ad7",
    "outputId": "b87c28fa-d805-4ea3-be19-c8a5d5f59e16"
   },
   "outputs": [
    {
     "data": {
      "text/plain": [
       "<bound method Params.getParam of SQLTransformer_0ce761cbfe95>"
      ]
     },
     "execution_count": 44,
     "metadata": {},
     "output_type": "execute_result"
    }
   ],
   "source": [
    "sqlTrans.getParam"
   ]
  },
  {
   "cell_type": "code",
   "execution_count": null,
   "id": "53654b3a-681b-40de-a05b-966630d6773a",
   "metadata": {
    "id": "53654b3a-681b-40de-a05b-966630d6773a"
   },
   "outputs": [],
   "source": []
  },
  {
   "cell_type": "code",
   "execution_count": null,
   "id": "11c85299-c2c5-4d11-9605-7de079469608",
   "metadata": {
    "id": "11c85299-c2c5-4d11-9605-7de079469608"
   },
   "outputs": [],
   "source": []
  },
  {
   "cell_type": "code",
   "execution_count": null,
   "id": "1e1b950a-b7fe-436e-bd8f-09075074b70f",
   "metadata": {
    "id": "1e1b950a-b7fe-436e-bd8f-09075074b70f"
   },
   "outputs": [],
   "source": []
  },
  {
   "cell_type": "code",
   "execution_count": null,
   "id": "c569f83f-2e87-4f2a-9c2b-a614eb108642",
   "metadata": {
    "id": "c569f83f-2e87-4f2a-9c2b-a614eb108642"
   },
   "outputs": [],
   "source": []
  },
  {
   "cell_type": "code",
   "execution_count": null,
   "id": "f179186e-d9f0-42c3-b3a3-b945bb66de88",
   "metadata": {
    "id": "f179186e-d9f0-42c3-b3a3-b945bb66de88"
   },
   "outputs": [],
   "source": []
  },
  {
   "cell_type": "code",
   "execution_count": null,
   "id": "53188cd9-71b4-4ffb-8e28-6d311f22ad9b",
   "metadata": {
    "id": "53188cd9-71b4-4ffb-8e28-6d311f22ad9b"
   },
   "outputs": [],
   "source": []
  },
  {
   "cell_type": "code",
   "execution_count": null,
   "id": "1b4c4bd1-ade2-4e8e-a95d-44dd3e909a0c",
   "metadata": {
    "id": "1b4c4bd1-ade2-4e8e-a95d-44dd3e909a0c",
    "tags": []
   },
   "outputs": [],
   "source": [
    "cols_to_forget = ['session_id']\n",
    "cards_cols_interest = [x for x in df_teste.columns if x in cols_to_forget]"
   ]
  },
  {
   "cell_type": "code",
   "execution_count": null,
   "id": "78d0112c-9c61-49bf-a334-576bf213793d",
   "metadata": {
    "id": "78d0112c-9c61-49bf-a334-576bf213793d",
    "tags": []
   },
   "outputs": [],
   "source": [
    "df_teste.describe(cards_cols_interest).show()"
   ]
  },
  {
   "cell_type": "code",
   "execution_count": null,
   "id": "cc786f9e-aa3c-43c1-95b7-44ccd7e8f1c0",
   "metadata": {
    "id": "cc786f9e-aa3c-43c1-95b7-44ccd7e8f1c0",
    "tags": []
   },
   "outputs": [],
   "source": [
    "'session_id == 20100308381327090'"
   ]
  },
  {
   "cell_type": "code",
   "execution_count": null,
   "id": "1f64ffb5-2692-440c-a882-58c4f7d2b6ef",
   "metadata": {
    "id": "1f64ffb5-2692-440c-a882-58c4f7d2b6ef"
   },
   "outputs": [],
   "source": [
    "df_aaa = ( df_teste\n",
    "                .withColumn(\"session_id\", F.when(F.col('session_id')=='20100308381327090', 1).otherwise(0))\n",
    "            )\n",
    "df_aaa"
   ]
  },
  {
   "cell_type": "code",
   "execution_count": null,
   "id": "af1f5c82-36e2-4e9a-8665-2b165b29e1c2",
   "metadata": {
    "id": "af1f5c82-36e2-4e9a-8665-2b165b29e1c2",
    "tags": []
   },
   "outputs": [],
   "source": [
    "df_teste.filter(F.expr('session_id == 20090312331414616')).toPandas()"
   ]
  },
  {
   "cell_type": "code",
   "execution_count": null,
   "id": "07b6ff92-41e1-4e13-946c-22464dc235f3",
   "metadata": {
    "id": "07b6ff92-41e1-4e13-946c-22464dc235f3",
    "tags": []
   },
   "outputs": [],
   "source": [
    "df_teste.where('session_id == 20100308381327090').show()"
   ]
  },
  {
   "cell_type": "code",
   "execution_count": null,
   "id": "0a552643-1f39-4c83-9455-13537f6bec83",
   "metadata": {
    "id": "0a552643-1f39-4c83-9455-13537f6bec83",
    "tags": []
   },
   "outputs": [],
   "source": [
    "#df_teste.groupBy('level').count().toPandas().sort(df_teste.col(\"level\"),(\"count\")).show(truncate=False)"
   ]
  },
  {
   "cell_type": "code",
   "execution_count": null,
   "id": "58432c0d-7998-49cd-899a-d1b45ddbae0a",
   "metadata": {
    "id": "58432c0d-7998-49cd-899a-d1b45ddbae0a",
    "tags": []
   },
   "outputs": [],
   "source": [
    "df_teste.groupBy('session_id').count().toPandas()\n",
    "\n",
    "\n",
    "#incialmente pensamento em utilziar o dataset de teste para trabalhar com um dataset menor, foi verificado que no dataset de teste possui apenas 3 session ID unicos enquanto que no dataset de treino tem 11779 session id unicos por isso não podemos utilziar o dataset de teste, teremos de fazer uma reduçao apartir dp dataset de treino"
   ]
  },
  {
   "cell_type": "code",
   "execution_count": null,
   "id": "dd1317f3-548f-4a34-8140-a408798813d8",
   "metadata": {
    "id": "dd1317f3-548f-4a34-8140-a408798813d8",
    "tags": []
   },
   "outputs": [],
   "source": [
    "df_teste.groupBy('text').count().toPandas()"
   ]
  },
  {
   "cell_type": "code",
   "execution_count": null,
   "id": "e056c1df-2fd6-4c81-bf45-fd389e87227a",
   "metadata": {
    "id": "e056c1df-2fd6-4c81-bf45-fd389e87227a",
    "tags": []
   },
   "outputs": [],
   "source": [
    "df_teste.groupBy('event_name').count().toPandas()"
   ]
  },
  {
   "cell_type": "code",
   "execution_count": null,
   "id": "7ddf3e95-4b0c-4307-894b-b26597f21512",
   "metadata": {
    "id": "7ddf3e95-4b0c-4307-894b-b26597f21512",
    "tags": []
   },
   "outputs": [],
   "source": [
    "df_plot = df_teste.groupBy('event_name').count().toPandas()\n",
    "plotBar(df_plot, 'event_name', 'count')\n",
    "plt.title('grupos (event_name)')\n",
    "plt.show()"
   ]
  },
  {
   "cell_type": "code",
   "execution_count": null,
   "id": "e3d26c87-e8e7-4a15-ae30-dc86a182e9ad",
   "metadata": {
    "id": "e3d26c87-e8e7-4a15-ae30-dc86a182e9ad",
    "tags": []
   },
   "outputs": [],
   "source": [
    "df_train[f.Column'session_id'].printSchema()\n",
    "df_train.show(1, vertical=True)\n",
    "train_count = df_train.count()\n",
    "train_count\n",
    "df_train.show(1)"
   ]
  },
  {
   "cell_type": "code",
   "execution_count": null,
   "id": "06ccb268-e8fd-41fc-990d-d9105670bbaf",
   "metadata": {
    "id": "06ccb268-e8fd-41fc-990d-d9105670bbaf",
    "tags": []
   },
   "outputs": [],
   "source": [
    "df_train_labs.show(5)"
   ]
  },
  {
   "cell_type": "code",
   "execution_count": null,
   "id": "bd389815-27f1-45a1-b86b-0b0f0ea060f5",
   "metadata": {
    "id": "bd389815-27f1-45a1-b86b-0b0f0ea060f5",
    "outputId": "481d193f-3417-4871-d0af-6dfee4f44651",
    "tags": []
   },
   "outputs": [
    {
     "name": "stdout",
     "output_type": "stream",
     "text": [
      "\n",
      "Nulls in all columns\n"
     ]
    },
    {
     "ename": "NameError",
     "evalue": "name 'teste_count' is not defined",
     "output_type": "error",
     "traceback": [
      "\u001b[1;31m---------------------------------------------------------------------------\u001b[0m",
      "\u001b[1;31mNameError\u001b[0m                                 Traceback (most recent call last)",
      "Cell \u001b[1;32mIn[45], line 7\u001b[0m\n\u001b[0;32m      5\u001b[0m k \u001b[38;5;241m=\u001b[39m df_teste\u001b[38;5;241m.\u001b[39mselect(cl)\u001b[38;5;241m.\u001b[39mfilter(F\u001b[38;5;241m.\u001b[39mcol(cl)\u001b[38;5;241m.\u001b[39misNull() \u001b[38;5;241m|\u001b[39m F\u001b[38;5;241m.\u001b[39misnan(cl))\u001b[38;5;241m.\u001b[39mcount()\n\u001b[0;32m      6\u001b[0m \u001b[38;5;28;01mif\u001b[39;00m k \u001b[38;5;241m>\u001b[39m \u001b[38;5;241m0\u001b[39m:\n\u001b[1;32m----> 7\u001b[0m     \u001b[38;5;28mprint\u001b[39m(\u001b[38;5;124mf\u001b[39m\u001b[38;5;124m'\u001b[39m\u001b[38;5;124mColumn \u001b[39m\u001b[38;5;132;01m{\u001b[39;00mcl\u001b[38;5;132;01m}\u001b[39;00m\u001b[38;5;124m with \u001b[39m\u001b[38;5;132;01m{\u001b[39;00mk\u001b[38;5;132;01m}\u001b[39;00m\u001b[38;5;124m nulls or NaN, out of \u001b[39m\u001b[38;5;132;01m{\u001b[39;00mteste_count\u001b[38;5;132;01m}\u001b[39;00m\u001b[38;5;124m records (\u001b[39m\u001b[38;5;132;01m{\u001b[39;00mk\u001b[38;5;241m*\u001b[39m\u001b[38;5;241m100\u001b[39m\u001b[38;5;241m/\u001b[39mteste_count\u001b[38;5;132;01m:\u001b[39;00m\u001b[38;5;124m.2f\u001b[39m\u001b[38;5;132;01m}\u001b[39;00m\u001b[38;5;124m%)\u001b[39m\u001b[38;5;124m'\u001b[39m)\n",
      "\u001b[1;31mNameError\u001b[0m: name 'teste_count' is not defined"
     ]
    }
   ],
   "source": [
    "print('\\nNulls in all columns')\n",
    "cols_to_forget = ['Credit Limit']\n",
    "teste_cols_interest = [x for x in df_teste.columns]\n",
    "for cl in teste_cols_interest:\n",
    "    k = df_teste.select(cl).filter(F.col(cl).isNull() | F.isnan(cl)).count()\n",
    "    if k > 0:\n",
    "        print(f'Column {cl} with {k} nulls or NaN, out of {teste_count} records ({k*100/teste_count:.2f}%)')"
   ]
  },
  {
   "cell_type": "code",
   "execution_count": null,
   "id": "2939000d-8cc8-47d6-bb2f-d258e51c1214",
   "metadata": {
    "id": "2939000d-8cc8-47d6-bb2f-d258e51c1214"
   },
   "outputs": [],
   "source": [
    "test"
   ]
  },
  {
   "cell_type": "code",
   "execution_count": null,
   "id": "af54242e-d896-4a4a-b00f-fd5a74ff047c",
   "metadata": {
    "id": "af54242e-d896-4a4a-b00f-fd5a74ff047c"
   },
   "outputs": [],
   "source": [
    "print('\\nNulls in all columns')\n",
    "cols_to_forget = ['fullscreen','hq','music','hover_duration']\n",
    "train_cols_interest = [x for x in df_train.columns if df_train.columns not in cols_to_forget]\n",
    "for cl in train_cols_interest:\n",
    "    k = df_train.select(cl).filter(F.col(cl).isNull() | F.isnan(cl)).count()\n",
    "    if k > 0:\n",
    "        print(f'Column {cl} with {k} nulls or NaN, out of {train_count} records ({k*100/train_count:.2f}%)')"
   ]
  },
  {
   "cell_type": "code",
   "execution_count": null,
   "id": "725c8e2e-b807-432c-b93b-15d9b31cb531",
   "metadata": {
    "id": "725c8e2e-b807-432c-b93b-15d9b31cb531",
    "tags": []
   },
   "outputs": [],
   "source": [
    "df_train.head(4)"
   ]
  },
  {
   "cell_type": "code",
   "execution_count": null,
   "id": "bd59ba34-0254-4fae-b8a1-2c31039e127d",
   "metadata": {
    "id": "bd59ba34-0254-4fae-b8a1-2c31039e127d",
    "tags": []
   },
   "outputs": [],
   "source": [
    "df_train.tail(4)"
   ]
  },
  {
   "cell_type": "code",
   "execution_count": null,
   "id": "a9b3e699-2b89-46ad-9bff-400d15c20009",
   "metadata": {
    "id": "a9b3e699-2b89-46ad-9bff-400d15c20009",
    "tags": []
   },
   "outputs": [],
   "source": [
    "train_cols_interest.remove('fullscreen')\n",
    "train_cols_interest.remove('music')\n",
    "train_cols_interest.remove('hq')\n",
    "train_cols_interest.remove('page')\n",
    "train_cols_interest.remove('hover_duration')\n",
    "train_cols_interest.remove('text')\n",
    "train_cols_interest.remove('text_fqid')"
   ]
  },
  {
   "cell_type": "code",
   "execution_count": null,
   "id": "3b78a372-3cff-4a12-afaf-4dab0bd98677",
   "metadata": {
    "id": "3b78a372-3cff-4a12-afaf-4dab0bd98677",
    "tags": []
   },
   "outputs": [],
   "source": [
    "for cl in train_cols_interest:\n",
    "    k = df_train.select(cl).filter(F.col(cl).isNull() | F.isnan(cl)).count()\n",
    "    if k > 0:\n",
    "        print(f'Column {cl} with {k} nulls or NaN, out of {train_count} records ({k*100/train_count:.2f}%)')"
   ]
  },
  {
   "cell_type": "code",
   "execution_count": null,
   "id": "473ff700-2e41-4355-8a13-beb9cc591cc6",
   "metadata": {
    "id": "473ff700-2e41-4355-8a13-beb9cc591cc6",
    "tags": []
   },
   "outputs": [],
   "source": [
    "teste_cols_interest.remove('fullscreen')\n",
    "teste_cols_interest.remove('music')\n",
    "teste_cols_interest.remove('hq')\n",
    "teste_cols_interest.remove('page')"
   ]
  },
  {
   "cell_type": "code",
   "execution_count": null,
   "id": "9056569c-3410-46c8-8176-0052b75e9253",
   "metadata": {
    "id": "9056569c-3410-46c8-8176-0052b75e9253",
    "tags": []
   },
   "outputs": [],
   "source": [
    "for cl in teste_cols_interest:\n",
    "    k = df_teste.select(cl).filter(F.col(cl).isNull() | F.isnan(cl)).count()\n",
    "    if k > 0:\n",
    "        print(f'Column {cl} with {k} nulls or NaN, out of {teste_count} records ({k*100/teste_count:.2f}%)')"
   ]
  },
  {
   "cell_type": "code",
   "execution_count": null,
   "id": "db9ae982-17c4-4586-b966-79f91aae7b9b",
   "metadata": {
    "id": "db9ae982-17c4-4586-b966-79f91aae7b9b",
    "tags": []
   },
   "outputs": [],
   "source": [
    "print('\\nUniqueness in teste:')\n",
    "for cl in teste_cols_interest:\n",
    "    k = df_teste.select(cl).distinct().count()\n",
    "    print(f\"Columns {cl} with {k} distinct values, out of {teste_count}\"+f\" records ({k*100/teste_count:.2f})%\")"
   ]
  },
  {
   "cell_type": "code",
   "execution_count": null,
   "id": "c3057ed2-3361-4656-ab8f-e7230de4b43d",
   "metadata": {
    "id": "c3057ed2-3361-4656-ab8f-e7230de4b43d",
    "tags": []
   },
   "outputs": [],
   "source": [
    "print('\\nUniqueness in treino:')\n",
    "for cl in train_cols_interest:\n",
    "    k = df_train.select(cl).distinct().count()\n",
    "    print(f\"Columns {cl} with {k} distinct values, out of {train_count}\"+f\" records ({k*100/train_count:.2f})%\")"
   ]
  },
  {
   "cell_type": "code",
   "execution_count": null,
   "id": "9f71d7de-9d93-4352-98a2-f5337a1a2130",
   "metadata": {
    "id": "9f71d7de-9d93-4352-98a2-f5337a1a2130",
    "tags": []
   },
   "outputs": [],
   "source": [
    "#corr_matrix = Correlation.corr(df_teste, df_teste).collect()[0][0].toArray().tolist()"
   ]
  },
  {
   "cell_type": "code",
   "execution_count": null,
   "id": "7de612e2-50b0-4deb-bc4c-860fd8a3399d",
   "metadata": {
    "id": "7de612e2-50b0-4deb-bc4c-860fd8a3399d",
    "tags": []
   },
   "outputs": [],
   "source": [
    "#df_plot = pd.DataFrame(data = corr_matrix, index=df.teste.columns, columns=df.teste.columns)\n",
    "#plotCorrelationMatrix_1(df_plot, annot=True)\n",
    "#plt.title('Correlations among numerical features')\n",
    "#plt.show()"
   ]
  },
  {
   "cell_type": "code",
   "execution_count": null,
   "id": "8503b129-9e0e-4d8d-a1a4-8c8d41c31b33",
   "metadata": {
    "id": "8503b129-9e0e-4d8d-a1a4-8c8d41c31b33",
    "tags": []
   },
   "outputs": [],
   "source": [
    "seed = 5\n",
    "with_replacement = False\n",
    "fraction = 0.2          # reduce to 20%\n",
    "small_df_train = df_train.sample(withReplacement=with_replacement, \n",
    "                                               fraction=fraction, seed=seed)"
   ]
  },
  {
   "cell_type": "code",
   "execution_count": null,
   "id": "94d27f58-deec-4eb9-80e0-b5f5d130a6bb",
   "metadata": {
    "id": "94d27f58-deec-4eb9-80e0-b5f5d130a6bb",
    "tags": []
   },
   "outputs": [],
   "source": [
    "small_df_train.count()"
   ]
  },
  {
   "cell_type": "code",
   "execution_count": null,
   "id": "b4dfb0ec-90d1-48cd-a328-40f0f240da32",
   "metadata": {
    "id": "b4dfb0ec-90d1-48cd-a328-40f0f240da32",
    "tags": []
   },
   "outputs": [],
   "source": [
    "df_train.count()"
   ]
  },
  {
   "cell_type": "code",
   "execution_count": null,
   "id": "8c24465e-fceb-45e7-8616-ce6742b70cc8",
   "metadata": {
    "id": "8c24465e-fceb-45e7-8616-ce6742b70cc8",
    "outputId": "011cafd2-3361-4b79-8ee8-ab9cb10d2ad9",
    "tags": []
   },
   "outputs": [
    {
     "name": "stderr",
     "output_type": "stream",
     "text": [
      "                                                                                \r"
     ]
    }
   ],
   "source": [
    "small_df_train.write.mode(\"overwrite\").parquet(\"small-df_train\")"
   ]
  },
  {
   "cell_type": "code",
   "execution_count": null,
   "id": "4f4afcef-09c4-40ff-a04d-20be892c51a1",
   "metadata": {
    "id": "4f4afcef-09c4-40ff-a04d-20be892c51a1",
    "tags": []
   },
   "outputs": [],
   "source": [
    "df_train_clean = spark.read.parquet('small-df_train')"
   ]
  },
  {
   "cell_type": "code",
   "execution_count": null,
   "id": "5c6c41bd-558b-4d97-af6e-17b537eb89e5",
   "metadata": {
    "id": "5c6c41bd-558b-4d97-af6e-17b537eb89e5",
    "outputId": "01e075f6-af4c-4879-da3a-5c5746d8bc20",
    "tags": []
   },
   "outputs": [
    {
     "name": "stderr",
     "output_type": "stream",
     "text": [
      "ERROR:root:Exception while sending command.                                     \n",
      "Traceback (most recent call last):\n",
      "  File \"/home/kardec/.local/lib/python3.10/site-packages/py4j/clientserver.py\", line 516, in send_command\n",
      "    raise Py4JNetworkError(\"Answer from Java side is empty\")\n",
      "py4j.protocol.Py4JNetworkError: Answer from Java side is empty\n",
      "\n",
      "During handling of the above exception, another exception occurred:\n",
      "\n",
      "Traceback (most recent call last):\n",
      "  File \"/home/kardec/.local/lib/python3.10/site-packages/py4j/java_gateway.py\", line 1038, in send_command\n",
      "    response = connection.send_command(command)\n",
      "  File \"/home/kardec/.local/lib/python3.10/site-packages/py4j/clientserver.py\", line 539, in send_command\n",
      "    raise Py4JNetworkError(\n",
      "py4j.protocol.Py4JNetworkError: Error while sending or receiving\n"
     ]
    },
    {
     "data": {
      "text/html": [
       "<div>\n",
       "<style scoped>\n",
       "    .dataframe tbody tr th:only-of-type {\n",
       "        vertical-align: middle;\n",
       "    }\n",
       "\n",
       "    .dataframe tbody tr th {\n",
       "        vertical-align: top;\n",
       "    }\n",
       "\n",
       "    .dataframe thead th {\n",
       "        text-align: right;\n",
       "    }\n",
       "</style>\n",
       "<table border=\"1\" class=\"dataframe\">\n",
       "  <thead>\n",
       "    <tr style=\"text-align: right;\">\n",
       "      <th></th>\n",
       "      <th>session_id</th>\n",
       "      <th>index</th>\n",
       "      <th>elapsed_time</th>\n",
       "      <th>event_name</th>\n",
       "      <th>name</th>\n",
       "      <th>level</th>\n",
       "      <th>page</th>\n",
       "      <th>room_coor_x</th>\n",
       "      <th>room_coor_y</th>\n",
       "      <th>screen_coor_x</th>\n",
       "      <th>screen_coor_y</th>\n",
       "      <th>hover_duration</th>\n",
       "      <th>text</th>\n",
       "      <th>fqid</th>\n",
       "      <th>room_fqid</th>\n",
       "      <th>text_fqid</th>\n",
       "      <th>fullscreen</th>\n",
       "      <th>hq</th>\n",
       "      <th>music</th>\n",
       "      <th>level_group</th>\n",
       "    </tr>\n",
       "  </thead>\n",
       "  <tbody>\n",
       "    <tr>\n",
       "      <th>0</th>\n",
       "      <td>21050410434308160</td>\n",
       "      <td>968</td>\n",
       "      <td>1726999</td>\n",
       "      <td>person_click</td>\n",
       "      <td>basic</td>\n",
       "      <td>20</td>\n",
       "      <td>NaN</td>\n",
       "      <td>-381.847136</td>\n",
       "      <td>110.712177</td>\n",
       "      <td>254.0</td>\n",
       "      <td>245.0</td>\n",
       "      <td>NaN</td>\n",
       "      <td>It has something to do with ecology.</td>\n",
       "      <td>worker</td>\n",
       "      <td>tunic.library.frontdesk</td>\n",
       "      <td>tunic.library.frontdesk.worker.flag</td>\n",
       "      <td>None</td>\n",
       "      <td>None</td>\n",
       "      <td>None</td>\n",
       "      <td>13-22</td>\n",
       "    </tr>\n",
       "    <tr>\n",
       "      <th>1</th>\n",
       "      <td>21050410434308160</td>\n",
       "      <td>978</td>\n",
       "      <td>1735199</td>\n",
       "      <td>navigate_click</td>\n",
       "      <td>undefined</td>\n",
       "      <td>20</td>\n",
       "      <td>NaN</td>\n",
       "      <td>586.732639</td>\n",
       "      <td>227.529868</td>\n",
       "      <td>762.0</td>\n",
       "      <td>155.0</td>\n",
       "      <td>NaN</td>\n",
       "      <td>None</td>\n",
       "      <td>tomicrofiche</td>\n",
       "      <td>tunic.library.frontdesk</td>\n",
       "      <td>None</td>\n",
       "      <td>None</td>\n",
       "      <td>None</td>\n",
       "      <td>None</td>\n",
       "      <td>13-22</td>\n",
       "    </tr>\n",
       "    <tr>\n",
       "      <th>2</th>\n",
       "      <td>21050410434308160</td>\n",
       "      <td>985</td>\n",
       "      <td>1754449</td>\n",
       "      <td>object_click</td>\n",
       "      <td>basic</td>\n",
       "      <td>20</td>\n",
       "      <td>NaN</td>\n",
       "      <td>32.837203</td>\n",
       "      <td>-229.000000</td>\n",
       "      <td>480.0</td>\n",
       "      <td>559.0</td>\n",
       "      <td>NaN</td>\n",
       "      <td>None</td>\n",
       "      <td>reader_flag.paper1.next</td>\n",
       "      <td>tunic.library.microfiche</td>\n",
       "      <td>None</td>\n",
       "      <td>None</td>\n",
       "      <td>None</td>\n",
       "      <td>None</td>\n",
       "      <td>13-22</td>\n",
       "    </tr>\n",
       "    <tr>\n",
       "      <th>3</th>\n",
       "      <td>21050410434308160</td>\n",
       "      <td>986</td>\n",
       "      <td>1758732</td>\n",
       "      <td>object_hover</td>\n",
       "      <td>undefined</td>\n",
       "      <td>20</td>\n",
       "      <td>NaN</td>\n",
       "      <td>NaN</td>\n",
       "      <td>NaN</td>\n",
       "      <td>NaN</td>\n",
       "      <td>NaN</td>\n",
       "      <td>10699.0</td>\n",
       "      <td>None</td>\n",
       "      <td>reader_flag.paper0.next</td>\n",
       "      <td>tunic.library.microfiche</td>\n",
       "      <td>None</td>\n",
       "      <td>None</td>\n",
       "      <td>None</td>\n",
       "      <td>None</td>\n",
       "      <td>13-22</td>\n",
       "    </tr>\n",
       "    <tr>\n",
       "      <th>4</th>\n",
       "      <td>21050410434308160</td>\n",
       "      <td>987</td>\n",
       "      <td>1759332</td>\n",
       "      <td>object_hover</td>\n",
       "      <td>undefined</td>\n",
       "      <td>20</td>\n",
       "      <td>NaN</td>\n",
       "      <td>NaN</td>\n",
       "      <td>NaN</td>\n",
       "      <td>NaN</td>\n",
       "      <td>NaN</td>\n",
       "      <td>566.0</td>\n",
       "      <td>None</td>\n",
       "      <td>reader_flag.paper2.bingo</td>\n",
       "      <td>tunic.library.microfiche</td>\n",
       "      <td>None</td>\n",
       "      <td>None</td>\n",
       "      <td>None</td>\n",
       "      <td>None</td>\n",
       "      <td>13-22</td>\n",
       "    </tr>\n",
       "    <tr>\n",
       "      <th>...</th>\n",
       "      <td>...</td>\n",
       "      <td>...</td>\n",
       "      <td>...</td>\n",
       "      <td>...</td>\n",
       "      <td>...</td>\n",
       "      <td>...</td>\n",
       "      <td>...</td>\n",
       "      <td>...</td>\n",
       "      <td>...</td>\n",
       "      <td>...</td>\n",
       "      <td>...</td>\n",
       "      <td>...</td>\n",
       "      <td>...</td>\n",
       "      <td>...</td>\n",
       "      <td>...</td>\n",
       "      <td>...</td>\n",
       "      <td>...</td>\n",
       "      <td>...</td>\n",
       "      <td>...</td>\n",
       "      <td>...</td>\n",
       "    </tr>\n",
       "    <tr>\n",
       "      <th>2634645</th>\n",
       "      <td>22100221145014656</td>\n",
       "      <td>1570</td>\n",
       "      <td>5431389</td>\n",
       "      <td>object_click</td>\n",
       "      <td>basic</td>\n",
       "      <td>21</td>\n",
       "      <td>NaN</td>\n",
       "      <td>-257.274472</td>\n",
       "      <td>45.755580</td>\n",
       "      <td>107.0</td>\n",
       "      <td>286.0</td>\n",
       "      <td>NaN</td>\n",
       "      <td>None</td>\n",
       "      <td>journals_flag.hub.topics</td>\n",
       "      <td>tunic.historicalsociety.stacks</td>\n",
       "      <td>None</td>\n",
       "      <td>None</td>\n",
       "      <td>None</td>\n",
       "      <td>None</td>\n",
       "      <td>13-22</td>\n",
       "    </tr>\n",
       "    <tr>\n",
       "      <th>2634646</th>\n",
       "      <td>22100221145014656</td>\n",
       "      <td>1584</td>\n",
       "      <td>5445520</td>\n",
       "      <td>object_hover</td>\n",
       "      <td>undefined</td>\n",
       "      <td>21</td>\n",
       "      <td>NaN</td>\n",
       "      <td>NaN</td>\n",
       "      <td>NaN</td>\n",
       "      <td>NaN</td>\n",
       "      <td>NaN</td>\n",
       "      <td>404.0</td>\n",
       "      <td>None</td>\n",
       "      <td>journals_flag.pic_1.next</td>\n",
       "      <td>tunic.historicalsociety.stacks</td>\n",
       "      <td>None</td>\n",
       "      <td>None</td>\n",
       "      <td>None</td>\n",
       "      <td>None</td>\n",
       "      <td>13-22</td>\n",
       "    </tr>\n",
       "    <tr>\n",
       "      <th>2634647</th>\n",
       "      <td>22100221145014656</td>\n",
       "      <td>1586</td>\n",
       "      <td>5447903</td>\n",
       "      <td>object_click</td>\n",
       "      <td>basic</td>\n",
       "      <td>21</td>\n",
       "      <td>NaN</td>\n",
       "      <td>447.725528</td>\n",
       "      <td>-72.244420</td>\n",
       "      <td>812.0</td>\n",
       "      <td>404.0</td>\n",
       "      <td>NaN</td>\n",
       "      <td>None</td>\n",
       "      <td>journals_flag.pic_2.next</td>\n",
       "      <td>tunic.historicalsociety.stacks</td>\n",
       "      <td>None</td>\n",
       "      <td>None</td>\n",
       "      <td>None</td>\n",
       "      <td>None</td>\n",
       "      <td>13-22</td>\n",
       "    </tr>\n",
       "    <tr>\n",
       "      <th>2634648</th>\n",
       "      <td>22100221145014656</td>\n",
       "      <td>1590</td>\n",
       "      <td>5470870</td>\n",
       "      <td>navigate_click</td>\n",
       "      <td>undefined</td>\n",
       "      <td>22</td>\n",
       "      <td>NaN</td>\n",
       "      <td>10.725528</td>\n",
       "      <td>-282.244420</td>\n",
       "      <td>375.0</td>\n",
       "      <td>614.0</td>\n",
       "      <td>NaN</td>\n",
       "      <td>None</td>\n",
       "      <td>toentry</td>\n",
       "      <td>tunic.historicalsociety.stacks</td>\n",
       "      <td>None</td>\n",
       "      <td>None</td>\n",
       "      <td>None</td>\n",
       "      <td>None</td>\n",
       "      <td>13-22</td>\n",
       "    </tr>\n",
       "    <tr>\n",
       "      <th>2634649</th>\n",
       "      <td>22100221145014656</td>\n",
       "      <td>1600</td>\n",
       "      <td>5483231</td>\n",
       "      <td>navigate_click</td>\n",
       "      <td>undefined</td>\n",
       "      <td>22</td>\n",
       "      <td>NaN</td>\n",
       "      <td>343.887291</td>\n",
       "      <td>36.701026</td>\n",
       "      <td>483.0</td>\n",
       "      <td>273.0</td>\n",
       "      <td>NaN</td>\n",
       "      <td>None</td>\n",
       "      <td>None</td>\n",
       "      <td>tunic.capitol_2.hall</td>\n",
       "      <td>None</td>\n",
       "      <td>None</td>\n",
       "      <td>None</td>\n",
       "      <td>None</td>\n",
       "      <td>13-22</td>\n",
       "    </tr>\n",
       "  </tbody>\n",
       "</table>\n",
       "<p>2634650 rows × 20 columns</p>\n",
       "</div>"
      ],
      "text/plain": [
       "                session_id  index  elapsed_time      event_name       name  \\\n",
       "0        21050410434308160    968       1726999    person_click      basic   \n",
       "1        21050410434308160    978       1735199  navigate_click  undefined   \n",
       "2        21050410434308160    985       1754449    object_click      basic   \n",
       "3        21050410434308160    986       1758732    object_hover  undefined   \n",
       "4        21050410434308160    987       1759332    object_hover  undefined   \n",
       "...                    ...    ...           ...             ...        ...   \n",
       "2634645  22100221145014656   1570       5431389    object_click      basic   \n",
       "2634646  22100221145014656   1584       5445520    object_hover  undefined   \n",
       "2634647  22100221145014656   1586       5447903    object_click      basic   \n",
       "2634648  22100221145014656   1590       5470870  navigate_click  undefined   \n",
       "2634649  22100221145014656   1600       5483231  navigate_click  undefined   \n",
       "\n",
       "         level  page  room_coor_x  room_coor_y  screen_coor_x  screen_coor_y  \\\n",
       "0           20   NaN  -381.847136   110.712177          254.0          245.0   \n",
       "1           20   NaN   586.732639   227.529868          762.0          155.0   \n",
       "2           20   NaN    32.837203  -229.000000          480.0          559.0   \n",
       "3           20   NaN          NaN          NaN            NaN            NaN   \n",
       "4           20   NaN          NaN          NaN            NaN            NaN   \n",
       "...        ...   ...          ...          ...            ...            ...   \n",
       "2634645     21   NaN  -257.274472    45.755580          107.0          286.0   \n",
       "2634646     21   NaN          NaN          NaN            NaN            NaN   \n",
       "2634647     21   NaN   447.725528   -72.244420          812.0          404.0   \n",
       "2634648     22   NaN    10.725528  -282.244420          375.0          614.0   \n",
       "2634649     22   NaN   343.887291    36.701026          483.0          273.0   \n",
       "\n",
       "         hover_duration                                  text  \\\n",
       "0                   NaN  It has something to do with ecology.   \n",
       "1                   NaN                                  None   \n",
       "2                   NaN                                  None   \n",
       "3               10699.0                                  None   \n",
       "4                 566.0                                  None   \n",
       "...                 ...                                   ...   \n",
       "2634645             NaN                                  None   \n",
       "2634646           404.0                                  None   \n",
       "2634647             NaN                                  None   \n",
       "2634648             NaN                                  None   \n",
       "2634649             NaN                                  None   \n",
       "\n",
       "                             fqid                       room_fqid  \\\n",
       "0                          worker         tunic.library.frontdesk   \n",
       "1                    tomicrofiche         tunic.library.frontdesk   \n",
       "2         reader_flag.paper1.next        tunic.library.microfiche   \n",
       "3         reader_flag.paper0.next        tunic.library.microfiche   \n",
       "4        reader_flag.paper2.bingo        tunic.library.microfiche   \n",
       "...                           ...                             ...   \n",
       "2634645  journals_flag.hub.topics  tunic.historicalsociety.stacks   \n",
       "2634646  journals_flag.pic_1.next  tunic.historicalsociety.stacks   \n",
       "2634647  journals_flag.pic_2.next  tunic.historicalsociety.stacks   \n",
       "2634648                   toentry  tunic.historicalsociety.stacks   \n",
       "2634649                      None            tunic.capitol_2.hall   \n",
       "\n",
       "                                   text_fqid fullscreen    hq music  \\\n",
       "0        tunic.library.frontdesk.worker.flag       None  None  None   \n",
       "1                                       None       None  None  None   \n",
       "2                                       None       None  None  None   \n",
       "3                                       None       None  None  None   \n",
       "4                                       None       None  None  None   \n",
       "...                                      ...        ...   ...   ...   \n",
       "2634645                                 None       None  None  None   \n",
       "2634646                                 None       None  None  None   \n",
       "2634647                                 None       None  None  None   \n",
       "2634648                                 None       None  None  None   \n",
       "2634649                                 None       None  None  None   \n",
       "\n",
       "        level_group  \n",
       "0             13-22  \n",
       "1             13-22  \n",
       "2             13-22  \n",
       "3             13-22  \n",
       "4             13-22  \n",
       "...             ...  \n",
       "2634645       13-22  \n",
       "2634646       13-22  \n",
       "2634647       13-22  \n",
       "2634648       13-22  \n",
       "2634649       13-22  \n",
       "\n",
       "[2634650 rows x 20 columns]"
      ]
     },
     "execution_count": 33,
     "metadata": {},
     "output_type": "execute_result"
    }
   ],
   "source": [
    "df_train_clean.toPandas()"
   ]
  },
  {
   "cell_type": "code",
   "execution_count": null,
   "id": "36f67664-85f0-4803-8b22-deb5b80caae5",
   "metadata": {
    "id": "36f67664-85f0-4803-8b22-deb5b80caae5",
    "tags": []
   },
   "outputs": [],
   "source": []
  },
  {
   "cell_type": "code",
   "execution_count": null,
   "id": "37a68eae-1d99-43b5-a11e-b5228a127d81",
   "metadata": {
    "id": "37a68eae-1d99-43b5-a11e-b5228a127d81",
    "tags": []
   },
   "outputs": [],
   "source": []
  },
  {
   "cell_type": "code",
   "execution_count": null,
   "id": "da4e1c66-8219-4188-926f-7f35960f8ee2",
   "metadata": {
    "id": "da4e1c66-8219-4188-926f-7f35960f8ee2",
    "tags": []
   },
   "outputs": [],
   "source": []
  },
  {
   "cell_type": "code",
   "execution_count": null,
   "id": "beb57332-8659-4850-85bf-bb791f1c99da",
   "metadata": {
    "id": "beb57332-8659-4850-85bf-bb791f1c99da",
    "tags": []
   },
   "outputs": [],
   "source": []
  },
  {
   "cell_type": "code",
   "execution_count": null,
   "id": "877f6417-53b9-4c24-a387-70cc7e8c2a52",
   "metadata": {
    "id": "877f6417-53b9-4c24-a387-70cc7e8c2a52",
    "tags": []
   },
   "outputs": [],
   "source": []
  },
  {
   "cell_type": "code",
   "execution_count": null,
   "id": "4c32fc3a-569d-4934-b21d-bf8b9f1cfa1d",
   "metadata": {
    "id": "4c32fc3a-569d-4934-b21d-bf8b9f1cfa1d",
    "tags": []
   },
   "outputs": [],
   "source": []
  },
  {
   "cell_type": "code",
   "execution_count": null,
   "id": "c88fb94f-e1e2-43d7-85ff-63920e5b6698",
   "metadata": {
    "id": "c88fb94f-e1e2-43d7-85ff-63920e5b6698",
    "tags": []
   },
   "outputs": [],
   "source": []
  },
  {
   "cell_type": "code",
   "execution_count": null,
   "id": "8c029127-1ba5-436c-8dd2-4d9461c94c52",
   "metadata": {
    "id": "8c029127-1ba5-436c-8dd2-4d9461c94c52",
    "tags": []
   },
   "outputs": [],
   "source": [
    "df_train_on = df_train.select(train_cols_interest)\n",
    "df_teste_on = df_teste.select(teste_cols_interest)"
   ]
  },
  {
   "cell_type": "code",
   "execution_count": null,
   "id": "b5091ba0-ff90-4ee7-85ce-9e27cd79e0e8",
   "metadata": {
    "id": "b5091ba0-ff90-4ee7-85ce-9e27cd79e0e8",
    "outputId": "08118d28-f8bb-46a5-e4a3-9c5226345aab",
    "tags": []
   },
   "outputs": [
    {
     "name": "stdout",
     "output_type": "stream",
     "text": [
      "root\n",
      " |-- session_id: long (nullable = true)\n",
      " |-- index: integer (nullable = true)\n",
      " |-- elapsed_time: integer (nullable = true)\n",
      " |-- event_name: string (nullable = true)\n",
      " |-- name: string (nullable = true)\n",
      " |-- level: integer (nullable = true)\n",
      " |-- room_coor_x: double (nullable = true)\n",
      " |-- room_coor_y: double (nullable = true)\n",
      " |-- screen_coor_x: double (nullable = true)\n",
      " |-- screen_coor_y: double (nullable = true)\n",
      " |-- fqid: string (nullable = true)\n",
      " |-- room_fqid: string (nullable = true)\n",
      " |-- level_group: string (nullable = true)\n",
      "\n",
      "root\n",
      " |-- session_id: long (nullable = true)\n",
      " |-- index: integer (nullable = true)\n",
      " |-- elapsed_time: integer (nullable = true)\n",
      " |-- event_name: string (nullable = true)\n",
      " |-- name: string (nullable = true)\n",
      " |-- level: integer (nullable = true)\n",
      " |-- room_coor_x: double (nullable = true)\n",
      " |-- room_coor_y: double (nullable = true)\n",
      " |-- screen_coor_x: double (nullable = true)\n",
      " |-- screen_coor_y: double (nullable = true)\n",
      " |-- hover_duration: double (nullable = true)\n",
      " |-- text: string (nullable = true)\n",
      " |-- fqid: string (nullable = true)\n",
      " |-- room_fqid: string (nullable = true)\n",
      " |-- text_fqid: string (nullable = true)\n",
      " |-- level_group: string (nullable = true)\n",
      " |-- session_level: string (nullable = true)\n",
      "\n"
     ]
    }
   ],
   "source": [
    "df_train_on.printSchema()\n",
    "df_teste_on.printSchema()"
   ]
  }
 ],
 "metadata": {
  "colab": {
   "provenance": []
  },
  "kernelspec": {
   "display_name": "Python 3 (ipykernel)",
   "language": "python",
   "name": "python3"
  },
  "language_info": {
   "codemirror_mode": {
    "name": "ipython",
    "version": 3
   },
   "file_extension": ".py",
   "mimetype": "text/x-python",
   "name": "python",
   "nbconvert_exporter": "python",
   "pygments_lexer": "ipython3",
   "version": "3.10.10"
  },
  "toc-showcode": true
 },
 "nbformat": 4,
 "nbformat_minor": 5
}
