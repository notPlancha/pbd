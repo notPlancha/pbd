{
 "cells": [
  {
   "cell_type": "markdown",
   "id": "d8f69b38-9b79-4911-8694-b5ca7f3609e6",
   "metadata": {},
   "source": [
    "# Processo"
   ]
  }
 ],
 "metadata": {
  "kernelspec": {
   "display_name": "PySpark (python)",
   "language": "python",
   "name": "pyspark_kernel"
  },
  "language_info": {
   "file_extension": ".py",
   "help_links": [
    {
     "text": "MetaKernel Magics",
     "url": "https://metakernel.readthedocs.io/en/latest/source/README.html"
    }
   ],
   "mimetype": "text/x-python",
   "name": "python"
  }
 },
 "nbformat": 4,
 "nbformat_minor": 5
}
