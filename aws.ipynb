{
 "cells": [
  {
   "cell_type": "markdown",
   "id": "7eff2dac",
   "metadata": {},
   "source": [
    "# Importações"
   ]
  },
  {
   "cell_type": "code",
   "execution_count": 40,
   "id": "e32784e4-bd4f-4d2a-8baf-a1459a7d712a",
   "metadata": {
    "execution": {
     "iopub.execute_input": "2023-04-08T21:46:56.411152Z",
     "iopub.status.busy": "2023-04-08T21:46:56.410843Z",
     "iopub.status.idle": "2023-04-08T21:47:27.096192Z",
     "shell.execute_reply": "2023-04-08T21:47:27.095540Z",
     "shell.execute_reply.started": "2023-04-08T21:46:56.411123Z"
    }
   },
   "outputs": [
    {
     "data": {
      "application/vnd.jupyter.widget-view+json": {
       "model_id": "c29adad9d1744a0e9f615021b472b90d",
       "version_major": 2,
       "version_minor": 0
      },
      "text/plain": [
       "VBox()"
      ]
     },
     "metadata": {},
     "output_type": "display_data"
    },
    {
     "data": {
      "application/vnd.jupyter.widget-view+json": {
       "model_id": "",
       "version_major": 2,
       "version_minor": 0
      },
      "text/plain": [
       "FloatProgress(value=0.0, bar_style='info', description='Progress:', layout=Layout(height='25px', width='50%'),…"
      ]
     },
     "metadata": {},
     "output_type": "display_data"
    }
   ],
   "source": [
    "import os"
   ]
  },
  {
   "cell_type": "code",
   "execution_count": 41,
   "id": "d9844e76-bae7-41e2-a9b6-356fd065886d",
   "metadata": {
    "execution": {
     "iopub.execute_input": "2023-04-08T21:47:27.097556Z",
     "iopub.status.busy": "2023-04-08T21:47:27.097291Z",
     "iopub.status.idle": "2023-04-08T21:47:27.139420Z",
     "shell.execute_reply": "2023-04-08T21:47:27.138787Z",
     "shell.execute_reply.started": "2023-04-08T21:47:27.097531Z"
    }
   },
   "outputs": [
    {
     "data": {
      "application/vnd.jupyter.widget-view+json": {
       "model_id": "70b477d8fef548c2ada6a3c196d8107c",
       "version_major": 2,
       "version_minor": 0
      },
      "text/plain": [
       "VBox()"
      ]
     },
     "metadata": {},
     "output_type": "display_data"
    },
    {
     "data": {
      "application/vnd.jupyter.widget-view+json": {
       "model_id": "",
       "version_major": 2,
       "version_minor": 0
      },
      "text/plain": [
       "FloatProgress(value=0.0, bar_style='info', description='Progress:', layout=Layout(height='25px', width='50%'),…"
      ]
     },
     "metadata": {},
     "output_type": "display_data"
    }
   ],
   "source": [
    "os.environ[\"PYARROW_IGNORE_TIMEZONE\"] = \"1\""
   ]
  },
  {
   "cell_type": "code",
   "execution_count": 42,
   "id": "ee7cc15c-49b8-4018-a149-61636352597f",
   "metadata": {
    "execution": {
     "iopub.execute_input": "2023-04-08T21:47:27.140996Z",
     "iopub.status.busy": "2023-04-08T21:47:27.140777Z",
     "iopub.status.idle": "2023-04-08T21:47:27.181338Z",
     "shell.execute_reply": "2023-04-08T21:47:27.180643Z",
     "shell.execute_reply.started": "2023-04-08T21:47:27.140974Z"
    }
   },
   "outputs": [
    {
     "data": {
      "application/vnd.jupyter.widget-view+json": {
       "model_id": "c9452ab58243431c8fe9ea417bab6bfa",
       "version_major": 2,
       "version_minor": 0
      },
      "text/plain": [
       "VBox()"
      ]
     },
     "metadata": {},
     "output_type": "display_data"
    },
    {
     "data": {
      "application/vnd.jupyter.widget-view+json": {
       "model_id": "",
       "version_major": 2,
       "version_minor": 0
      },
      "text/plain": [
       "FloatProgress(value=0.0, bar_style='info', description='Progress:', layout=Layout(height='25px', width='50%'),…"
      ]
     },
     "metadata": {},
     "output_type": "display_data"
    }
   ],
   "source": [
    "import pyspark"
   ]
  },
  {
   "cell_type": "code",
   "execution_count": 43,
   "id": "1038c0e4-e632-44ee-9abf-e1c1de8ec1f1",
   "metadata": {
    "execution": {
     "iopub.execute_input": "2023-04-08T21:47:27.182735Z",
     "iopub.status.busy": "2023-04-08T21:47:27.182484Z",
     "iopub.status.idle": "2023-04-08T21:47:27.222966Z",
     "shell.execute_reply": "2023-04-08T21:47:27.222300Z",
     "shell.execute_reply.started": "2023-04-08T21:47:27.182713Z"
    }
   },
   "outputs": [
    {
     "data": {
      "application/vnd.jupyter.widget-view+json": {
       "model_id": "77cd77e57c534878bf911cfa70f6481a",
       "version_major": 2,
       "version_minor": 0
      },
      "text/plain": [
       "VBox()"
      ]
     },
     "metadata": {},
     "output_type": "display_data"
    },
    {
     "data": {
      "application/vnd.jupyter.widget-view+json": {
       "model_id": "",
       "version_major": 2,
       "version_minor": 0
      },
      "text/plain": [
       "FloatProgress(value=0.0, bar_style='info', description='Progress:', layout=Layout(height='25px', width='50%'),…"
      ]
     },
     "metadata": {},
     "output_type": "display_data"
    }
   ],
   "source": [
    "from pyspark.sql.functions import *"
   ]
  },
  {
   "cell_type": "code",
   "execution_count": 44,
   "id": "b7202e9a-4f9b-4f3e-abfa-bb073196c479",
   "metadata": {
    "execution": {
     "iopub.execute_input": "2023-04-08T21:47:27.224103Z",
     "iopub.status.busy": "2023-04-08T21:47:27.223880Z",
     "iopub.status.idle": "2023-04-08T21:47:27.262090Z",
     "shell.execute_reply": "2023-04-08T21:47:27.261453Z",
     "shell.execute_reply.started": "2023-04-08T21:47:27.224081Z"
    }
   },
   "outputs": [
    {
     "data": {
      "application/vnd.jupyter.widget-view+json": {
       "model_id": "79df89d3d6ce4fd5aa8fe55d90eecc00",
       "version_major": 2,
       "version_minor": 0
      },
      "text/plain": [
       "VBox()"
      ]
     },
     "metadata": {},
     "output_type": "display_data"
    },
    {
     "data": {
      "application/vnd.jupyter.widget-view+json": {
       "model_id": "",
       "version_major": 2,
       "version_minor": 0
      },
      "text/plain": [
       "FloatProgress(value=0.0, bar_style='info', description='Progress:', layout=Layout(height='25px', width='50%'),…"
      ]
     },
     "metadata": {},
     "output_type": "display_data"
    }
   ],
   "source": [
    "from pyspark.sql import Window"
   ]
  },
  {
   "cell_type": "code",
   "execution_count": 45,
   "id": "220b10de-da4e-4b2c-b22e-bd706ace6e10",
   "metadata": {
    "execution": {
     "iopub.execute_input": "2023-04-08T21:47:27.263438Z",
     "iopub.status.busy": "2023-04-08T21:47:27.263131Z",
     "iopub.status.idle": "2023-04-08T21:47:27.303433Z",
     "shell.execute_reply": "2023-04-08T21:47:27.302788Z",
     "shell.execute_reply.started": "2023-04-08T21:47:27.263406Z"
    }
   },
   "outputs": [
    {
     "data": {
      "application/vnd.jupyter.widget-view+json": {
       "model_id": "c4d91a7f7f4d4a64a74a19d9bf94e3e3",
       "version_major": 2,
       "version_minor": 0
      },
      "text/plain": [
       "VBox()"
      ]
     },
     "metadata": {},
     "output_type": "display_data"
    },
    {
     "data": {
      "application/vnd.jupyter.widget-view+json": {
       "model_id": "",
       "version_major": 2,
       "version_minor": 0
      },
      "text/plain": [
       "FloatProgress(value=0.0, bar_style='info', description='Progress:', layout=Layout(height='25px', width='50%'),…"
      ]
     },
     "metadata": {},
     "output_type": "display_data"
    }
   ],
   "source": [
    "#import pyspark.pandas as ps"
   ]
  },
  {
   "cell_type": "code",
   "execution_count": 46,
   "id": "a3e7555a-5ec2-4f90-98b2-6bae25312b5b",
   "metadata": {
    "execution": {
     "iopub.execute_input": "2023-04-08T21:47:27.304537Z",
     "iopub.status.busy": "2023-04-08T21:47:27.304329Z",
     "iopub.status.idle": "2023-04-08T21:47:27.345630Z",
     "shell.execute_reply": "2023-04-08T21:47:27.344682Z",
     "shell.execute_reply.started": "2023-04-08T21:47:27.304517Z"
    }
   },
   "outputs": [
    {
     "data": {
      "application/vnd.jupyter.widget-view+json": {
       "model_id": "97d5268bd3c548c58bd5922714d92598",
       "version_major": 2,
       "version_minor": 0
      },
      "text/plain": [
       "VBox()"
      ]
     },
     "metadata": {},
     "output_type": "display_data"
    },
    {
     "data": {
      "application/vnd.jupyter.widget-view+json": {
       "model_id": "",
       "version_major": 2,
       "version_minor": 0
      },
      "text/plain": [
       "FloatProgress(value=0.0, bar_style='info', description='Progress:', layout=Layout(height='25px', width='50%'),…"
      ]
     },
     "metadata": {},
     "output_type": "display_data"
    }
   ],
   "source": [
    "#from IPython import display"
   ]
  },
  {
   "cell_type": "code",
   "execution_count": 47,
   "id": "b3a70ba6-6dbb-49e5-ab3f-75c1526bdcf2",
   "metadata": {
    "execution": {
     "iopub.execute_input": "2023-04-08T21:47:27.349608Z",
     "iopub.status.busy": "2023-04-08T21:47:27.349065Z",
     "iopub.status.idle": "2023-04-08T21:47:27.401594Z",
     "shell.execute_reply": "2023-04-08T21:47:27.400801Z",
     "shell.execute_reply.started": "2023-04-08T21:47:27.349570Z"
    }
   },
   "outputs": [
    {
     "data": {
      "application/vnd.jupyter.widget-view+json": {
       "model_id": "0bc04a23ca47467fb3f7678838f4b516",
       "version_major": 2,
       "version_minor": 0
      },
      "text/plain": [
       "VBox()"
      ]
     },
     "metadata": {},
     "output_type": "display_data"
    },
    {
     "data": {
      "application/vnd.jupyter.widget-view+json": {
       "model_id": "",
       "version_major": 2,
       "version_minor": 0
      },
      "text/plain": [
       "FloatProgress(value=0.0, bar_style='info', description='Progress:', layout=Layout(height='25px', width='50%'),…"
      ]
     },
     "metadata": {},
     "output_type": "display_data"
    }
   ],
   "source": [
    "import numpy as np"
   ]
  },
  {
   "cell_type": "code",
   "execution_count": 48,
   "id": "c48f3bfe-d176-48c8-9bd4-a0c825c2f484",
   "metadata": {
    "execution": {
     "iopub.execute_input": "2023-04-08T21:47:27.403943Z",
     "iopub.status.busy": "2023-04-08T21:47:27.403631Z",
     "iopub.status.idle": "2023-04-08T21:47:30.681918Z",
     "shell.execute_reply": "2023-04-08T21:47:30.681176Z",
     "shell.execute_reply.started": "2023-04-08T21:47:27.403909Z"
    }
   },
   "outputs": [
    {
     "data": {
      "application/vnd.jupyter.widget-view+json": {
       "model_id": "33c35d534c5244fbbd1b7f9b753c2947",
       "version_major": 2,
       "version_minor": 0
      },
      "text/plain": [
       "VBox()"
      ]
     },
     "metadata": {},
     "output_type": "display_data"
    },
    {
     "data": {
      "application/vnd.jupyter.widget-view+json": {
       "model_id": "",
       "version_major": 2,
       "version_minor": 0
      },
      "text/plain": [
       "FloatProgress(value=0.0, bar_style='info', description='Progress:', layout=Layout(height='25px', width='50%'),…"
      ]
     },
     "metadata": {},
     "output_type": "display_data"
    }
   ],
   "source": [
    "import seaborn as sns"
   ]
  },
  {
   "cell_type": "code",
   "execution_count": 49,
   "id": "ef57ebad-5a93-422f-ad87-27a60f186a69",
   "metadata": {
    "execution": {
     "iopub.execute_input": "2023-04-08T21:47:30.683108Z",
     "iopub.status.busy": "2023-04-08T21:47:30.682889Z",
     "iopub.status.idle": "2023-04-08T21:47:31.431079Z",
     "shell.execute_reply": "2023-04-08T21:47:31.430381Z",
     "shell.execute_reply.started": "2023-04-08T21:47:30.683086Z"
    }
   },
   "outputs": [
    {
     "data": {
      "application/vnd.jupyter.widget-view+json": {
       "model_id": "88c8669bd36a466aa40d0d2e47141f6b",
       "version_major": 2,
       "version_minor": 0
      },
      "text/plain": [
       "VBox()"
      ]
     },
     "metadata": {},
     "output_type": "display_data"
    },
    {
     "data": {
      "application/vnd.jupyter.widget-view+json": {
       "model_id": "",
       "version_major": 2,
       "version_minor": 0
      },
      "text/plain": [
       "FloatProgress(value=0.0, bar_style='info', description='Progress:', layout=Layout(height='25px', width='50%'),…"
      ]
     },
     "metadata": {},
     "output_type": "display_data"
    }
   ],
   "source": [
    "from pyspark.ml import Pipeline, Transformer"
   ]
  },
  {
   "cell_type": "code",
   "execution_count": 50,
   "id": "b06892bf-4824-4aa0-b3d9-73e7f589c8b0",
   "metadata": {
    "execution": {
     "iopub.execute_input": "2023-04-08T21:47:31.432177Z",
     "iopub.status.busy": "2023-04-08T21:47:31.431961Z",
     "iopub.status.idle": "2023-04-08T21:47:31.470744Z",
     "shell.execute_reply": "2023-04-08T21:47:31.470077Z",
     "shell.execute_reply.started": "2023-04-08T21:47:31.432155Z"
    }
   },
   "outputs": [
    {
     "data": {
      "application/vnd.jupyter.widget-view+json": {
       "model_id": "8a0947feca3346f8b04e61f95c168b4d",
       "version_major": 2,
       "version_minor": 0
      },
      "text/plain": [
       "VBox()"
      ]
     },
     "metadata": {},
     "output_type": "display_data"
    },
    {
     "data": {
      "application/vnd.jupyter.widget-view+json": {
       "model_id": "",
       "version_major": 2,
       "version_minor": 0
      },
      "text/plain": [
       "FloatProgress(value=0.0, bar_style='info', description='Progress:', layout=Layout(height='25px', width='50%'),…"
      ]
     },
     "metadata": {},
     "output_type": "display_data"
    }
   ],
   "source": [
    "from collections.abc import Iterable"
   ]
  },
  {
   "cell_type": "code",
   "execution_count": 51,
   "id": "db8490b0-284d-4017-a192-d0bbff830be1",
   "metadata": {
    "execution": {
     "iopub.execute_input": "2023-04-08T21:47:31.471898Z",
     "iopub.status.busy": "2023-04-08T21:47:31.471688Z",
     "iopub.status.idle": "2023-04-08T21:47:31.507775Z",
     "shell.execute_reply": "2023-04-08T21:47:31.507150Z",
     "shell.execute_reply.started": "2023-04-08T21:47:31.471877Z"
    }
   },
   "outputs": [
    {
     "data": {
      "application/vnd.jupyter.widget-view+json": {
       "model_id": "e2be97a1b7724f978d067322823a2f19",
       "version_major": 2,
       "version_minor": 0
      },
      "text/plain": [
       "VBox()"
      ]
     },
     "metadata": {},
     "output_type": "display_data"
    },
    {
     "data": {
      "application/vnd.jupyter.widget-view+json": {
       "model_id": "",
       "version_major": 2,
       "version_minor": 0
      },
      "text/plain": [
       "FloatProgress(value=0.0, bar_style='info', description='Progress:', layout=Layout(height='25px', width='50%'),…"
      ]
     },
     "metadata": {},
     "output_type": "display_data"
    }
   ],
   "source": [
    "from typing import Callable"
   ]
  },
  {
   "cell_type": "code",
   "execution_count": 52,
   "id": "60faf839-ae3b-49d7-8df5-c60b936a9e93",
   "metadata": {
    "execution": {
     "iopub.execute_input": "2023-04-08T21:47:31.508836Z",
     "iopub.status.busy": "2023-04-08T21:47:31.508630Z",
     "iopub.status.idle": "2023-04-08T21:47:31.543507Z",
     "shell.execute_reply": "2023-04-08T21:47:31.542890Z",
     "shell.execute_reply.started": "2023-04-08T21:47:31.508816Z"
    }
   },
   "outputs": [
    {
     "data": {
      "application/vnd.jupyter.widget-view+json": {
       "model_id": "fdb2accdb9d84a238482ef46d3a542ac",
       "version_major": 2,
       "version_minor": 0
      },
      "text/plain": [
       "VBox()"
      ]
     },
     "metadata": {},
     "output_type": "display_data"
    },
    {
     "data": {
      "application/vnd.jupyter.widget-view+json": {
       "model_id": "",
       "version_major": 2,
       "version_minor": 0
      },
      "text/plain": [
       "FloatProgress(value=0.0, bar_style='info', description='Progress:', layout=Layout(height='25px', width='50%'),…"
      ]
     },
     "metadata": {},
     "output_type": "display_data"
    }
   ],
   "source": [
    "from importlib import reload"
   ]
  },
  {
   "cell_type": "code",
   "execution_count": 53,
   "id": "a55e6891-1a25-41a3-a734-daf0092d5b63",
   "metadata": {
    "execution": {
     "iopub.execute_input": "2023-04-08T21:47:31.544889Z",
     "iopub.status.busy": "2023-04-08T21:47:31.544550Z",
     "iopub.status.idle": "2023-04-08T21:47:31.580094Z",
     "shell.execute_reply": "2023-04-08T21:47:31.579425Z",
     "shell.execute_reply.started": "2023-04-08T21:47:31.544855Z"
    }
   },
   "outputs": [
    {
     "data": {
      "application/vnd.jupyter.widget-view+json": {
       "model_id": "0b25ec9c59e8431086e4eaf192fd566d",
       "version_major": 2,
       "version_minor": 0
      },
      "text/plain": [
       "VBox()"
      ]
     },
     "metadata": {},
     "output_type": "display_data"
    },
    {
     "data": {
      "application/vnd.jupyter.widget-view+json": {
       "model_id": "",
       "version_major": 2,
       "version_minor": 0
      },
      "text/plain": [
       "FloatProgress(value=0.0, bar_style='info', description='Progress:', layout=Layout(height='25px', width='50%'),…"
      ]
     },
     "metadata": {},
     "output_type": "display_data"
    }
   ],
   "source": [
    "import sys"
   ]
  },
  {
   "cell_type": "code",
   "execution_count": 54,
   "id": "47a5d412-4e18-4fe2-b471-62dc62a488c0",
   "metadata": {
    "execution": {
     "iopub.execute_input": "2023-04-08T21:47:31.581258Z",
     "iopub.status.busy": "2023-04-08T21:47:31.581016Z",
     "iopub.status.idle": "2023-04-08T21:47:31.617812Z",
     "shell.execute_reply": "2023-04-08T21:47:31.617130Z",
     "shell.execute_reply.started": "2023-04-08T21:47:31.581235Z"
    }
   },
   "outputs": [
    {
     "data": {
      "application/vnd.jupyter.widget-view+json": {
       "model_id": "a702a1480f0740628f8e6fc4de3a8eeb",
       "version_major": 2,
       "version_minor": 0
      },
      "text/plain": [
       "VBox()"
      ]
     },
     "metadata": {},
     "output_type": "display_data"
    },
    {
     "data": {
      "application/vnd.jupyter.widget-view+json": {
       "model_id": "",
       "version_major": 2,
       "version_minor": 0
      },
      "text/plain": [
       "FloatProgress(value=0.0, bar_style='info', description='Progress:', layout=Layout(height='25px', width='50%'),…"
      ]
     },
     "metadata": {},
     "output_type": "display_data"
    }
   ],
   "source": [
    "from pyspark.sql.types import *"
   ]
  },
  {
   "cell_type": "code",
   "execution_count": 55,
   "id": "099bcc21-6004-4fe8-b77b-2a752a8755e7",
   "metadata": {
    "execution": {
     "iopub.execute_input": "2023-04-08T21:47:31.618924Z",
     "iopub.status.busy": "2023-04-08T21:47:31.618715Z",
     "iopub.status.idle": "2023-04-08T21:47:31.653696Z",
     "shell.execute_reply": "2023-04-08T21:47:31.653017Z",
     "shell.execute_reply.started": "2023-04-08T21:47:31.618903Z"
    }
   },
   "outputs": [
    {
     "data": {
      "application/vnd.jupyter.widget-view+json": {
       "model_id": "5566125ed4df42c8805a8542c6cddd9d",
       "version_major": 2,
       "version_minor": 0
      },
      "text/plain": [
       "VBox()"
      ]
     },
     "metadata": {},
     "output_type": "display_data"
    },
    {
     "data": {
      "application/vnd.jupyter.widget-view+json": {
       "model_id": "",
       "version_major": 2,
       "version_minor": 0
      },
      "text/plain": [
       "FloatProgress(value=0.0, bar_style='info', description='Progress:', layout=Layout(height='25px', width='50%'),…"
      ]
     },
     "metadata": {},
     "output_type": "display_data"
    }
   ],
   "source": [
    "from pprint import pprint"
   ]
  },
  {
   "cell_type": "code",
   "execution_count": 56,
   "id": "4c2a265a-3987-4941-9274-9547be590946",
   "metadata": {
    "execution": {
     "iopub.execute_input": "2023-04-08T21:47:31.655043Z",
     "iopub.status.busy": "2023-04-08T21:47:31.654732Z",
     "iopub.status.idle": "2023-04-08T21:47:31.690050Z",
     "shell.execute_reply": "2023-04-08T21:47:31.689380Z",
     "shell.execute_reply.started": "2023-04-08T21:47:31.655009Z"
    }
   },
   "outputs": [
    {
     "data": {
      "application/vnd.jupyter.widget-view+json": {
       "model_id": "92284b1277444cbebb7683f859ad3c96",
       "version_major": 2,
       "version_minor": 0
      },
      "text/plain": [
       "VBox()"
      ]
     },
     "metadata": {},
     "output_type": "display_data"
    },
    {
     "data": {
      "application/vnd.jupyter.widget-view+json": {
       "model_id": "",
       "version_major": 2,
       "version_minor": 0
      },
      "text/plain": [
       "FloatProgress(value=0.0, bar_style='info', description='Progress:', layout=Layout(height='25px', width='50%'),…"
      ]
     },
     "metadata": {},
     "output_type": "display_data"
    }
   ],
   "source": [
    "from pyspark.ml.feature import *"
   ]
  },
  {
   "cell_type": "code",
   "execution_count": 57,
   "id": "9dbeb637-89cb-4ffe-af03-21dae284bfff",
   "metadata": {
    "execution": {
     "iopub.execute_input": "2023-04-08T21:47:31.691161Z",
     "iopub.status.busy": "2023-04-08T21:47:31.690929Z",
     "iopub.status.idle": "2023-04-08T21:47:31.727376Z",
     "shell.execute_reply": "2023-04-08T21:47:31.726756Z",
     "shell.execute_reply.started": "2023-04-08T21:47:31.691140Z"
    }
   },
   "outputs": [
    {
     "data": {
      "application/vnd.jupyter.widget-view+json": {
       "model_id": "64d2165aaf714ac9aafa1414d8aade8f",
       "version_major": 2,
       "version_minor": 0
      },
      "text/plain": [
       "VBox()"
      ]
     },
     "metadata": {},
     "output_type": "display_data"
    },
    {
     "data": {
      "application/vnd.jupyter.widget-view+json": {
       "model_id": "",
       "version_major": 2,
       "version_minor": 0
      },
      "text/plain": [
       "FloatProgress(value=0.0, bar_style='info', description='Progress:', layout=Layout(height='25px', width='50%'),…"
      ]
     },
     "metadata": {},
     "output_type": "display_data"
    }
   ],
   "source": [
    "from pyspark.ml.classification import *"
   ]
  },
  {
   "cell_type": "code",
   "execution_count": 58,
   "id": "a6d5a654-7223-4b6b-a4a4-92b8a40dde50",
   "metadata": {
    "execution": {
     "iopub.execute_input": "2023-04-08T21:47:31.728416Z",
     "iopub.status.busy": "2023-04-08T21:47:31.728210Z",
     "iopub.status.idle": "2023-04-08T21:47:31.968601Z",
     "shell.execute_reply": "2023-04-08T21:47:31.967903Z",
     "shell.execute_reply.started": "2023-04-08T21:47:31.728396Z"
    }
   },
   "outputs": [
    {
     "data": {
      "application/vnd.jupyter.widget-view+json": {
       "model_id": "162041c8fe5a4571af0f31acbff35089",
       "version_major": 2,
       "version_minor": 0
      },
      "text/plain": [
       "VBox()"
      ]
     },
     "metadata": {},
     "output_type": "display_data"
    },
    {
     "data": {
      "application/vnd.jupyter.widget-view+json": {
       "model_id": "",
       "version_major": 2,
       "version_minor": 0
      },
      "text/plain": [
       "FloatProgress(value=0.0, bar_style='info', description='Progress:', layout=Layout(height='25px', width='50%'),…"
      ]
     },
     "metadata": {},
     "output_type": "display_data"
    }
   ],
   "source": [
    "from pyspark.mllib.util import *"
   ]
  },
  {
   "cell_type": "code",
   "execution_count": 59,
   "id": "a9c754d9-1b61-433f-993e-db75b390bc76",
   "metadata": {
    "execution": {
     "iopub.execute_input": "2023-04-08T21:47:31.969762Z",
     "iopub.status.busy": "2023-04-08T21:47:31.969525Z",
     "iopub.status.idle": "2023-04-08T21:47:32.008755Z",
     "shell.execute_reply": "2023-04-08T21:47:32.008141Z",
     "shell.execute_reply.started": "2023-04-08T21:47:31.969739Z"
    }
   },
   "outputs": [
    {
     "data": {
      "application/vnd.jupyter.widget-view+json": {
       "model_id": "176a4469af4349b782b881bbc47f6d58",
       "version_major": 2,
       "version_minor": 0
      },
      "text/plain": [
       "VBox()"
      ]
     },
     "metadata": {},
     "output_type": "display_data"
    },
    {
     "data": {
      "application/vnd.jupyter.widget-view+json": {
       "model_id": "",
       "version_major": 2,
       "version_minor": 0
      },
      "text/plain": [
       "FloatProgress(value=0.0, bar_style='info', description='Progress:', layout=Layout(height='25px', width='50%'),…"
      ]
     },
     "metadata": {},
     "output_type": "display_data"
    }
   ],
   "source": [
    "from pyspark.sql import SparkSession"
   ]
  },
  {
   "cell_type": "code",
   "execution_count": 60,
   "id": "eb8a8fbf-41a9-4676-b0bd-caaee6ea658f",
   "metadata": {
    "execution": {
     "iopub.execute_input": "2023-04-08T21:47:32.009852Z",
     "iopub.status.busy": "2023-04-08T21:47:32.009633Z",
     "iopub.status.idle": "2023-04-08T21:47:32.046191Z",
     "shell.execute_reply": "2023-04-08T21:47:32.045508Z",
     "shell.execute_reply.started": "2023-04-08T21:47:32.009820Z"
    }
   },
   "outputs": [
    {
     "data": {
      "application/vnd.jupyter.widget-view+json": {
       "model_id": "3d9c87638d2849e386e88b18a7a7f265",
       "version_major": 2,
       "version_minor": 0
      },
      "text/plain": [
       "VBox()"
      ]
     },
     "metadata": {},
     "output_type": "display_data"
    },
    {
     "data": {
      "application/vnd.jupyter.widget-view+json": {
       "model_id": "",
       "version_major": 2,
       "version_minor": 0
      },
      "text/plain": [
       "FloatProgress(value=0.0, bar_style='info', description='Progress:', layout=Layout(height='25px', width='50%'),…"
      ]
     },
     "metadata": {},
     "output_type": "display_data"
    }
   ],
   "source": [
    "from dataclasses import dataclass"
   ]
  },
  {
   "cell_type": "code",
   "execution_count": 61,
   "id": "18910b0f-ea5c-4844-8fef-eba8ad6b4c5d",
   "metadata": {
    "execution": {
     "iopub.execute_input": "2023-04-08T21:47:32.047271Z",
     "iopub.status.busy": "2023-04-08T21:47:32.047059Z",
     "iopub.status.idle": "2023-04-08T21:47:32.085160Z",
     "shell.execute_reply": "2023-04-08T21:47:32.084513Z",
     "shell.execute_reply.started": "2023-04-08T21:47:32.047250Z"
    }
   },
   "outputs": [
    {
     "data": {
      "application/vnd.jupyter.widget-view+json": {
       "model_id": "2b85cfa2ad3647f6b1120cc27687dce7",
       "version_major": 2,
       "version_minor": 0
      },
      "text/plain": [
       "VBox()"
      ]
     },
     "metadata": {},
     "output_type": "display_data"
    },
    {
     "data": {
      "application/vnd.jupyter.widget-view+json": {
       "model_id": "",
       "version_major": 2,
       "version_minor": 0
      },
      "text/plain": [
       "FloatProgress(value=0.0, bar_style='info', description='Progress:', layout=Layout(height='25px', width='50%'),…"
      ]
     },
     "metadata": {},
     "output_type": "display_data"
    }
   ],
   "source": [
    "from typing import Optional"
   ]
  },
  {
   "cell_type": "code",
   "execution_count": 62,
   "id": "23e43ffa-7764-4a25-81a6-ce4e62166ae2",
   "metadata": {
    "execution": {
     "iopub.execute_input": "2023-04-08T21:47:32.088258Z",
     "iopub.status.busy": "2023-04-08T21:47:32.088045Z",
     "iopub.status.idle": "2023-04-08T21:47:32.124095Z",
     "shell.execute_reply": "2023-04-08T21:47:32.123450Z",
     "shell.execute_reply.started": "2023-04-08T21:47:32.088237Z"
    }
   },
   "outputs": [
    {
     "data": {
      "application/vnd.jupyter.widget-view+json": {
       "model_id": "439f2d0297cc4887bd073e1890321303",
       "version_major": 2,
       "version_minor": 0
      },
      "text/plain": [
       "VBox()"
      ]
     },
     "metadata": {},
     "output_type": "display_data"
    },
    {
     "data": {
      "application/vnd.jupyter.widget-view+json": {
       "model_id": "",
       "version_major": 2,
       "version_minor": 0
      },
      "text/plain": [
       "FloatProgress(value=0.0, bar_style='info', description='Progress:', layout=Layout(height='25px', width='50%'),…"
      ]
     },
     "metadata": {},
     "output_type": "display_data"
    }
   ],
   "source": [
    "from pyspark.sql import SparkSession"
   ]
  },
  {
   "cell_type": "code",
   "execution_count": 63,
   "id": "1b3e1540-f95a-4d38-aed6-41333230105c",
   "metadata": {
    "execution": {
     "iopub.execute_input": "2023-04-08T21:47:32.125507Z",
     "iopub.status.busy": "2023-04-08T21:47:32.125262Z",
     "iopub.status.idle": "2023-04-08T21:47:32.160698Z",
     "shell.execute_reply": "2023-04-08T21:47:32.160089Z",
     "shell.execute_reply.started": "2023-04-08T21:47:32.125485Z"
    }
   },
   "outputs": [
    {
     "data": {
      "application/vnd.jupyter.widget-view+json": {
       "model_id": "0e9127005b534acabeffe5a083175bcc",
       "version_major": 2,
       "version_minor": 0
      },
      "text/plain": [
       "VBox()"
      ]
     },
     "metadata": {},
     "output_type": "display_data"
    },
    {
     "data": {
      "application/vnd.jupyter.widget-view+json": {
       "model_id": "",
       "version_major": 2,
       "version_minor": 0
      },
      "text/plain": [
       "FloatProgress(value=0.0, bar_style='info', description='Progress:', layout=Layout(height='25px', width='50%'),…"
      ]
     },
     "metadata": {},
     "output_type": "display_data"
    }
   ],
   "source": [
    "from pyspark.sql.dataframe import DataFrame"
   ]
  },
  {
   "cell_type": "code",
   "execution_count": 64,
   "id": "4bc88cc3-fedc-4447-9cb8-5a95503c94d3",
   "metadata": {
    "execution": {
     "iopub.execute_input": "2023-04-08T21:47:32.163319Z",
     "iopub.status.busy": "2023-04-08T21:47:32.163104Z",
     "iopub.status.idle": "2023-04-08T21:47:32.201561Z",
     "shell.execute_reply": "2023-04-08T21:47:32.200886Z",
     "shell.execute_reply.started": "2023-04-08T21:47:32.163297Z"
    }
   },
   "outputs": [
    {
     "data": {
      "application/vnd.jupyter.widget-view+json": {
       "model_id": "767ba0a906bf496686bb0aaef37c5bfe",
       "version_major": 2,
       "version_minor": 0
      },
      "text/plain": [
       "VBox()"
      ]
     },
     "metadata": {},
     "output_type": "display_data"
    },
    {
     "data": {
      "application/vnd.jupyter.widget-view+json": {
       "model_id": "",
       "version_major": 2,
       "version_minor": 0
      },
      "text/plain": [
       "FloatProgress(value=0.0, bar_style='info', description='Progress:', layout=Layout(height='25px', width='50%'),…"
      ]
     },
     "metadata": {},
     "output_type": "display_data"
    }
   ],
   "source": [
    "from pyspark.sql.types import StructType"
   ]
  },
  {
   "cell_type": "code",
   "execution_count": 65,
   "id": "12753629",
   "metadata": {
    "execution": {
     "iopub.execute_input": "2023-04-08T21:47:32.202640Z",
     "iopub.status.busy": "2023-04-08T21:47:32.202413Z",
     "iopub.status.idle": "2023-04-08T21:47:32.237357Z",
     "shell.execute_reply": "2023-04-08T21:47:32.236699Z",
     "shell.execute_reply.started": "2023-04-08T21:47:32.202618Z"
    }
   },
   "outputs": [
    {
     "data": {
      "application/vnd.jupyter.widget-view+json": {
       "model_id": "77f79c20489c49eaad9cee2d7dc3e7f1",
       "version_major": 2,
       "version_minor": 0
      },
      "text/plain": [
       "VBox()"
      ]
     },
     "metadata": {},
     "output_type": "display_data"
    },
    {
     "data": {
      "application/vnd.jupyter.widget-view+json": {
       "model_id": "",
       "version_major": 2,
       "version_minor": 0
      },
      "text/plain": [
       "FloatProgress(value=0.0, bar_style='info', description='Progress:', layout=Layout(height='25px', width='50%'),…"
      ]
     },
     "metadata": {},
     "output_type": "display_data"
    }
   ],
   "source": [
    "import timeit as tm"
   ]
  },
  {
   "cell_type": "code",
   "execution_count": 66,
   "id": "989e0de2-e152-480d-b311-f9557bf0576e",
   "metadata": {
    "execution": {
     "iopub.execute_input": "2023-04-08T21:47:32.238486Z",
     "iopub.status.busy": "2023-04-08T21:47:32.238268Z",
     "iopub.status.idle": "2023-04-08T21:47:32.479717Z",
     "shell.execute_reply": "2023-04-08T21:47:32.478841Z",
     "shell.execute_reply.started": "2023-04-08T21:47:32.238465Z"
    }
   },
   "outputs": [
    {
     "data": {
      "application/vnd.jupyter.widget-view+json": {
       "model_id": "1f7cf18bcdd34f72ae52204d18ce992d",
       "version_major": 2,
       "version_minor": 0
      },
      "text/plain": [
       "VBox()"
      ]
     },
     "metadata": {},
     "output_type": "display_data"
    },
    {
     "data": {
      "application/vnd.jupyter.widget-view+json": {
       "model_id": "",
       "version_major": 2,
       "version_minor": 0
      },
      "text/plain": [
       "FloatProgress(value=0.0, bar_style='info', description='Progress:', layout=Layout(height='25px', width='50%'),…"
      ]
     },
     "metadata": {},
     "output_type": "display_data"
    }
   ],
   "source": [
    "sparkBuilder = SparkSession.builder \\\n",
    "    .master('local[1]') \\\n",
    "    .appName('pbd') \\\n",
    "    .config(\"spark.sql.repl.eagerEval.enabled\", True) \\\n",
    "    .config(\"spark.sql.repl.eagerEval.truncate\", 50) \\\n",
    "    .config(\"spark.sql.repl.eagerEval.maxNumRows\", 50)\n",
    "spark: SparkSession = sparkBuilder.getOrCreate()"
   ]
  },
  {
   "cell_type": "code",
   "execution_count": null,
   "id": "22728873",
   "metadata": {},
   "outputs": [],
   "source": [
    "from dataclassy import dataclass, fields, factory\n",
    "from pyspark.ml.param.shared import *\n",
    "from typing import Type"
   ]
  },
  {
   "cell_type": "markdown",
   "id": "bbf4f9aa",
   "metadata": {},
   "source": [
    "--------------"
   ]
  },
  {
   "cell_type": "markdown",
   "id": "8c2ccc47",
   "metadata": {},
   "source": [
    "# Funções"
   ]
  },
  {
   "cell_type": "code",
   "execution_count": 67,
   "id": "81a150ca-9429-4d25-9061-8882a58d3479",
   "metadata": {
    "execution": {
     "iopub.execute_input": "2023-04-08T21:47:32.481301Z",
     "iopub.status.busy": "2023-04-08T21:47:32.480893Z",
     "iopub.status.idle": "2023-04-08T21:47:32.530567Z",
     "shell.execute_reply": "2023-04-08T21:47:32.529341Z",
     "shell.execute_reply.started": "2023-04-08T21:47:32.481261Z"
    }
   },
   "outputs": [
    {
     "data": {
      "application/vnd.jupyter.widget-view+json": {
       "model_id": "1eb785903809473baf872e500f1db4af",
       "version_major": 2,
       "version_minor": 0
      },
      "text/plain": [
       "VBox()"
      ]
     },
     "metadata": {},
     "output_type": "display_data"
    },
    {
     "data": {
      "application/vnd.jupyter.widget-view+json": {
       "model_id": "",
       "version_major": 2,
       "version_minor": 0
      },
      "text/plain": [
       "FloatProgress(value=0.0, bar_style='info', description='Progress:', layout=Layout(height='25px', width='50%'),…"
      ]
     },
     "metadata": {},
     "output_type": "display_data"
    }
   ],
   "source": [
    "def reload(spark):\n",
    "    spark.stop()\n",
    "    spark = sparkBuilder.getOrCreate()"
   ]
  },
  {
   "cell_type": "code",
   "execution_count": 68,
   "id": "22b24a40-d23e-4134-b0c1-e642c6ab218d",
   "metadata": {
    "execution": {
     "iopub.execute_input": "2023-04-08T21:47:32.534188Z",
     "iopub.status.busy": "2023-04-08T21:47:32.533863Z",
     "iopub.status.idle": "2023-04-08T21:47:32.578474Z",
     "shell.execute_reply": "2023-04-08T21:47:32.577615Z",
     "shell.execute_reply.started": "2023-04-08T21:47:32.534151Z"
    }
   },
   "outputs": [
    {
     "data": {
      "application/vnd.jupyter.widget-view+json": {
       "model_id": "d2b2ed9b0b934cc5877546b1f0fa7d97",
       "version_major": 2,
       "version_minor": 0
      },
      "text/plain": [
       "VBox()"
      ]
     },
     "metadata": {},
     "output_type": "display_data"
    },
    {
     "data": {
      "application/vnd.jupyter.widget-view+json": {
       "model_id": "",
       "version_major": 2,
       "version_minor": 0
      },
      "text/plain": [
       "FloatProgress(value=0.0, bar_style='info', description='Progress:', layout=Layout(height='25px', width='50%'),…"
      ]
     },
     "metadata": {},
     "output_type": "display_data"
    }
   ],
   "source": [
    "class the_transformer(Transformer):\n",
    "    def __init__(self, stages):\n",
    "        self.stages = stages\n",
    "    def _transform(self, df):\n",
    "        dfRet = df\n",
    "        for i in self.stages:\n",
    "            if isinstance(i, Iterable):\n",
    "                dfRet = dfRet.transform(*i)\n",
    "            else:\n",
    "                dfRet = dfRet.transform(i)\n",
    "        return dfRet\n",
    "    \n",
    "    "
   ]
  },
  {
   "cell_type": "code",
   "execution_count": 69,
   "id": "be733116-7f43-42ec-b1ef-747e0ac1f582",
   "metadata": {},
   "outputs": [
    {
     "data": {
      "application/vnd.jupyter.widget-view+json": {
       "model_id": "37816ef3bcf3451aba25b7ef8fc08d63",
       "version_major": 2,
       "version_minor": 0
      },
      "text/plain": [
       "VBox()"
      ]
     },
     "metadata": {},
     "output_type": "display_data"
    },
    {
     "data": {
      "application/vnd.jupyter.widget-view+json": {
       "model_id": "",
       "version_major": 2,
       "version_minor": 0
      },
      "text/plain": [
       "FloatProgress(value=0.0, bar_style='info', description='Progress:', layout=Layout(height='25px', width='50%'),…"
      ]
     },
     "metadata": {},
     "output_type": "display_data"
    }
   ],
   "source": [
    "cnt_cond = lambda cond: sum(when(cond, 1).otherwise(0))"
   ]
  },
  {
   "cell_type": "code",
   "execution_count": 70,
   "id": "48e29878-0708-4afa-8fe8-4749c173d6a7",
   "metadata": {},
   "outputs": [
    {
     "data": {
      "application/vnd.jupyter.widget-view+json": {
       "model_id": "dc164135334847f6a5c0f6ab510443a5",
       "version_major": 2,
       "version_minor": 0
      },
      "text/plain": [
       "VBox()"
      ]
     },
     "metadata": {},
     "output_type": "display_data"
    },
    {
     "data": {
      "application/vnd.jupyter.widget-view+json": {
       "model_id": "",
       "version_major": 2,
       "version_minor": 0
      },
      "text/plain": [
       "FloatProgress(value=0.0, bar_style='info', description='Progress:', layout=Layout(height='25px', width='50%'),…"
      ]
     },
     "metadata": {},
     "output_type": "display_data"
    }
   ],
   "source": [
    "def reorder(df, *columns_to_front):\n",
    "    original = df.columns\n",
    "    # Filter to present columns\n",
    "    columns_to_front = [c for c in columns_to_front if c in original]\n",
    "    # Keep the rest of the columns & sort it for consistency\n",
    "    columns_other = list(set(original) - set(columns_to_front))\n",
    "    columns_other.sort()\n",
    "    # Apply the order\n",
    "    df = df.select(*columns_to_front, *columns_other)\n",
    "    return df"
   ]
  },
  {
   "cell_type": "code",
   "execution_count": 71,
   "id": "3ecd654c-2cdb-489b-af11-bda52c7a7680",
   "metadata": {},
   "outputs": [
    {
     "data": {
      "application/vnd.jupyter.widget-view+json": {
       "model_id": "9afdb080cd774b498f0f7f87ea9d049c",
       "version_major": 2,
       "version_minor": 0
      },
      "text/plain": [
       "VBox()"
      ]
     },
     "metadata": {},
     "output_type": "display_data"
    },
    {
     "data": {
      "application/vnd.jupyter.widget-view+json": {
       "model_id": "",
       "version_major": 2,
       "version_minor": 0
      },
      "text/plain": [
       "FloatProgress(value=0.0, bar_style='info', description='Progress:', layout=Layout(height='25px', width='50%'),…"
      ]
     },
     "metadata": {},
     "output_type": "display_data"
    }
   ],
   "source": [
    "def add_id(df):\n",
    "    return df.withColumn(\n",
    "        \"id\",\n",
    "        row_number().over(Window.orderBy(monotonically_increasing_id()))-1\n",
    "    )"
   ]
  },
  {
   "cell_type": "code",
   "execution_count": 72,
   "id": "82bf94b6-c92a-4e49-b8bc-5107fd4161c8",
   "metadata": {},
   "outputs": [
    {
     "data": {
      "application/vnd.jupyter.widget-view+json": {
       "model_id": "fd56fc56fe294c628aa6ae58d2a574dd",
       "version_major": 2,
       "version_minor": 0
      },
      "text/plain": [
       "VBox()"
      ]
     },
     "metadata": {},
     "output_type": "display_data"
    },
    {
     "data": {
      "application/vnd.jupyter.widget-view+json": {
       "model_id": "",
       "version_major": 2,
       "version_minor": 0
      },
      "text/plain": [
       "FloatProgress(value=0.0, bar_style='info', description='Progress:', layout=Layout(height='25px', width='50%'),…"
      ]
     },
     "metadata": {},
     "output_type": "display_data"
    }
   ],
   "source": [
    "def elapsed_to_hours(df, old_name, new_name):\n",
    "    return df.withColumn(new_name, col(old_name)/3.6e6)"
   ]
  },
  {
   "cell_type": "code",
   "execution_count": 73,
   "id": "39ab41fb-43c8-4c93-87ef-b51150ca04a4",
   "metadata": {},
   "outputs": [
    {
     "data": {
      "application/vnd.jupyter.widget-view+json": {
       "model_id": "10f563241eb64a6591e597669a635d9a",
       "version_major": 2,
       "version_minor": 0
      },
      "text/plain": [
       "VBox()"
      ]
     },
     "metadata": {},
     "output_type": "display_data"
    },
    {
     "data": {
      "application/vnd.jupyter.widget-view+json": {
       "model_id": "",
       "version_major": 2,
       "version_minor": 0
      },
      "text/plain": [
       "FloatProgress(value=0.0, bar_style='info', description='Progress:', layout=Layout(height='25px', width='50%'),…"
      ]
     },
     "metadata": {},
     "output_type": "display_data"
    }
   ],
   "source": [
    "def negative_to_0(df, column):\n",
    "    return df.withColumn(column, when(col(column) < 0, 0).otherwise(col(column)))"
   ]
  },
  {
   "cell_type": "code",
   "execution_count": 74,
   "id": "3ef051d6-7aec-4dc5-860b-fd4e21517b01",
   "metadata": {},
   "outputs": [
    {
     "data": {
      "application/vnd.jupyter.widget-view+json": {
       "model_id": "8f1a6aced5a44269b1ee59e7de3dccc8",
       "version_major": 2,
       "version_minor": 0
      },
      "text/plain": [
       "VBox()"
      ]
     },
     "metadata": {},
     "output_type": "display_data"
    },
    {
     "data": {
      "application/vnd.jupyter.widget-view+json": {
       "model_id": "",
       "version_major": 2,
       "version_minor": 0
      },
      "text/plain": [
       "FloatProgress(value=0.0, bar_style='info', description='Progress:', layout=Layout(height='25px', width='50%'),…"
      ]
     },
     "metadata": {},
     "output_type": "display_data"
    }
   ],
   "source": [
    "def agg1(df):\n",
    "    return df.groupby('session_id', 'event_name', 'level_group') \\\n",
    "        .agg(\n",
    "            max(col(\"index\")).alias(\"max_index_to_sum\"),\n",
    "            max(col(\"elapsed_time_h\")).alias(\"total_time_h\"),\n",
    "            cnt_cond(\n",
    "                (col(\"event_name\") == \"observation_click\") &\n",
    "                (col(\"fqid\").isin([\n",
    "                    \"lockeddoor\", \"coffee\", \"block_magnify\", \"photo\"\n",
    "                ]))\n",
    "            ).alias(\"obs_opcional_to_sum\"),\n",
    "            cnt_cond(\n",
    "                (col(\"event_name\") == \"observation_click\") &\n",
    "                (col(\"fqid\").isin([\"outtolunch\", \"janitor\"]))\n",
    "            ).alias(\"obs_no_in_to_sum\"),\n",
    "            cnt_cond(\n",
    "                (col(\"event_name\") == \"observation_click\") &\n",
    "                (col(\"fqid\") != \"block_magnify\") &\n",
    "                ((col(\"fqid\") == \"need_glasses\") | (col(\"fqid\").like(\"%block%\")))\n",
    "            ).alias(\"obs_block_to_sum\"),\n",
    "            # aqui podia estar também o map mas é preciso mais análise para determinar qual é o errado\n",
    "            cnt_cond(\n",
    "                (col(\"event_name\") == \"notebook_click\") & \n",
    "                (col(\"name\") == \"open\")\n",
    "            ).alias(\"notebook_opens_to_sum\"),\n",
    "            cnt_cond(\n",
    "                (col(\"event_name\") == \"notebook_click\") & \n",
    "                (col(\"name\").isin([\"prev\", \"next\"]))\n",
    "            ).alias(\"notebook_explorer_to_sum\"),\n",
    "            cnt_cond(\n",
    "                (col(\"event_name\") == \"notebook_click\") & \n",
    "                (col(\"name\").isin([\"prev\", \"next\", \"basic\"]))\n",
    "            ).alias(\"notebook_clicks\"),\n",
    "            collect_set(col(\"text\")).alias(\"texts_to_treat\"), # to check what type it is\n",
    "            avg(col(\"elapsed_diff_ms\")).alias(\"avg_elapsed_diff_ms\"),\n",
    "            # avg(col(\"hover_duration\")).alias(\"avg_hover_\"),\n",
    "            first(col(\"fullscreen\"), ignorenulls=True).alias(\"fullscreen\"),\n",
    "            first(col(\"hq\"), ignorenulls=True).alias(\"hq\"),\n",
    "            first(col(\"music\"), ignorenulls=True).alias(\"music\"),\n",
    "        )"
   ]
  },
  {
   "cell_type": "code",
   "execution_count": 75,
   "id": "436d6552-e2c7-4f67-8353-1786784fd605",
   "metadata": {},
   "outputs": [
    {
     "data": {
      "application/vnd.jupyter.widget-view+json": {
       "model_id": "d9e7b796ac174a8ba3f1d6a567b6f03d",
       "version_major": 2,
       "version_minor": 0
      },
      "text/plain": [
       "VBox()"
      ]
     },
     "metadata": {},
     "output_type": "display_data"
    },
    {
     "data": {
      "application/vnd.jupyter.widget-view+json": {
       "model_id": "",
       "version_major": 2,
       "version_minor": 0
      },
      "text/plain": [
       "FloatProgress(value=0.0, bar_style='info', description='Progress:', layout=Layout(height='25px', width='50%'),…"
      ]
     },
     "metadata": {},
     "output_type": "display_data"
    }
   ],
   "source": [
    "def agg2(df):\n",
    "    return df.groupby(\"session_id\").agg(\n",
    "        max(\"max_index_to_sum\").alias(\"max_index\"),\n",
    "        min(\n",
    "            when(\n",
    "                col(\"level_group\") == \"0-4\", \n",
    "                1/col(\"total_time_h\")\n",
    "            )\n",
    "        ).alias(\"inv_total_time_h_0-4\"),\n",
    "        min(\n",
    "            when(\n",
    "                col(\"level_group\") == \"5-12\", \n",
    "                1/col(\"total_time_h\")\n",
    "            )\n",
    "        ).alias(\"inv_total_time_h_5-12\"),\n",
    "        min(1/col(\"total_time_h\")).alias(\"inv_total_time_h\"),\n",
    "        sum(\"obs_opcional_to_sum\").alias(\"obs_opcional\"),\n",
    "        sum(\"obs_no_in_to_sum\").alias(\"obs_no_in\"),\n",
    "        sum(\"notebook_opens_to_sum\").alias(\"notebook_opens\"),\n",
    "        sum(\"notebook_explorer_to_sum\").alias(\"notebook_explorer\"),\n",
    "        first(col(\"fullscreen\")).alias(\"fullscreen\"),\n",
    "        first(col(\"hq\")).alias(\"hq\"),\n",
    "        first(col(\"music\")).alias(\"music\"),\n",
    "        # avg(col(\"avg_hover_\")).alias(\"avg_hover\"), #with this method it will make the average per event per level_group then an avg of that. that is fine for me, and maybe even preferable\n",
    "        collect_set(col(\"texts_to_treat\")).alias(\"sets_of_texts_to_get_type\"),\n",
    "        avg(\n",
    "            when(\n",
    "                col(\"event_name\") == \"cutscene_click\",\n",
    "                col(\"avg_elapsed_diff_ms\")\n",
    "            )\n",
    "        ).alias(\"avg_elapsed_diff_ms_cutscene\"),\n",
    "        avg(\n",
    "            when(\n",
    "                col(\"event_name\") == \"person_click\",\n",
    "                col(\"avg_elapsed_diff_ms\")\n",
    "            )\n",
    "        ).alias(\"avg_elapsed_diff_ms_person\"),\n",
    "        avg(\n",
    "            when(\n",
    "                col(\"event_name\") == \"navigate_click\",\n",
    "                col(\"avg_elapsed_diff_ms\")\n",
    "            )\n",
    "        ).alias(\"avg_elapsed_diff_ms_navigate\")\n",
    "    )"
   ]
  },
  {
   "cell_type": "code",
   "execution_count": 76,
   "id": "e065c601-9825-4848-9443-b25ffdf709e3",
   "metadata": {},
   "outputs": [
    {
     "data": {
      "application/vnd.jupyter.widget-view+json": {
       "model_id": "951cae729a1b4253b8a32b4812e93ab5",
       "version_major": 2,
       "version_minor": 0
      },
      "text/plain": [
       "VBox()"
      ]
     },
     "metadata": {},
     "output_type": "display_data"
    },
    {
     "data": {
      "application/vnd.jupyter.widget-view+json": {
       "model_id": "",
       "version_major": 2,
       "version_minor": 0
      },
      "text/plain": [
       "FloatProgress(value=0.0, bar_style='info', description='Progress:', layout=Layout(height='25px', width='50%'),…"
      ]
     },
     "metadata": {},
     "output_type": "display_data"
    }
   ],
   "source": [
    "# def elapsed_to_diff(karr: DataFrame) -> DataFrame:\n",
    "#     lasldlasd = time_paseed(karr.select(\"elapsed_time\"))\n",
    "#     labels_udf = udf(lambda indx: lasldlasd[indx-1], IntegerType())\n",
    "#     return karr.withColumn('elapsed_diff_ms', labels_udf('id'))\n",
    "\n",
    "# def time_paseed(a):\n",
    "#     kard = a.collect()\n",
    "#     lss = 0\n",
    "#     lastos = []\n",
    "#     for i in kard:\n",
    "#         try:\n",
    "#             lastos.append(kard[lss+1][0] - i[0])\n",
    "#         except IndexError:\n",
    "#             lastos.append(0)\n",
    "#         lss+= 1\n",
    "#     return lastos\n",
    "\n",
    "\n",
    "        "
   ]
  },
  {
   "cell_type": "code",
   "execution_count": 77,
   "id": "09ec0557-9052-496f-9cd4-793c65a3cd1a",
   "metadata": {},
   "outputs": [
    {
     "data": {
      "application/vnd.jupyter.widget-view+json": {
       "model_id": "e58a4f04312f4859847a838401e88f82",
       "version_major": 2,
       "version_minor": 0
      },
      "text/plain": [
       "VBox()"
      ]
     },
     "metadata": {},
     "output_type": "display_data"
    },
    {
     "data": {
      "application/vnd.jupyter.widget-view+json": {
       "model_id": "",
       "version_major": 2,
       "version_minor": 0
      },
      "text/plain": [
       "FloatProgress(value=0.0, bar_style='info', description='Progress:', layout=Layout(height='25px', width='50%'),…"
      ]
     },
     "metadata": {},
     "output_type": "display_data"
    }
   ],
   "source": [
    "def elapsed_to_diff(df: DataFrame, old, new):\n",
    "    return df.withColumn(new, col(old) - lag(col(old), offset=1, default=0) \\\n",
    "                         .over(Window.orderBy(\"id\"))\n",
    "                        )"
   ]
  },
  {
   "cell_type": "code",
   "execution_count": 78,
   "id": "388c9a47-ff92-465e-87a1-b87684dee6e6",
   "metadata": {},
   "outputs": [
    {
     "data": {
      "application/vnd.jupyter.widget-view+json": {
       "model_id": "64d7923cef634bd9a908c198f22bfc23",
       "version_major": 2,
       "version_minor": 0
      },
      "text/plain": [
       "VBox()"
      ]
     },
     "metadata": {},
     "output_type": "display_data"
    },
    {
     "data": {
      "application/vnd.jupyter.widget-view+json": {
       "model_id": "",
       "version_major": 2,
       "version_minor": 0
      },
      "text/plain": [
       "FloatProgress(value=0.0, bar_style='info', description='Progress:', layout=Layout(height='25px', width='50%'),…"
      ]
     },
     "metadata": {},
     "output_type": "display_data"
    }
   ],
   "source": [
    "# def elapsed_to_diff_per_group(df: DataFrame, spark) -> DataFrame:\n",
    "#     emp_RDD = spark.sparkContext.emptyRDD()\n",
    "#     columns_ret = df.schema\n",
    "#     columns_ret.add(StructField('diff_elapsed_per_event_ms', IntegerType(), True))\n",
    "#     df_ret = spark.createDataFrame(data = emp_RDD, schema = columns_ret)\n",
    "#     for i in df.select(\"session_id\").distinct().toLocalIterator():\n",
    "#        arraysalvo = time_paseed_group(df.filter(f\"session_id == {i[0]}\").select(\"event_name\",\"id_new\",\"elapsed_time\"))\n",
    "#        labels_array = F.udf(lambda indx: arraysalvo[indx-1][2], IntegerType())\n",
    "#        df_temp_toAdd = df.filter(f\"session_id =={i[0]}\").withColumn(\"id_local\",row_number().over(Window.orderBy(monotonically_increasing_id())))\n",
    "#        df_temp_toAdd = df_temp_toAdd.withColumn('diff_elapsed_per_event_ms', labels_array('id_local'))\n",
    "#        df_temp_toAdd = df_temp_toAdd.drop('id_local')\n",
    "#        df_ret.createOrReplaceTempView(\"fixa\")\n",
    "#        df_temp_toAdd.createOrReplaceTempView(\"tempo\")\n",
    "#        df_ret = spark.sql(\"SELECT * FROM tempo UNION SELECT * FROM fixa\")\n",
    "#     return df_ret"
   ]
  },
  {
   "cell_type": "code",
   "execution_count": 79,
   "id": "7ba585e0-bd6d-4f13-83ef-4201861002cd",
   "metadata": {},
   "outputs": [
    {
     "data": {
      "application/vnd.jupyter.widget-view+json": {
       "model_id": "12ca3a15c87c4d2da46e27e2d37d8f8d",
       "version_major": 2,
       "version_minor": 0
      },
      "text/plain": [
       "VBox()"
      ]
     },
     "metadata": {},
     "output_type": "display_data"
    },
    {
     "data": {
      "application/vnd.jupyter.widget-view+json": {
       "model_id": "",
       "version_major": 2,
       "version_minor": 0
      },
      "text/plain": [
       "FloatProgress(value=0.0, bar_style='info', description='Progress:', layout=Layout(height='25px', width='50%'),…"
      ]
     },
     "metadata": {},
     "output_type": "display_data"
    }
   ],
   "source": [
    "# def time_passed_group(a):\n",
    "#     kard = a.collect()\n",
    "#     lss = 0\n",
    "#     lastos = []\n",
    "#     for i in kard:\n",
    "#         try:\n",
    "#           if i[0] == kard[lss+1][0]:\n",
    "#             lastos.append([i[0],i[1],kard[lss+1][2] - i[2]])\n",
    "#           else:\n",
    "#             if i[0] == kard[lss-1][0]:\n",
    "#               lastos.append([i[0],i[1],lastos[-1][2]])\n",
    "#             else:\n",
    "#               lastos.append([i[0],i[1],i[2]])\n",
    "#         except IndexError:\n",
    "#             lastos.append([i[0],i[2],lss-lss])\n",
    "#         lss+= 1\n",
    "#     return lastos"
   ]
  },
  {
   "cell_type": "code",
   "execution_count": 80,
   "id": "9a3cbda4-7588-406e-8573-66a615791549",
   "metadata": {
    "scrolled": true
   },
   "outputs": [
    {
     "data": {
      "application/vnd.jupyter.widget-view+json": {
       "model_id": "b28d74b6f4f9406d885fd1cbbb09655a",
       "version_major": 2,
       "version_minor": 0
      },
      "text/plain": [
       "VBox()"
      ]
     },
     "metadata": {},
     "output_type": "display_data"
    },
    {
     "data": {
      "application/vnd.jupyter.widget-view+json": {
       "model_id": "",
       "version_major": 2,
       "version_minor": 0
      },
      "text/plain": [
       "FloatProgress(value=0.0, bar_style='info', description='Progress:', layout=Layout(height='25px', width='50%'),…"
      ]
     },
     "metadata": {},
     "output_type": "display_data"
    }
   ],
   "source": [
    "def typeOfText(df: DataFrame) -> DataFrame:\n",
    "    return df.withColumn(\n",
    "        \"texts_to_get_type\", \n",
    "        flatten(col(\"sets_of_texts_to_get_type\"))\n",
    "    ).withColumn(\"type_of_script\",\n",
    "        when(\n",
    "            array_contains(\n",
    "                col(\"texts_to_get_type\"), \"Meetings are BORING!\"\n",
    "            ), \"normal\"\n",
    "        ).when(\n",
    "            array_contains(\n",
    "                col(\"texts_to_get_type\"), \"Sure!\"\n",
    "            ), \"dry\"\n",
    "        ).when(\n",
    "            array_contains(\n",
    "                col(\"texts_to_get_type\"), \"Do I have to?\"\n",
    "            ), \"nohumor\"\n",
    "        ).otherwise(\"noskark\")\n",
    "    ).drop(\"texts_to_get_type\", \"sets_of_texts_to_get_type\")"
   ]
  },
  {
   "cell_type": "markdown",
   "id": "903ab7d4",
   "metadata": {},
   "source": [
    "------------------------"
   ]
  },
  {
   "cell_type": "markdown",
   "id": "9c615a94",
   "metadata": {},
   "source": [
    "## Importação data da set"
   ]
  },
  {
   "cell_type": "code",
   "execution_count": 81,
   "id": "8f552e9b-5681-4f2d-9ff0-8e192f645fef",
   "metadata": {},
   "outputs": [
    {
     "data": {
      "application/vnd.jupyter.widget-view+json": {
       "model_id": "2abb44db8b2e44da917baf0f90dad06b",
       "version_major": 2,
       "version_minor": 0
      },
      "text/plain": [
       "VBox()"
      ]
     },
     "metadata": {},
     "output_type": "display_data"
    },
    {
     "data": {
      "application/vnd.jupyter.widget-view+json": {
       "model_id": "",
       "version_major": 2,
       "version_minor": 0
      },
      "text/plain": [
       "FloatProgress(value=0.0, bar_style='info', description='Progress:', layout=Layout(height='25px', width='50%'),…"
      ]
     },
     "metadata": {},
     "output_type": "display_data"
    }
   ],
   "source": [
    "train = StructType([StructField('session_id', LongType(), True),\n",
    "                     StructField('index', IntegerType(), True),\n",
    "                     StructField('elapsed_time', IntegerType(), True),\n",
    "                     StructField('event_name', StringType(), True),\n",
    "                     StructField('name', StringType(), True),\n",
    "                     StructField('level', IntegerType(), True),\n",
    "                     StructField('page', IntegerType(), True),\n",
    "                     StructField('room_coor_x', DoubleType(), True),\n",
    "                     StructField('room_coor_y', DoubleType(), True),\n",
    "                     StructField('screen_coor_x', IntegerType(), True),\n",
    "                     StructField('screen_coor_y', IntegerType(), True),\n",
    "                     StructField('hover_duration', DoubleType(), True),\n",
    "                     StructField('text', StringType(), True),\n",
    "                     StructField('fqid', StringType(), True),\n",
    "                     StructField('room_fqid', StringType(), True),\n",
    "                     StructField('text_fqid', StringType(), True),\n",
    "                     StructField('fullscreen', IntegerType(), True),\n",
    "                     StructField('hq', IntegerType(), True),\n",
    "                     StructField('music', IntegerType(), True),\n",
    "                     StructField('level_group', StringType(), True)])"
   ]
  },
  {
   "cell_type": "code",
   "execution_count": 82,
   "id": "72717eb8-3b6d-44cc-8b31-e55de494668a",
   "metadata": {},
   "outputs": [
    {
     "data": {
      "application/vnd.jupyter.widget-view+json": {
       "model_id": "1dba0eb0d8e04485a19ca4294745ec9d",
       "version_major": 2,
       "version_minor": 0
      },
      "text/plain": [
       "VBox()"
      ]
     },
     "metadata": {},
     "output_type": "display_data"
    },
    {
     "data": {
      "application/vnd.jupyter.widget-view+json": {
       "model_id": "",
       "version_major": 2,
       "version_minor": 0
      },
      "text/plain": [
       "FloatProgress(value=0.0, bar_style='info', description='Progress:', layout=Layout(height='25px', width='50%'),…"
      ]
     },
     "metadata": {},
     "output_type": "display_data"
    }
   ],
   "source": [
    "test = StructType([StructField('session_id', LongType(), True),\n",
    "                     StructField('index', IntegerType(), True),\n",
    "                     StructField('elapsed_time', IntegerType(), True),\n",
    "                     StructField('event_name', StringType(), True),\n",
    "                     StructField('name', StringType(), True),\n",
    "                     StructField('level', IntegerType(), True),\n",
    "                     StructField('page', DoubleType(), True),\n",
    "                     StructField('room_coor_x', DoubleType(), True),\n",
    "                     StructField('room_coor_y', DoubleType(), True),\n",
    "                     StructField('screen_coor_x', DoubleType(), True),\n",
    "                     StructField('screen_coor_y', DoubleType(), True),\n",
    "                     StructField('hover_duration', DoubleType(), True),\n",
    "                     StructField('text', StringType(), True),\n",
    "                     StructField('fqid', StringType(), True),\n",
    "                     StructField('room_fqid', StringType(), True),\n",
    "                     StructField('text_fqid', StringType(), True),\n",
    "                     StructField('fullscreen', IntegerType(), True),\n",
    "                     StructField('hq', IntegerType(), True),\n",
    "                     StructField('music', IntegerType(), True),\n",
    "                     StructField('level_group', StringType(), True),\n",
    "                     StructField('session_level', IntegerType(), True)])"
   ]
  },
  {
   "cell_type": "code",
   "execution_count": 83,
   "id": "04ac9a05-872c-4ffd-8e70-0d597b3ca5ba",
   "metadata": {},
   "outputs": [
    {
     "data": {
      "application/vnd.jupyter.widget-view+json": {
       "model_id": "09cdca6e859848e1aa5921aa6e66f264",
       "version_major": 2,
       "version_minor": 0
      },
      "text/plain": [
       "VBox()"
      ]
     },
     "metadata": {},
     "output_type": "display_data"
    },
    {
     "data": {
      "application/vnd.jupyter.widget-view+json": {
       "model_id": "",
       "version_major": 2,
       "version_minor": 0
      },
      "text/plain": [
       "FloatProgress(value=0.0, bar_style='info', description='Progress:', layout=Layout(height='25px', width='50%'),…"
      ]
     },
     "metadata": {},
     "output_type": "display_data"
    }
   ],
   "source": [
    "train_labs = StructType([StructField('session_id', StringType(), True),\n",
    "                     StructField('correct', IntegerType(), True)])"
   ]
  },
  {
   "cell_type": "code",
   "execution_count": 84,
   "id": "0f557ba2-2cf0-4fca-bb28-2caff4dde81a",
   "metadata": {},
   "outputs": [
    {
     "data": {
      "application/vnd.jupyter.widget-view+json": {
       "model_id": "3ec337f291614741aee2480871ac2925",
       "version_major": 2,
       "version_minor": 0
      },
      "text/plain": [
       "VBox()"
      ]
     },
     "metadata": {},
     "output_type": "display_data"
    },
    {
     "data": {
      "application/vnd.jupyter.widget-view+json": {
       "model_id": "",
       "version_major": 2,
       "version_minor": 0
      },
      "text/plain": [
       "FloatProgress(value=0.0, bar_style='info', description='Progress:', layout=Layout(height='25px', width='50%'),…"
      ]
     },
     "metadata": {},
     "output_type": "display_data"
    }
   ],
   "source": [
    "sample_sub = StructType([StructField('session_id', StringType(), True),\n",
    "                     StructField('correct', IntegerType(), True), StructField('session_level', IntegerType(), True)])"
   ]
  },
  {
   "cell_type": "code",
   "execution_count": 45,
   "id": "29dc7de3-b3b4-4064-bdcd-3e96ce185bb9",
   "metadata": {},
   "outputs": [
    {
     "data": {
      "application/vnd.jupyter.widget-view+json": {
       "model_id": "d78c98fad58044b79214ff6a6dce5150",
       "version_major": 2,
       "version_minor": 0
      },
      "text/plain": [
       "VBox()"
      ]
     },
     "metadata": {},
     "output_type": "display_data"
    },
    {
     "data": {
      "application/vnd.jupyter.widget-view+json": {
       "model_id": "",
       "version_major": 2,
       "version_minor": 0
      },
      "text/plain": [
       "FloatProgress(value=0.0, bar_style='info', description='Progress:', layout=Layout(height='25px', width='50%'),…"
      ]
     },
     "metadata": {},
     "output_type": "display_data"
    }
   ],
   "source": [
    "filename = \"s3://pbdplakarbucket/data/train_labels.csv\"\n",
    "train_labels = spark.read.csv(filename, header=True, schema=train_labs, sep=',')"
   ]
  },
  {
   "cell_type": "code",
   "execution_count": 83,
   "id": "d43b3d36-bb07-4f36-a797-a4add32752ef",
   "metadata": {},
   "outputs": [
    {
     "data": {
      "application/vnd.jupyter.widget-view+json": {
       "model_id": "89005639fb6b4ee9ad6671710b9c4114",
       "version_major": 2,
       "version_minor": 0
      },
      "text/plain": [
       "VBox()"
      ]
     },
     "metadata": {},
     "output_type": "display_data"
    },
    {
     "data": {
      "application/vnd.jupyter.widget-view+json": {
       "model_id": "",
       "version_major": 2,
       "version_minor": 0
      },
      "text/plain": [
       "FloatProgress(value=0.0, bar_style='info', description='Progress:', layout=Layout(height='25px', width='50%'),…"
      ]
     },
     "metadata": {},
     "output_type": "display_data"
    }
   ],
   "source": [
    "filename = \"s3://pbdplakarbucket/data/train.csv\"\n",
    "train_full = spark.read.csv(filename, header=True, schema=train, sep=',')"
   ]
  },
  {
   "cell_type": "code",
   "execution_count": 47,
   "id": "f0205a69-fe65-4585-a2c7-991782f6ee8f",
   "metadata": {},
   "outputs": [
    {
     "data": {
      "application/vnd.jupyter.widget-view+json": {
       "model_id": "0a0573ade5ee4203972aab20577bcaea",
       "version_major": 2,
       "version_minor": 0
      },
      "text/plain": [
       "VBox()"
      ]
     },
     "metadata": {},
     "output_type": "display_data"
    },
    {
     "data": {
      "application/vnd.jupyter.widget-view+json": {
       "model_id": "",
       "version_major": 2,
       "version_minor": 0
      },
      "text/plain": [
       "FloatProgress(value=0.0, bar_style='info', description='Progress:', layout=Layout(height='25px', width='50%'),…"
      ]
     },
     "metadata": {},
     "output_type": "display_data"
    }
   ],
   "source": [
    "filename = \"s3://pbdplakarbucket/data/test.csv\"\n",
    "teste = spark.read.csv(filename, header=True, schema=test, sep=',')"
   ]
  },
  {
   "cell_type": "code",
   "execution_count": 48,
   "id": "25885de7-e1f5-4c71-acf2-979e87790ab6",
   "metadata": {},
   "outputs": [
    {
     "data": {
      "application/vnd.jupyter.widget-view+json": {
       "model_id": "171c7d261ca44e62be80dae258c9b5d3",
       "version_major": 2,
       "version_minor": 0
      },
      "text/plain": [
       "VBox()"
      ]
     },
     "metadata": {},
     "output_type": "display_data"
    },
    {
     "data": {
      "application/vnd.jupyter.widget-view+json": {
       "model_id": "",
       "version_major": 2,
       "version_minor": 0
      },
      "text/plain": [
       "FloatProgress(value=0.0, bar_style='info', description='Progress:', layout=Layout(height='25px', width='50%'),…"
      ]
     },
     "metadata": {},
     "output_type": "display_data"
    }
   ],
   "source": [
    "#filename = \"s3://pbdplakarbucket/data/sample_submission.csv\"\n",
    "#sample_submissions = spark.read.csv(filename, header=True, schema=sample_sub, sep=',')"
   ]
  },
  {
   "cell_type": "code",
   "execution_count": null,
   "id": "fed964de",
   "metadata": {},
   "outputs": [],
   "source": [
    "test = spark.read.parquet(\"s3://pbdplakarbucket/data/df_test\")"
   ]
  },
  {
   "cell_type": "markdown",
   "id": "aee6ef2d",
   "metadata": {},
   "source": [
    "-------------"
   ]
  },
  {
   "cell_type": "markdown",
   "id": "24cf8efd",
   "metadata": {},
   "source": [
    "### dataset tratado, pronto para o treino/previsão"
   ]
  },
  {
   "cell_type": "code",
   "execution_count": null,
   "id": "a9bc0d0a",
   "metadata": {},
   "outputs": [],
   "source": [
    "trans_teste = spark.read.parquet(\"s3://pbdplakarbucket/data/trans_test\")\n",
    "trans_train = spark.read.parquet(\"s3://pbdplakarbucket/data/trans_train\")"
   ]
  },
  {
   "cell_type": "markdown",
   "id": "db528b74",
   "metadata": {},
   "source": [
    "-----------"
   ]
  },
  {
   "cell_type": "markdown",
   "id": "18a0a318",
   "metadata": {},
   "source": [
    "## Limpesa e tratamento"
   ]
  },
  {
   "cell_type": "code",
   "execution_count": 86,
   "id": "d6bd14aa",
   "metadata": {},
   "outputs": [
    {
     "data": {
      "application/vnd.jupyter.widget-view+json": {
       "model_id": "7ac31e065ef547c7a22386826c45a201",
       "version_major": 2,
       "version_minor": 0
      },
      "text/plain": [
       "VBox()"
      ]
     },
     "metadata": {},
     "output_type": "display_data"
    },
    {
     "data": {
      "application/vnd.jupyter.widget-view+json": {
       "model_id": "",
       "version_major": 2,
       "version_minor": 0
      },
      "text/plain": [
       "FloatProgress(value=0.0, bar_style='info', description='Progress:', layout=Layout(height='25px', width='50%'),…"
      ]
     },
     "metadata": {},
     "output_type": "display_data"
    }
   ],
   "source": [
    "cleaned_up = train_full"
   ]
  },
  {
   "cell_type": "code",
   "execution_count": 84,
   "id": "256e33af",
   "metadata": {},
   "outputs": [
    {
     "data": {
      "application/vnd.jupyter.widget-view+json": {
       "model_id": "d3d75d63498c4d37a29179cd12f4634d",
       "version_major": 2,
       "version_minor": 0
      },
      "text/plain": [
       "VBox()"
      ]
     },
     "metadata": {},
     "output_type": "display_data"
    },
    {
     "data": {
      "application/vnd.jupyter.widget-view+json": {
       "model_id": "",
       "version_major": 2,
       "version_minor": 0
      },
      "text/plain": [
       "FloatProgress(value=0.0, bar_style='info', description='Progress:', layout=Layout(height='25px', width='50%'),…"
      ]
     },
     "metadata": {},
     "output_type": "display_data"
    }
   ],
   "source": [
    "sessions_to_rem = train_full.filter(col(\"event_name\") == \"checkpoint\") \\\n",
    "    .groupBy(\"session_id\") \\\n",
    "    .count() \\\n",
    "    .filter(col(\"count\") != 3).cache()"
   ]
  },
  {
   "cell_type": "code",
   "execution_count": 87,
   "id": "43bb3bc8",
   "metadata": {},
   "outputs": [
    {
     "data": {
      "application/vnd.jupyter.widget-view+json": {
       "model_id": "6acccbd24b2c40a58cc100a7b8928d8b",
       "version_major": 2,
       "version_minor": 0
      },
      "text/plain": [
       "VBox()"
      ]
     },
     "metadata": {},
     "output_type": "display_data"
    },
    {
     "data": {
      "application/vnd.jupyter.widget-view+json": {
       "model_id": "",
       "version_major": 2,
       "version_minor": 0
      },
      "text/plain": [
       "FloatProgress(value=0.0, bar_style='info', description='Progress:', layout=Layout(height='25px', width='50%'),…"
      ]
     },
     "metadata": {},
     "output_type": "display_data"
    }
   ],
   "source": [
    "cleaned_up = cleaned_up.filter(~col(\"session_id\").isin([i.session_id for i in sessions_to_rem.collect()]))"
   ]
  },
  {
   "cell_type": "code",
   "execution_count": 88,
   "id": "7c979439",
   "metadata": {},
   "outputs": [
    {
     "data": {
      "application/vnd.jupyter.widget-view+json": {
       "model_id": "f41dd9eea4a94f4b823f57951b75b01a",
       "version_major": 2,
       "version_minor": 0
      },
      "text/plain": [
       "VBox()"
      ]
     },
     "metadata": {},
     "output_type": "display_data"
    },
    {
     "data": {
      "application/vnd.jupyter.widget-view+json": {
       "model_id": "",
       "version_major": 2,
       "version_minor": 0
      },
      "text/plain": [
       "FloatProgress(value=0.0, bar_style='info', description='Progress:', layout=Layout(height='25px', width='50%'),…"
      ]
     },
     "metadata": {},
     "output_type": "display_data"
    }
   ],
   "source": [
    "sessions_to_get = cleaned_up.select(\"session_id\").distinct().sample(fraction=0.8, seed=1)\n",
    "trans_train = train_full.join(\n",
    "    sessions_to_get, \n",
    "    train_full.session_id == sessions_to_get[\"session_id\"],\n",
    "    \"leftsemi\"\n",
    ")"
   ]
  },
  {
   "cell_type": "code",
   "execution_count": 89,
   "id": "2aec8176-0fe2-4aed-b988-91b5e9753a05",
   "metadata": {},
   "outputs": [
    {
     "data": {
      "application/vnd.jupyter.widget-view+json": {
       "model_id": "3f2fc31fd48a41a6a59d33f0c4c14d42",
       "version_major": 2,
       "version_minor": 0
      },
      "text/plain": [
       "VBox()"
      ]
     },
     "metadata": {},
     "output_type": "display_data"
    },
    {
     "data": {
      "application/vnd.jupyter.widget-view+json": {
       "model_id": "",
       "version_major": 2,
       "version_minor": 0
      },
      "text/plain": [
       "FloatProgress(value=0.0, bar_style='info', description='Progress:', layout=Layout(height='25px', width='50%'),…"
      ]
     },
     "metadata": {},
     "output_type": "display_data"
    }
   ],
   "source": [
    "\n",
    "pipeline_no_ML = Pipeline(stages =[\n",
    "    the_transformer([\n",
    "        add_id,\n",
    "        (elapsed_to_diff, \"elapsed_time\", \"elapsed_diff_ms\"),\n",
    "        (negative_to_0, \"elapsed_diff_ms\"),\n",
    "        (elapsed_to_hours, \"elapsed_time\", \"elapsed_time_h\"),\n",
    "        agg1,\n",
    "        agg2,\n",
    "        typeOfText,\n",
    "    ]),\n",
    "    VectorAssembler(inputCols = [\"inv_total_time_h\", \"inv_total_time_h_0-4\", \"inv_total_time_h_5-12\"], outputCol = \"inv_time_stand_per_group\"),\n",
    "    StandardScaler(inputCol = \"inv_time_stand_per_group\", outputCol = \"inv_time_standed_per_group\", withMean = True),\n",
    "    StringIndexer(inputCol = \"type_of_script\", outputCol = \"index_of_type_of_script\"),\n",
    "    OneHotEncoder(inputCol = \"index_of_type_of_script\", outputCol=\"dummies_of_type_of_script\"), #sparse vector\n",
    "])"
   ]
  },
  {
   "cell_type": "code",
   "execution_count": 63,
   "id": "891d7e49-a4dd-4f2e-a3ba-249de427692b",
   "metadata": {},
   "outputs": [
    {
     "data": {
      "application/vnd.jupyter.widget-view+json": {
       "model_id": "e1b5b8201a1c4bb8b7095a45793751d6",
       "version_major": 2,
       "version_minor": 0
      },
      "text/plain": [
       "VBox()"
      ]
     },
     "metadata": {},
     "output_type": "display_data"
    },
    {
     "data": {
      "application/vnd.jupyter.widget-view+json": {
       "model_id": "",
       "version_major": 2,
       "version_minor": 0
      },
      "text/plain": [
       "FloatProgress(value=0.0, bar_style='info', description='Progress:', layout=Layout(height='25px', width='50%'),…"
      ]
     },
     "metadata": {},
     "output_type": "display_data"
    }
   ],
   "source": [
    "doing_features = True"
   ]
  },
  {
   "cell_type": "code",
   "execution_count": 93,
   "id": "8e756940-860f-42c0-91dd-af147ca85cf5",
   "metadata": {
    "scrolled": true
   },
   "outputs": [
    {
     "data": {
      "application/vnd.jupyter.widget-view+json": {
       "model_id": "9ec3302bbfc342babb7e2a43e322a923",
       "version_major": 2,
       "version_minor": 0
      },
      "text/plain": [
       "VBox()"
      ]
     },
     "metadata": {},
     "output_type": "display_data"
    },
    {
     "data": {
      "application/vnd.jupyter.widget-view+json": {
       "model_id": "",
       "version_major": 2,
       "version_minor": 0
      },
      "text/plain": [
       "FloatProgress(value=0.0, bar_style='info', description='Progress:', layout=Layout(height='25px', width='50%'),…"
      ]
     },
     "metadata": {},
     "output_type": "display_data"
    }
   ],
   "source": [
    "pipeline_fitted = pipeline_no_ML.fit(trans_train)\n",
    "def tempo():\n",
    "    transformer = pipeline_no_ML.fit(trans_train);\n",
    "    trans_train = transformer.transform(trans_train);\n",
    "    # pivoted {\n",
    "    splited = train_labels \\\n",
    "        .select(\n",
    "            split('session_id', '_').alias('both'),\n",
    "            'correct'\n",
    "        ).select(\n",
    "            col('both')[0].alias('session_id'),\n",
    "            col('both')[1].alias('question'),\n",
    "            col('correct').alias('isCorrect')\n",
    "        );\n",
    "    pivoted = splited \\\n",
    "    .groupby('session_id') \\\n",
    "    .pivot('question') \\\n",
    "    .agg(first('isCorrect'));\n",
    "    trans_joined = trans_train.join(pivoted, ['session_id'], 'left');\n",
    "    trans_joined.drop(trans_joined.session_id);\n",
    "    #trans_joined.write.mode(\"overwrite\").parquet(r\"data\\trans_train\")\n",
    "\n",
    "    trans_test = transformer.transform(test);\n",
    "    trans_test.drop(trans_test.session_id);\n",
    "    #trans_test.write.mode(\"overwrite\").parquet(r\"data\\trans_test\")\n",
    "\n",
    "    trans_train = trans_joined;\n",
    "    return trans_test,trans_train"
   ]
  },
  {
   "cell_type": "code",
   "execution_count": 72,
   "id": "1c607d0d",
   "metadata": {},
   "outputs": [
    {
     "data": {
      "application/vnd.jupyter.widget-view+json": {
       "model_id": "650d5e440f654ea386fe0982369176c7",
       "version_major": 2,
       "version_minor": 0
      },
      "text/plain": [
       "VBox()"
      ]
     },
     "metadata": {},
     "output_type": "display_data"
    },
    {
     "data": {
      "application/vnd.jupyter.widget-view+json": {
       "model_id": "",
       "version_major": 2,
       "version_minor": 0
      },
      "text/plain": [
       "FloatProgress(value=0.0, bar_style='info', description='Progress:', layout=Layout(height='25px', width='50%'),…"
      ]
     },
     "metadata": {},
     "output_type": "display_data"
    },
    {
     "name": "stderr",
     "output_type": "stream",
     "text": [
      "An error was encountered:\n",
      "name 'splited' is not defined\n",
      "Traceback (most recent call last):\n",
      "NameError: name 'splited' is not defined\n",
      "\n"
     ]
    }
   ],
   "source": [
    "pivoted = splited \\\n",
    "    .groupby(\"session_id\") \\\n",
    "    .pivot(\"question\") \\\n",
    "    .agg(first(\"isCorrect\"))\n",
    "# }\n",
    "# add pivoted"
   ]
  },
  {
   "cell_type": "markdown",
   "id": "c15efa7e",
   "metadata": {},
   "source": [
    "--------------"
   ]
  },
  {
   "cell_type": "code",
   "execution_count": 73,
   "id": "1c676059",
   "metadata": {},
   "outputs": [
    {
     "data": {
      "application/vnd.jupyter.widget-view+json": {
       "model_id": "6dce253a42c44101bbb78f17447991ad",
       "version_major": 2,
       "version_minor": 0
      },
      "text/plain": [
       "VBox()"
      ]
     },
     "metadata": {},
     "output_type": "display_data"
    },
    {
     "data": {
      "application/vnd.jupyter.widget-view+json": {
       "model_id": "",
       "version_major": 2,
       "version_minor": 0
      },
      "text/plain": [
       "FloatProgress(value=0.0, bar_style='info', description='Progress:', layout=Layout(height='25px', width='50%'),…"
      ]
     },
     "metadata": {},
     "output_type": "display_data"
    },
    {
     "name": "stderr",
     "output_type": "stream",
     "text": [
      "An error was encountered:\n",
      "name 'pivoted' is not defined\n",
      "Traceback (most recent call last):\n",
      "NameError: name 'pivoted' is not defined\n",
      "\n"
     ]
    }
   ],
   "source": [
    "trans_joined = trans_train.join(pivoted, [\"session_id\"], \"left\")\n",
    "trans_joined.drop(trans_joined.session_id)\n",
    "trans_joined.write.mode(\"overwrite\").parquet(\"s3://pbdplakarbucket/data/trans_train_08\")"
   ]
  },
  {
   "cell_type": "code",
   "execution_count": 122,
   "id": "93b7291e",
   "metadata": {},
   "outputs": [
    {
     "data": {
      "application/vnd.jupyter.widget-view+json": {
       "model_id": "0a9b346f7f15496a88e0c272e93d4ff1",
       "version_major": 2,
       "version_minor": 0
      },
      "text/plain": [
       "VBox()"
      ]
     },
     "metadata": {},
     "output_type": "display_data"
    },
    {
     "data": {
      "application/vnd.jupyter.widget-view+json": {
       "model_id": "",
       "version_major": 2,
       "version_minor": 0
      },
      "text/plain": [
       "FloatProgress(value=0.0, bar_style='info', description='Progress:', layout=Layout(height='25px', width='50%'),…"
      ]
     },
     "metadata": {},
     "output_type": "display_data"
    }
   ],
   "source": [
    "if True:\n",
    "    sessions_to_get = cleaned_up.select(\"session_id\").distinct().sample(fraction=0.8, seed=1)\n",
    "    test = trans_joined.join(\n",
    "        sessions_to_get, \n",
    "        trans_joined.session_id == sessions_to_get[\"session_id\"],\n",
    "        \"leftanti\"\n",
    "    )\n",
    "    #test_to_parquet.write.mode(\"overwrite\").parquet(\"s3://pbdplakarbucket/data/trans_test_02\")"
   ]
  },
  {
   "cell_type": "code",
   "execution_count": 135,
   "id": "9e678447",
   "metadata": {},
   "outputs": [
    {
     "data": {
      "application/vnd.jupyter.widget-view+json": {
       "model_id": "604e5145ca404383be55e4618658f17c",
       "version_major": 2,
       "version_minor": 0
      },
      "text/plain": [
       "VBox()"
      ]
     },
     "metadata": {},
     "output_type": "display_data"
    },
    {
     "data": {
      "application/vnd.jupyter.widget-view+json": {
       "model_id": "",
       "version_major": 2,
       "version_minor": 0
      },
      "text/plain": [
       "FloatProgress(value=0.0, bar_style='info', description='Progress:', layout=Layout(height='25px', width='50%'),…"
      ]
     },
     "metadata": {},
     "output_type": "display_data"
    },
    {
     "name": "stdout",
     "output_type": "stream",
     "text": [
      "['session_id', 'max_index', 'inv_total_time_h_0-4', 'inv_total_time_h_5-12', 'inv_total_time_h', 'obs_opcional', 'obs_no_in', 'notebook_opens', 'notebook_explorer', 'fullscreen', 'hq', 'music', 'avg_elapsed_diff_ms_cutscene', 'avg_elapsed_diff_ms_person', 'avg_elapsed_diff_ms_navigate', 'type_of_script', 'inv_time_stand_per_group', 'inv_time_standed_per_group', 'index_of_type_of_script', 'dummies_of_type_of_script', 'q1', 'q10', 'q11', 'q12', 'q13', 'q14', 'q15', 'q16', 'q17', 'q18', 'q2', 'q3', 'q4', 'q5', 'q6', 'q7', 'q8', 'q9']"
     ]
    }
   ],
   "source": [
    "test.columns"
   ]
  },
  {
   "cell_type": "markdown",
   "id": "83414094",
   "metadata": {},
   "source": [
    "---------------------"
   ]
  },
  {
   "cell_type": "markdown",
   "id": "eacb3fec",
   "metadata": {},
   "source": [
    "## Cálculo do tempo das features\n"
   ]
  },
  {
   "cell_type": "code",
   "execution_count": 43,
   "id": "e1b05292",
   "metadata": {},
   "outputs": [
    {
     "data": {
      "application/vnd.jupyter.widget-view+json": {
       "model_id": "6629b2db23b148f0b5a3cd88fd905d25",
       "version_major": 2,
       "version_minor": 0
      },
      "text/plain": [
       "VBox()"
      ]
     },
     "metadata": {},
     "output_type": "display_data"
    },
    {
     "data": {
      "application/vnd.jupyter.widget-view+json": {
       "model_id": "",
       "version_major": 2,
       "version_minor": 0
      },
      "text/plain": [
       "FloatProgress(value=0.0, bar_style='info', description='Progress:', layout=Layout(height='25px', width='50%'),…"
      ]
     },
     "metadata": {},
     "output_type": "display_data"
    }
   ],
   "source": [
    "\n",
    "aff = '''\n",
    "trans_train = train_full.join(\n",
    "    sessions_to_get, \n",
    "    train_full.session_id == sessions_to_get[\"session_id\"],\n",
    "    \"leftsemi\"\n",
    ")\n",
    "'''\n",
    "kakaka ='''\n",
    "\n",
    "\n",
    "def tempo(xa):\n",
    "    transformer = pipeline_no_ML.fit(xa)\n",
    "    trans_train = transformer.transform(xa)\n",
    "    # pivoted {\n",
    "    splited = train_labels \\\n",
    "        .select(\n",
    "            split('session_id', '_').alias('both'),\n",
    "            'correct'\n",
    "        ).select(\n",
    "            col('both')[0].alias('session_id'),\n",
    "            col('both')[1].alias('question'),\n",
    "            col('correct').alias('isCorrect')\n",
    "        );\n",
    "    pivoted = splited \\\n",
    "    .groupby('session_id') \\\n",
    "    .pivot('question') \\\n",
    "    .agg(first('isCorrect'));\n",
    "    trans_joined = xa.join(pivoted, ['session_id'], 'left');\n",
    "    trans_joined.drop(trans_joined.session_id);\n",
    "    #trans_joined.write.mode(\"overwrite\").parquet(r\"data\\trans_train\")\n",
    "\n",
    "    trans_test2 = transformer.transform(test);\n",
    "    trans_test2.drop(trans_test2.session_id);\n",
    "    #trans_test.write.mode(\"overwrite\").parquet(r\"data\\trans_test\")\n",
    "\n",
    "    trans_train1 = trans_joined;\n",
    "    return trans_test2,trans_train1\n",
    "\n",
    "trans_train2,trans_teste2 = tempo(trans_train)\n",
    "#trans_train2.count(); trans_teste2.count()\n",
    "'''"
   ]
  },
  {
   "cell_type": "code",
   "execution_count": null,
   "id": "fb404566-732d-4cea-9fe7-20634b49030b",
   "metadata": {},
   "outputs": [],
   "source": [
    "tempo = tm.Timer(stmt=kakaka, globals=globals())\n",
    "tempo.repeat(repeat=5,number=1)"
   ]
  },
  {
   "cell_type": "code",
   "execution_count": null,
   "id": "4b2c5849",
   "metadata": {},
   "outputs": [],
   "source": [
    "t = tm.Timer('trans_train1.count(); trans_teste.count()',setup=f\"transformer = pipeline_no_ML.fit({trans_train}); trans_train = transformer.transform({trans_train}); splited = train_labels.select(split('session_id', '_').alias('both'),'correct').select(col('both')[0].alias('session_id'),col('both')[1].alias('question'),col('correct').alias('isCorrect')); pivoted = splited.groupby('session_id').pivot('question').agg(first('isCorrect')); trans_joined = trans_train.join(pivoted, ['session_id'], 'left'); trans_joined.drop(trans_joined.session_id); trans_test = transformer.transform(test); trans_test.drop(trans_test.session_id); trans_train1 = trans_joined;\", globals=globals())\n",
    "t.repeat(repeat=5,number=1)"
   ]
  },
  {
   "cell_type": "markdown",
   "id": "c0f6a6db-0da9-45b9-8c7d-2d3d23d6c369",
   "metadata": {},
   "source": [
    "### Modelo Regressão Logistica"
   ]
  },
  {
   "cell_type": "code",
   "execution_count": 48,
   "id": "64c8e984-5688-427c-b16c-13d9100ca35c",
   "metadata": {},
   "outputs": [
    {
     "data": {
      "application/vnd.jupyter.widget-view+json": {
       "model_id": "bf295779e6ae4124b8ac000c13ed34c3",
       "version_major": 2,
       "version_minor": 0
      },
      "text/plain": [
       "VBox()"
      ]
     },
     "metadata": {},
     "output_type": "display_data"
    },
    {
     "data": {
      "application/vnd.jupyter.widget-view+json": {
       "model_id": "",
       "version_major": 2,
       "version_minor": 0
      },
      "text/plain": [
       "FloatProgress(value=0.0, bar_style='info', description='Progress:', layout=Layout(height='25px', width='50%'),…"
      ]
     },
     "metadata": {},
     "output_type": "display_data"
    }
   ],
   "source": [
    "stages_ml = [\n",
    "    VectorAssembler(inputCols = [\n",
    " 'max_index',\n",
    " 'obs_opcional',\n",
    " 'obs_no_in',\n",
    " 'notebook_opens',\n",
    " 'notebook_explorer',\n",
    " 'fullscreen',\n",
    " 'hq',\n",
    " 'music',\n",
    " 'avg_elapsed_diff_ms_cutscene',\n",
    " 'avg_elapsed_diff_ms_person',\n",
    " 'avg_elapsed_diff_ms_navigate',\n",
    " 'inv_time_standed_per_group',\n",
    " 'dummies_of_type_of_script'\n",
    "    ], outputCol=\"features\")\n",
    "]\n",
    "maxIter = 10\n",
    "regularization = 0.01\n",
    "for i in range(1, 19):\n",
    "    lr = LogisticRegression(\n",
    "        labelCol = f\"q{i}\",\n",
    "        predictionCol=f\"q{i}_pred\",\n",
    "        maxIter = maxIter,\n",
    "        standardization = False,\n",
    "        regParam=regularization,\n",
    "        rawPredictionCol = f\"q{i}_pred_raw\",\n",
    "        probabilityCol = f\"q{i}_pred_prob\"\n",
    "    )\n",
    "    stages_ml.append(lr)"
   ]
  },
  {
   "cell_type": "code",
   "execution_count": 49,
   "id": "9e7eb821-e27e-4436-b228-95ba99316998",
   "metadata": {},
   "outputs": [
    {
     "data": {
      "application/vnd.jupyter.widget-view+json": {
       "model_id": "f6e4115ebb1b44aeb971beb2c174d70f",
       "version_major": 2,
       "version_minor": 0
      },
      "text/plain": [
       "VBox()"
      ]
     },
     "metadata": {},
     "output_type": "display_data"
    },
    {
     "data": {
      "application/vnd.jupyter.widget-view+json": {
       "model_id": "",
       "version_major": 2,
       "version_minor": 0
      },
      "text/plain": [
       "FloatProgress(value=0.0, bar_style='info', description='Progress:', layout=Layout(height='25px', width='50%'),…"
      ]
     },
     "metadata": {},
     "output_type": "display_data"
    }
   ],
   "source": [
    "logistic_only_pipeline = Pipeline(stages = stages_ml)"
   ]
  },
  {
   "cell_type": "code",
   "execution_count": 48,
   "id": "5c6a9565-b39f-4a70-8061-e4ec70a5481b",
   "metadata": {},
   "outputs": [
    {
     "data": {
      "application/vnd.jupyter.widget-view+json": {
       "model_id": "1e17daef0fdb47a7b884a1800d282254",
       "version_major": 2,
       "version_minor": 0
      },
      "text/plain": [
       "VBox()"
      ]
     },
     "metadata": {},
     "output_type": "display_data"
    },
    {
     "data": {
      "application/vnd.jupyter.widget-view+json": {
       "model_id": "",
       "version_major": 2,
       "version_minor": 0
      },
      "text/plain": [
       "FloatProgress(value=0.0, bar_style='info', description='Progress:', layout=Layout(height='25px', width='50%'),…"
      ]
     },
     "metadata": {},
     "output_type": "display_data"
    }
   ],
   "source": [
    "pred = logistic_only_pipeline.fit(trans_train)"
   ]
  },
  {
   "cell_type": "code",
   "execution_count": 49,
   "id": "5a5948fc",
   "metadata": {},
   "outputs": [
    {
     "data": {
      "application/vnd.jupyter.widget-view+json": {
       "model_id": "1aea8d18db9c4dea8ecef28d9b9e365c",
       "version_major": 2,
       "version_minor": 0
      },
      "text/plain": [
       "VBox()"
      ]
     },
     "metadata": {},
     "output_type": "display_data"
    },
    {
     "data": {
      "application/vnd.jupyter.widget-view+json": {
       "model_id": "",
       "version_major": 2,
       "version_minor": 0
      },
      "text/plain": [
       "FloatProgress(value=0.0, bar_style='info', description='Progress:', layout=Layout(height='25px', width='50%'),…"
      ]
     },
     "metadata": {},
     "output_type": "display_data"
    }
   ],
   "source": [
    "trans_pred = pred.transform(trans_teste)"
   ]
  },
  {
   "cell_type": "code",
   "execution_count": 57,
   "id": "73773f8a-bcd3-44fd-807f-57494276ca43",
   "metadata": {},
   "outputs": [
    {
     "data": {
      "application/vnd.jupyter.widget-view+json": {
       "model_id": "9a09896cbb9d4a009c68960c8226e1a3",
       "version_major": 2,
       "version_minor": 0
      },
      "text/plain": [
       "VBox()"
      ]
     },
     "metadata": {},
     "output_type": "display_data"
    },
    {
     "data": {
      "application/vnd.jupyter.widget-view+json": {
       "model_id": "",
       "version_major": 2,
       "version_minor": 0
      },
      "text/plain": [
       "FloatProgress(value=0.0, bar_style='info', description='Progress:', layout=Layout(height='25px', width='50%'),…"
      ]
     },
     "metadata": {},
     "output_type": "display_data"
    },
    {
     "name": "stdout",
     "output_type": "stream",
     "text": [
      "+-----------------+---------+--------------------+---------------------+------------------+------------+---------+--------------+-----------------+----------+---+-----+----------------------------+--------------------------+----------------------------+--------------+--------------------------------------------------+--------------------------------------------------+-----------------------+-------------------------+--------------------------------------------------+--------------------------------------------+----------------------------------------+-------+----------------------------------------+-----------------------------------------+-------+----------------------------------------+-----------------------------------------+-------+------------------------------------------+----------------------------------------+-------+--------------------------------------------+----------------------------------------+-------+------------------------------------------+----------------------------------------+-------+------------------------------------------+----------------------------------------+-------+--------------------------------------------+----------------------------------------+-------+------------------------------------------+----------------------------------------+-------+------------------------------------------+----------------------------------------+--------+------------------------------------------+----------------------------------------+--------+----------------------------------------+----------------------------------------+--------+------------------------------------------+----------------------------------------+--------+------------------------------------------+----------------------------------------+--------+------------------------------------------+----------------------------------------+--------+----------------------------------------+----------------------------------------+--------+----------------------------------------+----------------------------------------+--------+----------------------------------------+-----------------------------------------+--------+\n",
      "|       session_id|max_index|inv_total_time_h_0-4|inv_total_time_h_5-12|  inv_total_time_h|obs_opcional|obs_no_in|notebook_opens|notebook_explorer|fullscreen| hq|music|avg_elapsed_diff_ms_cutscene|avg_elapsed_diff_ms_person|avg_elapsed_diff_ms_navigate|type_of_script|                          inv_time_stand_per_group|                        inv_time_standed_per_group|index_of_type_of_script|dummies_of_type_of_script|                                          features|                                 q1_pred_raw|                            q1_pred_prob|q1_pred|                             q2_pred_raw|                             q2_pred_prob|q2_pred|                             q3_pred_raw|                             q3_pred_prob|q3_pred|                               q4_pred_raw|                            q4_pred_prob|q4_pred|                                 q5_pred_raw|                            q5_pred_prob|q5_pred|                               q6_pred_raw|                            q6_pred_prob|q6_pred|                               q7_pred_raw|                            q7_pred_prob|q7_pred|                                 q8_pred_raw|                            q8_pred_prob|q8_pred|                               q9_pred_raw|                            q9_pred_prob|q9_pred|                              q10_pred_raw|                           q10_pred_prob|q10_pred|                              q11_pred_raw|                           q11_pred_prob|q11_pred|                            q12_pred_raw|                           q12_pred_prob|q12_pred|                              q13_pred_raw|                           q13_pred_prob|q13_pred|                              q14_pred_raw|                           q14_pred_prob|q14_pred|                              q15_pred_raw|                           q15_pred_prob|q15_pred|                            q16_pred_raw|                           q16_pred_prob|q16_pred|                            q17_pred_raw|                           q17_pred_prob|q17_pred|                            q18_pred_raw|                            q18_pred_prob|q18_pred|\n",
      "+-----------------+---------+--------------------+---------------------+------------------+------------+---------+--------------+-----------------+----------+---+-----+----------------------------+--------------------------+----------------------------+--------------+--------------------------------------------------+--------------------------------------------------+-----------------------+-------------------------+--------------------------------------------------+--------------------------------------------+----------------------------------------+-------+----------------------------------------+-----------------------------------------+-------+----------------------------------------+-----------------------------------------+-------+------------------------------------------+----------------------------------------+-------+--------------------------------------------+----------------------------------------+-------+------------------------------------------+----------------------------------------+-------+------------------------------------------+----------------------------------------+-------+--------------------------------------------+----------------------------------------+-------+------------------------------------------+----------------------------------------+-------+------------------------------------------+----------------------------------------+--------+------------------------------------------+----------------------------------------+--------+----------------------------------------+----------------------------------------+--------+------------------------------------------+----------------------------------------+--------+------------------------------------------+----------------------------------------+--------+------------------------------------------+----------------------------------------+--------+----------------------------------------+----------------------------------------+--------+----------------------------------------+----------------------------------------+--------+----------------------------------------+-----------------------------------------+--------+\n",
      "|20090312455206810|      826|   9.911184772015218|    5.688461903106532|3.0276270972625206|           1|        0|            16|                0|         1|  1|    1|           824.7457279994227|         548.0504217088376|          3012.5622571779527|       nohumor|[3.0276270972625206,9.911184772015218,5.6884619...|[0.038973983281762194,-0.12088041788485233,0.02...|                    2.0|            (3,[2],[1.0])|[826.0,1.0,0.0,16.0,0.0,1.0,1.0,1.0,824.7457279...|    [-1.5654617370955817,1.5654617370955817]| [0.1728643197161041,0.8271356802838958]|    1.0|  [-4.580408449063871,4.580408449063871]|[0.010146697707972333,0.9898533022920276]|    1.0|[-3.2313032036456826,3.2313032036456826]| [0.03800457295537287,0.9619954270446271]|    1.0|  [-2.1294012938132423,2.1294012938132423]|[0.10627184227094384,0.8937281577290561]|    1.0|    [-0.7077794464411029,0.7077794464411029]|[0.33008968688201135,0.6699103131179887]|    1.0|  [-1.9797455668588408,1.9797455668588408]| [0.1213459632248639,0.8786540367751361]|    1.0|  [-1.4997361788039394,1.4997361788039394]|   [0.182464875098466,0.817535124901534]|    1.0|    [-0.8140440216185145,0.8140440216185145]|  [0.307029409351914,0.6929705906480861]|    1.0|    [-1.738367619955206,1.738367619955206]|[0.14952039584571183,0.8504796041542881]|    1.0|  [-0.4681291764429414,0.4681291764429414]|[0.38505913792987667,0.6149408620701233]|     1.0|  [-1.0595793828702293,1.0595793828702293]| [0.2573898433821636,0.7426101566178365]|     1.0|  [-2.343820837414004,2.343820837414004]|[0.08755818003308545,0.9124418199669145]|     1.0|[0.42355870572609045,-0.42355870572609045]| [0.6043345025027024,0.3956654974972976]|     0.0|  [-1.5770702022799614,1.5770702022799614]|[0.17121081311450176,0.8287891868854982]|     1.0|  [-0.4868094926518298,0.4868094926518298]| [0.3806454571410169,0.6193545428589831]|     1.0|    [-1.16495897199417,1.16495897199417]|[0.23776738216472112,0.7622326178352788]|     1.0|[-0.8713659711223889,0.8713659711223889]| [0.2949701513392038,0.7050298486607962]|     1.0|  [-3.295591359491291,3.295591359491291]| [0.03572274162178009,0.9642772583782199]|     1.0|\n",
      "|20090314441803444|      832|  20.344385232236807|     6.53914130176139| 2.821869488536155|           2|        0|             0|                0|         0|  0|    0|          1418.3608865423746|        1187.4140487736313|           2008.211948790896|           dry|[2.821869488536155,20.344385232236807,6.5391413...|[0.031165864321104887,0.13753109586171985,0.041...|                    1.0|            (3,[1],[1.0])|(17,[0,1,8,9,10,11,12,13,15],[832.0,2.0,1418.36...|        [-1.96967951751331,1.96967951751331]|[0.12242331396397663,0.8775766860360233]|    1.0|  [-4.931111211250415,4.931111211250415]|[0.007166744584554932,0.9928332554154451]|    1.0|  [-3.520526755779458,3.520526755779458]|[0.028733791491666386,0.9712662085083336]|    1.0|  [-2.3301849531692453,2.3301849531692453]|[0.08865371896761269,0.9113462810323874]|    1.0|    [-0.8511678984096085,0.8511678984096085]| [0.29918792158371904,0.700812078416281]|    1.0|  [-2.0620832831194384,2.0620832831194384]|[0.11283711495496647,0.8871628850450335]|    1.0|  [-1.7601365902106734,1.7601365902106734]|[0.14677323366768838,0.8532267663323116]|    1.0|    [-0.7851892061816335,0.7851892061816335]|[0.31320257239638455,0.6867974276036155]|    1.0|    [-1.642439294028552,1.642439294028552]|[0.16213342065806743,0.8378665793419325]|    1.0|  [-0.6540019340996026,0.6540019340996026]|[0.34208827812815645,0.6579117218718435]|     1.0|  [-1.1469407599003223,1.1469407599003223]|[0.24104830928601312,0.7589516907139868]|     1.0|  [-2.370169789665064,2.370169789665064]| [0.08547586608625399,0.914524133913746]|     1.0|  [0.5163098655627452,-0.5163098655627452]|[0.6262844853981068,0.37371551460189323]|     0.0|  [-1.3919264307683434,1.3919264307683434]| [0.1991003912319991,0.8008996087680009]|     1.0|  [-0.4361282954866299,0.4361282954866299]|[0.39266390462892076,0.6073360953710792]|     1.0|[-1.1549261685229255,1.1549261685229255]|[0.23959044887804787,0.7604095511219522]|     1.0|    [-1.08259171077281,1.08259171077281]|[0.25301587285793375,0.7469841271420663]|     1.0|  [-3.633995171956281,3.633995171956281]|[0.025730894299062487,0.9742691057009375]|     1.0|\n",
      "|20090315101457836|     1152|  13.364318753851522|    4.841065141910446| 2.293525377858306|           5|        1|            16|                0|         1|  1|    1|          1706.3051094663997|        1500.8795339855349|          1355.6719522242508|       nohumor|[2.293525377858306,13.364318753851522,4.8410651...|[0.011116186965932959,-0.03535253190027732,-0.0...|                    2.0|            (3,[2],[1.0])|[1152.0,5.0,1.0,16.0,0.0,1.0,1.0,1.0,1706.30510...|    [-0.9799933055949626,0.9799933055949626]| [0.2728931119771762,0.7271068880228237]|    1.0|  [-4.091031826382897,4.091031826382897]|[0.016446945152166152,0.9835530548478338]|    1.0|  [-2.732071198555926,2.732071198555926]|[0.061107223596913916,0.9388927764030861]|    1.0|    [-1.399638640635128,1.399638640635128]|[0.19787345997685477,0.8021265400231452]|    1.0|[-0.050527552035680046,0.050527552035680046]|[0.48737079877459066,0.5126292012254093]|    1.0|  [-1.2779163442350567,1.2779163442350567]| [0.2179051166225919,0.7820948833774081]|    1.0|  [-1.0836092351745845,1.0836092351745845]| [0.25282361025992905,0.747176389740071]|    1.0|  [-0.48598227469455013,0.48598227469455013]|[0.38084049673678816,0.6191595032632118]|    1.0|  [-1.0502712500162135,1.0502712500162135]|[0.25917301677142185,0.7408269832285781]|    1.0|[0.05029738232396075,-0.05029738232396075]|[0.5125716953418868,0.48742830465811315]|     0.0|  [-0.6484600822635436,0.6484600822635436]| [0.3433366381236495,0.6566633618763504]|     1.0|[-1.9941396199809407,1.9941396199809407]| [0.11981959875261909,0.880180401247381]|     1.0|  [1.1023176037829523,-1.1023176037829523]| [0.750694102822481,0.24930589717751905]|     0.0|    [-0.972851496213214,0.972851496213214]|  [0.2743125035285409,0.725687496471459]|     1.0|[0.10160570399612401,-0.10160570399612401]| [0.5253795954371495,0.4746204045628505]|     0.0|[-1.0129592251700266,1.0129592251700266]|   [0.266401125118725,0.733598874881275]|     1.0|[-0.6947962454908148,0.6947962454908148]| [0.3329669752342123,0.6670330247657876]|     1.0|  [-2.916524427400959,2.916524427400959]|[0.051342720670731104,0.9486572793292689]|     1.0|\n",
      "|20090315170769824|     1043|  13.198319413994618|    4.640245623668346| 2.281331232818724|           5|        1|            18|                3|         0|  0|    1|           1487.236936059721|        1323.5236196501232|           1709.420822833101|       noskark|[2.281331232818724,13.198319413994618,4.6402456...|[0.010653441817979833,-0.0394640354467589,-0.00...|                    3.0|                (3,[],[])|[1043.0,5.0,1.0,18.0,3.0,0.0,0.0,1.0,1487.23693...|    [-1.0741148615509104,1.0741148615509104]|[0.25462133920216967,0.7453786607978303]|    1.0|  [-3.997193915411323,3.997193915411323]|[0.018035840105540876,0.9819641598944592]|    1.0|[-2.7600526456656334,2.7600526456656334]|[0.059521418876472464,0.9404785811235276]|    1.0|      [-1.60552392533651,1.60552392533651]|[0.16721098544311766,0.8327890145568824]|    1.0|    [-0.3768802440299819,0.3768802440299819]| [0.4068795640877742,0.5931204359122257]|    1.0|  [-1.4483174043026241,1.4483174043026241]|[0.19026065420661764,0.8097393457933824]|    1.0|  [-1.1749943063580548,1.1749943063580548]| [0.23595342664738492,0.764046573352615]|    1.0|    [-0.5307389629173487,0.5307389629173487]|[0.37034455316151654,0.6296554468384834]|    1.0|  [-1.3248750691174047,1.3248750691174047]|[0.21000835246133165,0.7899916475386684]|    1.0|[-0.16865667490007152,0.16865667490007152]|   [0.457935494699484,0.542064505300516]|     1.0|  [-0.7179621141065295,0.7179621141065295]|  [0.3278418970513019,0.672158102948698]|     1.0|    [-2.01608476180373,2.01608476180373]| [0.1175244421379315,0.8824755578620684]|     1.0|  [0.8974727206312165,-0.8974727206312165]|[0.7104298691832533,0.28957013081674665]|     0.0|  [-1.1162504610550676,1.1162504610550676]|[0.24670744669355654,0.7532925533064434]|     1.0|[-0.08969634245246905,0.08969634245246905]|[0.47759093659243507,0.5224090634075649]|     1.0|[-1.0887342902111328,1.0887342902111328]| [0.2518566947203772,0.7481433052796228]|     1.0|[-0.8046231259032972,0.8046231259032972]| [0.30903745696428797,0.690962543035712]|     1.0|[-3.0011587242655686,3.0011587242655686]|[0.047373553328533116,0.9526264466714669]|     1.0|\n",
      "|20090318021527530|     2101|  14.084672355309333|    3.956461340976631|1.0204313022971043|           2|        3|             2|                0|         0|  0|    1|           1545.398148148148|        1753.1939336085309|          1255.3477797198454|        normal|[1.0204313022971043,14.084672355309333,3.956461...|[-0.037195367836930296,-0.017510675482850218,-0...|                    0.0|            (3,[0],[1.0])|[2101.0,2.0,3.0,2.0,0.0,0.0,0.0,1.0,1545.398148...|    [0.2762797490503286,-0.2762797490503286]| [0.568633919867317,0.43136608013268296]|    0.0|[-3.0228036127897995,3.0228036127897995]|[0.046406249157074204,0.9535937508429257]|    1.0|[-1.8980542914113148,1.8980542914113148]| [0.13032884869964587,0.8696711513003541]|    1.0|[0.16994495937835286,-0.16994495937835286]| [0.5423842795272795,0.4576157204727205]|    0.0|    [1.3672003559575203,-1.3672003559575203]|   [0.796927452350633,0.203072547649367]|    0.0|[0.08586567649230181,-0.08586567649230181]| [0.5214532396675351,0.4785467603324649]|    0.0|[0.16746348376249243,-0.16746348376249243]|[0.5417683039439947,0.45823169605600533]|    0.0|  [0.18882549468672183,-0.18882549468672183]|[0.5470666097765609,0.45293339022343915]|    0.0|  [0.3696946707190709,-0.3696946707190709]| [0.5913851980542917,0.4086148019457083]|    0.0|  [1.3865234965624216,-1.3865234965624216]|[0.8000366591506713,0.19996334084932865]|     0.0|  [0.4164747092116592,-0.4164747092116592]| [0.6026393717617228,0.3973606282382772]|     0.0|[-0.8541473582469505,0.8541473582469505]|[0.29856357881809364,0.7014364211819064]|     1.0|  [1.9686180137596767,-1.9686180137596767]|[0.8774625967658872,0.12253740323411277]|     0.0|  [0.4294189574836458,-0.4294189574836458]| [0.6057349123120377,0.3942650876879623]|     0.0|    [1.582318840645214,-1.582318840645214]|[0.8295326717080342,0.17046732829196576]|     0.0|[-0.5290546174869402,0.5290546174869402]| [0.3707374104725778,0.6292625895274222]|     1.0|[-0.5338203712875423,0.5338203712875423]|[0.36962628872223124,0.6303737112777688]|     1.0|[-2.1701606391042914,2.1701606391042914]| [0.10246225952705725,0.8975377404729428]|     1.0|\n",
      "|20100000404860470|      818|  11.999720006533181|   3.9781071503160934|1.8345229705207444|           2|        0|            14|                0|         0|  0|    1|           2309.085425685426|        2092.5242730152468|          2664.5886104002543|           dry|[1.8345229705207444,11.999720006533181,3.978107...|[-0.0063021015819574155,-0.06915117588259752,-0...|                    1.0|            (3,[1],[1.0])|[818.0,2.0,0.0,14.0,0.0,0.0,0.0,1.0,2309.085425...|    [-1.5626125183345128,1.5626125183345128]|[0.17327208721238677,0.8267279127876133]|    1.0|  [-4.581221273901712,4.581221273901712]| [0.01013853715451549,0.9898614628454845]|    1.0|  [-3.238199169111688,3.238199169111688]| [0.03775325656959333,0.9622467434304067]|    1.0|  [-2.0717059490100915,2.0717059490100915]|[0.11187742172390279,0.8881225782760972]|    1.0|    [-0.7062060077412073,0.7062060077412073]| [0.3304377151168895,0.6695622848831104]|    1.0|  [-1.8635718949214053,1.8635718949214053]|[0.13428726149104286,0.8657127385089571]|    1.0|  [-1.5071666000522694,1.5071666000522694]|[0.18135908254440156,0.8186409174555984]|    1.0|    [-0.7278995706211713,0.7278995706211713]|[0.32565582131547827,0.6743441786845217]|    1.0|  [-1.6883805441324014,1.6883805441324014]|[0.15598893306734335,0.8440110669326566]|    1.0|[-0.43724048060711507,0.43724048060711507]| [0.3923987035615403,0.6076012964384597]|     1.0|    [-0.977185890702978,0.977185890702978]|[0.27345052117892055,0.7265494788210795]|     1.0|  [-2.196422526899736,2.196422526899736]|[0.10007220770109994,0.8999277922989001]|     1.0|  [0.5211216672172885,-0.5211216672172885]| [0.6274100121950005,0.3725899878049995]|     0.0|  [-1.4321106884342973,1.4321106884342973]|[0.19277002754531766,0.8072299724546823]|     1.0|  [-0.3935192336341624,0.3935192336341624]| [0.4028704046884187,0.5971295953115813]|     1.0|  [-1.188229287410465,1.188229287410465]|[0.23357577587745781,0.7664242241225422]|     1.0|[-0.9460111298051446,0.9460111298051446]|[0.27968772308959655,0.7203122769104034]|     1.0|[-3.3817197535682917,3.3817197535682917]| [0.03287167794455916,0.9671283220554409]|     1.0|\n",
      "|20100009003806170|     1135|  21.115855661395525|    4.500236262403776| 1.124417762427393|           4|        0|             8|                0|         0|  0|    1|           1592.515234504671|        1589.0927371555788|           3164.965367965368|       noskark|[1.124417762427393,21.115855661395525,4.5002362...|[-0.03324927487822601,0.1566390236897823,-0.009...|                    3.0|                (3,[],[])|(17,[0,1,3,7,8,9,10,11,12,13],[1135.0,4.0,8.0,1...|    [-1.2660548503099156,1.2660548503099156]|[0.21993334460164823,0.7800666553983517]|    1.0|  [-4.292974584059873,4.292974584059873]|[0.013480025391884242,0.9865199746081158]|    1.0|  [-2.964693635730301,2.964693635730301]| [0.04904662602465632,0.9509533739753436]|    1.0|  [-1.5693167592840385,1.5693167592840385]|   [0.172313814914372,0.827686185085628]|    1.0|  [-0.32194529435094044,0.32194529435094044]| [0.4202017380045674,0.5797982619954326]|    1.0|  [-1.4589260908062838,1.4589260908062838]|[0.18863163177907633,0.8113683682209236]|    1.0|  [-1.1792835362267078,1.1792835362267078]| [0.2351810427822333,0.7648189572177667]|    1.0|    [-0.5438850724019767,0.5438850724019767]| [0.3672842791246186,0.6327157208753814]|    1.0|  [-1.2172791685408402,1.2172791685408402]|[0.22841562077568073,0.7715843792243193]|    1.0|[-0.12511134442456084,0.12511134442456084]|[0.46876289906873675,0.5312371009312633]|     1.0|  [-0.6936556160928125,0.6936556160928125]| [0.3332203572353071,0.6667796427646929]|     1.0|[-1.9555227436301772,1.9555227436301772]|[0.12395240681820271,0.8760475931817973]|     1.0|  [0.8275805009587516,-0.8275805009587516]| [0.6958430965620692,0.3041569034379308]|     0.0|    [-0.983464491897704,0.983464491897704]|[0.27220489388119157,0.7277951061188084]|     1.0|[0.05864898846171296,-0.05864898846171296]| [0.5146580457449179,0.4853419542550821]|     0.0|[-1.0248329206943554,1.0248329206943554]|[0.26408707583600466,0.7359129241639953]|     1.0|[-0.8817359576432201,0.8817359576432201]| [0.29281817503279906,0.707181824967201]|     1.0|  [-3.047055158721804,3.047055158721804]| [0.04534478109087754,0.9546552189091224]|     1.0|\n",
      "|20100016032214516|     1359|   9.470992454776011|     2.74638716582762|1.5570415691172916|           1|        6|            27|                0|         1|  0|    1|          1724.6328986063163|        1505.3881850968885|           1678.643639204183|        normal|[1.5570415691172916,9.470992454776011,2.7463871...|[-0.016832005214388355,-0.13178318578153847,-0....|                    0.0|            (3,[0],[1.0])|[1359.0,1.0,6.0,27.0,0.0,1.0,0.0,1.0,1724.63289...|    [0.0680432359518619,-0.0680432359518619]| [0.5170042488554095,0.4829957511445905]|    0.0|[-2.9086120416295147,2.9086120416295147]| [0.05172947739022636,0.9482705226097736]|    1.0|[-1.9534873659330239,1.9534873659330239]| [0.12417359405435542,0.8758264059456445]|    1.0|  [-0.7429822560835833,0.7429822560835833]|  [0.3223523509967429,0.677647649003257]|    1.0|    [0.5232242367540945,-0.5232242367540945]| [0.6279013910978385,0.3720986089021615]|    0.0|  [-0.5941612554910338,0.5941612554910338]| [0.3556806397093807,0.6443193602906193]|    1.0|  [-0.3060550936053752,0.3060550936053752]|[0.42407793666404214,0.5759220633359579]|    1.0|  [-0.09473653021913697,0.09473653021913697]| [0.4763335653390296,0.5236664346609704]|    1.0|  [-0.5753051603798598,0.5753051603798598]| [0.3600135901464822,0.6399864098535177]|    1.0|  [0.7194224259610971,-0.7194224259610971]|   [0.672479818649393,0.327520181350607]|     0.0|[-0.17128113321070315,0.17128113321070315]|[0.45728409618372345,0.5427159038162765]|     1.0|  [-1.618675784543032,1.618675784543032]|[0.16538757665999093,0.8346124233400091]|     1.0|  [1.5856176326847211,-1.5856176326847211]|[0.8299986410537271,0.17000135894627288]|     0.0|  [-0.5454929339647459,0.5454929339647459]| [0.3669107135384573,0.6330892864615427]|     1.0|  [0.4868663379856957,-0.4868663379856957]|[0.6193679443109246,0.38063205568907543]|     0.0|[-0.9436263994759324,0.9436263994759324]| [0.2801684091426943,0.7198315908573056]|     1.0|[-0.6385930468069628,0.6385930468069628]| [0.3455646522959953,0.6544353477040047]|     1.0|  [-2.659210475900548,2.659210475900548]| [0.06542359100967673,0.9345764089903232]|     1.0|\n",
      "|20100016263918300|     1767|    6.02077166223471|   1.0509469908176425|0.5494799020094174|           4|        7|             8|               18|         1|  0|    1|          4000.9858585858588|         4211.566001870681|          2757.8708980044344|           dry|[0.5494799020094174,6.02077166223471,1.05094699...|[-0.055067098466463016,-0.21723891733388323,-0....|                    1.0|            (3,[1],[1.0])|[1767.0,4.0,7.0,8.0,18.0,1.0,0.0,1.0,4000.98585...|[0.009418871632817627,-0.009418871632817627]|[0.5023547005000976,0.49764529949990244]|    0.0|      [-2.9292263827913,2.9292263827913]| [0.05072756496506328,0.9492724350349367]|    1.0|  [-1.927588680877224,1.927588680877224]|  [0.1270177169671166,0.8729822830328834]|    1.0|  [-0.5032818351575239,0.5032818351575239]| [0.3767697358764979,0.6232302641235021]|    1.0|    [0.7349436186468261,-0.7349436186468261]| [0.6758891767801979,0.3241108232198021]|    0.0|[-0.20947752053728985,0.20947752053728985]|[0.44782128425410467,0.5521787157458953]|    1.0|[-0.20498726996530925,0.20498726996530925]| [0.4489318799999527,0.5510681200000473]|    1.0|[-0.058957582968286903,0.058957582968286903]| [0.4852648722818149,0.5147351277181851]|    1.0|[-0.07206500818138606,0.07206500818138606]| [0.4819915409891447,0.5180084590108553]|    1.0|  [0.8308357002876552,-0.8308357002876552]|[0.6965316052535195,0.30346839474648046]|     0.0|[0.12762656879764211,-0.12762656879764211]|[0.5318634032403636,0.46813659675963637]|     0.0|    [-1.25776036049243,1.25776036049243]| [0.22135967461032305,0.778640325389677]|     1.0|  [1.7280005383467678,-1.7280005383467678]|[0.8491564884753863,0.15084351152461373]|     0.0|[0.12487029900530189,-0.12487029900530189]| [0.5311770743263937,0.4688229256736063]|     0.0|  [1.1985718957854108,-1.1985718957854108]|[0.7682706342802805,0.23172936571971947]|     0.0|[-0.7307926216868482,0.7307926216868482]|[0.32502081614966344,0.6749791838503365]|     1.0|[-0.4040567450449497,0.4040567450449497]|[0.40033805468966815,0.5996619453103318]|     1.0|[-2.4705634452195344,2.4705634452195344]| [0.07794772963028417,0.9220522703697158]|     1.0|\n",
      "|20100017041691464|      764|   13.43328693874048|   4.9201567889963425| 2.399577674329318|           2|        0|            26|                0|         0|  0|    1|          1686.9292424242424|         1351.537607569058|           2922.542933130699|        normal|[2.399577674329318,13.43328693874048,4.92015678...|[0.015140674575515352,-0.03364431464465579,6.80...|                    0.0|            (3,[0],[1.0])|[764.0,2.0,0.0,26.0,0.0,0.0,0.0,1.0,1686.929242...|      [-1.320022103041421,1.320022103041421]|[0.21081461613115138,0.7891853838688486]|    1.0|  [-4.143287723142701,4.143287723142701]|[0.015622646952869185,0.9843773530471308]|    1.0|[-3.0447256263326476,3.0447256263326476]|[0.045445730234038195,0.9545542697659618]|    1.0|    [-1.973701544208836,1.973701544208836]|[0.12199185992053566,0.8780081400794644]|    1.0|    [-0.6985082393956012,0.6985082393956012]|[0.33214305330310234,0.6678569466968977]|    1.0|  [-1.9196053733300058,1.9196053733300058]|[0.12790557878038955,0.8720944212196104]|    1.0|  [-1.3773787969659599,1.3773787969659599]| [0.2014303063868829,0.7985696936131171]|    1.0|    [-0.7303932640890014,0.7303932640890014]|   [0.325108434253623,0.674891565746377]|    1.0|  [-1.8036095475016662,1.8036095475016662]|[0.14141224482792128,0.8585877551720787]|    1.0|  [-0.4670015483565735,0.4670015483565735]| [0.3853261819871977,0.6146738180128023]|     1.0|  [-1.0162737113483318,1.0162737113483318]|[0.26575387163075254,0.7342461283692474]|     1.0|  [-2.290887571571669,2.290887571571669]|[0.09188046550760642,0.9081195344923936]|     1.0|  [0.5059495834679613,-0.5059495834679613]|[0.6238564833416507,0.37614351665834933]|     0.0|  [-1.6294529890172864,1.6294529890172864]| [0.1639053100239918,0.8360946899760082]|     1.0|  [-0.5854058165632856,0.5854058165632856]| [0.3576896662090115,0.6423103337909886]|     1.0|  [-1.259584298385318,1.259584298385318]|[0.22104546123856128,0.7789545387614387]|     1.0|[-0.9781858186890391,0.9781858186890391]| [0.2732519051623316,0.7267480948376683]|     1.0|  [-3.216494398110668,3.216494398110668]|[0.038549705842587115,0.9614502941574129]|     1.0|\n",
      "+-----------------+---------+--------------------+---------------------+------------------+------------+---------+--------------+-----------------+----------+---+-----+----------------------------+--------------------------+----------------------------+--------------+--------------------------------------------------+--------------------------------------------------+-----------------------+-------------------------+--------------------------------------------------+--------------------------------------------+----------------------------------------+-------+----------------------------------------+-----------------------------------------+-------+----------------------------------------+-----------------------------------------+-------+------------------------------------------+----------------------------------------+-------+--------------------------------------------+----------------------------------------+-------+------------------------------------------+----------------------------------------+-------+------------------------------------------+----------------------------------------+-------+--------------------------------------------+----------------------------------------+-------+------------------------------------------+----------------------------------------+-------+------------------------------------------+----------------------------------------+--------+------------------------------------------+----------------------------------------+--------+----------------------------------------+----------------------------------------+--------+------------------------------------------+----------------------------------------+--------+------------------------------------------+----------------------------------------+--------+------------------------------------------+----------------------------------------+--------+----------------------------------------+----------------------------------------+--------+----------------------------------------+----------------------------------------+--------+----------------------------------------+-----------------------------------------+--------+"
     ]
    }
   ],
   "source": [
    "trans_pred.limit(10)"
   ]
  },
  {
   "cell_type": "markdown",
   "id": "17c6f948-f28a-4ef4-96f8-589384b52839",
   "metadata": {},
   "source": [
    "-------------------------"
   ]
  },
  {
   "cell_type": "markdown",
   "id": "7f7bc8fd-d13e-4220-8b74-71bc9a05ee82",
   "metadata": {},
   "source": [
    "### SVM"
   ]
  },
  {
   "cell_type": "code",
   "execution_count": null,
   "id": "d74ab722",
   "metadata": {},
   "outputs": [],
   "source": []
  },
  {
   "cell_type": "code",
   "execution_count": 58,
   "id": "a098a5bb",
   "metadata": {},
   "outputs": [
    {
     "data": {
      "application/vnd.jupyter.widget-view+json": {
       "model_id": "68d5018ee97646f4b26439882440775b",
       "version_major": 2,
       "version_minor": 0
      },
      "text/plain": [
       "VBox()"
      ]
     },
     "metadata": {},
     "output_type": "display_data"
    },
    {
     "data": {
      "application/vnd.jupyter.widget-view+json": {
       "model_id": "",
       "version_major": 2,
       "version_minor": 0
      },
      "text/plain": [
       "FloatProgress(value=0.0, bar_style='info', description='Progress:', layout=Layout(height='25px', width='50%'),…"
      ]
     },
     "metadata": {},
     "output_type": "display_data"
    }
   ],
   "source": [
    "features_ass = VectorAssembler(inputCols = [\n",
    " 'max_index',\n",
    " 'obs_opcional',\n",
    " 'obs_no_in',\n",
    " 'notebook_opens',\n",
    " 'notebook_explorer',\n",
    " 'fullscreen',\n",
    " 'hq',\n",
    " 'music',\n",
    " 'avg_elapsed_diff_ms_cutscene',\n",
    " 'avg_elapsed_diff_ms_person',\n",
    " 'avg_elapsed_diff_ms_navigate',\n",
    " 'inv_time_standed_per_group',\n",
    " 'dummies_of_type_of_script'\n",
    "    ], outputCol=\"features\")"
   ]
  },
  {
   "cell_type": "code",
   "execution_count": 59,
   "id": "751d08ad-ab22-410b-832d-198a0be2afa1",
   "metadata": {},
   "outputs": [
    {
     "data": {
      "application/vnd.jupyter.widget-view+json": {
       "model_id": "d4d28425ed9145b69507cbe8cbdd8d90",
       "version_major": 2,
       "version_minor": 0
      },
      "text/plain": [
       "VBox()"
      ]
     },
     "metadata": {},
     "output_type": "display_data"
    },
    {
     "data": {
      "application/vnd.jupyter.widget-view+json": {
       "model_id": "",
       "version_major": 2,
       "version_minor": 0
      },
      "text/plain": [
       "FloatProgress(value=0.0, bar_style='info', description='Progress:', layout=Layout(height='25px', width='50%'),…"
      ]
     },
     "metadata": {},
     "output_type": "display_data"
    }
   ],
   "source": [
    "\n",
    "stages = [features_ass]\n",
    "maxIter = 10\n",
    "regularization = 0.01\n",
    "for i in range(1, 19):\n",
    "    svm = LinearSVC(\n",
    "        maxIter = maxIter,\n",
    "        regParam = regularization,\n",
    "        labelCol = f\"q{i}\",\n",
    "        predictionCol=f\"q{i}_pred_svm\",\n",
    "        rawPredictionCol = f\"q{i}_pred_raw\",\n",
    "        standardization = False\n",
    "    )\n",
    "    stages.append(svm)\n",
    "svm_pipeline = Pipeline(stages = stages)"
   ]
  },
  {
   "cell_type": "code",
   "execution_count": 60,
   "id": "56449bc6-12ce-4960-8a32-17a619b36009",
   "metadata": {},
   "outputs": [
    {
     "data": {
      "application/vnd.jupyter.widget-view+json": {
       "model_id": "6e6c445da27e4998901e11e833d9c0a5",
       "version_major": 2,
       "version_minor": 0
      },
      "text/plain": [
       "VBox()"
      ]
     },
     "metadata": {},
     "output_type": "display_data"
    },
    {
     "data": {
      "application/vnd.jupyter.widget-view+json": {
       "model_id": "",
       "version_major": 2,
       "version_minor": 0
      },
      "text/plain": [
       "FloatProgress(value=0.0, bar_style='info', description='Progress:', layout=Layout(height='25px', width='50%'),…"
      ]
     },
     "metadata": {},
     "output_type": "display_data"
    }
   ],
   "source": [
    "fit = svm_pipeline.fit(trans_train)"
   ]
  },
  {
   "cell_type": "code",
   "execution_count": 61,
   "id": "aeb72c7a-9ba4-45ae-87f5-8a68198c17b7",
   "metadata": {},
   "outputs": [
    {
     "data": {
      "application/vnd.jupyter.widget-view+json": {
       "model_id": "0551b94f95e146bf83a20b315e967792",
       "version_major": 2,
       "version_minor": 0
      },
      "text/plain": [
       "VBox()"
      ]
     },
     "metadata": {},
     "output_type": "display_data"
    },
    {
     "data": {
      "application/vnd.jupyter.widget-view+json": {
       "model_id": "",
       "version_major": 2,
       "version_minor": 0
      },
      "text/plain": [
       "FloatProgress(value=0.0, bar_style='info', description='Progress:', layout=Layout(height='25px', width='50%'),…"
      ]
     },
     "metadata": {},
     "output_type": "display_data"
    }
   ],
   "source": [
    "prevision_svm = fit.transform(trans_teste)"
   ]
  },
  {
   "cell_type": "markdown",
   "id": "065f7356-3421-4ca6-a6cc-2269e8054c77",
   "metadata": {},
   "source": [
    "--------"
   ]
  },
  {
   "cell_type": "markdown",
   "id": "052d01d2-5dc8-44a4-800e-f26789e7893f",
   "metadata": {},
   "source": [
    "### Modelo Decision Tree"
   ]
  },
  {
   "cell_type": "code",
   "execution_count": 62,
   "id": "9f038a86-e5d2-4793-8fe8-cfef89f68f93",
   "metadata": {},
   "outputs": [
    {
     "data": {
      "application/vnd.jupyter.widget-view+json": {
       "model_id": "f1ea683ac9464ae6a472644bf5f90837",
       "version_major": 2,
       "version_minor": 0
      },
      "text/plain": [
       "VBox()"
      ]
     },
     "metadata": {},
     "output_type": "display_data"
    },
    {
     "data": {
      "application/vnd.jupyter.widget-view+json": {
       "model_id": "",
       "version_major": 2,
       "version_minor": 0
      },
      "text/plain": [
       "FloatProgress(value=0.0, bar_style='info', description='Progress:', layout=Layout(height='25px', width='50%'),…"
      ]
     },
     "metadata": {},
     "output_type": "display_data"
    }
   ],
   "source": [
    "from pyspark.ml.classification import DecisionTreeClassifier\n",
    "stages_tree = [\n",
    "    VectorAssembler(inputCols = [\n",
    " 'max_index',\n",
    " 'obs_opcional',\n",
    " 'obs_no_in',\n",
    " 'notebook_opens',\n",
    " 'notebook_explorer',\n",
    " 'fullscreen',\n",
    " 'hq',\n",
    " 'music',\n",
    " 'avg_elapsed_diff_ms_cutscene',\n",
    " 'avg_elapsed_diff_ms_person',\n",
    " 'avg_elapsed_diff_ms_navigate',\n",
    " 'inv_time_standed_per_group',\n",
    " 'dummies_of_type_of_script'\n",
    "    ], outputCol=\"features\")\n",
    "]\n",
    "\n",
    "for i in range(1, 19):\n",
    "    lr = DecisionTreeClassifier(\n",
    "        featuresCol = 'features',\n",
    "        labelCol = f\"q{i}\",\n",
    "        maxDepth = 3\n",
    "    )\n",
    "    stages_tree.append(lr)"
   ]
  },
  {
   "cell_type": "code",
   "execution_count": 63,
   "id": "e2ee0c4c-bf2f-4899-8c57-fed031970f08",
   "metadata": {},
   "outputs": [
    {
     "data": {
      "application/vnd.jupyter.widget-view+json": {
       "model_id": "e14ff48471f44db28b052cc726a11ee5",
       "version_major": 2,
       "version_minor": 0
      },
      "text/plain": [
       "VBox()"
      ]
     },
     "metadata": {},
     "output_type": "display_data"
    },
    {
     "data": {
      "application/vnd.jupyter.widget-view+json": {
       "model_id": "",
       "version_major": 2,
       "version_minor": 0
      },
      "text/plain": [
       "FloatProgress(value=0.0, bar_style='info', description='Progress:', layout=Layout(height='25px', width='50%'),…"
      ]
     },
     "metadata": {},
     "output_type": "display_data"
    }
   ],
   "source": [
    "tree_only_pipeline = Pipeline(stages = stages_tree)"
   ]
  },
  {
   "cell_type": "code",
   "execution_count": 70,
   "id": "50e61583-f599-44b5-93c0-cf71a78e9d3c",
   "metadata": {},
   "outputs": [
    {
     "data": {
      "application/vnd.jupyter.widget-view+json": {
       "model_id": "cb61dfed77e047bcbff7b733f4d0155c",
       "version_major": 2,
       "version_minor": 0
      },
      "text/plain": [
       "VBox()"
      ]
     },
     "metadata": {},
     "output_type": "display_data"
    },
    {
     "data": {
      "application/vnd.jupyter.widget-view+json": {
       "model_id": "",
       "version_major": 2,
       "version_minor": 0
      },
      "text/plain": [
       "FloatProgress(value=0.0, bar_style='info', description='Progress:', layout=Layout(height='25px', width='50%'),…"
      ]
     },
     "metadata": {},
     "output_type": "display_data"
    },
    {
     "name": "stderr",
     "output_type": "stream",
     "text": [
      "An error was encountered:\n",
      "requirement failed: Column prediction already exists.\n",
      "Traceback (most recent call last):\n",
      "  File \"/mnt/yarn/usercache/livy/appcache/application_1680917710046_0001/container_1680917710046_0001_01_000001/pyspark.zip/pyspark/ml/base.py\", line 205, in fit\n",
      "    return self._fit(dataset)\n",
      "  File \"/mnt/yarn/usercache/livy/appcache/application_1680917710046_0001/container_1680917710046_0001_01_000001/pyspark.zip/pyspark/ml/pipeline.py\", line 134, in _fit\n",
      "    model = stage.fit(dataset)\n",
      "  File \"/mnt/yarn/usercache/livy/appcache/application_1680917710046_0001/container_1680917710046_0001_01_000001/pyspark.zip/pyspark/ml/base.py\", line 205, in fit\n",
      "    return self._fit(dataset)\n",
      "  File \"/mnt/yarn/usercache/livy/appcache/application_1680917710046_0001/container_1680917710046_0001_01_000001/pyspark.zip/pyspark/ml/wrapper.py\", line 383, in _fit\n",
      "    java_model = self._fit_java(dataset)\n",
      "  File \"/mnt/yarn/usercache/livy/appcache/application_1680917710046_0001/container_1680917710046_0001_01_000001/pyspark.zip/pyspark/ml/wrapper.py\", line 380, in _fit_java\n",
      "    return self._java_obj.fit(dataset._jdf)\n",
      "  File \"/mnt/yarn/usercache/livy/appcache/application_1680917710046_0001/container_1680917710046_0001_01_000001/py4j-0.10.9.5-src.zip/py4j/java_gateway.py\", line 1322, in __call__\n",
      "    answer, self.gateway_client, self.target_id, self.name)\n",
      "  File \"/mnt/yarn/usercache/livy/appcache/application_1680917710046_0001/container_1680917710046_0001_01_000001/pyspark.zip/pyspark/sql/utils.py\", line 196, in deco\n",
      "    raise converted from None\n",
      "pyspark.sql.utils.IllegalArgumentException: requirement failed: Column prediction already exists.\n",
      "\n"
     ]
    }
   ],
   "source": [
    "dtModel = tree_only_pipeline.fit(trans_train)"
   ]
  },
  {
   "cell_type": "code",
   "execution_count": 72,
   "id": "770e4919",
   "metadata": {},
   "outputs": [
    {
     "data": {
      "application/vnd.jupyter.widget-view+json": {
       "model_id": "2aa1eb01647943cb8860b7df66af7c60",
       "version_major": 2,
       "version_minor": 0
      },
      "text/plain": [
       "VBox()"
      ]
     },
     "metadata": {},
     "output_type": "display_data"
    },
    {
     "data": {
      "application/vnd.jupyter.widget-view+json": {
       "model_id": "",
       "version_major": 2,
       "version_minor": 0
      },
      "text/plain": [
       "FloatProgress(value=0.0, bar_style='info', description='Progress:', layout=Layout(height='25px', width='50%'),…"
      ]
     },
     "metadata": {},
     "output_type": "display_data"
    },
    {
     "name": "stdout",
     "output_type": "stream",
     "text": [
      "             session_id  ...  dummies_of_type_of_script\n",
      "0     20090312455206810  ...            (0.0, 0.0, 1.0)\n",
      "1     20090314441803444  ...            (0.0, 1.0, 0.0)\n",
      "2     20090315101457836  ...            (0.0, 0.0, 1.0)\n",
      "3     20090315170769824  ...            (0.0, 0.0, 0.0)\n",
      "4     20090318021527530  ...            (1.0, 0.0, 0.0)\n",
      "...                 ...  ...                        ...\n",
      "4854  22090622421607484  ...            (1.0, 0.0, 0.0)\n",
      "4855  22090622534263404  ...            (0.0, 1.0, 0.0)\n",
      "4856  22100211215679332  ...            (0.0, 0.0, 0.0)\n",
      "4857  22100211280762644  ...            (0.0, 0.0, 1.0)\n",
      "4858  22100215190998610  ...            (0.0, 0.0, 1.0)\n",
      "\n",
      "[4859 rows x 20 columns]"
     ]
    }
   ],
   "source": [
    "trans_teste.toPandas()"
   ]
  },
  {
   "cell_type": "code",
   "execution_count": 65,
   "id": "e5122ad0-c221-4417-90e2-79fafe62ad64",
   "metadata": {},
   "outputs": [
    {
     "data": {
      "application/vnd.jupyter.widget-view+json": {
       "model_id": "ff58c27e47b64332a5ea5b087c2748de",
       "version_major": 2,
       "version_minor": 0
      },
      "text/plain": [
       "VBox()"
      ]
     },
     "metadata": {},
     "output_type": "display_data"
    },
    {
     "data": {
      "application/vnd.jupyter.widget-view+json": {
       "model_id": "",
       "version_major": 2,
       "version_minor": 0
      },
      "text/plain": [
       "FloatProgress(value=0.0, bar_style='info', description='Progress:', layout=Layout(height='25px', width='50%'),…"
      ]
     },
     "metadata": {},
     "output_type": "display_data"
    },
    {
     "name": "stderr",
     "output_type": "stream",
     "text": [
      "An error was encountered:\n",
      "name 'dtModel' is not defined\n",
      "Traceback (most recent call last):\n",
      "NameError: name 'dtModel' is not defined\n",
      "\n"
     ]
    }
   ],
   "source": [
    "dt_predictions = dtModel.transform(trans_teste)\n",
    "dt_predictions.show(10)"
   ]
  },
  {
   "cell_type": "markdown",
   "id": "7e67d063-e1ee-40ad-8282-f61b379dd6f4",
   "metadata": {},
   "source": [
    "---------------"
   ]
  },
  {
   "cell_type": "markdown",
   "id": "0ee62b4a-7828-4dc5-9f58-4397c9c84289",
   "metadata": {},
   "source": [
    "### RandomForestClassifier"
   ]
  },
  {
   "cell_type": "code",
   "execution_count": 73,
   "id": "5eca5704-f8de-4045-8d0f-72fcb1747b38",
   "metadata": {},
   "outputs": [
    {
     "data": {
      "application/vnd.jupyter.widget-view+json": {
       "model_id": "659e9c23625c4d0da3f9da1bafa0a68b",
       "version_major": 2,
       "version_minor": 0
      },
      "text/plain": [
       "VBox()"
      ]
     },
     "metadata": {},
     "output_type": "display_data"
    },
    {
     "data": {
      "application/vnd.jupyter.widget-view+json": {
       "model_id": "",
       "version_major": 2,
       "version_minor": 0
      },
      "text/plain": [
       "FloatProgress(value=0.0, bar_style='info', description='Progress:', layout=Layout(height='25px', width='50%'),…"
      ]
     },
     "metadata": {},
     "output_type": "display_data"
    }
   ],
   "source": [
    "stages_RandomFor = [\n",
    "    VectorAssembler(inputCols = [\n",
    " 'max_index',\n",
    " 'obs_opcional',\n",
    " 'obs_no_in',\n",
    " 'notebook_opens',\n",
    " 'notebook_explorer',\n",
    " 'fullscreen',\n",
    " 'hq',\n",
    " 'music',\n",
    " 'avg_elapsed_diff_ms_cutscene',\n",
    " 'avg_elapsed_diff_ms_person',\n",
    " 'avg_elapsed_diff_ms_navigate',\n",
    " 'inv_time_standed_per_group',\n",
    " 'dummies_of_type_of_script'\n",
    "    ], outputCol=\"features\")\n",
    "]\n",
    "for i in range(1, 19):\n",
    "    lr = RandomForestClassifier(\n",
    "        labelCol = f\"q{i}\",\n",
    "        featuresCol='features',\n",
    "        maxDepth=5)\n",
    "    stages_ml.append(lr)\n",
    "randomforest_only_pipeline = Pipeline(stages = stages_RandomFor)"
   ]
  },
  {
   "cell_type": "code",
   "execution_count": 74,
   "id": "518f1725-9d63-4635-bc33-931e28f64d86",
   "metadata": {},
   "outputs": [
    {
     "data": {
      "application/vnd.jupyter.widget-view+json": {
       "model_id": "c1455122e4ae4d14a55c6db7e85d6160",
       "version_major": 2,
       "version_minor": 0
      },
      "text/plain": [
       "VBox()"
      ]
     },
     "metadata": {},
     "output_type": "display_data"
    },
    {
     "data": {
      "application/vnd.jupyter.widget-view+json": {
       "model_id": "",
       "version_major": 2,
       "version_minor": 0
      },
      "text/plain": [
       "FloatProgress(value=0.0, bar_style='info', description='Progress:', layout=Layout(height='25px', width='50%'),…"
      ]
     },
     "metadata": {},
     "output_type": "display_data"
    }
   ],
   "source": [
    "pred = randomforest_only_pipeline.fit(trans_train)"
   ]
  },
  {
   "cell_type": "code",
   "execution_count": 77,
   "id": "ebea5d10-9d68-4198-93ea-111cfcf8bee5",
   "metadata": {},
   "outputs": [
    {
     "data": {
      "application/vnd.jupyter.widget-view+json": {
       "model_id": "2d0bf217bb4943dd8bfdaf365474d966",
       "version_major": 2,
       "version_minor": 0
      },
      "text/plain": [
       "VBox()"
      ]
     },
     "metadata": {},
     "output_type": "display_data"
    },
    {
     "data": {
      "application/vnd.jupyter.widget-view+json": {
       "model_id": "",
       "version_major": 2,
       "version_minor": 0
      },
      "text/plain": [
       "FloatProgress(value=0.0, bar_style='info', description='Progress:', layout=Layout(height='25px', width='50%'),…"
      ]
     },
     "metadata": {},
     "output_type": "display_data"
    },
    {
     "name": "stdout",
     "output_type": "stream",
     "text": [
      "+-----------------+---------+--------------------+---------------------+------------------+------------+---------+--------------+-----------------+----------+---+-----+----------------------------+--------------------------+----------------------------+--------------+--------------------------------------------------+--------------------------------------------------+-----------------------+-------------------------+--------------------------------------------------+\n",
      "|       session_id|max_index|inv_total_time_h_0-4|inv_total_time_h_5-12|  inv_total_time_h|obs_opcional|obs_no_in|notebook_opens|notebook_explorer|fullscreen| hq|music|avg_elapsed_diff_ms_cutscene|avg_elapsed_diff_ms_person|avg_elapsed_diff_ms_navigate|type_of_script|                          inv_time_stand_per_group|                        inv_time_standed_per_group|index_of_type_of_script|dummies_of_type_of_script|                                          features|\n",
      "+-----------------+---------+--------------------+---------------------+------------------+------------+---------+--------------+-----------------+----------+---+-----+----------------------------+--------------------------+----------------------------+--------------+--------------------------------------------------+--------------------------------------------------+-----------------------+-------------------------+--------------------------------------------------+\n",
      "|20090312455206810|      826|   9.911184772015218|    5.688461903106532|3.0276270972625206|           1|        0|            16|                0|         1|  1|    1|           824.7457279994227|         548.0504217088376|          3012.5622571779527|       nohumor|[3.0276270972625206,9.911184772015218,5.6884619...|[0.038973983281762194,-0.12088041788485233,0.02...|                    2.0|            (3,[2],[1.0])|[826.0,1.0,0.0,16.0,0.0,1.0,1.0,1.0,824.7457279...|\n",
      "|20090314441803444|      832|  20.344385232236807|     6.53914130176139| 2.821869488536155|           2|        0|             0|                0|         0|  0|    0|          1418.3608865423746|        1187.4140487736313|           2008.211948790896|           dry|[2.821869488536155,20.344385232236807,6.5391413...|[0.031165864321104887,0.13753109586171985,0.041...|                    1.0|            (3,[1],[1.0])|(17,[0,1,8,9,10,11,12,13,15],[832.0,2.0,1418.36...|\n",
      "|20090315101457836|     1152|  13.364318753851522|    4.841065141910446| 2.293525377858306|           5|        1|            16|                0|         1|  1|    1|          1706.3051094663997|        1500.8795339855349|          1355.6719522242508|       nohumor|[2.293525377858306,13.364318753851522,4.8410651...|[0.011116186965932959,-0.03535253190027732,-0.0...|                    2.0|            (3,[2],[1.0])|[1152.0,5.0,1.0,16.0,0.0,1.0,1.0,1.0,1706.30510...|\n",
      "|20090315170769824|     1043|  13.198319413994618|    4.640245623668346| 2.281331232818724|           5|        1|            18|                3|         0|  0|    1|           1487.236936059721|        1323.5236196501232|           1709.420822833101|       noskark|[2.281331232818724,13.198319413994618,4.6402456...|[0.010653441817979833,-0.0394640354467589,-0.00...|                    3.0|                (3,[],[])|[1043.0,5.0,1.0,18.0,3.0,0.0,0.0,1.0,1487.23693...|\n",
      "|20090318021527530|     2101|  14.084672355309333|    3.956461340976631|1.0204313022971043|           2|        3|             2|                0|         0|  0|    1|           1545.398148148148|        1753.1939336085309|          1255.3477797198454|        normal|[1.0204313022971043,14.084672355309333,3.956461...|[-0.037195367836930296,-0.017510675482850218,-0...|                    0.0|            (3,[0],[1.0])|[2101.0,2.0,3.0,2.0,0.0,0.0,0.0,1.0,1545.398148...|\n",
      "|20100000404860470|      818|  11.999720006533181|   3.9781071503160934|1.8345229705207444|           2|        0|            14|                0|         0|  0|    1|           2309.085425685426|        2092.5242730152468|          2664.5886104002543|           dry|[1.8345229705207444,11.999720006533181,3.978107...|[-0.0063021015819574155,-0.06915117588259752,-0...|                    1.0|            (3,[1],[1.0])|[818.0,2.0,0.0,14.0,0.0,0.0,0.0,1.0,2309.085425...|\n",
      "|20100009003806170|     1135|  21.115855661395525|    4.500236262403776| 1.124417762427393|           4|        0|             8|                0|         0|  0|    1|           1592.515234504671|        1589.0927371555788|           3164.965367965368|       noskark|[1.124417762427393,21.115855661395525,4.5002362...|[-0.03324927487822601,0.1566390236897823,-0.009...|                    3.0|                (3,[],[])|(17,[0,1,3,7,8,9,10,11,12,13],[1135.0,4.0,8.0,1...|\n",
      "|20100016032214516|     1359|   9.470992454776011|     2.74638716582762|1.5570415691172916|           1|        6|            27|                0|         1|  0|    1|          1724.6328986063163|        1505.3881850968885|           1678.643639204183|        normal|[1.5570415691172916,9.470992454776011,2.7463871...|[-0.016832005214388355,-0.13178318578153847,-0....|                    0.0|            (3,[0],[1.0])|[1359.0,1.0,6.0,27.0,0.0,1.0,0.0,1.0,1724.63289...|\n",
      "|20100016263918300|     1767|    6.02077166223471|   1.0509469908176425|0.5494799020094174|           4|        7|             8|               18|         1|  0|    1|          4000.9858585858588|         4211.566001870681|          2757.8708980044344|           dry|[0.5494799020094174,6.02077166223471,1.05094699...|[-0.055067098466463016,-0.21723891733388323,-0....|                    1.0|            (3,[1],[1.0])|[1767.0,4.0,7.0,8.0,18.0,1.0,0.0,1.0,4000.98585...|\n",
      "|20100017041691464|      764|   13.43328693874048|   4.9201567889963425| 2.399577674329318|           2|        0|            26|                0|         0|  0|    1|          1686.9292424242424|         1351.537607569058|           2922.542933130699|        normal|[2.399577674329318,13.43328693874048,4.92015678...|[0.015140674575515352,-0.03364431464465579,6.80...|                    0.0|            (3,[0],[1.0])|[764.0,2.0,0.0,26.0,0.0,0.0,0.0,1.0,1686.929242...|\n",
      "+-----------------+---------+--------------------+---------------------+------------------+------------+---------+--------------+-----------------+----------+---+-----+----------------------------+--------------------------+----------------------------+--------------+--------------------------------------------------+--------------------------------------------------+-----------------------+-------------------------+--------------------------------------------------+"
     ]
    }
   ],
   "source": [
    "trans_pred = pred.transform(trans_teste)\n",
    "trans_pred.limit(10)"
   ]
  },
  {
   "cell_type": "markdown",
   "id": "e8ec4972-7e48-44b6-9f6f-45eb1ea2d895",
   "metadata": {},
   "source": [
    "-----------"
   ]
  },
  {
   "cell_type": "markdown",
   "id": "ecb2601d",
   "metadata": {},
   "source": [
    "## Cálculo do tempo do treino é previsão do modelo"
   ]
  },
  {
   "cell_type": "code",
   "execution_count": null,
   "id": "70e714be-1ff0-4d3f-9151-051d263dc594",
   "metadata": {},
   "outputs": [],
   "source": [
    "def BinRel(model, features, needsProb = False,  **kwargs) -> Pipeline:\n",
    "    stages = [features]\n",
    "    for i in range(1, 19):\n",
    "        modelParams = {\n",
    "            \"labelCol\": f\"q{i}\",\n",
    "            \"predictionCol\":f\"q{i}_pred\",\n",
    "            \"rawPredictionCol\": f\"q{i}_pred_raw\" if needsProb else None,\n",
    "            \"probabilityCol\": f\"q{i}_pred_prob\" if needsProb else None\n",
    "        }\n",
    "        modelParams.update(kwargs)\n",
    "        model(**{a: b for a, b in modelParams.items() if b is not None})\n",
    "        stages.append(model)\n",
    "    return Pipeline(stages = stages)\n",
    "\n",
    "def train_predict(pipeline, train, test, write = True, parquetFile = None):\n",
    "    if parquetFile is None and write is True:\n",
    "        raise ValueError(\"parquet name not provided\")\n",
    "    fit = pipeline.fit(train) # train must be transformed already\n",
    "    prev = fit.transform(test)\n",
    "    if write: prev.write.mode(\"overwrite\").parquet(f\".\\\\data\\\\{parquetFile}\")\n",
    "    return (fit, prev)"
   ]
  },
  {
   "cell_type": "code",
   "execution_count": 89,
   "id": "2987ecfc",
   "metadata": {},
   "outputs": [
    {
     "data": {
      "application/vnd.jupyter.widget-view+json": {
       "model_id": "cfb4c66273cc4bc8aeff93af175a7e76",
       "version_major": 2,
       "version_minor": 0
      },
      "text/plain": [
       "VBox()"
      ]
     },
     "metadata": {},
     "output_type": "display_data"
    },
    {
     "data": {
      "application/vnd.jupyter.widget-view+json": {
       "model_id": "",
       "version_major": 2,
       "version_minor": 0
      },
      "text/plain": [
       "FloatProgress(value=0.0, bar_style='info', description='Progress:', layout=Layout(height='25px', width='50%'),…"
      ]
     },
     "metadata": {},
     "output_type": "display_data"
    }
   ],
   "source": [
    "features_ass = VectorAssembler(inputCols = [\n",
    " 'max_index',\n",
    " 'obs_opcional',\n",
    " 'obs_no_in',\n",
    " 'notebook_opens',\n",
    " 'notebook_explorer',\n",
    " 'fullscreen',\n",
    " 'hq',\n",
    " 'music',\n",
    " 'avg_elapsed_diff_ms_cutscene',\n",
    " 'avg_elapsed_diff_ms_person',\n",
    " 'avg_elapsed_diff_ms_navigate',\n",
    " 'inv_time_standed_per_group',\n",
    " 'dummies_of_type_of_script'\n",
    "    ], outputCol=\"features\")"
   ]
  },
  {
   "cell_type": "code",
   "execution_count": 168,
   "id": "72f3856c-418e-492d-a59a-ccc4a4666a30",
   "metadata": {},
   "outputs": [
    {
     "data": {
      "application/vnd.jupyter.widget-view+json": {
       "model_id": "5c25eb719f214d4ab01d74e4a3dd3da4",
       "version_major": 2,
       "version_minor": 0
      },
      "text/plain": [
       "VBox()"
      ]
     },
     "metadata": {},
     "output_type": "display_data"
    },
    {
     "data": {
      "application/vnd.jupyter.widget-view+json": {
       "model_id": "",
       "version_major": 2,
       "version_minor": 0
      },
      "text/plain": [
       "FloatProgress(value=0.0, bar_style='info', description='Progress:', layout=Layout(height='25px', width='50%'),…"
      ]
     },
     "metadata": {},
     "output_type": "display_data"
    }
   ],
   "source": [
    "Lr_Pipeline = BinRel(LogisticRegression, features_ass, \n",
    "                     needsProb = True,\n",
    "                     standardization = False\n",
    ")\n",
    "Svm_Pilenine = BinRel(LinearSVC, features_ass, standardization = False)\n",
    "DT_Pipeline = BinRel(DecisionTreeClassifier, features_ass, seed = 1)\n",
    "RF_Pipeline = BinRel(RandomForestClassifier, features_ass, seed = 1)"
   ]
  },
  {
   "cell_type": "code",
   "execution_count": 56,
   "id": "1bb35692",
   "metadata": {},
   "outputs": [
    {
     "data": {
      "application/vnd.jupyter.widget-view+json": {
       "model_id": "1016abea11c644729198b21b51251ff3",
       "version_major": 2,
       "version_minor": 0
      },
      "text/plain": [
       "VBox()"
      ]
     },
     "metadata": {},
     "output_type": "display_data"
    },
    {
     "data": {
      "application/vnd.jupyter.widget-view+json": {
       "model_id": "",
       "version_major": 2,
       "version_minor": 0
      },
      "text/plain": [
       "FloatProgress(value=0.0, bar_style='info', description='Progress:', layout=Layout(height='25px', width='50%'),…"
      ]
     },
     "metadata": {},
     "output_type": "display_data"
    }
   ],
   "source": [
    "tested1 = spark.read.parquet(\"s3://pbdplakarbucket/data/previsto\")"
   ]
  },
  {
   "cell_type": "markdown",
   "id": "c26f871d",
   "metadata": {},
   "source": [
    "## Classe padrão para o cálculo dos tempos"
   ]
  },
  {
   "cell_type": "code",
   "execution_count": 88,
   "id": "81527ccf",
   "metadata": {
    "execution": {
     "iopub.execute_input": "2023-04-08T21:48:49.601049Z",
     "iopub.status.busy": "2023-04-08T21:48:49.600738Z",
     "iopub.status.idle": "2023-04-08T21:48:49.642275Z",
     "shell.execute_reply": "2023-04-08T21:48:49.641463Z",
     "shell.execute_reply.started": "2023-04-08T21:48:49.601024Z"
    }
   },
   "outputs": [
    {
     "data": {
      "application/vnd.jupyter.widget-view+json": {
       "model_id": "f30dd5df78194663aab1952606e7fa06",
       "version_major": 2,
       "version_minor": 0
      },
      "text/plain": [
       "VBox()"
      ]
     },
     "metadata": {},
     "output_type": "display_data"
    },
    {
     "data": {
      "application/vnd.jupyter.widget-view+json": {
       "model_id": "",
       "version_major": 2,
       "version_minor": 0
      },
      "text/plain": [
       "FloatProgress(value=0.0, bar_style='info', description='Progress:', layout=Layout(height='25px', width='50%'),…"
      ]
     },
     "metadata": {},
     "output_type": "display_data"
    }
   ],
   "source": [
    "class Model:\n",
    "    def __init__(self, classifier: Type, train: DataFrame, test: DataFrame, features: VectorAssembler, name:str=\"\", pipeline: Pipeline=None, fit=None, tested=None,**kwargs):\n",
    "        self.classifier = classifier\n",
    "        self.train = train\n",
    "        self.test = test\n",
    "        self.features = features\n",
    "        self.name = name\n",
    "        self.pipeline = pipeline\n",
    "        self.fit = fit\n",
    "        self.tested = tested\n",
    "\n",
    "        if self.name == \"\":\n",
    "            self.name = self.classifier.__name__\n",
    "\n",
    "        stages = [self.features]\n",
    "        for i in range(1, 19):  # Bin Rel\n",
    "            model = self.classifier()\n",
    "\n",
    "            model.setPredictionCol(f\"q{i}_pred\")\n",
    "            model.setLabelCol(f\"q{i}\")\n",
    "\n",
    "            if model.hasParam(\"rawPredictionCol\"):\n",
    "                model.setRawPredictionCol(f\"q{i}_pred_raw\")\n",
    "            if model.hasParam(\"probabilityCol\") and \"probabilityCol\" not in kwargs:\n",
    "                model.setProbabilityCol(f\"q{i}_prob\")\n",
    "            if model.hasParam(\"standardization\") and \"standardization\" not in kwargs:\n",
    "                model.setStandardization(False)\n",
    "            if model.hasParam(\"seed\") and \"seed\" not in kwargs:\n",
    "                model.setSeed(1)\n",
    "\n",
    "            stages.append(model)\n",
    "\n",
    "        self.pipeline = Pipeline(stages=stages)\n",
    "\n",
    "    def train_and_predict(self, parquet_file = None, write = True):\n",
    "        if parquet_file is None and write is True: raise ValueError(\"write is true but no file name provided\")\n",
    "        self.fit = self.pipeline.fit(self.train)\n",
    "        self.tested = self.fit.transform(self.test)\n",
    "        if parquet_file is not None:\n",
    "               self.tested.write.mode(\"overwrite\").parquet(f\"s3://pbdplakarbucket/data/{parquet_file}\")\n",
    "  \n",
    "    def load_tested(self):\n",
    "            self.tested = spark.read.parquet(\"s3://pbdplakarbucket/data\")\n",
    "            \n",
    "    def evaluate(self, force=True):\n",
    "        if not self.tested and not force: raise ValueError(\"Model not tested, force to overwite\")\n",
    "    \n",
    "        trans = SQLTransformer(\n",
    "          statement = \"\"\"\n",
    "SELECT * FROM __THIS__ limit 3 \n",
    "\n",
    "\"\"\")\n",
    "        return trans.transform(self.tested)\n",
    "        evaluator = MultilabelClassificationEvaluator()\n"
   ]
  },
  {
   "cell_type": "code",
   "execution_count": 90,
   "id": "f9762776",
   "metadata": {
    "execution": {
     "iopub.execute_input": "2023-04-08T21:49:34.682383Z",
     "iopub.status.busy": "2023-04-08T21:49:34.682066Z",
     "iopub.status.idle": "2023-04-08T21:49:35.436134Z",
     "shell.execute_reply": "2023-04-08T21:49:35.435230Z",
     "shell.execute_reply.started": "2023-04-08T21:49:34.682357Z"
    }
   },
   "outputs": [
    {
     "data": {
      "application/vnd.jupyter.widget-view+json": {
       "model_id": "2c7d866039cb4f4bae6a2d617a8a0437",
       "version_major": 2,
       "version_minor": 0
      },
      "text/plain": [
       "VBox()"
      ]
     },
     "metadata": {},
     "output_type": "display_data"
    },
    {
     "data": {
      "application/vnd.jupyter.widget-view+json": {
       "model_id": "",
       "version_major": 2,
       "version_minor": 0
      },
      "text/plain": [
       "FloatProgress(value=0.0, bar_style='info', description='Progress:', layout=Layout(height='25px', width='50%'),…"
      ]
     },
     "metadata": {},
     "output_type": "display_data"
    }
   ],
   "source": [
    "LR = Model(LogisticRegression, trans_train, trans_teste, features_ass, name = \"lr\")\n",
    "SVM = Model(LinearSVC, trans_train, trans_teste, features_ass, name= \"svm\")\n",
    "DT = Model(DecisionTreeClassifier, trans_train, trans_teste, features_ass, name=\"dt\")\n",
    "RF = Model(RandomForestClassifier, trans_train, trans_teste, features_ass, name=\"rf\")"
   ]
  },
  {
   "cell_type": "code",
   "execution_count": 33,
   "id": "9ff88095",
   "metadata": {
    "execution": {
     "iopub.execute_input": "2023-04-08T21:49:26.841218Z",
     "iopub.status.busy": "2023-04-08T21:49:26.840889Z",
     "iopub.status.idle": "2023-04-08T21:49:27.083378Z",
     "shell.execute_reply": "2023-04-08T21:49:27.082706Z",
     "shell.execute_reply.started": "2023-04-08T21:49:26.841190Z"
    },
    "tags": []
   },
   "outputs": [
    {
     "data": {
      "application/vnd.jupyter.widget-view+json": {
       "model_id": "65bab3bf86b745a8a13d5b803f0eaf57",
       "version_major": 2,
       "version_minor": 0
      },
      "text/plain": [
       "VBox()"
      ]
     },
     "metadata": {},
     "output_type": "display_data"
    },
    {
     "data": {
      "application/vnd.jupyter.widget-view+json": {
       "model_id": "",
       "version_major": 2,
       "version_minor": 0
      },
      "text/plain": [
       "FloatProgress(value=0.0, bar_style='info', description='Progress:', layout=Layout(height='25px', width='50%'),…"
      ]
     },
     "metadata": {},
     "output_type": "display_data"
    }
   ],
   "source": [
    "features_ass = VectorAssembler(inputCols = [\n",
    " 'max_index',\n",
    " 'obs_opcional',\n",
    " 'obs_no_in',\n",
    " 'notebook_opens',\n",
    " 'notebook_explorer',\n",
    " 'fullscreen',\n",
    " 'hq',\n",
    " 'music',\n",
    " 'avg_elapsed_diff_ms_cutscene',\n",
    " 'avg_elapsed_diff_ms_person',\n",
    " 'avg_elapsed_diff_ms_navigate',\n",
    " 'inv_time_standed_per_group',\n",
    " 'dummies_of_type_of_script'\n",
    "], outputCol=\"features\")"
   ]
  },
  {
   "cell_type": "code",
   "execution_count": 91,
   "id": "4f4dd7db-b166-463c-ac84-00f74778c16b",
   "metadata": {
    "execution": {
     "iopub.execute_input": "2023-04-08T21:49:30.284140Z",
     "iopub.status.busy": "2023-04-08T21:49:30.283821Z",
     "iopub.status.idle": "2023-04-08T21:49:30.326341Z",
     "shell.execute_reply": "2023-04-08T21:49:30.325673Z",
     "shell.execute_reply.started": "2023-04-08T21:49:30.284114Z"
    },
    "tags": []
   },
   "outputs": [
    {
     "data": {
      "application/vnd.jupyter.widget-view+json": {
       "model_id": "2655e5db5e5644d78c7322edffd13341",
       "version_major": 2,
       "version_minor": 0
      },
      "text/plain": [
       "VBox()"
      ]
     },
     "metadata": {},
     "output_type": "display_data"
    },
    {
     "data": {
      "application/vnd.jupyter.widget-view+json": {
       "model_id": "",
       "version_major": 2,
       "version_minor": 0
      },
      "text/plain": [
       "FloatProgress(value=0.0, bar_style='info', description='Progress:', layout=Layout(height='25px', width='50%'),…"
      ]
     },
     "metadata": {},
     "output_type": "display_data"
    }
   ],
   "source": [
    "class timeit():\n",
    "    from datetime import datetime\n",
    "    def __enter__(self):\n",
    "        self.tic = self.datetime.now()\n",
    "    def __exit__(self, *args, **kwargs):\n",
    "        print('runtime: {}'.format(self.datetime.now() - self.tic))"
   ]
  },
  {
   "cell_type": "code",
   "execution_count": 97,
   "id": "d1185dce",
   "metadata": {
    "execution": {
     "iopub.execute_input": "2023-04-08T21:49:43.072841Z",
     "iopub.status.busy": "2023-04-08T21:49:43.072525Z"
    },
    "tags": []
   },
   "outputs": [
    {
     "data": {
      "application/vnd.jupyter.widget-view+json": {
       "model_id": "5c63aea1b5674ed7934baf39201a3706",
       "version_major": 2,
       "version_minor": 0
      },
      "text/plain": [
       "VBox()"
      ]
     },
     "metadata": {},
     "output_type": "display_data"
    },
    {
     "data": {
      "application/vnd.jupyter.widget-view+json": {
       "model_id": "",
       "version_major": 2,
       "version_minor": 0
      },
      "text/plain": [
       "FloatProgress(value=0.0, bar_style='info', description='Progress:', layout=Layout(height='25px', width='50%'),…"
      ]
     },
     "metadata": {},
     "output_type": "display_data"
    },
    {
     "name": "stderr",
     "output_type": "stream",
     "text": [
      "Exception in thread cell_monitor-97:\n",
      "Traceback (most recent call last):\n",
      "  File \"/mnt/notebook-env/lib/python3.7/threading.py\", line 926, in _bootstrap_inner\n",
      "    self.run()\n",
      "  File \"/mnt/notebook-env/lib/python3.7/threading.py\", line 870, in run\n",
      "    self._target(*self._args, **self._kwargs)\n",
      "  File \"/mnt/notebook-env/lib/python3.7/site-packages/awseditorssparkmonitoringwidget-1.0-py3.7.egg/awseditorssparkmonitoringwidget/cellmonitor.py\", line 178, in cell_monitor\n",
      "    job_binned_stages[job_id][stage_id] = all_stages[stage_id]\n",
      "KeyError: 64699\n",
      "\n"
     ]
    },
    {
     "name": "stdout",
     "output_type": "stream",
     "text": [
      "runtime: 0:01:01.840704\n",
      "runtime: 0:00:47.944093\n",
      "runtime: 0:00:48.604127\n",
      "runtime: 0:00:47.493235\n",
      "runtime: 0:00:47.291781"
     ]
    }
   ],
   "source": [
    "for i in range(5):\n",
    "    with timeit():\n",
    "        LR.train_and_predict(write=False)\n",
    "    "
   ]
  },
  {
   "cell_type": "code",
   "execution_count": 98,
   "id": "c03113c2",
   "metadata": {
    "execution": {
     "iopub.execute_input": "2023-04-08T21:54:25.633636Z",
     "iopub.status.busy": "2023-04-08T21:54:25.633388Z"
    },
    "tags": []
   },
   "outputs": [
    {
     "data": {
      "application/vnd.jupyter.widget-view+json": {
       "model_id": "e1820b68dfbe4f22ae2e435623e0423a",
       "version_major": 2,
       "version_minor": 0
      },
      "text/plain": [
       "VBox()"
      ]
     },
     "metadata": {},
     "output_type": "display_data"
    },
    {
     "data": {
      "application/vnd.jupyter.widget-view+json": {
       "model_id": "",
       "version_major": 2,
       "version_minor": 0
      },
      "text/plain": [
       "FloatProgress(value=0.0, bar_style='info', description='Progress:', layout=Layout(height='25px', width='50%'),…"
      ]
     },
     "metadata": {},
     "output_type": "display_data"
    },
    {
     "name": "stderr",
     "output_type": "stream",
     "text": [
      "Exception in thread cell_monitor-98:\n",
      "Traceback (most recent call last):\n",
      "  File \"/mnt/notebook-env/lib/python3.7/threading.py\", line 926, in _bootstrap_inner\n",
      "    self.run()\n",
      "  File \"/mnt/notebook-env/lib/python3.7/threading.py\", line 870, in run\n",
      "    self._target(*self._args, **self._kwargs)\n",
      "  File \"/mnt/notebook-env/lib/python3.7/site-packages/awseditorssparkmonitoringwidget-1.0-py3.7.egg/awseditorssparkmonitoringwidget/cellmonitor.py\", line 178, in cell_monitor\n",
      "    job_binned_stages[job_id][stage_id] = all_stages[stage_id]\n",
      "KeyError: 69999\n",
      "\n"
     ]
    },
    {
     "name": "stdout",
     "output_type": "stream",
     "text": [
      "runtime: 0:01:50.176302\n",
      "runtime: 0:01:48.774791\n",
      "runtime: 0:01:49.334827\n",
      "runtime: 0:01:50.228057\n",
      "runtime: 0:01:47.947611"
     ]
    }
   ],
   "source": [
    "for i in range(5):\n",
    "    with timeit():\n",
    "        SVM.train_and_predict(write=False)"
   ]
  },
  {
   "cell_type": "code",
   "execution_count": 99,
   "id": "b9ea5948",
   "metadata": {},
   "outputs": [
    {
     "data": {
      "application/vnd.jupyter.widget-view+json": {
       "model_id": "878b7f37d0f04de3ae6801c0f3698a72",
       "version_major": 2,
       "version_minor": 0
      },
      "text/plain": [
       "VBox()"
      ]
     },
     "metadata": {},
     "output_type": "display_data"
    },
    {
     "data": {
      "application/vnd.jupyter.widget-view+json": {
       "model_id": "",
       "version_major": 2,
       "version_minor": 0
      },
      "text/plain": [
       "FloatProgress(value=0.0, bar_style='info', description='Progress:', layout=Layout(height='25px', width='50%'),…"
      ]
     },
     "metadata": {},
     "output_type": "display_data"
    },
    {
     "name": "stderr",
     "output_type": "stream",
     "text": [
      "Exception in thread cell_monitor-99:\n",
      "Traceback (most recent call last):\n",
      "  File \"/mnt/notebook-env/lib/python3.7/threading.py\", line 926, in _bootstrap_inner\n",
      "    self.run()\n",
      "  File \"/mnt/notebook-env/lib/python3.7/threading.py\", line 870, in run\n",
      "    self._target(*self._args, **self._kwargs)\n",
      "  File \"/mnt/notebook-env/lib/python3.7/site-packages/awseditorssparkmonitoringwidget-1.0-py3.7.egg/awseditorssparkmonitoringwidget/cellmonitor.py\", line 178, in cell_monitor\n",
      "    job_binned_stages[job_id][stage_id] = all_stages[stage_id]\n",
      "KeyError: 92389\n",
      "\n"
     ]
    },
    {
     "name": "stdout",
     "output_type": "stream",
     "text": [
      "runtime: 0:00:36.505555\n",
      "runtime: 0:00:35.233737\n",
      "runtime: 0:00:34.298593\n",
      "runtime: 0:00:35.183653\n",
      "runtime: 0:00:34.303777"
     ]
    }
   ],
   "source": [
    "for i in range(5):\n",
    "    with timeit():\n",
    "        DT.train_and_predict(write=False)"
   ]
  },
  {
   "cell_type": "code",
   "execution_count": 100,
   "id": "1f3f4420",
   "metadata": {},
   "outputs": [
    {
     "data": {
      "application/vnd.jupyter.widget-view+json": {
       "model_id": "7b2debe90cec4b428e72c7683f58a2b2",
       "version_major": 2,
       "version_minor": 0
      },
      "text/plain": [
       "VBox()"
      ]
     },
     "metadata": {},
     "output_type": "display_data"
    },
    {
     "data": {
      "application/vnd.jupyter.widget-view+json": {
       "model_id": "",
       "version_major": 2,
       "version_minor": 0
      },
      "text/plain": [
       "FloatProgress(value=0.0, bar_style='info', description='Progress:', layout=Layout(height='25px', width='50%'),…"
      ]
     },
     "metadata": {},
     "output_type": "display_data"
    },
    {
     "name": "stderr",
     "output_type": "stream",
     "text": [
      "Exception in thread cell_monitor-100:\n",
      "Traceback (most recent call last):\n",
      "  File \"/mnt/notebook-env/lib/python3.7/threading.py\", line 926, in _bootstrap_inner\n",
      "    self.run()\n",
      "  File \"/mnt/notebook-env/lib/python3.7/threading.py\", line 870, in run\n",
      "    self._target(*self._args, **self._kwargs)\n",
      "  File \"/mnt/notebook-env/lib/python3.7/site-packages/awseditorssparkmonitoringwidget-1.0-py3.7.egg/awseditorssparkmonitoringwidget/cellmonitor.py\", line 178, in cell_monitor\n",
      "    job_binned_stages[job_id][stage_id] = all_stages[stage_id]\n",
      "KeyError: 93885\n",
      "\n"
     ]
    },
    {
     "name": "stdout",
     "output_type": "stream",
     "text": [
      "runtime: 0:00:46.677396\n",
      "runtime: 0:00:46.950099\n",
      "runtime: 0:00:46.260508\n",
      "runtime: 0:00:46.716754\n",
      "runtime: 0:00:47.086296"
     ]
    }
   ],
   "source": [
    "for i in range(5):\n",
    "    with timeit():\n",
    "        RF.train_and_predict(write=False)"
   ]
  }
 ],
 "metadata": {
  "kernelspec": {
   "display_name": "PySpark",
   "language": "",
   "name": "pysparkkernel"
  }
 },
 "nbformat": 4,
 "nbformat_minor": 5
}
